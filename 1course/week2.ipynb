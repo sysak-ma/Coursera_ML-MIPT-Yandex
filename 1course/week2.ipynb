{
 "cells": [
  {
   "cell_type": "code",
   "execution_count": 3,
   "metadata": {},
   "outputs": [],
   "source": [
    "import pandas as pd"
   ]
  },
  {
   "cell_type": "code",
   "execution_count": 4,
   "metadata": {},
   "outputs": [],
   "source": [
    "frame = pd.DataFrame({\"Name\" : [\"vasya\", \"petya\", \"duima\"], \"Age\" : [1212, 12, -14221412]})"
   ]
  },
  {
   "cell_type": "code",
   "execution_count": 5,
   "metadata": {},
   "outputs": [
    {
     "data": {
      "text/html": [
       "<div>\n",
       "<style scoped>\n",
       "    .dataframe tbody tr th:only-of-type {\n",
       "        vertical-align: middle;\n",
       "    }\n",
       "\n",
       "    .dataframe tbody tr th {\n",
       "        vertical-align: top;\n",
       "    }\n",
       "\n",
       "    .dataframe thead th {\n",
       "        text-align: right;\n",
       "    }\n",
       "</style>\n",
       "<table border=\"1\" class=\"dataframe\">\n",
       "  <thead>\n",
       "    <tr style=\"text-align: right;\">\n",
       "      <th></th>\n",
       "      <th>Age</th>\n",
       "      <th>Name</th>\n",
       "    </tr>\n",
       "  </thead>\n",
       "  <tbody>\n",
       "    <tr>\n",
       "      <th>0</th>\n",
       "      <td>1212</td>\n",
       "      <td>vasya</td>\n",
       "    </tr>\n",
       "    <tr>\n",
       "      <th>1</th>\n",
       "      <td>12</td>\n",
       "      <td>petya</td>\n",
       "    </tr>\n",
       "    <tr>\n",
       "      <th>2</th>\n",
       "      <td>-14221412</td>\n",
       "      <td>duima</td>\n",
       "    </tr>\n",
       "  </tbody>\n",
       "</table>\n",
       "</div>"
      ],
      "text/plain": [
       "        Age   Name\n",
       "0      1212  vasya\n",
       "1        12  petya\n",
       "2 -14221412  duima"
      ]
     },
     "execution_count": 5,
     "metadata": {},
     "output_type": "execute_result"
    }
   ],
   "source": [
    "frame"
   ]
  },
  {
   "cell_type": "code",
   "execution_count": 6,
   "metadata": {},
   "outputs": [
    {
     "data": {
      "text/html": [
       "<div>\n",
       "<style scoped>\n",
       "    .dataframe tbody tr th:only-of-type {\n",
       "        vertical-align: middle;\n",
       "    }\n",
       "\n",
       "    .dataframe tbody tr th {\n",
       "        vertical-align: top;\n",
       "    }\n",
       "\n",
       "    .dataframe thead th {\n",
       "        text-align: right;\n",
       "    }\n",
       "</style>\n",
       "<table border=\"1\" class=\"dataframe\">\n",
       "  <thead>\n",
       "    <tr style=\"text-align: right;\">\n",
       "      <th></th>\n",
       "      <th>Name</th>\n",
       "    </tr>\n",
       "  </thead>\n",
       "  <tbody>\n",
       "    <tr>\n",
       "      <th>1</th>\n",
       "      <td>petya</td>\n",
       "    </tr>\n",
       "    <tr>\n",
       "      <th>2</th>\n",
       "      <td>duima</td>\n",
       "    </tr>\n",
       "  </tbody>\n",
       "</table>\n",
       "</div>"
      ],
      "text/plain": [
       "    Name\n",
       "1  petya\n",
       "2  duima"
      ]
     },
     "execution_count": 6,
     "metadata": {},
     "output_type": "execute_result"
    }
   ],
   "source": [
    "frame.iloc[[1, 2], [1]]"
   ]
  },
  {
   "cell_type": "code",
   "execution_count": 7,
   "metadata": {},
   "outputs": [
    {
     "data": {
      "text/html": [
       "<div>\n",
       "<style scoped>\n",
       "    .dataframe tbody tr th:only-of-type {\n",
       "        vertical-align: middle;\n",
       "    }\n",
       "\n",
       "    .dataframe tbody tr th {\n",
       "        vertical-align: top;\n",
       "    }\n",
       "\n",
       "    .dataframe thead th {\n",
       "        text-align: right;\n",
       "    }\n",
       "</style>\n",
       "<table border=\"1\" class=\"dataframe\">\n",
       "  <thead>\n",
       "    <tr style=\"text-align: right;\">\n",
       "      <th></th>\n",
       "      <th>Age</th>\n",
       "      <th>Name</th>\n",
       "    </tr>\n",
       "  </thead>\n",
       "  <tbody>\n",
       "    <tr>\n",
       "      <th>1</th>\n",
       "      <td>12</td>\n",
       "      <td>petya</td>\n",
       "    </tr>\n",
       "  </tbody>\n",
       "</table>\n",
       "</div>"
      ],
      "text/plain": [
       "   Age   Name\n",
       "1   12  petya"
      ]
     },
     "execution_count": 7,
     "metadata": {},
     "output_type": "execute_result"
    }
   ],
   "source": [
    "frame[(frame.Age > 0) & (frame.Name != 'vasya')]"
   ]
  },
  {
   "cell_type": "code",
   "execution_count": 9,
   "metadata": {},
   "outputs": [
    {
     "name": "stdout",
     "output_type": "stream",
     "text": [
      "<class 'pandas.core.frame.DataFrame'>\n",
      "RangeIndex: 3 entries, 0 to 2\n",
      "Data columns (total 2 columns):\n",
      "Age     3 non-null int64\n",
      "Name    3 non-null object\n",
      "dtypes: int64(1), object(1)\n",
      "memory usage: 120.0+ bytes\n"
     ]
    }
   ],
   "source": [
    "frame.info()"
   ]
  },
  {
   "cell_type": "code",
   "execution_count": 10,
   "metadata": {},
   "outputs": [],
   "source": [
    "import numpy as np"
   ]
  },
  {
   "cell_type": "code",
   "execution_count": 11,
   "metadata": {},
   "outputs": [],
   "source": [
    "a = np.eye(4, 5)"
   ]
  },
  {
   "cell_type": "code",
   "execution_count": 12,
   "metadata": {},
   "outputs": [
    {
     "data": {
      "text/plain": [
       "array([[1., 0., 0., 0., 0.],\n",
       "       [0., 1., 0., 0., 0.],\n",
       "       [0., 0., 1., 0., 0.],\n",
       "       [0., 0., 0., 1., 0.]])"
      ]
     },
     "execution_count": 12,
     "metadata": {},
     "output_type": "execute_result"
    }
   ],
   "source": [
    "a"
   ]
  },
  {
   "cell_type": "code",
   "execution_count": 14,
   "metadata": {},
   "outputs": [
    {
     "data": {
      "text/plain": [
       "array([0., 0.])"
      ]
     },
     "execution_count": 14,
     "metadata": {},
     "output_type": "execute_result"
    }
   ],
   "source": [
    "a[[0, 2], [1, 3]]"
   ]
  },
  {
   "cell_type": "code",
   "execution_count": 15,
   "metadata": {},
   "outputs": [
    {
     "data": {
      "text/plain": [
       "array([0., 0., 0., 1.])"
      ]
     },
     "execution_count": 15,
     "metadata": {},
     "output_type": "execute_result"
    }
   ],
   "source": [
    "a[:, 3]"
   ]
  },
  {
   "cell_type": "code",
   "execution_count": 16,
   "metadata": {},
   "outputs": [
    {
     "data": {
      "text/plain": [
       "array([0., 0., 0., 1., 0.])"
      ]
     },
     "execution_count": 16,
     "metadata": {},
     "output_type": "execute_result"
    }
   ],
   "source": [
    "a[3, :]"
   ]
  },
  {
   "cell_type": "markdown",
   "metadata": {},
   "source": [
    "## ДЗ"
   ]
  },
  {
   "cell_type": "markdown",
   "metadata": {},
   "source": [
    "# 1"
   ]
  },
  {
   "cell_type": "code",
   "execution_count": 1,
   "metadata": {},
   "outputs": [],
   "source": [
    "inf = open('sentences.txt', 'r')\n",
    "import re"
   ]
  },
  {
   "cell_type": "code",
   "execution_count": 2,
   "metadata": {},
   "outputs": [],
   "source": [
    "sentences = []\n",
    "for line in inf.readlines():\n",
    "    lineList = re.split('[^a-z]', line.lower())\n",
    "    while \"\" in lineList:\n",
    "        lineList.remove(\"\")\n",
    "    sentences.append(lineList)"
   ]
  },
  {
   "cell_type": "code",
   "execution_count": 3,
   "metadata": {},
   "outputs": [],
   "source": [
    "inf.close()"
   ]
  },
  {
   "cell_type": "code",
   "execution_count": 4,
   "metadata": {},
   "outputs": [
    {
     "data": {
      "text/plain": [
       "[['in',\n",
       "  'comparison',\n",
       "  'to',\n",
       "  'dogs',\n",
       "  'cats',\n",
       "  'have',\n",
       "  'not',\n",
       "  'undergone',\n",
       "  'major',\n",
       "  'changes',\n",
       "  'during',\n",
       "  'the',\n",
       "  'domestication',\n",
       "  'process'],\n",
       " ['as',\n",
       "  'cat',\n",
       "  'simply',\n",
       "  'catenates',\n",
       "  'streams',\n",
       "  'of',\n",
       "  'bytes',\n",
       "  'it',\n",
       "  'can',\n",
       "  'be',\n",
       "  'also',\n",
       "  'used',\n",
       "  'to',\n",
       "  'concatenate',\n",
       "  'binary',\n",
       "  'files',\n",
       "  'where',\n",
       "  'it',\n",
       "  'will',\n",
       "  'just',\n",
       "  'concatenate',\n",
       "  'sequence',\n",
       "  'of',\n",
       "  'bytes'],\n",
       " ['a',\n",
       "  'common',\n",
       "  'interactive',\n",
       "  'use',\n",
       "  'of',\n",
       "  'cat',\n",
       "  'for',\n",
       "  'a',\n",
       "  'single',\n",
       "  'file',\n",
       "  'is',\n",
       "  'to',\n",
       "  'output',\n",
       "  'the',\n",
       "  'content',\n",
       "  'of',\n",
       "  'a',\n",
       "  'file',\n",
       "  'to',\n",
       "  'standard',\n",
       "  'output'],\n",
       " ['cats',\n",
       "  'can',\n",
       "  'hear',\n",
       "  'sounds',\n",
       "  'too',\n",
       "  'faint',\n",
       "  'or',\n",
       "  'too',\n",
       "  'high',\n",
       "  'in',\n",
       "  'frequency',\n",
       "  'for',\n",
       "  'human',\n",
       "  'ears',\n",
       "  'such',\n",
       "  'as',\n",
       "  'those',\n",
       "  'made',\n",
       "  'by',\n",
       "  'mice',\n",
       "  'and',\n",
       "  'other',\n",
       "  'small',\n",
       "  'animals'],\n",
       " ['in',\n",
       "  'one',\n",
       "  'people',\n",
       "  'deliberately',\n",
       "  'tamed',\n",
       "  'cats',\n",
       "  'in',\n",
       "  'a',\n",
       "  'process',\n",
       "  'of',\n",
       "  'artificial',\n",
       "  'selection',\n",
       "  'as',\n",
       "  'they',\n",
       "  'were',\n",
       "  'useful',\n",
       "  'predators',\n",
       "  'of',\n",
       "  'vermin'],\n",
       " ['the',\n",
       "  'domesticated',\n",
       "  'cat',\n",
       "  'and',\n",
       "  'its',\n",
       "  'closest',\n",
       "  'wild',\n",
       "  'ancestor',\n",
       "  'are',\n",
       "  'both',\n",
       "  'diploid',\n",
       "  'organisms',\n",
       "  'that',\n",
       "  'possess',\n",
       "  'chromosomes',\n",
       "  'and',\n",
       "  'roughly',\n",
       "  'genes'],\n",
       " ['domestic',\n",
       "  'cats',\n",
       "  'are',\n",
       "  'similar',\n",
       "  'in',\n",
       "  'size',\n",
       "  'to',\n",
       "  'the',\n",
       "  'other',\n",
       "  'members',\n",
       "  'of',\n",
       "  'the',\n",
       "  'genus',\n",
       "  'felis',\n",
       "  'typically',\n",
       "  'weighing',\n",
       "  'between',\n",
       "  'and',\n",
       "  'kg',\n",
       "  'and',\n",
       "  'lb'],\n",
       " ['however',\n",
       "  'if',\n",
       "  'the',\n",
       "  'output',\n",
       "  'is',\n",
       "  'piped',\n",
       "  'or',\n",
       "  'redirected',\n",
       "  'cat',\n",
       "  'is',\n",
       "  'unnecessary'],\n",
       " ['cat',\n",
       "  'with',\n",
       "  'one',\n",
       "  'named',\n",
       "  'file',\n",
       "  'is',\n",
       "  'safer',\n",
       "  'where',\n",
       "  'human',\n",
       "  'error',\n",
       "  'is',\n",
       "  'a',\n",
       "  'concern',\n",
       "  'one',\n",
       "  'wrong',\n",
       "  'use',\n",
       "  'of',\n",
       "  'the',\n",
       "  'default',\n",
       "  'redirection',\n",
       "  'symbol',\n",
       "  'instead',\n",
       "  'of',\n",
       "  'often',\n",
       "  'adjacent',\n",
       "  'on',\n",
       "  'keyboards',\n",
       "  'may',\n",
       "  'permanently',\n",
       "  'delete',\n",
       "  'the',\n",
       "  'file',\n",
       "  'you',\n",
       "  'were',\n",
       "  'just',\n",
       "  'needing',\n",
       "  'to',\n",
       "  'read'],\n",
       " ['in',\n",
       "  'terms',\n",
       "  'of',\n",
       "  'legibility',\n",
       "  'a',\n",
       "  'sequence',\n",
       "  'of',\n",
       "  'commands',\n",
       "  'starting',\n",
       "  'with',\n",
       "  'cat',\n",
       "  'and',\n",
       "  'connected',\n",
       "  'by',\n",
       "  'pipes',\n",
       "  'has',\n",
       "  'a',\n",
       "  'clear',\n",
       "  'left',\n",
       "  'to',\n",
       "  'right',\n",
       "  'flow',\n",
       "  'of',\n",
       "  'information'],\n",
       " ['cat',\n",
       "  'command',\n",
       "  'is',\n",
       "  'one',\n",
       "  'of',\n",
       "  'the',\n",
       "  'basic',\n",
       "  'commands',\n",
       "  'that',\n",
       "  'you',\n",
       "  'learned',\n",
       "  'when',\n",
       "  'you',\n",
       "  'started',\n",
       "  'in',\n",
       "  'the',\n",
       "  'unix',\n",
       "  'linux',\n",
       "  'world'],\n",
       " ['using',\n",
       "  'cat',\n",
       "  'command',\n",
       "  'the',\n",
       "  'lines',\n",
       "  'received',\n",
       "  'from',\n",
       "  'stdin',\n",
       "  'can',\n",
       "  'be',\n",
       "  'redirected',\n",
       "  'to',\n",
       "  'a',\n",
       "  'new',\n",
       "  'file',\n",
       "  'using',\n",
       "  'redirection',\n",
       "  'symbols'],\n",
       " ['when',\n",
       "  'you',\n",
       "  'type',\n",
       "  'simply',\n",
       "  'cat',\n",
       "  'command',\n",
       "  'without',\n",
       "  'any',\n",
       "  'arguments',\n",
       "  'it',\n",
       "  'just',\n",
       "  'receives',\n",
       "  'the',\n",
       "  'stdin',\n",
       "  'content',\n",
       "  'and',\n",
       "  'displays',\n",
       "  'it',\n",
       "  'in',\n",
       "  'the',\n",
       "  'stdout'],\n",
       " ['leopard',\n",
       "  'was',\n",
       "  'released',\n",
       "  'on',\n",
       "  'october',\n",
       "  'as',\n",
       "  'the',\n",
       "  'successor',\n",
       "  'of',\n",
       "  'tiger',\n",
       "  'version',\n",
       "  'and',\n",
       "  'is',\n",
       "  'available',\n",
       "  'in',\n",
       "  'two',\n",
       "  'editions'],\n",
       " ['according',\n",
       "  'to',\n",
       "  'apple',\n",
       "  'leopard',\n",
       "  'contains',\n",
       "  'over',\n",
       "  'changes',\n",
       "  'and',\n",
       "  'enhancements',\n",
       "  'over',\n",
       "  'its',\n",
       "  'predecessor',\n",
       "  'mac',\n",
       "  'os',\n",
       "  'x',\n",
       "  'tiger'],\n",
       " ['as',\n",
       "  'of',\n",
       "  'mid',\n",
       "  'some',\n",
       "  'apple',\n",
       "  'computers',\n",
       "  'have',\n",
       "  'firmware',\n",
       "  'factory',\n",
       "  'installed',\n",
       "  'which',\n",
       "  'will',\n",
       "  'no',\n",
       "  'longer',\n",
       "  'allow',\n",
       "  'installation',\n",
       "  'of',\n",
       "  'mac',\n",
       "  'os',\n",
       "  'x',\n",
       "  'leopard'],\n",
       " ['since',\n",
       "  'apple',\n",
       "  'moved',\n",
       "  'to',\n",
       "  'using',\n",
       "  'intel',\n",
       "  'processors',\n",
       "  'in',\n",
       "  'their',\n",
       "  'computers',\n",
       "  'the',\n",
       "  'osx',\n",
       "  'community',\n",
       "  'has',\n",
       "  'developed',\n",
       "  'and',\n",
       "  'now',\n",
       "  'also',\n",
       "  'allows',\n",
       "  'mac',\n",
       "  'os',\n",
       "  'x',\n",
       "  'tiger',\n",
       "  'and',\n",
       "  'later',\n",
       "  'releases',\n",
       "  'to',\n",
       "  'be',\n",
       "  'installed',\n",
       "  'on',\n",
       "  'non',\n",
       "  'apple',\n",
       "  'x',\n",
       "  'based',\n",
       "  'computers'],\n",
       " ['os',\n",
       "  'x',\n",
       "  'mountain',\n",
       "  'lion',\n",
       "  'was',\n",
       "  'released',\n",
       "  'on',\n",
       "  'july',\n",
       "  'for',\n",
       "  'purchase',\n",
       "  'and',\n",
       "  'download',\n",
       "  'through',\n",
       "  'apple',\n",
       "  's',\n",
       "  'mac',\n",
       "  'app',\n",
       "  'store',\n",
       "  'as',\n",
       "  'part',\n",
       "  'of',\n",
       "  'a',\n",
       "  'switch',\n",
       "  'to',\n",
       "  'releasing',\n",
       "  'os',\n",
       "  'x',\n",
       "  'versions',\n",
       "  'online',\n",
       "  'and',\n",
       "  'every',\n",
       "  'year'],\n",
       " ['apple',\n",
       "  'has',\n",
       "  'released',\n",
       "  'a',\n",
       "  'small',\n",
       "  'patch',\n",
       "  'for',\n",
       "  'the',\n",
       "  'three',\n",
       "  'most',\n",
       "  'recent',\n",
       "  'versions',\n",
       "  'of',\n",
       "  'safari',\n",
       "  'running',\n",
       "  'on',\n",
       "  'os',\n",
       "  'x',\n",
       "  'yosemite',\n",
       "  'mavericks',\n",
       "  'and',\n",
       "  'mountain',\n",
       "  'lion'],\n",
       " ['the',\n",
       "  'mountain',\n",
       "  'lion',\n",
       "  'release',\n",
       "  'marks',\n",
       "  'the',\n",
       "  'second',\n",
       "  'time',\n",
       "  'apple',\n",
       "  'has',\n",
       "  'offered',\n",
       "  'an',\n",
       "  'incremental',\n",
       "  'upgrade',\n",
       "  'rather',\n",
       "  'than',\n",
       "  'releasing',\n",
       "  'a',\n",
       "  'new',\n",
       "  'cat',\n",
       "  'entirely'],\n",
       " ['mac',\n",
       "  'os',\n",
       "  'x',\n",
       "  'mountain',\n",
       "  'lion',\n",
       "  'installs',\n",
       "  'in',\n",
       "  'place',\n",
       "  'so',\n",
       "  'you',\n",
       "  'won',\n",
       "  't',\n",
       "  'need',\n",
       "  'to',\n",
       "  'create',\n",
       "  'a',\n",
       "  'separate',\n",
       "  'disk',\n",
       "  'or',\n",
       "  'run',\n",
       "  'the',\n",
       "  'installation',\n",
       "  'off',\n",
       "  'an',\n",
       "  'external',\n",
       "  'drive'],\n",
       " ['the',\n",
       "  'fifth',\n",
       "  'major',\n",
       "  'update',\n",
       "  'to',\n",
       "  'mac',\n",
       "  'os',\n",
       "  'x',\n",
       "  'leopard',\n",
       "  'contains',\n",
       "  'such',\n",
       "  'a',\n",
       "  'mountain',\n",
       "  'of',\n",
       "  'features',\n",
       "  'more',\n",
       "  'than',\n",
       "  'by',\n",
       "  'apple',\n",
       "  's',\n",
       "  'count']]"
      ]
     },
     "execution_count": 4,
     "metadata": {},
     "output_type": "execute_result"
    }
   ],
   "source": [
    "sentences"
   ]
  },
  {
   "cell_type": "code",
   "execution_count": 5,
   "metadata": {},
   "outputs": [
    {
     "name": "stdout",
     "output_type": "stream",
     "text": [
      "{'displays': 155, 'osx': 192, 'selection': 67, 'safari': 221, 'just': 31, 'developed': 194, 'over': 170, 'vermin': 72, 'domestic': 87, 'named': 104, 'installed': 181, 'symbols': 149, 'through': 206, 'human': 51, 'world': 142, 'disk': 244, 'its': 74, 'fifth': 249, 'features': 251, 'tamed': 65, 'upgrade': 232, 'lb': 97, 'drive': 248, 'to': 2, 'won': 239, 'deliberately': 64, 'marks': 226, 'has': 129, 'predecessor': 172, 'non': 199, 'which': 182, 'read': 122, 'october': 160, 'every': 215, 'os': 174, 'they': 68, 'not': 6, 'during': 10, 'now': 195, 'possess': 83, 'intel': 189, 'keyboards': 116, 'bytes': 20, 'unnecessary': 102, 'patch': 217, 'predators': 71, 'small': 60, 'output': 41, 'entirely': 235, 'where': 29, 'ears': 52, 'available': 164, 'on': 115, 'often': 113, 'sequence': 32, 'some': 177, 'lion': 202, 'frequency': 50, 'are': 78, 'year': 216, 'download': 205, 'terms': 123, 'concern': 107, 'error': 106, 'for': 37, 'pipes': 128, 'since': 187, 'factory': 180, 'artificial': 66, 'content': 42, 'version': 163, 'run': 245, 'between': 95, 'new': 148, 'learned': 137, 'three': 218, 'piped': 100, 'common': 34, 'concatenate': 26, 'be': 23, 'weighing': 94, 'genes': 86, 'use': 36, 'standard': 43, 'release': 225, 'diploid': 80, 'members': 90, 'x': 175, 'based': 200, 'safer': 105, 'by': 56, 'both': 79, 'commands': 125, 'installation': 186, 'installs': 236, 'of': 19, 'needing': 121, 'allows': 196, 'according': 167, 'july': 203, 'later': 197, 'mac': 173, 's': 207, 'streams': 18, 'receives': 154, 'successor': 161, 'catenates': 17, 'changes': 9, 'or': 48, 'felis': 92, 'major': 8, 'faint': 47, 'useful': 70, 'apple': 168, 'app': 208, 'community': 193, 'one': 62, 'running': 222, 'unix': 140, 'right': 132, 'simply': 16, 'linux': 141, 'sounds': 45, 'size': 89, 'undergone': 7, 'delete': 119, 'from': 146, 'enhancements': 171, 'second': 227, 'their': 191, 'create': 242, 'people': 63, 'two': 165, 't': 240, 'redirection': 110, 'however': 98, 'cats': 4, 'too': 46, 'basic': 136, 'permanently': 118, 'type': 150, 'dogs': 3, 'store': 209, 'more': 252, 'files': 28, 'releases': 198, 'that': 82, 'started': 139, 'contains': 169, 'releasing': 212, 'tiger': 162, 'released': 159, 'part': 210, 'hear': 44, 'external': 247, 'editions': 166, 'off': 246, 'mice': 57, 'with': 103, 'than': 234, 'those': 54, 'longer': 184, 'count': 253, 'made': 55, 'animals': 61, 'mavericks': 224, 'versions': 213, 'default': 109, 'was': 158, 'single': 38, 'cat': 15, 'will': 30, 'can': 22, 'were': 69, 'wild': 76, 'similar': 88, 'interactive': 35, 'and': 58, 'mountain': 201, 'computers': 178, 'have': 5, 'stdout': 156, 'process': 13, 'lines': 144, 'is': 40, 'received': 145, 'moved': 188, 'it': 21, 'an': 230, 'high': 49, 'as': 14, 'incremental': 231, 'file': 39, 'in': 0, 'need': 241, 'domesticated': 73, 'any': 152, 'domestication': 12, 'if': 99, 'binary': 27, 'processors': 190, 'no': 183, 'rather': 233, 'legibility': 124, 'separate': 243, 'firmware': 179, 'when': 138, 'mid': 176, 'also': 24, 'other': 59, 'arguments': 153, 'adjacent': 114, 'online': 214, 'instead': 112, 'you': 120, 'ancestor': 77, 'offered': 229, 'used': 25, 'chromosomes': 84, 'closest': 75, 'information': 134, 'may': 117, 'symbol': 111, 'leopard': 157, 'update': 250, 'most': 219, 'wrong': 108, 'connected': 127, 'yosemite': 223, 'such': 53, 'comparison': 1, 'recent': 220, 'a': 33, 'purchase': 204, 'genus': 91, 'kg': 96, 'organisms': 81, 'using': 143, 'starting': 126, 'clear': 130, 'stdin': 147, 'flow': 133, 'roughly': 85, 'so': 238, 'switch': 211, 'without': 151, 'command': 135, 'place': 237, 'allow': 185, 'time': 228, 'redirected': 101, 'the': 11, 'typically': 93, 'left': 131}\n"
     ]
    }
   ],
   "source": [
    "words = dict()\n",
    "\n",
    "for i in sentences:\n",
    "    for j in i:\n",
    "        if j not in words:\n",
    "            words[j] = len(words)\n",
    "            \n",
    "print(words)"
   ]
  },
  {
   "cell_type": "code",
   "execution_count": 6,
   "metadata": {},
   "outputs": [],
   "source": [
    "import numpy as np\n",
    "M = np.zeros((len(sentences), len(words)))"
   ]
  },
  {
   "cell_type": "code",
   "execution_count": 7,
   "metadata": {},
   "outputs": [],
   "source": [
    "for i in range(len(sentences)):\n",
    "    for w in words:\n",
    "        M[i][words[w]] = sentences[i].count(w)"
   ]
  },
  {
   "cell_type": "code",
   "execution_count": 8,
   "metadata": {},
   "outputs": [
    {
     "data": {
      "text/plain": [
       "(22, 254)"
      ]
     },
     "execution_count": 8,
     "metadata": {},
     "output_type": "execute_result"
    }
   ],
   "source": [
    "M.shape"
   ]
  },
  {
   "cell_type": "code",
   "execution_count": 9,
   "metadata": {},
   "outputs": [
    {
     "data": {
      "text/plain": [
       "array([1., 1., 1., 1., 1., 1., 1., 1., 1., 1., 1., 1., 1., 1., 0., 0., 0.,\n",
       "       0., 0., 0., 0., 0., 0., 0., 0., 0., 0., 0., 0., 0., 0., 0., 0., 0.,\n",
       "       0., 0., 0., 0., 0., 0., 0., 0., 0., 0., 0., 0., 0., 0., 0., 0., 0.,\n",
       "       0., 0., 0., 0., 0., 0., 0., 0., 0., 0., 0., 0., 0., 0., 0., 0., 0.,\n",
       "       0., 0., 0., 0., 0., 0., 0., 0., 0., 0., 0., 0., 0., 0., 0., 0., 0.,\n",
       "       0., 0., 0., 0., 0., 0., 0., 0., 0., 0., 0., 0., 0., 0., 0., 0., 0.,\n",
       "       0., 0., 0., 0., 0., 0., 0., 0., 0., 0., 0., 0., 0., 0., 0., 0., 0.,\n",
       "       0., 0., 0., 0., 0., 0., 0., 0., 0., 0., 0., 0., 0., 0., 0., 0., 0.,\n",
       "       0., 0., 0., 0., 0., 0., 0., 0., 0., 0., 0., 0., 0., 0., 0., 0., 0.,\n",
       "       0., 0., 0., 0., 0., 0., 0., 0., 0., 0., 0., 0., 0., 0., 0., 0., 0.,\n",
       "       0., 0., 0., 0., 0., 0., 0., 0., 0., 0., 0., 0., 0., 0., 0., 0., 0.,\n",
       "       0., 0., 0., 0., 0., 0., 0., 0., 0., 0., 0., 0., 0., 0., 0., 0., 0.,\n",
       "       0., 0., 0., 0., 0., 0., 0., 0., 0., 0., 0., 0., 0., 0., 0., 0., 0.,\n",
       "       0., 0., 0., 0., 0., 0., 0., 0., 0., 0., 0., 0., 0., 0., 0., 0., 0.,\n",
       "       0., 0., 0., 0., 0., 0., 0., 0., 0., 0., 0., 0., 0., 0., 0., 0.])"
      ]
     },
     "execution_count": 9,
     "metadata": {},
     "output_type": "execute_result"
    }
   ],
   "source": [
    "M[0]"
   ]
  },
  {
   "cell_type": "code",
   "execution_count": 10,
   "metadata": {},
   "outputs": [],
   "source": [
    "import scipy.spatial.distance as sc"
   ]
  },
  {
   "cell_type": "code",
   "execution_count": 11,
   "metadata": {},
   "outputs": [
    {
     "data": {
      "text/plain": [
       "[0,\n",
       " 0.9527544408738466,\n",
       " 0.8644738145642124,\n",
       " 0.8951715163278082,\n",
       " 0.7770887149698589,\n",
       " 0.9402385695332803,\n",
       " 0.7327387580875756,\n",
       " 0.9258750683338899,\n",
       " 0.8842724875284311,\n",
       " 0.9055088817476932,\n",
       " 0.8328165362273942,\n",
       " 0.8804771390665607,\n",
       " 0.8396432548525454,\n",
       " 0.8703592552895671,\n",
       " 0.8740118423302576,\n",
       " 0.9442721787424647,\n",
       " 0.8406361854220809,\n",
       " 0.956644501523794,\n",
       " 0.9442721787424647,\n",
       " 0.8885443574849294,\n",
       " 0.8427572744917122,\n",
       " 0.8250364469440588]"
      ]
     },
     "execution_count": 11,
     "metadata": {},
     "output_type": "execute_result"
    }
   ],
   "source": [
    "dist = [0]\n",
    "for line in M[1:]:\n",
    "    dist.append(sc.cosine(M[0], line))\n",
    "\n",
    "dist"
   ]
  },
  {
   "cell_type": "code",
   "execution_count": 65,
   "metadata": {},
   "outputs": [
    {
     "data": {
      "text/plain": [
       "['in',\n",
       " 'one',\n",
       " 'people',\n",
       " 'deliberately',\n",
       " 'tamed',\n",
       " 'cats',\n",
       " 'in',\n",
       " 'a',\n",
       " 'process',\n",
       " 'of',\n",
       " 'artificial',\n",
       " 'selection',\n",
       " 'as',\n",
       " 'they',\n",
       " 'were',\n",
       " 'useful',\n",
       " 'predators',\n",
       " 'of',\n",
       " 'vermin']"
      ]
     },
     "execution_count": 65,
     "metadata": {},
     "output_type": "execute_result"
    }
   ],
   "source": [
    "sentences[4]"
   ]
  },
  {
   "cell_type": "code",
   "execution_count": 87,
   "metadata": {},
   "outputs": [],
   "source": [
    "ouf = open('week2hw1.txt', 'w')\n",
    "ouf.write(\"4 6\")\n",
    "ouf.close()"
   ]
  },
  {
   "cell_type": "markdown",
   "metadata": {},
   "source": [
    "# 2"
   ]
  },
  {
   "cell_type": "code",
   "execution_count": 66,
   "metadata": {},
   "outputs": [],
   "source": [
    "import numpy as np\n",
    "from matplotlib import pylab as plt\n",
    "import scipy as sc\n",
    "%matplotlib inline"
   ]
  },
  {
   "cell_type": "code",
   "execution_count": 67,
   "metadata": {},
   "outputs": [],
   "source": [
    "def f(x):\n",
    "    return np.sin(x / 5.) * np.exp(x / 10.) + 5 * np.exp(-x / 2.)"
   ]
  },
  {
   "cell_type": "code",
   "execution_count": 73,
   "metadata": {},
   "outputs": [
    {
     "name": "stdout",
     "output_type": "stream",
     "text": [
      "[[ 1  1]\n",
      " [ 1 15]] [3.25221687 0.63522142]\n"
     ]
    }
   ],
   "source": [
    "# аппроксимация линейной функцией\n",
    "points = [1, 15]\n",
    "A = np.array([[p ** i for i in range(len(points))] for p in points])\n",
    "b = np.array([f(x) for x in points])\n",
    "\n",
    "print A, b"
   ]
  },
  {
   "cell_type": "code",
   "execution_count": 74,
   "metadata": {},
   "outputs": [
    {
     "name": "stdout",
     "output_type": "stream",
     "text": [
      "[ 3.43914511 -0.18692825]\n"
     ]
    }
   ],
   "source": [
    "w = sc.linalg.solve(A, b)\n",
    "print(w)"
   ]
  },
  {
   "cell_type": "code",
   "execution_count": 78,
   "metadata": {},
   "outputs": [
    {
     "data": {
      "image/png": "[encoded data removed]",
      "text/plain": [
       "<Figure size 432x288 with 1 Axes>"
      ]
     },
     "metadata": {
      "needs_background": "light"
     },
     "output_type": "display_data"
    }
   ],
   "source": [
    "x = np.arange(1, 15, 0.1)\n",
    "y = f(x)\n",
    "y_approx = w[0] + x * w[1]\n",
    "\n",
    "plt.plot(x, y)\n",
    "plt.plot(x, y_approx)\n",
    "plt.show()"
   ]
  },
  {
   "cell_type": "code",
   "execution_count": 79,
   "metadata": {},
   "outputs": [
    {
     "name": "stdout",
     "output_type": "stream",
     "text": [
      "[[  1   1   1]\n",
      " [  1   8  64]\n",
      " [  1  15 225]] [3.25221687 2.31617016 0.63522142]\n",
      "[ 3.32512949 -0.06531159 -0.00760104]\n"
     ]
    },
    {
     "data": {
      "image/png": "[encoded data removed]",
      "text/plain": [
       "<Figure size 432x288 with 1 Axes>"
      ]
     },
     "metadata": {
      "needs_background": "light"
     },
     "output_type": "display_data"
    }
   ],
   "source": [
    "#квадратичной\n",
    "points = [1, 8, 15]\n",
    "A = np.array([[p ** i for i in range(len(points))] for p in points])\n",
    "b = np.array([f(x) for x in points])\n",
    "\n",
    "print A, b\n",
    "\n",
    "w = sc.linalg.solve(A, b)\n",
    "print(w)\n",
    "\n",
    "x = np.arange(1, 15, 0.1)\n",
    "y = f(x)\n",
    "y_approx = w[0] + x * w[1] + w[2] * x ** 2\n",
    "\n",
    "plt.plot(x, y)\n",
    "plt.plot(x, y_approx)\n",
    "plt.show()"
   ]
  },
  {
   "cell_type": "code",
   "execution_count": 89,
   "metadata": {},
   "outputs": [
    {
     "name": "stdout",
     "output_type": "stream",
     "text": [
      "[[   1    1    1    1]\n",
      " [   1    4   16   64]\n",
      " [   1   10  100 1000]\n",
      " [   1   15  225 3375]] [3.25221687 1.74684595 2.50541641 0.63522142]\n",
      "[ 4.36264154 -1.29552587  0.19333685 -0.00823565]\n"
     ]
    },
    {
     "data": {
      "image/png": "[encoded data removed]",
      "text/plain": [
       "<Figure size 432x288 with 1 Axes>"
      ]
     },
     "metadata": {
      "needs_background": "light"
     },
     "output_type": "display_data"
    }
   ],
   "source": [
    "#кубической\n",
    "points = [1, 4, 10, 15]\n",
    "A = np.array([[p ** i for i in range(len(points))] for p in points])\n",
    "b = np.array([f(x) for x in points])\n",
    "\n",
    "print A, b\n",
    "\n",
    "w = sc.linalg.solve(A, b)\n",
    "print(w)\n",
    "\n",
    "x = np.arange(1, 15, 0.1)\n",
    "y = f(x)\n",
    "y_approx = w[0] + x * w[1] + w[2] * x ** 2 + w[3] * x ** 3\n",
    "\n",
    "plt.plot(x, y)\n",
    "plt.plot(x, y_approx)\n",
    "plt.show()"
   ]
  },
  {
   "cell_type": "code",
   "execution_count": 90,
   "metadata": {},
   "outputs": [],
   "source": [
    "with open('week2hw2.txt', 'w') as ouf:\n",
    "    for i in w:\n",
    "        ouf.write(str(round(i, 2)))"
   ]
  },
  {
   "cell_type": "code",
   "execution_count": null,
   "metadata": {},
   "outputs": [],
   "source": []
  }
 ],
 "metadata": {
  "kernelspec": {
   "display_name": "Python 2",
   "language": "python",
   "name": "python2"
  },
  "language_info": {
   "codemirror_mode": {
    "name": "ipython",
    "version": 2
   },
   "file_extension": ".py",
   "mimetype": "text/x-python",
   "name": "python",
   "nbconvert_exporter": "python",
   "pygments_lexer": "ipython2",
   "version": "2.7.16"
  }
 },
 "nbformat": 4,
 "nbformat_minor": 2
}
