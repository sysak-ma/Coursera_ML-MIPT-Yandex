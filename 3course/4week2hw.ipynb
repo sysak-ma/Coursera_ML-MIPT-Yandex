{
 "cells": [
  {
   "cell_type": "markdown",
   "metadata": {},
   "source": [
    "# Тематическая модель [Постнауки](http://postnauka.ru)\n",
    "## Peer Review (optional)"
   ]
  },
  {
   "cell_type": "markdown",
   "metadata": {},
   "source": [
    "В этом задании мы применим аппарат тематического моделирования к коллекции текстовых записей видеолекций, скачанных с сайта Постнаука. Мы будем визуализировать модель и создавать прототип тематического навигатора по коллекции. В коллекции 1728 документов, размер словаря - 38467 слов. Слова лемматизированы, то есть приведены к начальной форме, с помощью программы [mystem](https://tech.yandex.ru/mystem/), коллекция сохранена в [формате vowpal wabbit](http://docs.bigartm.org/en/latest/formats.html). В каждой строке до первой черты записана информация о документе (ссылка на страницу с лекцией), после первой черты следует описание документа. Используются две модальности - текстовая (\"text\") и модальность авторов (\"author\"); у каждого документа один автор."
   ]
  },
  {
   "cell_type": "markdown",
   "metadata": {},
   "source": [
    "Для выполнения задания понадобится библиотека [BigARTM](http://docs.bigartm.org). В демонстрации показан пример использования библиотеки версии 0.7.4, на сайте предлагается скачивать версию 0.8.0. В новой версии изменены принципы работы со словарями: они вынесены в отдельный класс (пример в [Release Notes](http://docs.bigartm.org/en/stable/release_notes/python.html)). Строить модель и извлекать ее параметры нужно так же, как показано в демонстрации. Вы можете использовать [предыдущий релиз](http://bigartm.readthedocs.io/en/v0.7.6/download.html) или [новый релиз](http://docs.bigartm.org/en/latest/download.html) на ваше усмотрение.\n",
    "\n",
    "Спецификации всех функций вы можете смотреть на странице [Python API](http://bigartm.readthedocs.io/en/stable/python_interface.html)."
   ]
  },
  {
   "cell_type": "code",
   "execution_count": 1,
   "metadata": {},
   "outputs": [],
   "source": [
    "import artm"
   ]
  },
  {
   "cell_type": "code",
   "execution_count": 2,
   "metadata": {},
   "outputs": [],
   "source": [
    "from matplotlib import pyplot as plt\n",
    "import seaborn\n",
    "%matplotlib inline\n",
    "seaborn.set_style(\"whitegrid\", {'axes.grid' : False})"
   ]
  },
  {
   "cell_type": "code",
   "execution_count": 3,
   "metadata": {},
   "outputs": [],
   "source": [
    "import numpy as np\n",
    "import pandas as pd"
   ]
  },
  {
   "cell_type": "markdown",
   "metadata": {},
   "source": [
    "##### Считывание данных"
   ]
  },
  {
   "cell_type": "markdown",
   "metadata": {},
   "source": [
    "Создайте объект класса artm.BatchVectorizer, который будет ссылаться на директорию с пакетами данных (батчами). Чтобы библиотека могла преобразовать текстовый файл в батчи, создайте пустую директорию и укажите ее название в параметре target_folder. Размер батча для небольших коллекций (как наша) не важен, вы можете указать любой."
   ]
  },
  {
   "cell_type": "code",
   "execution_count": 4,
   "metadata": {},
   "outputs": [],
   "source": [
    "# Ваш код\n",
    "batch_vectorizer = artm.BatchVectorizer(data_path=\"lectures.txt\", data_format=\"vowpal_wabbit\", \n",
    "                                        target_folder=\"lectures_batches\", batch_size=100)"
   ]
  },
  {
   "cell_type": "markdown",
   "metadata": {},
   "source": [
    "##### Инициализация модели"
   ]
  },
  {
   "cell_type": "markdown",
   "metadata": {},
   "source": [
    "Создайте объект класса artm.Model с 30 темами, именами тем, указанными ниже и единичными весами обеих модальностей. Количество тем выбрано не очень большим, чтобы вам было удобнее работать с темами. На этой коллекции можно строить и большее число тем, тогда они будут более узко специализированы."
   ]
  },
  {
   "cell_type": "code",
   "execution_count": 5,
   "metadata": {},
   "outputs": [],
   "source": [
    "T = 30   # количество тем\n",
    "topic_names=[\"sbj\"+str(i) for i in range(T-1)]+[\"bcg\"]\n",
    "# Ваш код\n",
    "model = artm.ARTM(num_topics=T, topic_names=topic_names, class_ids={\"text\":1, \"author\":1}, \n",
    "                       num_document_passes=1, reuse_theta=True, cache_theta=True, seed=-1)"
   ]
  },
  {
   "cell_type": "markdown",
   "metadata": {},
   "source": [
    "Мы будем строить 29 предметных тем и одну фоновую. \n",
    "\n",
    "Соберите словарь с помощью метода gather_dictionary и инициализируйте модель, указав random_seed=1. Обязательно укажите свое название словаря, оно понадобится при добавлении регуляризаторов."
   ]
  },
  {
   "cell_type": "code",
   "execution_count": 6,
   "metadata": {},
   "outputs": [],
   "source": [
    "# Ваш код\n",
    "dictionary = artm.Dictionary('dictionary')"
   ]
  },
  {
   "cell_type": "code",
   "execution_count": 7,
   "metadata": {},
   "outputs": [],
   "source": [
    "dictionary.gather(batch_vectorizer.data_path)"
   ]
  },
  {
   "cell_type": "code",
   "execution_count": 8,
   "metadata": {},
   "outputs": [],
   "source": [
    "model.initialize('dictionary')"
   ]
  },
  {
   "cell_type": "markdown",
   "metadata": {},
   "source": [
    "##### Добавление score"
   ]
  },
  {
   "cell_type": "markdown",
   "metadata": {},
   "source": [
    "Создайте два измерителя качества artm.TopTokensScore - по одному для каждой модальности; количество токенов 15. Названия для score придумайте самостоятельно."
   ]
  },
  {
   "cell_type": "code",
   "execution_count": 9,
   "metadata": {},
   "outputs": [],
   "source": [
    "# Ваш код\n",
    "model.scores.add(artm.TopTokensScore(name='topText', class_id='text', num_tokens=15))\n",
    "model.scores.add(artm.TopTokensScore(name='topAuthor', class_id='author', num_tokens=15))"
   ]
  },
  {
   "cell_type": "markdown",
   "metadata": {},
   "source": [
    "##### Построение модели"
   ]
  },
  {
   "cell_type": "markdown",
   "metadata": {},
   "source": [
    "Мы будем строить модель в два этапа: сначала добавим сглаживающий регуляризатор фоновой темы и настроим параметры модели, затем - добавим разреживающий регуляризатор предметрых тем и выполним еще несколько итераций. Так мы сможем получить наиболее чистые от фоновых слов предметные темы. Сглаживающий и разреживающий регуляризаторы задаются одним и тем же классом artm.SmoothSparsePhiRegularizer: если коэффициент tau положительный, то регуляризатор будет сглаживающий, если отрицательный - разреживающий.\n",
    "\n",
    "Если вы хотите подробнее разобраться, как выполняется регуляризация тематической модели в BigARTM, вы можете прочитать [статью](https://s3-eu-west-1.amazonaws.com/artm/voron-potap14artm-rus.pdf), раздел 4."
   ]
  },
  {
   "cell_type": "markdown",
   "metadata": {},
   "source": [
    "Добавьте сглаживающий регуляризатор с коэффициентом tau = 1e5, указав название своего словаря в dictionary, модальность текста в class_ids и тему \"bcg\" в topic_names."
   ]
  },
  {
   "cell_type": "code",
   "execution_count": 11,
   "metadata": {},
   "outputs": [],
   "source": [
    "# Ваш код\n",
    "model.regularizers.add(artm.SmoothSparsePhiRegularizer(name='SmoothPhi', tau=1e5, \n",
    "                                                       dictionary='dictionary', \n",
    "                                                       class_ids='text', topic_names='bcg'))"
   ]
  },
  {
   "cell_type": "markdown",
   "metadata": {},
   "source": [
    "Выполните 30 итераций по коллекции (num_collection_passes), количество внутренних итераций установите равным 1. Используйте метод fit_offline модели."
   ]
  },
  {
   "cell_type": "code",
   "execution_count": 12,
   "metadata": {},
   "outputs": [],
   "source": [
    "# Ваш код\n",
    "model.fit_offline(batch_vectorizer=batch_vectorizer, num_collection_passes=30)"
   ]
  },
  {
   "cell_type": "markdown",
   "metadata": {},
   "source": [
    "Добавьте разреживающий регуляризатор с коэффициентом tau=-1e5, указав название своего словаря, модальность текста в class_ids и все темы \"sbjX\" в topic_names."
   ]
  },
  {
   "cell_type": "code",
   "execution_count": 13,
   "metadata": {},
   "outputs": [],
   "source": [
    "# Ваш код\n",
    "model.regularizers.add(artm.SmoothSparsePhiRegularizer(name='SparsePhi', tau=-1e5, dictionary='dictionary', \n",
    "                                                       class_ids='text', topic_names=topic_names[:-1]))"
   ]
  },
  {
   "cell_type": "markdown",
   "metadata": {},
   "source": [
    "Выполните еще 15 проходов по коллекции."
   ]
  },
  {
   "cell_type": "code",
   "execution_count": 14,
   "metadata": {},
   "outputs": [],
   "source": [
    "# Ваш код\n",
    "model.fit_offline(batch_vectorizer=batch_vectorizer, num_collection_passes=15)"
   ]
  },
  {
   "cell_type": "markdown",
   "metadata": {},
   "source": [
    "##### Интерпретация тем"
   ]
  },
  {
   "cell_type": "markdown",
   "metadata": {},
   "source": [
    "Используя созданные score, выведите топы слов и топы авторов в темах. Удобнее всего выводить топ слов каждой темы с новой строки, указывая название темы в начале строки, и аналогично с авторами."
   ]
  },
  {
   "cell_type": "code",
   "execution_count": 30,
   "metadata": {},
   "outputs": [
    {
     "name": "stdout",
     "output_type": "stream",
     "text": [
      "sbj0:  церковь власть русь средневековый император святой римский сага князь папа король александр византийский церковный рим\n",
      "sbj1:  планета земля атмосфера солнце солнечный белый газ карлик образовываться вокруг звезда спутник вода поверхность кислород\n",
      "sbj2:  система состояние трудность двигаться частота поведение искусственный точность относительность движение переход тест час самка самец\n",
      "sbj3:  культура понятие культурный восприятие сознание феномен личность ощущение воспринимать чувство переживание повседневный этика лосев глобальный\n",
      "sbj4:  право литература литературный искусство юрист должник собственность обязательство римский владение произведение писатель юридический собственник исполнение\n",
      "sbj5:  материал структура молекула свойство углерод применение полимер поверхность вещество кристалл металл электронный алмаз углеродный твердый\n",
      "sbj6:  фильм книга автор кино театр жанр кинематограф анекдот тема документ пьеса культовый академия герой екатерина\n",
      "sbj7:  смерть ритуал террор государь правитель обряд идеология служба конвент символический диктатура монтаньяр баратынский подданный биоэтика\n",
      "sbj8:  метод химический соединение реакция химия давление органический лекарство синтез разработка продукт натрий концентрация природный химик\n",
      "sbj9:  частица энергия квантовый поле физика взаимодействие атом магнитный электрон кварк теория симметрия фотон элементарный нейтрино\n",
      "sbj10:  война россия советский русский власть российский германия мировой реформа историк петр немецкий против гражданский военный\n",
      "sbj11:  ребенок семья возраст взрослый сон мать родитель кровь старение катастрофа конфликт диабет травма стресс сосуд\n",
      "sbj12:  растение ткань опухоль орган рак иммунный озеро сердце мышца нейронный вода инженерия птица активация печень\n",
      "sbj13:  территория христианский империя восток народ древний письменность христианство государство памятник цивилизация китай северный восточный китайский\n",
      "sbj14:  звезда галактика масса вселенная черный свет волна дыра скорость излучение объект вещество расстояние телескоп скопление\n",
      "sbj15:  задача информация память данные решение компьютер психология мышление внимание когнитивный анализ психологический психолог ошибка компьютерный\n",
      "sbj16:  раса африка остров америка станислав южный монголоид индия дробышевский нос сенсор штамм индеец территориальный европеоид\n",
      "sbj17:  политический философия государство общество философский философ партия правовой суд платон мысль враг шмитт политика дух\n",
      "sbj18:  слово текст русский словарь предложение значение глагол корпус категория лингвистика грамматика конструкция падеж синтаксический устный\n",
      "sbj19:  революция французский свобода франция роман национальный король нация аргумент актер париж конституция творчество монархия костюм\n",
      "sbj20:  город сеть робот технология городской интернет компания пользователь музей медиа горожанин библиотека метро управление цифровой\n",
      "sbj21:  болезнь заболевание пациент лечение врач медицина боль женщина препарат медицинский операция мужчина диагностика больной нарушение\n",
      "sbj22:  социальный знание социология социологический дисциплина познание перевод социолог описание обучение коммуникация виктор машинный научный высказывание\n",
      "sbj23:  микроорганизм матрица алгоритм эмоция схема вычислительный эмоциональный микроб программный глубина интеллект фольклор машина хищник микробный\n",
      "sbj24:  исторический бог традиция царь миф греческий представление религия имя мифология эпоха душа религиозный египет андрей\n",
      "sbj25:  язык лингвист языковой гласный английский согласный лингвистический говор звук диалект филологический компилятор германский программирование жест\n",
      "sbj26:  страна экономический экономика политика сталин идентичность коллективный кризис общественный праздник принятие выбор ценность прошлое ресурс\n",
      "sbj27:  клетка ген днк организм белок мозг биологический животное генетический нейрон геном бактерия рнк мутация молекулярный\n",
      "sbj28:  температура университет сверхпроводимость сверхпроводник профессор сверхпроводящий железо заимствование гумбольдт магнит кельвин булгарский электроника жидкий сопротивление\n",
      "bcg:  быть что это который этот как они мочь такой очень для человек или тот один\n",
      "sbj0:  Александр_Марей Фёдор_Успенский Татьяна_Бобровникова Павел_Уваров Игорь_Данилевский Алексей_Юдин Ольга_Вайнштейн Елена_Уханова Ольга_Брилева Владимир_Петрухин Елена_Браун Григорий_Бондаренко Раиса_Кирсанова Екатерина_Болтунова Ольга_Тогоева\n",
      "sbj1:  Сергей_Попов Дмитрий_Вибе Кирилл_Еськов Дмитрий_Титов Валерий_Сулейманов Зоригто_Намсараев Сергей_Наугольных Александр_Марков Александр_Слободкин Наталья_Новикова Елизавета_Ривкина Роман_Рафиков Сергей_Писарев Дмитрий_Лось Юлия_Краус\n",
      "sbj2:  Елена_Брызгалина Владимир_Мележик Михаил_Пантелеев Александр_Поддьяков Эмиль_Ахмедов Виталий_Пальчиков Антон_Суворов Даниэль_Сельва Михаил_Фейгельман Василий_Климов Юджин_Ползик Алексей_Желтиков Владимир_Редько Илья_Щуров Александра_Скрипченко\n",
      "sbj3:  Сергей_Арутюнов Алексей_Руткевич Владимир_Миронов Пётр_Турчин Татьяна_Смоктунович Андрей_Лосев Константин_Анохин Кирилл_Разлогов Павел_Степанцов Павел_Умрюхин Дмитрий_Иванов Александр_Кислов Фёдор_Гиренок Светлана_Кузнецова Андрей_Лукашов\n",
      "sbj4:  Дмитрий_Дождев Олег_Лекманов Наталья_Смолянская Денис_Новак Сергей_Зенкин Андрей_Кофман Дмитрий_Дорохов Александр_Парфенов Марина_Бутовская Виктор_Цетлин Дмитрий_Полдников Евгений_Рогожин Мария_Штейнман Алиса_Вячеславова Джу_Йонг_Ли\n",
      "sbj5:  Артем_Оганов Дмитрий_Паращук Алексей_Акимов Валентин_Крапошин Дмитрий_Гольберг Евгений_Гудилин Владимир_Шалаев Дмитрий_Клинов Виктор_Зайченко Алексей_Хохлов Владимир_Комлев Сергей_Никитов Андрей_Головин Эрик_Мазур Виктор_Задков\n",
      "sbj6:  Александр_Павлов Павел_Руднев Ян_Левченко Алексей_Бартошевич Ольга_Эдельман Мария_Неклюдова Владимир_Кантор Петр_Дружинин Наталья_Харламенкова Екатерина_Щербакова Ольга_Вайнштейн Анатолий_Гершман Анна_Рогожина Михаил_Маяцкий Александр_Гофман\n",
      "sbj7:  Михаил_Бойцов Анна_Соколова Александр_Гофман Игорь_Чубаров Арсений_Хитров Дмитрий_Рогозин Алина_Бодрова Пол_Грегори Галина_Зверева Олег_Ауров Мария_Майофис Дмитрий_Бовыкин Владимир_Емельянов Михаил_Алексеевский Елена_Брызгалина\n",
      "sbj8:  Валерий_Фокин Валентин_Ненайденко Алла_Ножевникова Александр_Беленький Александр_Апт Иван_Сорокин Виктория_Битюкова Алексей_Малашенко Сергей_Майоров Константин_Мирошников Сергей_Румянцев Олег_Мельник Дмитрий_Бак Пётр_Образцов Владимир_Польшаков\n",
      "sbj9:  Дмитрий_Казаков Эмиль_Ахмедов Михаил_Данилов Павел_Пахлов Сергей_Демокритов Виктор_Брагута Игорь_Волобуев Лев_Дудко Наталья_Берлофф Сергей_Троицкий Алексей_Рубцов Анатолий_Лиходед Эдуард_Боос Кит_Моффат Андрей_Семенов\n",
      "sbj10:  Илья_Женин Кирилл_Соловьев Борис_Морозов Кирилл_Кочегаров Александр_Лаврентьев Олег_Будницкий Ирина_Бёме Александр_Каменский Игорь_Курукин Алексей_Киличенков Илья_Виньковецкий Людмила_Новикова Сергей_Соколовский Варвара_Добровольская Ольга_Тогоева\n",
      "sbj11:  Катерина_Поливанова Юрий_Яшков Мария_Падун Ольга_Исупова Эмери_Браун Мария_Медникова Владимир_Ковальзон Джеральд_де_Хаан Дмитрий_Жуков Наталья_Харламенкова Александр_Жаворонков Наталья_Кисельникова Дэвид_С._Джонс Михаил_Полуэктов Алексей_Москалев\n",
      "sbj12:  Михаил_Бурцев Филипп_Хайтович Егор_Задереев Константин_Агладзе Дмитрий_Громов Андрей_Цатурян Алишер_Тураев Сергей_Яковенко Александр_Петренко Мария_Добровольская Филлип_Шарп Рудольф_Йениш Михаил_Киселев Варвара_Веденина Иван_Воробьев\n",
      "sbj13:  Алексей_Муравьёв Дмитрий_Беляев Марк_Ульянов Дмитрий_Худяков Сергей_Серёгичев Наталья_Зубаревич Андрей_Виноградов Владимир_Каганский Олег_Ауров Александр_Высоковский Галина_Ершова Дмитрий_Арзютов Нина_Сумбатова Анна_Дыбо Анна_Рогожина\n",
      "sbj14:  Сергей_Попов Анатолий_Засов Алексей_Расторгуев Ольга_Сильченко Владимир_Сурдин Дмитрий_Горбунов Олег_Верходанов Андрей_Савельев-Трофимов Михаил_Ревнивцев Алексей_Старобинский Владимир_Белотелов Валерий_Рубаков Дмитрий_Вибе Ильдар_Габитов Макс_Тегмарк\n",
      "sbj15:  Павел_Балабан Владимир_Спиридонов Игорь_Уточкин Александр_Войскунский Ольга_Сварник Иван_Луковников Станислав_Клименко Антон_Чижов Ксения_Паниди Наталья_Кисельникова Александр_Каплан Сет_Ллойд Александр_Львовский Мартин_Вейс Кьянг_Ку\n",
      "sbj16:  Станислав_Дробышевский Виталий_Кушниров Александр_Шацкий Евгений_Рогожин Митчел_Резник Алиса_Вячеславова Владимир_Муронец Вера_Мильчина Раиса_Кирсанова Георгий_Базыкин Андрей_Летаров Александр_Воеводский Константин_Лукьянов Леонид_Иомдин Михаил_Эльдаров\n",
      "sbj17:  Алексей_Козырев Иван_Болдырев Владимир_Малахов Дина_Гусейнова Александр_Павлов Петр_Резвых Павел_Соколов Василий_Жарков Дмитрий_Балалыкин Валентина_Харитонова Руслан_Хестанов Александр_Воеводский Николай_Плотников Анна_Севортьян Юрий_Рогулёв\n"
     ]
    },
    {
     "name": "stdout",
     "output_type": "stream",
     "text": [
      "sbj18:  Александр_Пиперски Дмитрий_Добровольский Светлана_Евграфова Анатолий_Баранов Петр_Аркадьев Надежда_Онипенко Борис_Иомдин Алексей_Шмелев Леонид_Иомдин Андрей_Кибрик Владимир_Плунгян Вера_Подлесская Екатерина_Лютикова Екатерина_Протасова Анастасия_Лопухина\n",
      "sbj19:  Дмитрий_Бовыкин Андрей_Зорин Борис_Колоницкий Раиса_Кирсанова Вера_Мильчина Мария_Майофис Алексей_Миллер Дина_Гусейнова Александр_Дмитриев Максим_Демин Мария_Неклюдова Марина_Новикова-Грунд Илья_Иткин Светлана_Баньковская Михаил_Алексеевский\n",
      "sbj20:  Александр_Сафонов Оксана_Запорожец Алексей_Лебедев Александр_Тормасов Екатерина_Ларионова Екатерина_Лапина-Кратасюк Руслан_Смелянский Лев_Беклемишев Джанмарко_Веруджио Евгений_Магид Сергей_Карабасов Деметрис_Зейналипур Дарья_Радченко Евгений_Хоров Сергей_Ландо\n",
      "sbj21:  Петр_Федичев Ярослав_Ашихмин Алексей_Алексеев Константин_Анохин Александр_Васильев Вера_Ижевская Алексей_Чжао Елена_Брызгалина Александр_Габибов Инга_Полетаева Павел_Тищенко Юрий_Вайнер Станислав_Полонский Елена_Голубева Наталья_Савва\n",
      "sbj22:  Виктор_Вахштайн Дмитрий_Ветров Светлана_Бурлак Светлана_Баньковская Сезар_Идальго Александр_Дьяконов Дэвид_Вайнберг Джозеф_Браун Владик_Аветисов Леонид_Иомдин Мира_Бергельсон Aльберт_Давлетшин Александр_Филиппов Андрей_Кибрик Джеффри_Шнапп\n",
      "sbj23:  Елизавета_Бонч-Осмоловская Дмитрий_Рогозин Николай_Пименов Александр_Жданов Елена_Гороховская Иван_Оселедец Владимир_Кузнецов Станислав_Протасов Александр_Жаворонков Илья_Щуров Игорь_Петров Максим_Таланов Сергей_Гашков Александр_Шень Ольга_Столярова\n",
      "sbj24:  Гасан_Гусейнов Олег_Воскобойников Ивар_Максутов Ольга_Артёмова Мария_Штейнман Владимир_Емельянов Иван_Ладынин Леонид_Григорьев Владимир_Бобровников Галина_Зеленина Аскольд_Иванчик Мира_Бергельсон Алексей_Юдин Ирина_Савельева Александр_Мещеряков\n",
      "sbj25:  Владимир_Плунгян Игорь_Исаев Кирилл_Бабаев Андрей_Кибрик Илья_Иткин Георгий_Старостин Владимир_Беликов Григорий_Крейдлин Евгений_Зуев Максим_Кронгауз Екатерина_Лямина Андрей_Кофман Дмитрий_Дагаев Альберт_Насибулин Яков_Тестелец\n",
      "sbj26:  Фуад_Алескеров Олег_Хлевнюк Алексей_Белянин Ольга_Малинова Сергей_Афонцев Владимир_Гимпельсон Сергей_Бобылев Сергей_Пекарский Сергей_Гуриев Виктор_Полтерович Александр_Аузан Ольга_Гулевич Рауль_Гайнетдинов Леонард_Полищук Василий_Ключарев\n",
      "sbj27:  Евгений_Шеваль Константин_Северинов Максим_Франк-Каменецкий Сергей_Киселев Антон_Буздин Сергей_Саложин Сергей_Науменко Светлана_Боринская Алексей_Кондрашов Андрей_Летаров Евгений_Куликов Владимир_Муронец Мария_Шутова Ричард_Янг Дмитрий_Чудаков\n",
      "sbj28:  Михаил_Киселев Владимир_Пудалов Илья_Шкредов Наталья_Ростиславлева Елена_Вишленкова Евгений_Николаев Анна_Дыбо Алексей_Рубцов Евгений_Антипов Дмитрий_Лось Герберт_Хупперт Мел_Сигел Теунис_Клапвик Александр_Шварцбург Алексей_Орлов\n",
      "bcg:  Мария_Фаликман Михаил_Соколов Виталий_Куренной Сергей_Неклюдов Кирилл_Мартынов Михаил_Гельфанд Кирилл_Титаев ПостНаука Александр_Филиппов Михаил_Алексеевский Михаил_Маяцкий Алексей_Маслов Александр_Доброхотов Алексей_Миллер Андрей_Журавлев\n"
     ]
    }
   ],
   "source": [
    "# Ваш код\n",
    "for topic_name in model.topic_names:\n",
    "    print(topic_name + ': '),\n",
    "    tokens = model.score_tracker[\"topText\"].last_tokens\n",
    "    for word in tokens[topic_name]:    \n",
    "        print word,\n",
    "    print\n",
    "    \n",
    "for topic_name in model.topic_names:\n",
    "    print(topic_name + ': '),\n",
    "    tokens = model.score_tracker[\"topAuthor\"].last_tokens\n",
    "    for word in tokens[topic_name]:    \n",
    "        print word,\n",
    "    print"
   ]
  },
  {
   "cell_type": "markdown",
   "metadata": {},
   "source": [
    "В последней теме \"bcg\" должны находиться общеупотребительные слова.\n",
    "\n",
    "Важный шаг в работе с тематической моделью, когда речь идет о визуализации или создании тематического навигатора, это именование тем. Понять, о чем каждая тема, можно по списку ее топовых слов. Например, тему\n",
    "    \n",
    "    частица взаимодействие физика кварк симметрия элементарный нейтрино стандартный материя протон бозон заряд масса ускоритель слабый\n",
    "    \n",
    "можно назвать \"Физика элементарных частиц\". \n",
    "\n",
    "Дайте названия 29 предметным темам. Если вы не знаете, как назвать тему, назовите ее первым встретившимся в ней существительным, хотя при таком подходе навигатор будет менее информативным. Из названий тем составьте список из 29 строк и запишите го в переменную sbj_topic_labels. В переменной topic_labels будут храниться названия всех тем, включая фоновую."
   ]
  },
  {
   "cell_type": "code",
   "execution_count": 148,
   "metadata": {},
   "outputs": [
    {
     "name": "stdout",
     "output_type": "stream",
     "text": [
      "30\n"
     ]
    }
   ],
   "source": [
    "sbj_topic_labels = [u'Исторические правители', u'Жизненный цикл Солнечной системы',\n",
    "                    u'Движение систем', u'Феномен культуры', u'Юриспруденция', u'Углерод',\n",
    "                    u'Литература и кинематограф', u'Террор', u'Химия', u'Физика элементарных частиц',\n",
    "                    u'Россия и война', u'Демография', u'Медицина', u'Христианство', u'Галактики', u'Информация',\n",
    "                    u'Расы', u'Философия', u'Русский язык', u'История Франции', u'Городские технологии', u'Болезни', u'Социология',\n",
    "                    u'Микроорганизмы', u'Мифология', u'Лингвистика', u'Экономика и политика', u'Биология клеток',\n",
    "                    u'Сверхпроводимость']   # запишите названия тем в список\n",
    "topic_labels = sbj_topic_labels + [u\"Фоновая тема\"]\n",
    "print(len(topic_labels))"
   ]
  },
  {
   "cell_type": "markdown",
   "metadata": {},
   "source": [
    "##### Анализ тем"
   ]
  },
  {
   "cell_type": "markdown",
   "metadata": {},
   "source": [
    "Далее мы будем работать с распределениями тем в документах (матрица $\\Theta$) и авторов в темах (одна из двух матриц $\\Phi$, соответствующая модальности авторов). \n",
    "Создайте переменные, содержащие две этих матрицы, с помощью методов get_phi и get_theta модели. Назовите переменные theta и phi_a. Выведите формы обеих матриц, чтобы понять, по каким осям стоят темы."
   ]
  },
  {
   "cell_type": "code",
   "execution_count": 20,
   "metadata": {},
   "outputs": [
    {
     "name": "stdout",
     "output_type": "stream",
     "text": [
      "(30, 1728)\n",
      "(539, 30)\n"
     ]
    }
   ],
   "source": [
    "model.theta_columns_naming = \"title\" # включает именование столбцов Theta их названиями-ссылками, а не внутренними id \n",
    "# Ваш код\n",
    "\n",
    "theta = model.get_theta()\n",
    "print(theta.shape)\n",
    "phi_a = model.get_phi(class_ids='author')\n",
    "print(phi_a.shape)"
   ]
  },
  {
   "cell_type": "markdown",
   "metadata": {},
   "source": [
    "Визуализируем фрагмент матрицы $\\Theta$ - первые 100 документов (это наиболее простой способ визуально оценить, как темы распределяются в документах). С помощью метода seaborn.heatmap выведите фрагмент theta как изображение. Рекомендация: создайте фигуру pyplot размера (20, 10)."
   ]
  },
  {
   "cell_type": "code",
   "execution_count": 23,
   "metadata": {},
   "outputs": [
    {
     "name": "stderr",
     "output_type": "stream",
     "text": [
      "/home/sysak_ma/anaconda3/envs/py27/lib/python2.7/site-packages/numpy/lib/type_check.py:546: DeprecationWarning: np.asscalar(a) is deprecated since NumPy v1.16, use a.item() instead\n",
      "  'a.item() instead', DeprecationWarning, stacklevel=1)\n"
     ]
    },
    {
     "data": {
      "text/plain": [
       "<matplotlib.axes._subplots.AxesSubplot at 0x7f06cf46d2d0>"
      ]
     },
     "execution_count": 23,
     "metadata": {},
     "output_type": "execute_result"
    },
    {
     "data": {
      "image/png": "[encoded data removed]",
      "text/plain": [
       "<Figure size 1440x720 with 2 Axes>"
      ]
     },
     "metadata": {
      "needs_background": "light"
     },
     "output_type": "display_data"
    }
   ],
   "source": [
    "# Ваш код\n",
    "plt.figure(figsize=(20, 10))\n",
    "seaborn.heatmap(theta.iloc[:, :100])"
   ]
  },
  {
   "cell_type": "markdown",
   "metadata": {},
   "source": [
    "Вы должны увидеть, что фоновая тема имеет большую вероятность в почти каждом документе, и это логично. Кроме того, есть еще одна тема, которая чаще других встречается в документах. Судя по всему, это тема содержит много слов по науку в целом, а каждый документ (видео) в нашей коллекции связан с наукой. Можно (необязательно) дать этой теме название \"Наука\".\n",
    "\n",
    "Помимо этих двух тем, фоновой и общенаучной, каждый документ характеризуется малым числом других тем."
   ]
  },
  {
   "cell_type": "code",
   "execution_count": null,
   "metadata": {},
   "outputs": [],
   "source": [
    "# почему-то я не нашел общенаучной темы среди полученных, дальше буду считать, что ее нет"
   ]
  },
  {
   "cell_type": "markdown",
   "metadata": {},
   "source": [
    "Оценим $p(t)$ - долю каждой темы во всей коллекции. По формуле полной вероятности вычислять эти величины нужно как\n",
    "$p(t) = \\sum_d p(t|d) p(d)$. Согласно вероятностной модели, $p(d)$ пропорционально длине документа d. Поступим проще: будем полагать, что все документы равновероятны. Тогда оценить $p(t)$ можно, просуммировав $p(t|d)$ по всем документам, а затем разделив полученный вектор на его сумму. \n",
    "\n",
    "Создайте переменную-датафрейм с T строками, индексированными названиями тем, и 1 столбцом, содержащим оценки $p(t)$. Выведите датафрейм на печать."
   ]
  },
  {
   "cell_type": "code",
   "execution_count": 43,
   "metadata": {},
   "outputs": [
    {
     "data": {
      "text/plain": [
       "Исторические правители              0.011110\n",
       "Жизненный цикл Солнечной системы    0.011570\n",
       "Движение систем                     0.008043\n",
       "Феномен культуры                    0.012845\n",
       "Юриспруденция                       0.008409\n",
       "Углерод                             0.010232\n",
       "Литература и кинематограф           0.006311\n",
       "Террор                              0.004593\n",
       "Химия                               0.012788\n",
       "Физика элементарных частиц          0.020990\n",
       "Россия и война                      0.014647\n",
       "Демография                          0.006416\n",
       "Медицина                            0.007679\n",
       "Христианство                        0.013997\n",
       "Галактики                           0.018479\n",
       "Информация                          0.011915\n",
       "Расы                                0.004228\n",
       "Философия                           0.015143\n",
       "Русский язык                        0.008958\n",
       "История Франции                     0.005977\n",
       "Городские технологии                0.008090\n",
       "Болезни                             0.008545\n",
       "Социология                          0.009891\n",
       "Микроорганизмы                      0.006734\n",
       "Мифология                           0.015228\n",
       "Лингвистика                         0.009207\n",
       "Экономика и политика                0.010650\n",
       "Биология клеток                     0.023711\n",
       "Сверхпроводимость                   0.005711\n",
       "Фоновая тема                        0.687904\n",
       "dtype: float32"
      ]
     },
     "execution_count": 43,
     "metadata": {},
     "output_type": "execute_result"
    }
   ],
   "source": [
    "# Ваш код\n",
    "probabilities = theta.sum(axis=1) / theta.sum(axis=1).sum()\n",
    "probabilities.rename(index={a:b for a, b in zip(topic_names, topic_labels)}, inplace=True)\n",
    "probabilities"
   ]
  },
  {
   "cell_type": "code",
   "execution_count": 44,
   "metadata": {},
   "outputs": [
    {
     "name": "stdout",
     "output_type": "stream",
     "text": [
      "Расы: 0.00422766944394\n",
      "Террор: 0.00459269760177\n",
      "Сверхпроводимость: 0.00571129145101\n",
      "История Франции: 0.00597686087713\n",
      "Литература и кинематограф: 0.00631091929972\n",
      "Демография: 0.00641581928357\n",
      "Микроорганизмы: 0.00673364568502\n",
      "Медицина: 0.00767857395113\n",
      "Движение систем: 0.00804321467876\n",
      "Городские технологии: 0.00809010956436\n",
      "Юриспруденция: 0.00840926356614\n",
      "Болезни: 0.00854547321796\n",
      "Русский язык: 0.00895753130317\n",
      "Лингвистика: 0.00920716207474\n",
      "Социология: 0.00989145506173\n",
      "Углерод: 0.0102324718609\n",
      "Экономика и политика: 0.0106500750408\n",
      "Исторические правители: 0.0111098820344\n",
      "Жизненный цикл Солнечной системы: 0.0115702655166\n",
      "Информация: 0.0119154006243\n",
      "Химия: 0.0127877322957\n",
      "Феномен культуры: 0.0128450132906\n",
      "Христианство: 0.0139967687428\n",
      "Россия и война: 0.0146469110623\n",
      "Философия: 0.0151425590739\n",
      "Мифология: 0.0152277983725\n",
      "Галактики: 0.0184789393097\n",
      "Физика элементарных частиц: 0.0209896359593\n",
      "Биология клеток: 0.0237111076713\n",
      "Фоновая тема: 0.687903761864\n"
     ]
    }
   ],
   "source": [
    "for name, prob in sorted(probabilities.items(), key=lambda x: x[1]):\n",
    "    print(\"{}: {}\".format(name, prob))"
   ]
  },
  {
   "cell_type": "markdown",
   "metadata": {},
   "source": [
    "Найдите 5 самых распространенных и 3 наименее освещенных темы в коллекции (наибольшие и наименьшие $p(t)$ соответственно), не считая фоновую и общенаучную. Укажите названия, которые вы дали этим темам."
   ]
  },
  {
   "cell_type": "raw",
   "metadata": {},
   "source": [
    "Ваш ответ:\n",
    "5 тем с max p(t): Биология клеток, физика элементарных частиц, галактики, мифология, философия.\n",
    "3 темы с min p(t): Расы, террор, сверхпроводимость."
   ]
  },
  {
   "cell_type": "markdown",
   "metadata": {},
   "source": [
    "Визуализируйте матрицу $\\Phi$ модальности авторов в виде изображения. Рекомендация: установите yticklabels=False в heatmap."
   ]
  },
  {
   "cell_type": "code",
   "execution_count": 45,
   "metadata": {},
   "outputs": [
    {
     "data": {
      "text/plain": [
       "<matplotlib.axes._subplots.AxesSubplot at 0x7f06cf43d250>"
      ]
     },
     "execution_count": 45,
     "metadata": {},
     "output_type": "execute_result"
    },
    {
     "data": {
      "image/png": "[encoded data removed]",
      "text/plain": [
       "<Figure size 1440x720 with 2 Axes>"
      ]
     },
     "metadata": {
      "needs_background": "light"
     },
     "output_type": "display_data"
    }
   ],
   "source": [
    "# Ваш код\n",
    "plt.figure(figsize=(20, 10))\n",
    "seaborn.heatmap(phi_a, yticklabels=False)"
   ]
  },
  {
   "cell_type": "markdown",
   "metadata": {},
   "source": [
    "Каждой теме соответствует не очень большое число авторов - матрица достаточно разреженная. Кроме того, некоторые темы имеют доминирующего автора $a$, имеющего большую вероятность $p(a|t)$ - этот автор записал больше всего лекций по теме. "
   ]
  },
  {
   "cell_type": "markdown",
   "metadata": {},
   "source": [
    "Будем считать, что автор $a$ значим в теме, если $p(a|t) > 0.01$. Для каждого автора посчитайте, в скольких темах он значим. Найдите авторов-рекордсменов, которые значимы (а значит, читали лекции) в >= 3 темах."
   ]
  },
  {
   "cell_type": "code",
   "execution_count": 49,
   "metadata": {},
   "outputs": [
    {
     "name": "stdout",
     "output_type": "stream",
     "text": [
      "(author, Ольга_Вайнштейн)       3\n",
      "(author, Шринивас_Шридхар)      3\n",
      "(author, Елена_Брызгалина)      3\n",
      "(author, Владимир_Белотелов)    3\n",
      "(author, Дмитрий_Лось)          3\n",
      "(author, Алина_Бодрова)         3\n",
      "dtype: int64\n"
     ]
    }
   ],
   "source": [
    "significants = (phi_a > 0.01).sum(axis=1)\n",
    "print significants[significants >= 3]"
   ]
  },
  {
   "cell_type": "code",
   "execution_count": 50,
   "metadata": {},
   "outputs": [
    {
     "data": {
      "text/plain": [
       "1.1317254174397031"
      ]
     },
     "execution_count": 50,
     "metadata": {},
     "output_type": "execute_result"
    }
   ],
   "source": [
    "significants.mean()"
   ]
  },
  {
   "cell_type": "raw",
   "metadata": {},
   "source": [
    "Ваш ответ:\n",
    "авторы, значимые в не менее чем 3 темах: Ольга Вайнштейн, Шринивас Шридхар, Елена Брызгалина, Владимир Белотелов, Дмитрий Лось, Алина Бодрова."
   ]
  },
  {
   "cell_type": "markdown",
   "metadata": {},
   "source": [
    "Большинство авторов значимы в 1 теме, что логично."
   ]
  },
  {
   "cell_type": "markdown",
   "metadata": {},
   "source": [
    "##### Построение тематической карты авторов"
   ]
  },
  {
   "cell_type": "markdown",
   "metadata": {},
   "source": [
    "По сути, в матрице $\\Phi$, соответствующей модальности авторов, записаны тематические кластеры авторов. Для любого автора мы можем составить его тематический круг - авторов, разбирающихся в той же теме, что и данный. Интересующиеся слушатели могут попробовать выполнить эту процедуру для ученых, читающих лекции на Постнауке, которых они знают (например, на Постнауке есть лекции с К. В. Воронцовым - лектором текущего модуля :)\n",
    "\n",
    "Составим карту близости авторов по тематике их исследований. Для этого применим метод понижения размерности MDS к тематическим профилям авторов.\n",
    "\n",
    "Чтобы получить тематический профиль автора, распределение $p(t|a)$, нужно воспользоваться формулой Байеса: \n",
    "$p(t|a) = \\frac {p(a|t) p(t)} {\\sum_t' p(a|t') p(t')}$. Все необходимые для этого величины у вас есть и записаны в переменных phi и pt. \n",
    "\n",
    "Передайте матрицу тематических профилей авторов, записанных по строкам, в метод MDS с n_components=2. Используйте косинусную метрику (она хорошо подходит для поиска расстояний между векторами, имеющими фиксированную сумму компонент)."
   ]
  },
  {
   "cell_type": "code",
   "execution_count": 52,
   "metadata": {},
   "outputs": [],
   "source": [
    "from sklearn.manifold import MDS\n",
    "from sklearn.metrics import pairwise_distances"
   ]
  },
  {
   "cell_type": "code",
   "execution_count": 68,
   "metadata": {},
   "outputs": [
    {
     "name": "stdout",
     "output_type": "stream",
     "text": [
      "sbj0     0.011110\n",
      "sbj1     0.011570\n",
      "sbj2     0.008043\n",
      "sbj3     0.012845\n",
      "sbj4     0.008409\n",
      "sbj5     0.010232\n",
      "sbj6     0.006311\n",
      "sbj7     0.004593\n",
      "sbj8     0.012788\n",
      "sbj9     0.020990\n",
      "sbj10    0.014647\n",
      "sbj11    0.006416\n",
      "sbj12    0.007679\n",
      "sbj13    0.013997\n",
      "sbj14    0.018479\n",
      "sbj15    0.011915\n",
      "sbj16    0.004228\n",
      "sbj17    0.015143\n",
      "sbj18    0.008958\n",
      "sbj19    0.005977\n",
      "sbj20    0.008090\n",
      "sbj21    0.008545\n",
      "sbj22    0.009891\n",
      "sbj23    0.006734\n",
      "sbj24    0.015228\n",
      "sbj25    0.009207\n",
      "sbj26    0.010650\n",
      "sbj27    0.023711\n",
      "sbj28    0.005711\n",
      "bcg      0.687904\n",
      "dtype: float32\n"
     ]
    }
   ],
   "source": [
    "pt = probabilities.rename(index={b:a for a, b in zip(topic_names, topic_labels)})\n",
    "\n",
    "print(pt)"
   ]
  },
  {
   "cell_type": "code",
   "execution_count": 72,
   "metadata": {
    "scrolled": true
   },
   "outputs": [
    {
     "name": "stderr",
     "output_type": "stream",
     "text": [
      "/home/sysak_ma/anaconda3/envs/py27/lib/python2.7/site-packages/ipykernel_launcher.py:5: DeprecationWarning: \n",
      ".ix is deprecated. Please use\n",
      ".loc for label based indexing or\n",
      ".iloc for positional indexing\n",
      "\n",
      "See the documentation here:\n",
      "http://pandas.pydata.org/pandas-docs/stable/indexing.html#ix-indexer-is-deprecated\n",
      "  \"\"\"\n"
     ]
    },
    {
     "data": {
      "text/html": [
       "<div>\n",
       "<style scoped>\n",
       "    .dataframe tbody tr th:only-of-type {\n",
       "        vertical-align: middle;\n",
       "    }\n",
       "\n",
       "    .dataframe tbody tr th {\n",
       "        vertical-align: top;\n",
       "    }\n",
       "\n",
       "    .dataframe thead th {\n",
       "        text-align: right;\n",
       "    }\n",
       "</style>\n",
       "<table border=\"1\" class=\"dataframe\">\n",
       "  <thead>\n",
       "    <tr style=\"text-align: right;\">\n",
       "      <th></th>\n",
       "      <th>sbj0</th>\n",
       "      <th>sbj1</th>\n",
       "      <th>sbj2</th>\n",
       "      <th>sbj3</th>\n",
       "      <th>sbj4</th>\n",
       "      <th>sbj5</th>\n",
       "      <th>sbj6</th>\n",
       "      <th>sbj7</th>\n",
       "      <th>sbj8</th>\n",
       "      <th>sbj9</th>\n",
       "      <th>...</th>\n",
       "      <th>sbj20</th>\n",
       "      <th>sbj21</th>\n",
       "      <th>sbj22</th>\n",
       "      <th>sbj23</th>\n",
       "      <th>sbj24</th>\n",
       "      <th>sbj25</th>\n",
       "      <th>sbj26</th>\n",
       "      <th>sbj27</th>\n",
       "      <th>sbj28</th>\n",
       "      <th>bcg</th>\n",
       "    </tr>\n",
       "  </thead>\n",
       "  <tbody>\n",
       "    <tr>\n",
       "      <th>(author, Марина_Корсакова-Крейн)</th>\n",
       "      <td>0.000000</td>\n",
       "      <td>0.000000e+00</td>\n",
       "      <td>0.000000e+00</td>\n",
       "      <td>0.0</td>\n",
       "      <td>0.000000e+00</td>\n",
       "      <td>0.000000</td>\n",
       "      <td>0.0</td>\n",
       "      <td>0.000000</td>\n",
       "      <td>0.000000e+00</td>\n",
       "      <td>1.000000e+00</td>\n",
       "      <td>...</td>\n",
       "      <td>0.000000e+00</td>\n",
       "      <td>0.000000e+00</td>\n",
       "      <td>0.000000e+00</td>\n",
       "      <td>0.000000e+00</td>\n",
       "      <td>0.000000e+00</td>\n",
       "      <td>0.000000e+00</td>\n",
       "      <td>0.000000e+00</td>\n",
       "      <td>0.000000e+00</td>\n",
       "      <td>0.000000e+00</td>\n",
       "      <td>0.000000</td>\n",
       "    </tr>\n",
       "    <tr>\n",
       "      <th>(author, Ирина_Каспэ)</th>\n",
       "      <td>0.000000</td>\n",
       "      <td>0.000000e+00</td>\n",
       "      <td>0.000000e+00</td>\n",
       "      <td>1.0</td>\n",
       "      <td>0.000000e+00</td>\n",
       "      <td>0.000000</td>\n",
       "      <td>0.0</td>\n",
       "      <td>0.000000</td>\n",
       "      <td>0.000000e+00</td>\n",
       "      <td>0.000000e+00</td>\n",
       "      <td>...</td>\n",
       "      <td>0.000000e+00</td>\n",
       "      <td>0.000000e+00</td>\n",
       "      <td>0.000000e+00</td>\n",
       "      <td>0.000000e+00</td>\n",
       "      <td>0.000000e+00</td>\n",
       "      <td>0.000000e+00</td>\n",
       "      <td>0.000000e+00</td>\n",
       "      <td>0.000000e+00</td>\n",
       "      <td>0.000000e+00</td>\n",
       "      <td>0.000000</td>\n",
       "    </tr>\n",
       "    <tr>\n",
       "      <th>(author, Дарья_Радченко)</th>\n",
       "      <td>0.000000</td>\n",
       "      <td>0.000000e+00</td>\n",
       "      <td>0.000000e+00</td>\n",
       "      <td>0.0</td>\n",
       "      <td>0.000000e+00</td>\n",
       "      <td>0.000000</td>\n",
       "      <td>0.0</td>\n",
       "      <td>0.000000</td>\n",
       "      <td>0.000000e+00</td>\n",
       "      <td>0.000000e+00</td>\n",
       "      <td>...</td>\n",
       "      <td>1.000000e+00</td>\n",
       "      <td>0.000000e+00</td>\n",
       "      <td>0.000000e+00</td>\n",
       "      <td>0.000000e+00</td>\n",
       "      <td>0.000000e+00</td>\n",
       "      <td>0.000000e+00</td>\n",
       "      <td>0.000000e+00</td>\n",
       "      <td>0.000000e+00</td>\n",
       "      <td>0.000000e+00</td>\n",
       "      <td>0.000000</td>\n",
       "    </tr>\n",
       "    <tr>\n",
       "      <th>(author, Татьяна_Гусарова)</th>\n",
       "      <td>0.000000</td>\n",
       "      <td>0.000000e+00</td>\n",
       "      <td>0.000000e+00</td>\n",
       "      <td>0.0</td>\n",
       "      <td>1.000000e+00</td>\n",
       "      <td>0.000000</td>\n",
       "      <td>0.0</td>\n",
       "      <td>0.000000</td>\n",
       "      <td>0.000000e+00</td>\n",
       "      <td>0.000000e+00</td>\n",
       "      <td>...</td>\n",
       "      <td>0.000000e+00</td>\n",
       "      <td>0.000000e+00</td>\n",
       "      <td>0.000000e+00</td>\n",
       "      <td>0.000000e+00</td>\n",
       "      <td>0.000000e+00</td>\n",
       "      <td>0.000000e+00</td>\n",
       "      <td>0.000000e+00</td>\n",
       "      <td>0.000000e+00</td>\n",
       "      <td>0.000000e+00</td>\n",
       "      <td>0.000000</td>\n",
       "    </tr>\n",
       "    <tr>\n",
       "      <th>(author, Елена_Голубева)</th>\n",
       "      <td>0.000000</td>\n",
       "      <td>0.000000e+00</td>\n",
       "      <td>0.000000e+00</td>\n",
       "      <td>0.0</td>\n",
       "      <td>0.000000e+00</td>\n",
       "      <td>0.000000</td>\n",
       "      <td>0.0</td>\n",
       "      <td>0.000000</td>\n",
       "      <td>0.000000e+00</td>\n",
       "      <td>0.000000e+00</td>\n",
       "      <td>...</td>\n",
       "      <td>0.000000e+00</td>\n",
       "      <td>9.999999e-01</td>\n",
       "      <td>0.000000e+00</td>\n",
       "      <td>0.000000e+00</td>\n",
       "      <td>0.000000e+00</td>\n",
       "      <td>0.000000e+00</td>\n",
       "      <td>5.108128e-08</td>\n",
       "      <td>0.000000e+00</td>\n",
       "      <td>0.000000e+00</td>\n",
       "      <td>0.000000</td>\n",
       "    </tr>\n",
       "    <tr>\n",
       "      <th>(author, Дэвид_Кларк)</th>\n",
       "      <td>0.000000</td>\n",
       "      <td>0.000000e+00</td>\n",
       "      <td>0.000000e+00</td>\n",
       "      <td>0.0</td>\n",
       "      <td>0.000000e+00</td>\n",
       "      <td>0.000000</td>\n",
       "      <td>0.0</td>\n",
       "      <td>0.000000</td>\n",
       "      <td>0.000000e+00</td>\n",
       "      <td>0.000000e+00</td>\n",
       "      <td>...</td>\n",
       "      <td>2.829589e-05</td>\n",
       "      <td>0.000000e+00</td>\n",
       "      <td>0.000000e+00</td>\n",
       "      <td>0.000000e+00</td>\n",
       "      <td>0.000000e+00</td>\n",
       "      <td>0.000000e+00</td>\n",
       "      <td>0.000000e+00</td>\n",
       "      <td>0.000000e+00</td>\n",
       "      <td>0.000000e+00</td>\n",
       "      <td>0.000000</td>\n",
       "    </tr>\n",
       "    <tr>\n",
       "      <th>(author, Джеффри_Шнапп)</th>\n",
       "      <td>0.000000</td>\n",
       "      <td>0.000000e+00</td>\n",
       "      <td>0.000000e+00</td>\n",
       "      <td>0.0</td>\n",
       "      <td>0.000000e+00</td>\n",
       "      <td>0.000000</td>\n",
       "      <td>0.0</td>\n",
       "      <td>0.000000</td>\n",
       "      <td>0.000000e+00</td>\n",
       "      <td>0.000000e+00</td>\n",
       "      <td>...</td>\n",
       "      <td>0.000000e+00</td>\n",
       "      <td>0.000000e+00</td>\n",
       "      <td>4.511823e-08</td>\n",
       "      <td>0.000000e+00</td>\n",
       "      <td>0.000000e+00</td>\n",
       "      <td>0.000000e+00</td>\n",
       "      <td>0.000000e+00</td>\n",
       "      <td>0.000000e+00</td>\n",
       "      <td>9.999999e-01</td>\n",
       "      <td>0.000000</td>\n",
       "    </tr>\n",
       "    <tr>\n",
       "      <th>(author, Вольфганг_Кеттерле)</th>\n",
       "      <td>0.000000</td>\n",
       "      <td>0.000000e+00</td>\n",
       "      <td>0.000000e+00</td>\n",
       "      <td>0.0</td>\n",
       "      <td>0.000000e+00</td>\n",
       "      <td>0.000000</td>\n",
       "      <td>0.0</td>\n",
       "      <td>0.000000</td>\n",
       "      <td>0.000000e+00</td>\n",
       "      <td>1.000000e+00</td>\n",
       "      <td>...</td>\n",
       "      <td>0.000000e+00</td>\n",
       "      <td>0.000000e+00</td>\n",
       "      <td>0.000000e+00</td>\n",
       "      <td>0.000000e+00</td>\n",
       "      <td>0.000000e+00</td>\n",
       "      <td>0.000000e+00</td>\n",
       "      <td>0.000000e+00</td>\n",
       "      <td>0.000000e+00</td>\n",
       "      <td>0.000000e+00</td>\n",
       "      <td>0.000000</td>\n",
       "    </tr>\n",
       "    <tr>\n",
       "      <th>(author, Уолтер_Льюин)</th>\n",
       "      <td>0.000000</td>\n",
       "      <td>1.189970e-13</td>\n",
       "      <td>0.000000e+00</td>\n",
       "      <td>0.0</td>\n",
       "      <td>0.000000e+00</td>\n",
       "      <td>0.000000</td>\n",
       "      <td>0.0</td>\n",
       "      <td>0.000000</td>\n",
       "      <td>0.000000e+00</td>\n",
       "      <td>0.000000e+00</td>\n",
       "      <td>...</td>\n",
       "      <td>0.000000e+00</td>\n",
       "      <td>0.000000e+00</td>\n",
       "      <td>0.000000e+00</td>\n",
       "      <td>0.000000e+00</td>\n",
       "      <td>0.000000e+00</td>\n",
       "      <td>0.000000e+00</td>\n",
       "      <td>0.000000e+00</td>\n",
       "      <td>0.000000e+00</td>\n",
       "      <td>0.000000e+00</td>\n",
       "      <td>0.000000</td>\n",
       "    </tr>\n",
       "    <tr>\n",
       "      <th>(author, Сергей_Зыков)</th>\n",
       "      <td>0.000000</td>\n",
       "      <td>0.000000e+00</td>\n",
       "      <td>0.000000e+00</td>\n",
       "      <td>0.0</td>\n",
       "      <td>0.000000e+00</td>\n",
       "      <td>0.000000</td>\n",
       "      <td>0.0</td>\n",
       "      <td>0.000000</td>\n",
       "      <td>0.000000e+00</td>\n",
       "      <td>0.000000e+00</td>\n",
       "      <td>...</td>\n",
       "      <td>0.000000e+00</td>\n",
       "      <td>0.000000e+00</td>\n",
       "      <td>0.000000e+00</td>\n",
       "      <td>1.000000e+00</td>\n",
       "      <td>0.000000e+00</td>\n",
       "      <td>0.000000e+00</td>\n",
       "      <td>0.000000e+00</td>\n",
       "      <td>0.000000e+00</td>\n",
       "      <td>0.000000e+00</td>\n",
       "      <td>0.000000</td>\n",
       "    </tr>\n",
       "    <tr>\n",
       "      <th>(author, Олег_Лукин)</th>\n",
       "      <td>0.000000</td>\n",
       "      <td>0.000000e+00</td>\n",
       "      <td>0.000000e+00</td>\n",
       "      <td>0.0</td>\n",
       "      <td>0.000000e+00</td>\n",
       "      <td>1.000000</td>\n",
       "      <td>0.0</td>\n",
       "      <td>0.000000</td>\n",
       "      <td>0.000000e+00</td>\n",
       "      <td>0.000000e+00</td>\n",
       "      <td>...</td>\n",
       "      <td>0.000000e+00</td>\n",
       "      <td>0.000000e+00</td>\n",
       "      <td>0.000000e+00</td>\n",
       "      <td>0.000000e+00</td>\n",
       "      <td>0.000000e+00</td>\n",
       "      <td>0.000000e+00</td>\n",
       "      <td>0.000000e+00</td>\n",
       "      <td>0.000000e+00</td>\n",
       "      <td>0.000000e+00</td>\n",
       "      <td>0.000000</td>\n",
       "    </tr>\n",
       "    <tr>\n",
       "      <th>(author, Джозеф_Браун)</th>\n",
       "      <td>0.000000</td>\n",
       "      <td>0.000000e+00</td>\n",
       "      <td>0.000000e+00</td>\n",
       "      <td>0.0</td>\n",
       "      <td>0.000000e+00</td>\n",
       "      <td>0.000000</td>\n",
       "      <td>0.0</td>\n",
       "      <td>0.000000</td>\n",
       "      <td>0.000000e+00</td>\n",
       "      <td>0.000000e+00</td>\n",
       "      <td>...</td>\n",
       "      <td>0.000000e+00</td>\n",
       "      <td>0.000000e+00</td>\n",
       "      <td>1.000000e+00</td>\n",
       "      <td>0.000000e+00</td>\n",
       "      <td>0.000000e+00</td>\n",
       "      <td>0.000000e+00</td>\n",
       "      <td>0.000000e+00</td>\n",
       "      <td>0.000000e+00</td>\n",
       "      <td>0.000000e+00</td>\n",
       "      <td>0.000000</td>\n",
       "    </tr>\n",
       "    <tr>\n",
       "      <th>(author, Зоя_Зорина)</th>\n",
       "      <td>0.000000</td>\n",
       "      <td>0.000000e+00</td>\n",
       "      <td>0.000000e+00</td>\n",
       "      <td>0.0</td>\n",
       "      <td>0.000000e+00</td>\n",
       "      <td>0.000000</td>\n",
       "      <td>0.0</td>\n",
       "      <td>0.000000</td>\n",
       "      <td>0.000000e+00</td>\n",
       "      <td>0.000000e+00</td>\n",
       "      <td>...</td>\n",
       "      <td>0.000000e+00</td>\n",
       "      <td>0.000000e+00</td>\n",
       "      <td>0.000000e+00</td>\n",
       "      <td>0.000000e+00</td>\n",
       "      <td>0.000000e+00</td>\n",
       "      <td>0.000000e+00</td>\n",
       "      <td>0.000000e+00</td>\n",
       "      <td>1.569806e-06</td>\n",
       "      <td>0.000000e+00</td>\n",
       "      <td>0.999998</td>\n",
       "    </tr>\n",
       "    <tr>\n",
       "      <th>(author, Яков_Тестелец)</th>\n",
       "      <td>0.000000</td>\n",
       "      <td>0.000000e+00</td>\n",
       "      <td>0.000000e+00</td>\n",
       "      <td>0.0</td>\n",
       "      <td>0.000000e+00</td>\n",
       "      <td>0.000000</td>\n",
       "      <td>0.0</td>\n",
       "      <td>0.000000</td>\n",
       "      <td>0.000000e+00</td>\n",
       "      <td>0.000000e+00</td>\n",
       "      <td>...</td>\n",
       "      <td>0.000000e+00</td>\n",
       "      <td>0.000000e+00</td>\n",
       "      <td>0.000000e+00</td>\n",
       "      <td>0.000000e+00</td>\n",
       "      <td>0.000000e+00</td>\n",
       "      <td>1.000000e+00</td>\n",
       "      <td>0.000000e+00</td>\n",
       "      <td>0.000000e+00</td>\n",
       "      <td>0.000000e+00</td>\n",
       "      <td>0.000000</td>\n",
       "    </tr>\n",
       "    <tr>\n",
       "      <th>(author, Мария_Падун)</th>\n",
       "      <td>0.000000</td>\n",
       "      <td>0.000000e+00</td>\n",
       "      <td>0.000000e+00</td>\n",
       "      <td>0.0</td>\n",
       "      <td>0.000000e+00</td>\n",
       "      <td>0.000000</td>\n",
       "      <td>0.0</td>\n",
       "      <td>0.000000</td>\n",
       "      <td>0.000000e+00</td>\n",
       "      <td>0.000000e+00</td>\n",
       "      <td>...</td>\n",
       "      <td>0.000000e+00</td>\n",
       "      <td>0.000000e+00</td>\n",
       "      <td>0.000000e+00</td>\n",
       "      <td>0.000000e+00</td>\n",
       "      <td>0.000000e+00</td>\n",
       "      <td>0.000000e+00</td>\n",
       "      <td>0.000000e+00</td>\n",
       "      <td>0.000000e+00</td>\n",
       "      <td>0.000000e+00</td>\n",
       "      <td>0.000000</td>\n",
       "    </tr>\n",
       "    <tr>\n",
       "      <th>(author, Владимир_Ковальзон)</th>\n",
       "      <td>0.000000</td>\n",
       "      <td>0.000000e+00</td>\n",
       "      <td>0.000000e+00</td>\n",
       "      <td>0.0</td>\n",
       "      <td>0.000000e+00</td>\n",
       "      <td>0.000000</td>\n",
       "      <td>0.0</td>\n",
       "      <td>0.000000</td>\n",
       "      <td>0.000000e+00</td>\n",
       "      <td>0.000000e+00</td>\n",
       "      <td>...</td>\n",
       "      <td>0.000000e+00</td>\n",
       "      <td>0.000000e+00</td>\n",
       "      <td>0.000000e+00</td>\n",
       "      <td>0.000000e+00</td>\n",
       "      <td>0.000000e+00</td>\n",
       "      <td>0.000000e+00</td>\n",
       "      <td>0.000000e+00</td>\n",
       "      <td>0.000000e+00</td>\n",
       "      <td>0.000000e+00</td>\n",
       "      <td>0.000000</td>\n",
       "    </tr>\n",
       "    <tr>\n",
       "      <th>(author, Александр_Войскунский)</th>\n",
       "      <td>0.000000</td>\n",
       "      <td>0.000000e+00</td>\n",
       "      <td>0.000000e+00</td>\n",
       "      <td>0.0</td>\n",
       "      <td>5.696759e-08</td>\n",
       "      <td>0.000000</td>\n",
       "      <td>0.0</td>\n",
       "      <td>0.000000</td>\n",
       "      <td>0.000000e+00</td>\n",
       "      <td>0.000000e+00</td>\n",
       "      <td>...</td>\n",
       "      <td>7.441865e-14</td>\n",
       "      <td>0.000000e+00</td>\n",
       "      <td>0.000000e+00</td>\n",
       "      <td>0.000000e+00</td>\n",
       "      <td>0.000000e+00</td>\n",
       "      <td>0.000000e+00</td>\n",
       "      <td>0.000000e+00</td>\n",
       "      <td>0.000000e+00</td>\n",
       "      <td>0.000000e+00</td>\n",
       "      <td>0.000000</td>\n",
       "    </tr>\n",
       "    <tr>\n",
       "      <th>(author, Алексей_Касьян)</th>\n",
       "      <td>0.000000</td>\n",
       "      <td>0.000000e+00</td>\n",
       "      <td>0.000000e+00</td>\n",
       "      <td>0.0</td>\n",
       "      <td>0.000000e+00</td>\n",
       "      <td>0.000000</td>\n",
       "      <td>0.0</td>\n",
       "      <td>0.000000</td>\n",
       "      <td>0.000000e+00</td>\n",
       "      <td>0.000000e+00</td>\n",
       "      <td>...</td>\n",
       "      <td>0.000000e+00</td>\n",
       "      <td>0.000000e+00</td>\n",
       "      <td>0.000000e+00</td>\n",
       "      <td>0.000000e+00</td>\n",
       "      <td>0.000000e+00</td>\n",
       "      <td>0.000000e+00</td>\n",
       "      <td>0.000000e+00</td>\n",
       "      <td>0.000000e+00</td>\n",
       "      <td>1.000000e+00</td>\n",
       "      <td>0.000000</td>\n",
       "    </tr>\n",
       "    <tr>\n",
       "      <th>(author, Галина_Зверева)</th>\n",
       "      <td>0.000000</td>\n",
       "      <td>0.000000e+00</td>\n",
       "      <td>0.000000e+00</td>\n",
       "      <td>0.0</td>\n",
       "      <td>0.000000e+00</td>\n",
       "      <td>0.000000</td>\n",
       "      <td>0.0</td>\n",
       "      <td>1.000000</td>\n",
       "      <td>0.000000e+00</td>\n",
       "      <td>0.000000e+00</td>\n",
       "      <td>...</td>\n",
       "      <td>0.000000e+00</td>\n",
       "      <td>0.000000e+00</td>\n",
       "      <td>0.000000e+00</td>\n",
       "      <td>0.000000e+00</td>\n",
       "      <td>0.000000e+00</td>\n",
       "      <td>0.000000e+00</td>\n",
       "      <td>0.000000e+00</td>\n",
       "      <td>0.000000e+00</td>\n",
       "      <td>0.000000e+00</td>\n",
       "      <td>0.000000</td>\n",
       "    </tr>\n",
       "    <tr>\n",
       "      <th>(author, Георгий_Шляпников)</th>\n",
       "      <td>0.000000</td>\n",
       "      <td>0.000000e+00</td>\n",
       "      <td>1.000000e+00</td>\n",
       "      <td>0.0</td>\n",
       "      <td>0.000000e+00</td>\n",
       "      <td>0.000000</td>\n",
       "      <td>0.0</td>\n",
       "      <td>0.000000</td>\n",
       "      <td>0.000000e+00</td>\n",
       "      <td>2.416110e-08</td>\n",
       "      <td>...</td>\n",
       "      <td>0.000000e+00</td>\n",
       "      <td>0.000000e+00</td>\n",
       "      <td>0.000000e+00</td>\n",
       "      <td>0.000000e+00</td>\n",
       "      <td>0.000000e+00</td>\n",
       "      <td>0.000000e+00</td>\n",
       "      <td>0.000000e+00</td>\n",
       "      <td>0.000000e+00</td>\n",
       "      <td>0.000000e+00</td>\n",
       "      <td>0.000000</td>\n",
       "    </tr>\n",
       "    <tr>\n",
       "      <th>(author, Андрей_Кофман)</th>\n",
       "      <td>0.000000</td>\n",
       "      <td>0.000000e+00</td>\n",
       "      <td>0.000000e+00</td>\n",
       "      <td>0.0</td>\n",
       "      <td>7.050933e-01</td>\n",
       "      <td>0.022421</td>\n",
       "      <td>0.0</td>\n",
       "      <td>0.000000</td>\n",
       "      <td>0.000000e+00</td>\n",
       "      <td>0.000000e+00</td>\n",
       "      <td>...</td>\n",
       "      <td>0.000000e+00</td>\n",
       "      <td>0.000000e+00</td>\n",
       "      <td>0.000000e+00</td>\n",
       "      <td>0.000000e+00</td>\n",
       "      <td>0.000000e+00</td>\n",
       "      <td>2.724851e-01</td>\n",
       "      <td>0.000000e+00</td>\n",
       "      <td>0.000000e+00</td>\n",
       "      <td>0.000000e+00</td>\n",
       "      <td>0.000000</td>\n",
       "    </tr>\n",
       "    <tr>\n",
       "      <th>(author, Марина_Новикова-Грунд)</th>\n",
       "      <td>0.000000</td>\n",
       "      <td>0.000000e+00</td>\n",
       "      <td>0.000000e+00</td>\n",
       "      <td>0.0</td>\n",
       "      <td>0.000000e+00</td>\n",
       "      <td>0.000000</td>\n",
       "      <td>0.0</td>\n",
       "      <td>0.000000</td>\n",
       "      <td>0.000000e+00</td>\n",
       "      <td>0.000000e+00</td>\n",
       "      <td>...</td>\n",
       "      <td>0.000000e+00</td>\n",
       "      <td>0.000000e+00</td>\n",
       "      <td>0.000000e+00</td>\n",
       "      <td>0.000000e+00</td>\n",
       "      <td>0.000000e+00</td>\n",
       "      <td>0.000000e+00</td>\n",
       "      <td>0.000000e+00</td>\n",
       "      <td>0.000000e+00</td>\n",
       "      <td>0.000000e+00</td>\n",
       "      <td>0.092419</td>\n",
       "    </tr>\n",
       "    <tr>\n",
       "      <th>(author, Денис_Сивков)</th>\n",
       "      <td>0.000000</td>\n",
       "      <td>0.000000e+00</td>\n",
       "      <td>0.000000e+00</td>\n",
       "      <td>0.0</td>\n",
       "      <td>0.000000e+00</td>\n",
       "      <td>0.000000</td>\n",
       "      <td>0.0</td>\n",
       "      <td>0.000000</td>\n",
       "      <td>0.000000e+00</td>\n",
       "      <td>0.000000e+00</td>\n",
       "      <td>...</td>\n",
       "      <td>0.000000e+00</td>\n",
       "      <td>0.000000e+00</td>\n",
       "      <td>0.000000e+00</td>\n",
       "      <td>6.720947e-11</td>\n",
       "      <td>0.000000e+00</td>\n",
       "      <td>0.000000e+00</td>\n",
       "      <td>0.000000e+00</td>\n",
       "      <td>6.774211e-13</td>\n",
       "      <td>0.000000e+00</td>\n",
       "      <td>1.000000</td>\n",
       "    </tr>\n",
       "    <tr>\n",
       "      <th>(author, Мохамад_Кассаб)</th>\n",
       "      <td>0.000000</td>\n",
       "      <td>0.000000e+00</td>\n",
       "      <td>0.000000e+00</td>\n",
       "      <td>0.0</td>\n",
       "      <td>1.000000e+00</td>\n",
       "      <td>0.000000</td>\n",
       "      <td>0.0</td>\n",
       "      <td>0.000000</td>\n",
       "      <td>0.000000e+00</td>\n",
       "      <td>0.000000e+00</td>\n",
       "      <td>...</td>\n",
       "      <td>0.000000e+00</td>\n",
       "      <td>0.000000e+00</td>\n",
       "      <td>0.000000e+00</td>\n",
       "      <td>0.000000e+00</td>\n",
       "      <td>0.000000e+00</td>\n",
       "      <td>0.000000e+00</td>\n",
       "      <td>0.000000e+00</td>\n",
       "      <td>0.000000e+00</td>\n",
       "      <td>0.000000e+00</td>\n",
       "      <td>0.000000</td>\n",
       "    </tr>\n",
       "    <tr>\n",
       "      <th>(author, Яков_Фоминов)</th>\n",
       "      <td>0.000000</td>\n",
       "      <td>0.000000e+00</td>\n",
       "      <td>9.999998e-01</td>\n",
       "      <td>0.0</td>\n",
       "      <td>0.000000e+00</td>\n",
       "      <td>0.000000</td>\n",
       "      <td>0.0</td>\n",
       "      <td>0.000000</td>\n",
       "      <td>0.000000e+00</td>\n",
       "      <td>2.623313e-09</td>\n",
       "      <td>...</td>\n",
       "      <td>0.000000e+00</td>\n",
       "      <td>0.000000e+00</td>\n",
       "      <td>0.000000e+00</td>\n",
       "      <td>0.000000e+00</td>\n",
       "      <td>0.000000e+00</td>\n",
       "      <td>0.000000e+00</td>\n",
       "      <td>0.000000e+00</td>\n",
       "      <td>0.000000e+00</td>\n",
       "      <td>1.929742e-07</td>\n",
       "      <td>0.000000</td>\n",
       "    </tr>\n",
       "    <tr>\n",
       "      <th>(author, Андрей_Семенов)</th>\n",
       "      <td>0.000000</td>\n",
       "      <td>0.000000e+00</td>\n",
       "      <td>0.000000e+00</td>\n",
       "      <td>0.0</td>\n",
       "      <td>0.000000e+00</td>\n",
       "      <td>0.000000</td>\n",
       "      <td>0.0</td>\n",
       "      <td>0.000000</td>\n",
       "      <td>0.000000e+00</td>\n",
       "      <td>1.000000e+00</td>\n",
       "      <td>...</td>\n",
       "      <td>0.000000e+00</td>\n",
       "      <td>0.000000e+00</td>\n",
       "      <td>0.000000e+00</td>\n",
       "      <td>0.000000e+00</td>\n",
       "      <td>0.000000e+00</td>\n",
       "      <td>0.000000e+00</td>\n",
       "      <td>0.000000e+00</td>\n",
       "      <td>0.000000e+00</td>\n",
       "      <td>0.000000e+00</td>\n",
       "      <td>0.000000</td>\n",
       "    </tr>\n",
       "    <tr>\n",
       "      <th>(author, Эрик_Мазур)</th>\n",
       "      <td>0.000000</td>\n",
       "      <td>0.000000e+00</td>\n",
       "      <td>0.000000e+00</td>\n",
       "      <td>0.0</td>\n",
       "      <td>0.000000e+00</td>\n",
       "      <td>0.877581</td>\n",
       "      <td>0.0</td>\n",
       "      <td>0.000000</td>\n",
       "      <td>0.000000e+00</td>\n",
       "      <td>0.000000e+00</td>\n",
       "      <td>...</td>\n",
       "      <td>0.000000e+00</td>\n",
       "      <td>0.000000e+00</td>\n",
       "      <td>0.000000e+00</td>\n",
       "      <td>0.000000e+00</td>\n",
       "      <td>0.000000e+00</td>\n",
       "      <td>0.000000e+00</td>\n",
       "      <td>0.000000e+00</td>\n",
       "      <td>0.000000e+00</td>\n",
       "      <td>0.000000e+00</td>\n",
       "      <td>0.000000</td>\n",
       "    </tr>\n",
       "    <tr>\n",
       "      <th>(author, Екатерина_Протасова)</th>\n",
       "      <td>0.000000</td>\n",
       "      <td>0.000000e+00</td>\n",
       "      <td>0.000000e+00</td>\n",
       "      <td>0.0</td>\n",
       "      <td>0.000000e+00</td>\n",
       "      <td>0.000000</td>\n",
       "      <td>0.0</td>\n",
       "      <td>0.000000</td>\n",
       "      <td>0.000000e+00</td>\n",
       "      <td>0.000000e+00</td>\n",
       "      <td>...</td>\n",
       "      <td>0.000000e+00</td>\n",
       "      <td>0.000000e+00</td>\n",
       "      <td>0.000000e+00</td>\n",
       "      <td>0.000000e+00</td>\n",
       "      <td>0.000000e+00</td>\n",
       "      <td>0.000000e+00</td>\n",
       "      <td>0.000000e+00</td>\n",
       "      <td>0.000000e+00</td>\n",
       "      <td>0.000000e+00</td>\n",
       "      <td>0.000000</td>\n",
       "    </tr>\n",
       "    <tr>\n",
       "      <th>(author, Максим_Киселев)</th>\n",
       "      <td>0.000000</td>\n",
       "      <td>0.000000e+00</td>\n",
       "      <td>0.000000e+00</td>\n",
       "      <td>0.0</td>\n",
       "      <td>0.000000e+00</td>\n",
       "      <td>0.000000</td>\n",
       "      <td>0.0</td>\n",
       "      <td>0.000000</td>\n",
       "      <td>0.000000e+00</td>\n",
       "      <td>0.000000e+00</td>\n",
       "      <td>...</td>\n",
       "      <td>6.874508e-02</td>\n",
       "      <td>0.000000e+00</td>\n",
       "      <td>0.000000e+00</td>\n",
       "      <td>0.000000e+00</td>\n",
       "      <td>0.000000e+00</td>\n",
       "      <td>0.000000e+00</td>\n",
       "      <td>0.000000e+00</td>\n",
       "      <td>0.000000e+00</td>\n",
       "      <td>0.000000e+00</td>\n",
       "      <td>0.858035</td>\n",
       "    </tr>\n",
       "    <tr>\n",
       "      <th>(author, Арчил_Балахванцев)</th>\n",
       "      <td>0.000000</td>\n",
       "      <td>0.000000e+00</td>\n",
       "      <td>0.000000e+00</td>\n",
       "      <td>0.0</td>\n",
       "      <td>0.000000e+00</td>\n",
       "      <td>0.000000</td>\n",
       "      <td>0.0</td>\n",
       "      <td>0.000000</td>\n",
       "      <td>0.000000e+00</td>\n",
       "      <td>0.000000e+00</td>\n",
       "      <td>...</td>\n",
       "      <td>0.000000e+00</td>\n",
       "      <td>0.000000e+00</td>\n",
       "      <td>0.000000e+00</td>\n",
       "      <td>0.000000e+00</td>\n",
       "      <td>0.000000e+00</td>\n",
       "      <td>0.000000e+00</td>\n",
       "      <td>0.000000e+00</td>\n",
       "      <td>0.000000e+00</td>\n",
       "      <td>0.000000e+00</td>\n",
       "      <td>0.000000</td>\n",
       "    </tr>\n",
       "    <tr>\n",
       "      <th>...</th>\n",
       "      <td>...</td>\n",
       "      <td>...</td>\n",
       "      <td>...</td>\n",
       "      <td>...</td>\n",
       "      <td>...</td>\n",
       "      <td>...</td>\n",
       "      <td>...</td>\n",
       "      <td>...</td>\n",
       "      <td>...</td>\n",
       "      <td>...</td>\n",
       "      <td>...</td>\n",
       "      <td>...</td>\n",
       "      <td>...</td>\n",
       "      <td>...</td>\n",
       "      <td>...</td>\n",
       "      <td>...</td>\n",
       "      <td>...</td>\n",
       "      <td>...</td>\n",
       "      <td>...</td>\n",
       "      <td>...</td>\n",
       "      <td>...</td>\n",
       "    </tr>\n",
       "    <tr>\n",
       "      <th>(author, Сергей_Наугольных)</th>\n",
       "      <td>0.000000</td>\n",
       "      <td>9.982941e-01</td>\n",
       "      <td>0.000000e+00</td>\n",
       "      <td>0.0</td>\n",
       "      <td>0.000000e+00</td>\n",
       "      <td>0.000000</td>\n",
       "      <td>0.0</td>\n",
       "      <td>0.000000</td>\n",
       "      <td>0.000000e+00</td>\n",
       "      <td>0.000000e+00</td>\n",
       "      <td>...</td>\n",
       "      <td>0.000000e+00</td>\n",
       "      <td>0.000000e+00</td>\n",
       "      <td>0.000000e+00</td>\n",
       "      <td>1.705900e-03</td>\n",
       "      <td>0.000000e+00</td>\n",
       "      <td>0.000000e+00</td>\n",
       "      <td>0.000000e+00</td>\n",
       "      <td>0.000000e+00</td>\n",
       "      <td>0.000000e+00</td>\n",
       "      <td>0.000000</td>\n",
       "    </tr>\n",
       "    <tr>\n",
       "      <th>(author, Сергей_Саложин)</th>\n",
       "      <td>0.000000</td>\n",
       "      <td>0.000000e+00</td>\n",
       "      <td>0.000000e+00</td>\n",
       "      <td>0.0</td>\n",
       "      <td>0.000000e+00</td>\n",
       "      <td>0.000000</td>\n",
       "      <td>0.0</td>\n",
       "      <td>0.000000</td>\n",
       "      <td>0.000000e+00</td>\n",
       "      <td>0.000000e+00</td>\n",
       "      <td>...</td>\n",
       "      <td>0.000000e+00</td>\n",
       "      <td>0.000000e+00</td>\n",
       "      <td>0.000000e+00</td>\n",
       "      <td>0.000000e+00</td>\n",
       "      <td>0.000000e+00</td>\n",
       "      <td>0.000000e+00</td>\n",
       "      <td>0.000000e+00</td>\n",
       "      <td>1.000000e+00</td>\n",
       "      <td>0.000000e+00</td>\n",
       "      <td>0.000000</td>\n",
       "    </tr>\n",
       "    <tr>\n",
       "      <th>(author, Владимир_Мележик)</th>\n",
       "      <td>0.000000</td>\n",
       "      <td>0.000000e+00</td>\n",
       "      <td>1.000000e+00</td>\n",
       "      <td>0.0</td>\n",
       "      <td>0.000000e+00</td>\n",
       "      <td>0.000000</td>\n",
       "      <td>0.0</td>\n",
       "      <td>0.000000</td>\n",
       "      <td>0.000000e+00</td>\n",
       "      <td>0.000000e+00</td>\n",
       "      <td>...</td>\n",
       "      <td>0.000000e+00</td>\n",
       "      <td>0.000000e+00</td>\n",
       "      <td>0.000000e+00</td>\n",
       "      <td>0.000000e+00</td>\n",
       "      <td>0.000000e+00</td>\n",
       "      <td>0.000000e+00</td>\n",
       "      <td>0.000000e+00</td>\n",
       "      <td>0.000000e+00</td>\n",
       "      <td>0.000000e+00</td>\n",
       "      <td>0.000000</td>\n",
       "    </tr>\n",
       "    <tr>\n",
       "      <th>(author, Сергей_Шишкин)</th>\n",
       "      <td>0.000000</td>\n",
       "      <td>0.000000e+00</td>\n",
       "      <td>0.000000e+00</td>\n",
       "      <td>0.0</td>\n",
       "      <td>0.000000e+00</td>\n",
       "      <td>0.000000</td>\n",
       "      <td>0.0</td>\n",
       "      <td>0.000000</td>\n",
       "      <td>0.000000e+00</td>\n",
       "      <td>0.000000e+00</td>\n",
       "      <td>...</td>\n",
       "      <td>0.000000e+00</td>\n",
       "      <td>0.000000e+00</td>\n",
       "      <td>0.000000e+00</td>\n",
       "      <td>0.000000e+00</td>\n",
       "      <td>0.000000e+00</td>\n",
       "      <td>0.000000e+00</td>\n",
       "      <td>0.000000e+00</td>\n",
       "      <td>0.000000e+00</td>\n",
       "      <td>0.000000e+00</td>\n",
       "      <td>0.000000</td>\n",
       "    </tr>\n",
       "    <tr>\n",
       "      <th>(author, Олег_Фиговский)</th>\n",
       "      <td>0.000000</td>\n",
       "      <td>0.000000e+00</td>\n",
       "      <td>0.000000e+00</td>\n",
       "      <td>0.0</td>\n",
       "      <td>0.000000e+00</td>\n",
       "      <td>1.000000</td>\n",
       "      <td>0.0</td>\n",
       "      <td>0.000000</td>\n",
       "      <td>0.000000e+00</td>\n",
       "      <td>0.000000e+00</td>\n",
       "      <td>...</td>\n",
       "      <td>0.000000e+00</td>\n",
       "      <td>0.000000e+00</td>\n",
       "      <td>0.000000e+00</td>\n",
       "      <td>0.000000e+00</td>\n",
       "      <td>0.000000e+00</td>\n",
       "      <td>0.000000e+00</td>\n",
       "      <td>0.000000e+00</td>\n",
       "      <td>0.000000e+00</td>\n",
       "      <td>0.000000e+00</td>\n",
       "      <td>0.000000</td>\n",
       "    </tr>\n",
       "    <tr>\n",
       "      <th>(author, Михаил_Киселев)</th>\n",
       "      <td>0.000000</td>\n",
       "      <td>0.000000e+00</td>\n",
       "      <td>0.000000e+00</td>\n",
       "      <td>0.0</td>\n",
       "      <td>0.000000e+00</td>\n",
       "      <td>0.000000</td>\n",
       "      <td>0.0</td>\n",
       "      <td>0.000000</td>\n",
       "      <td>0.000000e+00</td>\n",
       "      <td>5.324376e-13</td>\n",
       "      <td>...</td>\n",
       "      <td>0.000000e+00</td>\n",
       "      <td>0.000000e+00</td>\n",
       "      <td>0.000000e+00</td>\n",
       "      <td>0.000000e+00</td>\n",
       "      <td>0.000000e+00</td>\n",
       "      <td>0.000000e+00</td>\n",
       "      <td>0.000000e+00</td>\n",
       "      <td>0.000000e+00</td>\n",
       "      <td>6.122056e-01</td>\n",
       "      <td>0.000000</td>\n",
       "    </tr>\n",
       "    <tr>\n",
       "      <th>(author, Александр_Сафонов)</th>\n",
       "      <td>0.000000</td>\n",
       "      <td>0.000000e+00</td>\n",
       "      <td>0.000000e+00</td>\n",
       "      <td>0.0</td>\n",
       "      <td>0.000000e+00</td>\n",
       "      <td>0.000000</td>\n",
       "      <td>0.0</td>\n",
       "      <td>0.000000</td>\n",
       "      <td>0.000000e+00</td>\n",
       "      <td>0.000000e+00</td>\n",
       "      <td>...</td>\n",
       "      <td>1.000000e+00</td>\n",
       "      <td>0.000000e+00</td>\n",
       "      <td>0.000000e+00</td>\n",
       "      <td>0.000000e+00</td>\n",
       "      <td>0.000000e+00</td>\n",
       "      <td>0.000000e+00</td>\n",
       "      <td>0.000000e+00</td>\n",
       "      <td>0.000000e+00</td>\n",
       "      <td>0.000000e+00</td>\n",
       "      <td>0.000000</td>\n",
       "    </tr>\n",
       "    <tr>\n",
       "      <th>(author, Роман_Мизюк)</th>\n",
       "      <td>0.000000</td>\n",
       "      <td>0.000000e+00</td>\n",
       "      <td>0.000000e+00</td>\n",
       "      <td>0.0</td>\n",
       "      <td>0.000000e+00</td>\n",
       "      <td>0.000000</td>\n",
       "      <td>0.0</td>\n",
       "      <td>0.000000</td>\n",
       "      <td>0.000000e+00</td>\n",
       "      <td>1.000000e+00</td>\n",
       "      <td>...</td>\n",
       "      <td>0.000000e+00</td>\n",
       "      <td>0.000000e+00</td>\n",
       "      <td>0.000000e+00</td>\n",
       "      <td>0.000000e+00</td>\n",
       "      <td>0.000000e+00</td>\n",
       "      <td>0.000000e+00</td>\n",
       "      <td>0.000000e+00</td>\n",
       "      <td>0.000000e+00</td>\n",
       "      <td>0.000000e+00</td>\n",
       "      <td>0.000000</td>\n",
       "    </tr>\n",
       "    <tr>\n",
       "      <th>(author, Дмитрий_Паращук)</th>\n",
       "      <td>0.000000</td>\n",
       "      <td>0.000000e+00</td>\n",
       "      <td>0.000000e+00</td>\n",
       "      <td>0.0</td>\n",
       "      <td>0.000000e+00</td>\n",
       "      <td>0.965970</td>\n",
       "      <td>0.0</td>\n",
       "      <td>0.000000</td>\n",
       "      <td>1.569809e-04</td>\n",
       "      <td>3.387129e-02</td>\n",
       "      <td>...</td>\n",
       "      <td>0.000000e+00</td>\n",
       "      <td>0.000000e+00</td>\n",
       "      <td>0.000000e+00</td>\n",
       "      <td>0.000000e+00</td>\n",
       "      <td>0.000000e+00</td>\n",
       "      <td>0.000000e+00</td>\n",
       "      <td>0.000000e+00</td>\n",
       "      <td>0.000000e+00</td>\n",
       "      <td>1.319373e-06</td>\n",
       "      <td>0.000000</td>\n",
       "    </tr>\n",
       "    <tr>\n",
       "      <th>(author, Дмитрий_Вибе)</th>\n",
       "      <td>0.000000</td>\n",
       "      <td>5.963631e-01</td>\n",
       "      <td>0.000000e+00</td>\n",
       "      <td>0.0</td>\n",
       "      <td>0.000000e+00</td>\n",
       "      <td>0.000000</td>\n",
       "      <td>0.0</td>\n",
       "      <td>0.000000</td>\n",
       "      <td>1.329163e-14</td>\n",
       "      <td>0.000000e+00</td>\n",
       "      <td>...</td>\n",
       "      <td>0.000000e+00</td>\n",
       "      <td>0.000000e+00</td>\n",
       "      <td>0.000000e+00</td>\n",
       "      <td>0.000000e+00</td>\n",
       "      <td>0.000000e+00</td>\n",
       "      <td>0.000000e+00</td>\n",
       "      <td>0.000000e+00</td>\n",
       "      <td>0.000000e+00</td>\n",
       "      <td>0.000000e+00</td>\n",
       "      <td>0.000000</td>\n",
       "    </tr>\n",
       "    <tr>\n",
       "      <th>(author, Aльберт_Давлетшин)</th>\n",
       "      <td>0.000000</td>\n",
       "      <td>0.000000e+00</td>\n",
       "      <td>0.000000e+00</td>\n",
       "      <td>0.0</td>\n",
       "      <td>0.000000e+00</td>\n",
       "      <td>0.000000</td>\n",
       "      <td>0.0</td>\n",
       "      <td>0.000000</td>\n",
       "      <td>0.000000e+00</td>\n",
       "      <td>0.000000e+00</td>\n",
       "      <td>...</td>\n",
       "      <td>0.000000e+00</td>\n",
       "      <td>0.000000e+00</td>\n",
       "      <td>3.214016e-02</td>\n",
       "      <td>0.000000e+00</td>\n",
       "      <td>0.000000e+00</td>\n",
       "      <td>3.994783e-09</td>\n",
       "      <td>0.000000e+00</td>\n",
       "      <td>9.678599e-01</td>\n",
       "      <td>0.000000e+00</td>\n",
       "      <td>0.000000</td>\n",
       "    </tr>\n",
       "    <tr>\n",
       "      <th>(author, Дэвид_С._Джонс)</th>\n",
       "      <td>0.000000</td>\n",
       "      <td>0.000000e+00</td>\n",
       "      <td>0.000000e+00</td>\n",
       "      <td>0.0</td>\n",
       "      <td>0.000000e+00</td>\n",
       "      <td>0.000000</td>\n",
       "      <td>0.0</td>\n",
       "      <td>0.000000</td>\n",
       "      <td>0.000000e+00</td>\n",
       "      <td>0.000000e+00</td>\n",
       "      <td>...</td>\n",
       "      <td>0.000000e+00</td>\n",
       "      <td>7.840604e-12</td>\n",
       "      <td>0.000000e+00</td>\n",
       "      <td>0.000000e+00</td>\n",
       "      <td>0.000000e+00</td>\n",
       "      <td>0.000000e+00</td>\n",
       "      <td>0.000000e+00</td>\n",
       "      <td>0.000000e+00</td>\n",
       "      <td>0.000000e+00</td>\n",
       "      <td>0.000000</td>\n",
       "    </tr>\n",
       "    <tr>\n",
       "      <th>(author, Александр_Беленький)</th>\n",
       "      <td>0.000000</td>\n",
       "      <td>0.000000e+00</td>\n",
       "      <td>0.000000e+00</td>\n",
       "      <td>0.0</td>\n",
       "      <td>0.000000e+00</td>\n",
       "      <td>0.000000</td>\n",
       "      <td>0.0</td>\n",
       "      <td>0.000000</td>\n",
       "      <td>1.000000e+00</td>\n",
       "      <td>0.000000e+00</td>\n",
       "      <td>...</td>\n",
       "      <td>0.000000e+00</td>\n",
       "      <td>0.000000e+00</td>\n",
       "      <td>0.000000e+00</td>\n",
       "      <td>0.000000e+00</td>\n",
       "      <td>0.000000e+00</td>\n",
       "      <td>0.000000e+00</td>\n",
       "      <td>0.000000e+00</td>\n",
       "      <td>0.000000e+00</td>\n",
       "      <td>0.000000e+00</td>\n",
       "      <td>0.000000</td>\n",
       "    </tr>\n",
       "    <tr>\n",
       "      <th>(author, Павел_Степанцов)</th>\n",
       "      <td>0.000000</td>\n",
       "      <td>0.000000e+00</td>\n",
       "      <td>0.000000e+00</td>\n",
       "      <td>1.0</td>\n",
       "      <td>0.000000e+00</td>\n",
       "      <td>0.000000</td>\n",
       "      <td>0.0</td>\n",
       "      <td>0.000000</td>\n",
       "      <td>0.000000e+00</td>\n",
       "      <td>0.000000e+00</td>\n",
       "      <td>...</td>\n",
       "      <td>0.000000e+00</td>\n",
       "      <td>0.000000e+00</td>\n",
       "      <td>0.000000e+00</td>\n",
       "      <td>0.000000e+00</td>\n",
       "      <td>0.000000e+00</td>\n",
       "      <td>0.000000e+00</td>\n",
       "      <td>0.000000e+00</td>\n",
       "      <td>0.000000e+00</td>\n",
       "      <td>0.000000e+00</td>\n",
       "      <td>0.000000</td>\n",
       "    </tr>\n",
       "    <tr>\n",
       "      <th>(author, Алексей_Малашенко)</th>\n",
       "      <td>0.000000</td>\n",
       "      <td>0.000000e+00</td>\n",
       "      <td>0.000000e+00</td>\n",
       "      <td>0.0</td>\n",
       "      <td>0.000000e+00</td>\n",
       "      <td>0.000000</td>\n",
       "      <td>0.0</td>\n",
       "      <td>0.000000</td>\n",
       "      <td>9.999952e-01</td>\n",
       "      <td>0.000000e+00</td>\n",
       "      <td>...</td>\n",
       "      <td>0.000000e+00</td>\n",
       "      <td>0.000000e+00</td>\n",
       "      <td>0.000000e+00</td>\n",
       "      <td>0.000000e+00</td>\n",
       "      <td>9.551931e-07</td>\n",
       "      <td>0.000000e+00</td>\n",
       "      <td>0.000000e+00</td>\n",
       "      <td>0.000000e+00</td>\n",
       "      <td>0.000000e+00</td>\n",
       "      <td>0.000000</td>\n",
       "    </tr>\n",
       "    <tr>\n",
       "      <th>(author, Галина_Зеленина)</th>\n",
       "      <td>0.000000</td>\n",
       "      <td>0.000000e+00</td>\n",
       "      <td>0.000000e+00</td>\n",
       "      <td>0.0</td>\n",
       "      <td>0.000000e+00</td>\n",
       "      <td>0.000000</td>\n",
       "      <td>0.0</td>\n",
       "      <td>0.000000</td>\n",
       "      <td>0.000000e+00</td>\n",
       "      <td>0.000000e+00</td>\n",
       "      <td>...</td>\n",
       "      <td>0.000000e+00</td>\n",
       "      <td>0.000000e+00</td>\n",
       "      <td>0.000000e+00</td>\n",
       "      <td>0.000000e+00</td>\n",
       "      <td>9.999998e-01</td>\n",
       "      <td>0.000000e+00</td>\n",
       "      <td>0.000000e+00</td>\n",
       "      <td>0.000000e+00</td>\n",
       "      <td>0.000000e+00</td>\n",
       "      <td>0.000000</td>\n",
       "    </tr>\n",
       "    <tr>\n",
       "      <th>(author, Архат_Абжанов)</th>\n",
       "      <td>0.000000</td>\n",
       "      <td>0.000000e+00</td>\n",
       "      <td>0.000000e+00</td>\n",
       "      <td>0.0</td>\n",
       "      <td>0.000000e+00</td>\n",
       "      <td>0.000000</td>\n",
       "      <td>0.0</td>\n",
       "      <td>0.000000</td>\n",
       "      <td>0.000000e+00</td>\n",
       "      <td>0.000000e+00</td>\n",
       "      <td>...</td>\n",
       "      <td>0.000000e+00</td>\n",
       "      <td>0.000000e+00</td>\n",
       "      <td>0.000000e+00</td>\n",
       "      <td>0.000000e+00</td>\n",
       "      <td>0.000000e+00</td>\n",
       "      <td>0.000000e+00</td>\n",
       "      <td>0.000000e+00</td>\n",
       "      <td>0.000000e+00</td>\n",
       "      <td>0.000000e+00</td>\n",
       "      <td>0.999989</td>\n",
       "    </tr>\n",
       "    <tr>\n",
       "      <th>(author, Дмитрий_Бовыкин)</th>\n",
       "      <td>0.000000</td>\n",
       "      <td>0.000000e+00</td>\n",
       "      <td>0.000000e+00</td>\n",
       "      <td>0.0</td>\n",
       "      <td>0.000000e+00</td>\n",
       "      <td>0.000000</td>\n",
       "      <td>0.0</td>\n",
       "      <td>0.105078</td>\n",
       "      <td>0.000000e+00</td>\n",
       "      <td>0.000000e+00</td>\n",
       "      <td>...</td>\n",
       "      <td>0.000000e+00</td>\n",
       "      <td>0.000000e+00</td>\n",
       "      <td>0.000000e+00</td>\n",
       "      <td>0.000000e+00</td>\n",
       "      <td>0.000000e+00</td>\n",
       "      <td>0.000000e+00</td>\n",
       "      <td>0.000000e+00</td>\n",
       "      <td>0.000000e+00</td>\n",
       "      <td>0.000000e+00</td>\n",
       "      <td>0.000000</td>\n",
       "    </tr>\n",
       "    <tr>\n",
       "      <th>(author, Владимир_Муронец)</th>\n",
       "      <td>0.000000</td>\n",
       "      <td>0.000000e+00</td>\n",
       "      <td>0.000000e+00</td>\n",
       "      <td>0.0</td>\n",
       "      <td>0.000000e+00</td>\n",
       "      <td>0.000000</td>\n",
       "      <td>0.0</td>\n",
       "      <td>0.000000</td>\n",
       "      <td>0.000000e+00</td>\n",
       "      <td>0.000000e+00</td>\n",
       "      <td>...</td>\n",
       "      <td>0.000000e+00</td>\n",
       "      <td>2.125186e-07</td>\n",
       "      <td>0.000000e+00</td>\n",
       "      <td>0.000000e+00</td>\n",
       "      <td>0.000000e+00</td>\n",
       "      <td>0.000000e+00</td>\n",
       "      <td>0.000000e+00</td>\n",
       "      <td>9.067749e-01</td>\n",
       "      <td>0.000000e+00</td>\n",
       "      <td>0.000000</td>\n",
       "    </tr>\n",
       "    <tr>\n",
       "      <th>(author, Жан-Арыс_Джилкибаев)</th>\n",
       "      <td>0.000000</td>\n",
       "      <td>0.000000e+00</td>\n",
       "      <td>0.000000e+00</td>\n",
       "      <td>0.0</td>\n",
       "      <td>0.000000e+00</td>\n",
       "      <td>0.000000</td>\n",
       "      <td>0.0</td>\n",
       "      <td>0.000000</td>\n",
       "      <td>0.000000e+00</td>\n",
       "      <td>0.000000e+00</td>\n",
       "      <td>...</td>\n",
       "      <td>0.000000e+00</td>\n",
       "      <td>0.000000e+00</td>\n",
       "      <td>0.000000e+00</td>\n",
       "      <td>0.000000e+00</td>\n",
       "      <td>0.000000e+00</td>\n",
       "      <td>0.000000e+00</td>\n",
       "      <td>0.000000e+00</td>\n",
       "      <td>0.000000e+00</td>\n",
       "      <td>0.000000e+00</td>\n",
       "      <td>0.000000</td>\n",
       "    </tr>\n",
       "    <tr>\n",
       "      <th>(author, Фуад_Алескеров)</th>\n",
       "      <td>0.000000</td>\n",
       "      <td>0.000000e+00</td>\n",
       "      <td>0.000000e+00</td>\n",
       "      <td>0.0</td>\n",
       "      <td>0.000000e+00</td>\n",
       "      <td>0.000000</td>\n",
       "      <td>0.0</td>\n",
       "      <td>0.000000</td>\n",
       "      <td>0.000000e+00</td>\n",
       "      <td>0.000000e+00</td>\n",
       "      <td>...</td>\n",
       "      <td>0.000000e+00</td>\n",
       "      <td>0.000000e+00</td>\n",
       "      <td>0.000000e+00</td>\n",
       "      <td>0.000000e+00</td>\n",
       "      <td>0.000000e+00</td>\n",
       "      <td>0.000000e+00</td>\n",
       "      <td>7.732347e-01</td>\n",
       "      <td>0.000000e+00</td>\n",
       "      <td>4.676697e-03</td>\n",
       "      <td>0.154923</td>\n",
       "    </tr>\n",
       "    <tr>\n",
       "      <th>(author, Эдуард_Пройдаков)</th>\n",
       "      <td>0.000000</td>\n",
       "      <td>0.000000e+00</td>\n",
       "      <td>0.000000e+00</td>\n",
       "      <td>0.0</td>\n",
       "      <td>0.000000e+00</td>\n",
       "      <td>0.372583</td>\n",
       "      <td>0.0</td>\n",
       "      <td>0.000000</td>\n",
       "      <td>0.000000e+00</td>\n",
       "      <td>0.000000e+00</td>\n",
       "      <td>...</td>\n",
       "      <td>0.000000e+00</td>\n",
       "      <td>0.000000e+00</td>\n",
       "      <td>0.000000e+00</td>\n",
       "      <td>0.000000e+00</td>\n",
       "      <td>0.000000e+00</td>\n",
       "      <td>0.000000e+00</td>\n",
       "      <td>0.000000e+00</td>\n",
       "      <td>0.000000e+00</td>\n",
       "      <td>2.708402e-10</td>\n",
       "      <td>0.000000</td>\n",
       "    </tr>\n",
       "    <tr>\n",
       "      <th>(author, Дэвид_Гросс)</th>\n",
       "      <td>0.000000</td>\n",
       "      <td>0.000000e+00</td>\n",
       "      <td>0.000000e+00</td>\n",
       "      <td>0.0</td>\n",
       "      <td>0.000000e+00</td>\n",
       "      <td>0.000000</td>\n",
       "      <td>0.0</td>\n",
       "      <td>0.000000</td>\n",
       "      <td>0.000000e+00</td>\n",
       "      <td>1.000000e+00</td>\n",
       "      <td>...</td>\n",
       "      <td>0.000000e+00</td>\n",
       "      <td>0.000000e+00</td>\n",
       "      <td>0.000000e+00</td>\n",
       "      <td>0.000000e+00</td>\n",
       "      <td>0.000000e+00</td>\n",
       "      <td>0.000000e+00</td>\n",
       "      <td>0.000000e+00</td>\n",
       "      <td>0.000000e+00</td>\n",
       "      <td>0.000000e+00</td>\n",
       "      <td>0.000000</td>\n",
       "    </tr>\n",
       "    <tr>\n",
       "      <th>(author, Александр_Габибов)</th>\n",
       "      <td>0.000000</td>\n",
       "      <td>0.000000e+00</td>\n",
       "      <td>0.000000e+00</td>\n",
       "      <td>0.0</td>\n",
       "      <td>0.000000e+00</td>\n",
       "      <td>0.000000</td>\n",
       "      <td>0.0</td>\n",
       "      <td>0.000000</td>\n",
       "      <td>5.040576e-01</td>\n",
       "      <td>0.000000e+00</td>\n",
       "      <td>...</td>\n",
       "      <td>4.845944e-07</td>\n",
       "      <td>4.959419e-01</td>\n",
       "      <td>0.000000e+00</td>\n",
       "      <td>0.000000e+00</td>\n",
       "      <td>0.000000e+00</td>\n",
       "      <td>0.000000e+00</td>\n",
       "      <td>0.000000e+00</td>\n",
       "      <td>0.000000e+00</td>\n",
       "      <td>0.000000e+00</td>\n",
       "      <td>0.000000</td>\n",
       "    </tr>\n",
       "    <tr>\n",
       "      <th>(author, Ольга_Тогоева)</th>\n",
       "      <td>0.145652</td>\n",
       "      <td>0.000000e+00</td>\n",
       "      <td>0.000000e+00</td>\n",
       "      <td>0.0</td>\n",
       "      <td>0.000000e+00</td>\n",
       "      <td>0.000000</td>\n",
       "      <td>0.0</td>\n",
       "      <td>0.000000</td>\n",
       "      <td>0.000000e+00</td>\n",
       "      <td>0.000000e+00</td>\n",
       "      <td>...</td>\n",
       "      <td>0.000000e+00</td>\n",
       "      <td>0.000000e+00</td>\n",
       "      <td>0.000000e+00</td>\n",
       "      <td>0.000000e+00</td>\n",
       "      <td>0.000000e+00</td>\n",
       "      <td>0.000000e+00</td>\n",
       "      <td>0.000000e+00</td>\n",
       "      <td>0.000000e+00</td>\n",
       "      <td>0.000000e+00</td>\n",
       "      <td>0.000000</td>\n",
       "    </tr>\n",
       "    <tr>\n",
       "      <th>(author, Дмитрий_Добровольский)</th>\n",
       "      <td>0.000000</td>\n",
       "      <td>0.000000e+00</td>\n",
       "      <td>0.000000e+00</td>\n",
       "      <td>0.0</td>\n",
       "      <td>0.000000e+00</td>\n",
       "      <td>0.000000</td>\n",
       "      <td>0.0</td>\n",
       "      <td>0.000000</td>\n",
       "      <td>0.000000e+00</td>\n",
       "      <td>0.000000e+00</td>\n",
       "      <td>...</td>\n",
       "      <td>0.000000e+00</td>\n",
       "      <td>0.000000e+00</td>\n",
       "      <td>4.131301e-14</td>\n",
       "      <td>0.000000e+00</td>\n",
       "      <td>0.000000e+00</td>\n",
       "      <td>0.000000e+00</td>\n",
       "      <td>0.000000e+00</td>\n",
       "      <td>0.000000e+00</td>\n",
       "      <td>0.000000e+00</td>\n",
       "      <td>0.000000</td>\n",
       "    </tr>\n",
       "    <tr>\n",
       "      <th>(author, Константин_Звездин)</th>\n",
       "      <td>0.000000</td>\n",
       "      <td>0.000000e+00</td>\n",
       "      <td>2.522581e-12</td>\n",
       "      <td>0.0</td>\n",
       "      <td>0.000000e+00</td>\n",
       "      <td>0.000000</td>\n",
       "      <td>0.0</td>\n",
       "      <td>0.000000</td>\n",
       "      <td>0.000000e+00</td>\n",
       "      <td>9.939806e-01</td>\n",
       "      <td>...</td>\n",
       "      <td>0.000000e+00</td>\n",
       "      <td>0.000000e+00</td>\n",
       "      <td>0.000000e+00</td>\n",
       "      <td>0.000000e+00</td>\n",
       "      <td>0.000000e+00</td>\n",
       "      <td>0.000000e+00</td>\n",
       "      <td>0.000000e+00</td>\n",
       "      <td>0.000000e+00</td>\n",
       "      <td>6.019395e-03</td>\n",
       "      <td>0.000000</td>\n",
       "    </tr>\n",
       "    <tr>\n",
       "      <th>(author, Сергей_Кетов)</th>\n",
       "      <td>0.000000</td>\n",
       "      <td>0.000000e+00</td>\n",
       "      <td>0.000000e+00</td>\n",
       "      <td>0.0</td>\n",
       "      <td>0.000000e+00</td>\n",
       "      <td>0.000000</td>\n",
       "      <td>0.0</td>\n",
       "      <td>0.000000</td>\n",
       "      <td>0.000000e+00</td>\n",
       "      <td>1.000000e+00</td>\n",
       "      <td>...</td>\n",
       "      <td>0.000000e+00</td>\n",
       "      <td>0.000000e+00</td>\n",
       "      <td>0.000000e+00</td>\n",
       "      <td>0.000000e+00</td>\n",
       "      <td>0.000000e+00</td>\n",
       "      <td>0.000000e+00</td>\n",
       "      <td>0.000000e+00</td>\n",
       "      <td>0.000000e+00</td>\n",
       "      <td>0.000000e+00</td>\n",
       "      <td>0.000000</td>\n",
       "    </tr>\n",
       "    <tr>\n",
       "      <th>(author, Сет_Ллойд)</th>\n",
       "      <td>0.000000</td>\n",
       "      <td>0.000000e+00</td>\n",
       "      <td>0.000000e+00</td>\n",
       "      <td>0.0</td>\n",
       "      <td>0.000000e+00</td>\n",
       "      <td>0.000000</td>\n",
       "      <td>0.0</td>\n",
       "      <td>0.056379</td>\n",
       "      <td>0.000000e+00</td>\n",
       "      <td>2.981617e-07</td>\n",
       "      <td>...</td>\n",
       "      <td>0.000000e+00</td>\n",
       "      <td>0.000000e+00</td>\n",
       "      <td>0.000000e+00</td>\n",
       "      <td>0.000000e+00</td>\n",
       "      <td>0.000000e+00</td>\n",
       "      <td>0.000000e+00</td>\n",
       "      <td>0.000000e+00</td>\n",
       "      <td>0.000000e+00</td>\n",
       "      <td>0.000000e+00</td>\n",
       "      <td>0.000000</td>\n",
       "    </tr>\n",
       "    <tr>\n",
       "      <th>(author, Алексей_Расторгуев)</th>\n",
       "      <td>0.000000</td>\n",
       "      <td>0.000000e+00</td>\n",
       "      <td>0.000000e+00</td>\n",
       "      <td>0.0</td>\n",
       "      <td>0.000000e+00</td>\n",
       "      <td>0.000000</td>\n",
       "      <td>0.0</td>\n",
       "      <td>0.000000</td>\n",
       "      <td>0.000000e+00</td>\n",
       "      <td>0.000000e+00</td>\n",
       "      <td>...</td>\n",
       "      <td>0.000000e+00</td>\n",
       "      <td>0.000000e+00</td>\n",
       "      <td>0.000000e+00</td>\n",
       "      <td>0.000000e+00</td>\n",
       "      <td>0.000000e+00</td>\n",
       "      <td>0.000000e+00</td>\n",
       "      <td>0.000000e+00</td>\n",
       "      <td>0.000000e+00</td>\n",
       "      <td>0.000000e+00</td>\n",
       "      <td>0.000000</td>\n",
       "    </tr>\n",
       "  </tbody>\n",
       "</table>\n",
       "<p>539 rows × 30 columns</p>\n",
       "</div>"
      ],
      "text/plain": [
       "                                      sbj0          sbj1          sbj2  sbj3  \\\n",
       "(author, Марина_Корсакова-Крейн)  0.000000  0.000000e+00  0.000000e+00   0.0   \n",
       "(author, Ирина_Каспэ)             0.000000  0.000000e+00  0.000000e+00   1.0   \n",
       "(author, Дарья_Радченко)          0.000000  0.000000e+00  0.000000e+00   0.0   \n",
       "(author, Татьяна_Гусарова)        0.000000  0.000000e+00  0.000000e+00   0.0   \n",
       "(author, Елена_Голубева)          0.000000  0.000000e+00  0.000000e+00   0.0   \n",
       "(author, Дэвид_Кларк)             0.000000  0.000000e+00  0.000000e+00   0.0   \n",
       "(author, Джеффри_Шнапп)           0.000000  0.000000e+00  0.000000e+00   0.0   \n",
       "(author, Вольфганг_Кеттерле)      0.000000  0.000000e+00  0.000000e+00   0.0   \n",
       "(author, Уолтер_Льюин)            0.000000  1.189970e-13  0.000000e+00   0.0   \n",
       "(author, Сергей_Зыков)            0.000000  0.000000e+00  0.000000e+00   0.0   \n",
       "(author, Олег_Лукин)              0.000000  0.000000e+00  0.000000e+00   0.0   \n",
       "(author, Джозеф_Браун)            0.000000  0.000000e+00  0.000000e+00   0.0   \n",
       "(author, Зоя_Зорина)              0.000000  0.000000e+00  0.000000e+00   0.0   \n",
       "(author, Яков_Тестелец)           0.000000  0.000000e+00  0.000000e+00   0.0   \n",
       "(author, Мария_Падун)             0.000000  0.000000e+00  0.000000e+00   0.0   \n",
       "(author, Владимир_Ковальзон)      0.000000  0.000000e+00  0.000000e+00   0.0   \n",
       "(author, Александр_Войскунский)   0.000000  0.000000e+00  0.000000e+00   0.0   \n",
       "(author, Алексей_Касьян)          0.000000  0.000000e+00  0.000000e+00   0.0   \n",
       "(author, Галина_Зверева)          0.000000  0.000000e+00  0.000000e+00   0.0   \n",
       "(author, Георгий_Шляпников)       0.000000  0.000000e+00  1.000000e+00   0.0   \n",
       "(author, Андрей_Кофман)           0.000000  0.000000e+00  0.000000e+00   0.0   \n",
       "(author, Марина_Новикова-Грунд)   0.000000  0.000000e+00  0.000000e+00   0.0   \n",
       "(author, Денис_Сивков)            0.000000  0.000000e+00  0.000000e+00   0.0   \n",
       "(author, Мохамад_Кассаб)          0.000000  0.000000e+00  0.000000e+00   0.0   \n",
       "(author, Яков_Фоминов)            0.000000  0.000000e+00  9.999998e-01   0.0   \n",
       "(author, Андрей_Семенов)          0.000000  0.000000e+00  0.000000e+00   0.0   \n",
       "(author, Эрик_Мазур)              0.000000  0.000000e+00  0.000000e+00   0.0   \n",
       "(author, Екатерина_Протасова)     0.000000  0.000000e+00  0.000000e+00   0.0   \n",
       "(author, Максим_Киселев)          0.000000  0.000000e+00  0.000000e+00   0.0   \n",
       "(author, Арчил_Балахванцев)       0.000000  0.000000e+00  0.000000e+00   0.0   \n",
       "...                                    ...           ...           ...   ...   \n",
       "(author, Сергей_Наугольных)       0.000000  9.982941e-01  0.000000e+00   0.0   \n",
       "(author, Сергей_Саложин)          0.000000  0.000000e+00  0.000000e+00   0.0   \n",
       "(author, Владимир_Мележик)        0.000000  0.000000e+00  1.000000e+00   0.0   \n",
       "(author, Сергей_Шишкин)           0.000000  0.000000e+00  0.000000e+00   0.0   \n",
       "(author, Олег_Фиговский)          0.000000  0.000000e+00  0.000000e+00   0.0   \n",
       "(author, Михаил_Киселев)          0.000000  0.000000e+00  0.000000e+00   0.0   \n",
       "(author, Александр_Сафонов)       0.000000  0.000000e+00  0.000000e+00   0.0   \n",
       "(author, Роман_Мизюк)             0.000000  0.000000e+00  0.000000e+00   0.0   \n",
       "(author, Дмитрий_Паращук)         0.000000  0.000000e+00  0.000000e+00   0.0   \n",
       "(author, Дмитрий_Вибе)            0.000000  5.963631e-01  0.000000e+00   0.0   \n",
       "(author, Aльберт_Давлетшин)       0.000000  0.000000e+00  0.000000e+00   0.0   \n",
       "(author, Дэвид_С._Джонс)          0.000000  0.000000e+00  0.000000e+00   0.0   \n",
       "(author, Александр_Беленький)     0.000000  0.000000e+00  0.000000e+00   0.0   \n",
       "(author, Павел_Степанцов)         0.000000  0.000000e+00  0.000000e+00   1.0   \n",
       "(author, Алексей_Малашенко)       0.000000  0.000000e+00  0.000000e+00   0.0   \n",
       "(author, Галина_Зеленина)         0.000000  0.000000e+00  0.000000e+00   0.0   \n",
       "(author, Архат_Абжанов)           0.000000  0.000000e+00  0.000000e+00   0.0   \n",
       "(author, Дмитрий_Бовыкин)         0.000000  0.000000e+00  0.000000e+00   0.0   \n",
       "(author, Владимир_Муронец)        0.000000  0.000000e+00  0.000000e+00   0.0   \n",
       "(author, Жан-Арыс_Джилкибаев)     0.000000  0.000000e+00  0.000000e+00   0.0   \n",
       "(author, Фуад_Алескеров)          0.000000  0.000000e+00  0.000000e+00   0.0   \n",
       "(author, Эдуард_Пройдаков)        0.000000  0.000000e+00  0.000000e+00   0.0   \n",
       "(author, Дэвид_Гросс)             0.000000  0.000000e+00  0.000000e+00   0.0   \n",
       "(author, Александр_Габибов)       0.000000  0.000000e+00  0.000000e+00   0.0   \n",
       "(author, Ольга_Тогоева)           0.145652  0.000000e+00  0.000000e+00   0.0   \n",
       "(author, Дмитрий_Добровольский)   0.000000  0.000000e+00  0.000000e+00   0.0   \n",
       "(author, Константин_Звездин)      0.000000  0.000000e+00  2.522581e-12   0.0   \n",
       "(author, Сергей_Кетов)            0.000000  0.000000e+00  0.000000e+00   0.0   \n",
       "(author, Сет_Ллойд)               0.000000  0.000000e+00  0.000000e+00   0.0   \n",
       "(author, Алексей_Расторгуев)      0.000000  0.000000e+00  0.000000e+00   0.0   \n",
       "\n",
       "                                          sbj4      sbj5  sbj6      sbj7  \\\n",
       "(author, Марина_Корсакова-Крейн)  0.000000e+00  0.000000   0.0  0.000000   \n",
       "(author, Ирина_Каспэ)             0.000000e+00  0.000000   0.0  0.000000   \n",
       "(author, Дарья_Радченко)          0.000000e+00  0.000000   0.0  0.000000   \n",
       "(author, Татьяна_Гусарова)        1.000000e+00  0.000000   0.0  0.000000   \n",
       "(author, Елена_Голубева)          0.000000e+00  0.000000   0.0  0.000000   \n",
       "(author, Дэвид_Кларк)             0.000000e+00  0.000000   0.0  0.000000   \n",
       "(author, Джеффри_Шнапп)           0.000000e+00  0.000000   0.0  0.000000   \n",
       "(author, Вольфганг_Кеттерле)      0.000000e+00  0.000000   0.0  0.000000   \n",
       "(author, Уолтер_Льюин)            0.000000e+00  0.000000   0.0  0.000000   \n",
       "(author, Сергей_Зыков)            0.000000e+00  0.000000   0.0  0.000000   \n",
       "(author, Олег_Лукин)              0.000000e+00  1.000000   0.0  0.000000   \n",
       "(author, Джозеф_Браун)            0.000000e+00  0.000000   0.0  0.000000   \n",
       "(author, Зоя_Зорина)              0.000000e+00  0.000000   0.0  0.000000   \n",
       "(author, Яков_Тестелец)           0.000000e+00  0.000000   0.0  0.000000   \n",
       "(author, Мария_Падун)             0.000000e+00  0.000000   0.0  0.000000   \n",
       "(author, Владимир_Ковальзон)      0.000000e+00  0.000000   0.0  0.000000   \n",
       "(author, Александр_Войскунский)   5.696759e-08  0.000000   0.0  0.000000   \n",
       "(author, Алексей_Касьян)          0.000000e+00  0.000000   0.0  0.000000   \n",
       "(author, Галина_Зверева)          0.000000e+00  0.000000   0.0  1.000000   \n",
       "(author, Георгий_Шляпников)       0.000000e+00  0.000000   0.0  0.000000   \n",
       "(author, Андрей_Кофман)           7.050933e-01  0.022421   0.0  0.000000   \n",
       "(author, Марина_Новикова-Грунд)   0.000000e+00  0.000000   0.0  0.000000   \n",
       "(author, Денис_Сивков)            0.000000e+00  0.000000   0.0  0.000000   \n",
       "(author, Мохамад_Кассаб)          1.000000e+00  0.000000   0.0  0.000000   \n",
       "(author, Яков_Фоминов)            0.000000e+00  0.000000   0.0  0.000000   \n",
       "(author, Андрей_Семенов)          0.000000e+00  0.000000   0.0  0.000000   \n",
       "(author, Эрик_Мазур)              0.000000e+00  0.877581   0.0  0.000000   \n",
       "(author, Екатерина_Протасова)     0.000000e+00  0.000000   0.0  0.000000   \n",
       "(author, Максим_Киселев)          0.000000e+00  0.000000   0.0  0.000000   \n",
       "(author, Арчил_Балахванцев)       0.000000e+00  0.000000   0.0  0.000000   \n",
       "...                                        ...       ...   ...       ...   \n",
       "(author, Сергей_Наугольных)       0.000000e+00  0.000000   0.0  0.000000   \n",
       "(author, Сергей_Саложин)          0.000000e+00  0.000000   0.0  0.000000   \n",
       "(author, Владимир_Мележик)        0.000000e+00  0.000000   0.0  0.000000   \n",
       "(author, Сергей_Шишкин)           0.000000e+00  0.000000   0.0  0.000000   \n",
       "(author, Олег_Фиговский)          0.000000e+00  1.000000   0.0  0.000000   \n",
       "(author, Михаил_Киселев)          0.000000e+00  0.000000   0.0  0.000000   \n",
       "(author, Александр_Сафонов)       0.000000e+00  0.000000   0.0  0.000000   \n",
       "(author, Роман_Мизюк)             0.000000e+00  0.000000   0.0  0.000000   \n",
       "(author, Дмитрий_Паращук)         0.000000e+00  0.965970   0.0  0.000000   \n",
       "(author, Дмитрий_Вибе)            0.000000e+00  0.000000   0.0  0.000000   \n",
       "(author, Aльберт_Давлетшин)       0.000000e+00  0.000000   0.0  0.000000   \n",
       "(author, Дэвид_С._Джонс)          0.000000e+00  0.000000   0.0  0.000000   \n",
       "(author, Александр_Беленький)     0.000000e+00  0.000000   0.0  0.000000   \n",
       "(author, Павел_Степанцов)         0.000000e+00  0.000000   0.0  0.000000   \n",
       "(author, Алексей_Малашенко)       0.000000e+00  0.000000   0.0  0.000000   \n",
       "(author, Галина_Зеленина)         0.000000e+00  0.000000   0.0  0.000000   \n",
       "(author, Архат_Абжанов)           0.000000e+00  0.000000   0.0  0.000000   \n",
       "(author, Дмитрий_Бовыкин)         0.000000e+00  0.000000   0.0  0.105078   \n",
       "(author, Владимир_Муронец)        0.000000e+00  0.000000   0.0  0.000000   \n",
       "(author, Жан-Арыс_Джилкибаев)     0.000000e+00  0.000000   0.0  0.000000   \n",
       "(author, Фуад_Алескеров)          0.000000e+00  0.000000   0.0  0.000000   \n",
       "(author, Эдуард_Пройдаков)        0.000000e+00  0.372583   0.0  0.000000   \n",
       "(author, Дэвид_Гросс)             0.000000e+00  0.000000   0.0  0.000000   \n",
       "(author, Александр_Габибов)       0.000000e+00  0.000000   0.0  0.000000   \n",
       "(author, Ольга_Тогоева)           0.000000e+00  0.000000   0.0  0.000000   \n",
       "(author, Дмитрий_Добровольский)   0.000000e+00  0.000000   0.0  0.000000   \n",
       "(author, Константин_Звездин)      0.000000e+00  0.000000   0.0  0.000000   \n",
       "(author, Сергей_Кетов)            0.000000e+00  0.000000   0.0  0.000000   \n",
       "(author, Сет_Ллойд)               0.000000e+00  0.000000   0.0  0.056379   \n",
       "(author, Алексей_Расторгуев)      0.000000e+00  0.000000   0.0  0.000000   \n",
       "\n",
       "                                          sbj8          sbj9  ...  \\\n",
       "(author, Марина_Корсакова-Крейн)  0.000000e+00  1.000000e+00  ...   \n",
       "(author, Ирина_Каспэ)             0.000000e+00  0.000000e+00  ...   \n",
       "(author, Дарья_Радченко)          0.000000e+00  0.000000e+00  ...   \n",
       "(author, Татьяна_Гусарова)        0.000000e+00  0.000000e+00  ...   \n",
       "(author, Елена_Голубева)          0.000000e+00  0.000000e+00  ...   \n",
       "(author, Дэвид_Кларк)             0.000000e+00  0.000000e+00  ...   \n",
       "(author, Джеффри_Шнапп)           0.000000e+00  0.000000e+00  ...   \n",
       "(author, Вольфганг_Кеттерле)      0.000000e+00  1.000000e+00  ...   \n",
       "(author, Уолтер_Льюин)            0.000000e+00  0.000000e+00  ...   \n",
       "(author, Сергей_Зыков)            0.000000e+00  0.000000e+00  ...   \n",
       "(author, Олег_Лукин)              0.000000e+00  0.000000e+00  ...   \n",
       "(author, Джозеф_Браун)            0.000000e+00  0.000000e+00  ...   \n",
       "(author, Зоя_Зорина)              0.000000e+00  0.000000e+00  ...   \n",
       "(author, Яков_Тестелец)           0.000000e+00  0.000000e+00  ...   \n",
       "(author, Мария_Падун)             0.000000e+00  0.000000e+00  ...   \n",
       "(author, Владимир_Ковальзон)      0.000000e+00  0.000000e+00  ...   \n",
       "(author, Александр_Войскунский)   0.000000e+00  0.000000e+00  ...   \n",
       "(author, Алексей_Касьян)          0.000000e+00  0.000000e+00  ...   \n",
       "(author, Галина_Зверева)          0.000000e+00  0.000000e+00  ...   \n",
       "(author, Георгий_Шляпников)       0.000000e+00  2.416110e-08  ...   \n",
       "(author, Андрей_Кофман)           0.000000e+00  0.000000e+00  ...   \n",
       "(author, Марина_Новикова-Грунд)   0.000000e+00  0.000000e+00  ...   \n",
       "(author, Денис_Сивков)            0.000000e+00  0.000000e+00  ...   \n",
       "(author, Мохамад_Кассаб)          0.000000e+00  0.000000e+00  ...   \n",
       "(author, Яков_Фоминов)            0.000000e+00  2.623313e-09  ...   \n",
       "(author, Андрей_Семенов)          0.000000e+00  1.000000e+00  ...   \n",
       "(author, Эрик_Мазур)              0.000000e+00  0.000000e+00  ...   \n",
       "(author, Екатерина_Протасова)     0.000000e+00  0.000000e+00  ...   \n",
       "(author, Максим_Киселев)          0.000000e+00  0.000000e+00  ...   \n",
       "(author, Арчил_Балахванцев)       0.000000e+00  0.000000e+00  ...   \n",
       "...                                        ...           ...  ...   \n",
       "(author, Сергей_Наугольных)       0.000000e+00  0.000000e+00  ...   \n",
       "(author, Сергей_Саложин)          0.000000e+00  0.000000e+00  ...   \n",
       "(author, Владимир_Мележик)        0.000000e+00  0.000000e+00  ...   \n",
       "(author, Сергей_Шишкин)           0.000000e+00  0.000000e+00  ...   \n",
       "(author, Олег_Фиговский)          0.000000e+00  0.000000e+00  ...   \n",
       "(author, Михаил_Киселев)          0.000000e+00  5.324376e-13  ...   \n",
       "(author, Александр_Сафонов)       0.000000e+00  0.000000e+00  ...   \n",
       "(author, Роман_Мизюк)             0.000000e+00  1.000000e+00  ...   \n",
       "(author, Дмитрий_Паращук)         1.569809e-04  3.387129e-02  ...   \n",
       "(author, Дмитрий_Вибе)            1.329163e-14  0.000000e+00  ...   \n",
       "(author, Aльберт_Давлетшин)       0.000000e+00  0.000000e+00  ...   \n",
       "(author, Дэвид_С._Джонс)          0.000000e+00  0.000000e+00  ...   \n",
       "(author, Александр_Беленький)     1.000000e+00  0.000000e+00  ...   \n",
       "(author, Павел_Степанцов)         0.000000e+00  0.000000e+00  ...   \n",
       "(author, Алексей_Малашенко)       9.999952e-01  0.000000e+00  ...   \n",
       "(author, Галина_Зеленина)         0.000000e+00  0.000000e+00  ...   \n",
       "(author, Архат_Абжанов)           0.000000e+00  0.000000e+00  ...   \n",
       "(author, Дмитрий_Бовыкин)         0.000000e+00  0.000000e+00  ...   \n",
       "(author, Владимир_Муронец)        0.000000e+00  0.000000e+00  ...   \n",
       "(author, Жан-Арыс_Джилкибаев)     0.000000e+00  0.000000e+00  ...   \n",
       "(author, Фуад_Алескеров)          0.000000e+00  0.000000e+00  ...   \n",
       "(author, Эдуард_Пройдаков)        0.000000e+00  0.000000e+00  ...   \n",
       "(author, Дэвид_Гросс)             0.000000e+00  1.000000e+00  ...   \n",
       "(author, Александр_Габибов)       5.040576e-01  0.000000e+00  ...   \n",
       "(author, Ольга_Тогоева)           0.000000e+00  0.000000e+00  ...   \n",
       "(author, Дмитрий_Добровольский)   0.000000e+00  0.000000e+00  ...   \n",
       "(author, Константин_Звездин)      0.000000e+00  9.939806e-01  ...   \n",
       "(author, Сергей_Кетов)            0.000000e+00  1.000000e+00  ...   \n",
       "(author, Сет_Ллойд)               0.000000e+00  2.981617e-07  ...   \n",
       "(author, Алексей_Расторгуев)      0.000000e+00  0.000000e+00  ...   \n",
       "\n",
       "                                         sbj20         sbj21         sbj22  \\\n",
       "(author, Марина_Корсакова-Крейн)  0.000000e+00  0.000000e+00  0.000000e+00   \n",
       "(author, Ирина_Каспэ)             0.000000e+00  0.000000e+00  0.000000e+00   \n",
       "(author, Дарья_Радченко)          1.000000e+00  0.000000e+00  0.000000e+00   \n",
       "(author, Татьяна_Гусарова)        0.000000e+00  0.000000e+00  0.000000e+00   \n",
       "(author, Елена_Голубева)          0.000000e+00  9.999999e-01  0.000000e+00   \n",
       "(author, Дэвид_Кларк)             2.829589e-05  0.000000e+00  0.000000e+00   \n",
       "(author, Джеффри_Шнапп)           0.000000e+00  0.000000e+00  4.511823e-08   \n",
       "(author, Вольфганг_Кеттерле)      0.000000e+00  0.000000e+00  0.000000e+00   \n",
       "(author, Уолтер_Льюин)            0.000000e+00  0.000000e+00  0.000000e+00   \n",
       "(author, Сергей_Зыков)            0.000000e+00  0.000000e+00  0.000000e+00   \n",
       "(author, Олег_Лукин)              0.000000e+00  0.000000e+00  0.000000e+00   \n",
       "(author, Джозеф_Браун)            0.000000e+00  0.000000e+00  1.000000e+00   \n",
       "(author, Зоя_Зорина)              0.000000e+00  0.000000e+00  0.000000e+00   \n",
       "(author, Яков_Тестелец)           0.000000e+00  0.000000e+00  0.000000e+00   \n",
       "(author, Мария_Падун)             0.000000e+00  0.000000e+00  0.000000e+00   \n",
       "(author, Владимир_Ковальзон)      0.000000e+00  0.000000e+00  0.000000e+00   \n",
       "(author, Александр_Войскунский)   7.441865e-14  0.000000e+00  0.000000e+00   \n",
       "(author, Алексей_Касьян)          0.000000e+00  0.000000e+00  0.000000e+00   \n",
       "(author, Галина_Зверева)          0.000000e+00  0.000000e+00  0.000000e+00   \n",
       "(author, Георгий_Шляпников)       0.000000e+00  0.000000e+00  0.000000e+00   \n",
       "(author, Андрей_Кофман)           0.000000e+00  0.000000e+00  0.000000e+00   \n",
       "(author, Марина_Новикова-Грунд)   0.000000e+00  0.000000e+00  0.000000e+00   \n",
       "(author, Денис_Сивков)            0.000000e+00  0.000000e+00  0.000000e+00   \n",
       "(author, Мохамад_Кассаб)          0.000000e+00  0.000000e+00  0.000000e+00   \n",
       "(author, Яков_Фоминов)            0.000000e+00  0.000000e+00  0.000000e+00   \n",
       "(author, Андрей_Семенов)          0.000000e+00  0.000000e+00  0.000000e+00   \n",
       "(author, Эрик_Мазур)              0.000000e+00  0.000000e+00  0.000000e+00   \n",
       "(author, Екатерина_Протасова)     0.000000e+00  0.000000e+00  0.000000e+00   \n",
       "(author, Максим_Киселев)          6.874508e-02  0.000000e+00  0.000000e+00   \n",
       "(author, Арчил_Балахванцев)       0.000000e+00  0.000000e+00  0.000000e+00   \n",
       "...                                        ...           ...           ...   \n",
       "(author, Сергей_Наугольных)       0.000000e+00  0.000000e+00  0.000000e+00   \n",
       "(author, Сергей_Саложин)          0.000000e+00  0.000000e+00  0.000000e+00   \n",
       "(author, Владимир_Мележик)        0.000000e+00  0.000000e+00  0.000000e+00   \n",
       "(author, Сергей_Шишкин)           0.000000e+00  0.000000e+00  0.000000e+00   \n",
       "(author, Олег_Фиговский)          0.000000e+00  0.000000e+00  0.000000e+00   \n",
       "(author, Михаил_Киселев)          0.000000e+00  0.000000e+00  0.000000e+00   \n",
       "(author, Александр_Сафонов)       1.000000e+00  0.000000e+00  0.000000e+00   \n",
       "(author, Роман_Мизюк)             0.000000e+00  0.000000e+00  0.000000e+00   \n",
       "(author, Дмитрий_Паращук)         0.000000e+00  0.000000e+00  0.000000e+00   \n",
       "(author, Дмитрий_Вибе)            0.000000e+00  0.000000e+00  0.000000e+00   \n",
       "(author, Aльберт_Давлетшин)       0.000000e+00  0.000000e+00  3.214016e-02   \n",
       "(author, Дэвид_С._Джонс)          0.000000e+00  7.840604e-12  0.000000e+00   \n",
       "(author, Александр_Беленький)     0.000000e+00  0.000000e+00  0.000000e+00   \n",
       "(author, Павел_Степанцов)         0.000000e+00  0.000000e+00  0.000000e+00   \n",
       "(author, Алексей_Малашенко)       0.000000e+00  0.000000e+00  0.000000e+00   \n",
       "(author, Галина_Зеленина)         0.000000e+00  0.000000e+00  0.000000e+00   \n",
       "(author, Архат_Абжанов)           0.000000e+00  0.000000e+00  0.000000e+00   \n",
       "(author, Дмитрий_Бовыкин)         0.000000e+00  0.000000e+00  0.000000e+00   \n",
       "(author, Владимир_Муронец)        0.000000e+00  2.125186e-07  0.000000e+00   \n",
       "(author, Жан-Арыс_Джилкибаев)     0.000000e+00  0.000000e+00  0.000000e+00   \n",
       "(author, Фуад_Алескеров)          0.000000e+00  0.000000e+00  0.000000e+00   \n",
       "(author, Эдуард_Пройдаков)        0.000000e+00  0.000000e+00  0.000000e+00   \n",
       "(author, Дэвид_Гросс)             0.000000e+00  0.000000e+00  0.000000e+00   \n",
       "(author, Александр_Габибов)       4.845944e-07  4.959419e-01  0.000000e+00   \n",
       "(author, Ольга_Тогоева)           0.000000e+00  0.000000e+00  0.000000e+00   \n",
       "(author, Дмитрий_Добровольский)   0.000000e+00  0.000000e+00  4.131301e-14   \n",
       "(author, Константин_Звездин)      0.000000e+00  0.000000e+00  0.000000e+00   \n",
       "(author, Сергей_Кетов)            0.000000e+00  0.000000e+00  0.000000e+00   \n",
       "(author, Сет_Ллойд)               0.000000e+00  0.000000e+00  0.000000e+00   \n",
       "(author, Алексей_Расторгуев)      0.000000e+00  0.000000e+00  0.000000e+00   \n",
       "\n",
       "                                         sbj23         sbj24         sbj25  \\\n",
       "(author, Марина_Корсакова-Крейн)  0.000000e+00  0.000000e+00  0.000000e+00   \n",
       "(author, Ирина_Каспэ)             0.000000e+00  0.000000e+00  0.000000e+00   \n",
       "(author, Дарья_Радченко)          0.000000e+00  0.000000e+00  0.000000e+00   \n",
       "(author, Татьяна_Гусарова)        0.000000e+00  0.000000e+00  0.000000e+00   \n",
       "(author, Елена_Голубева)          0.000000e+00  0.000000e+00  0.000000e+00   \n",
       "(author, Дэвид_Кларк)             0.000000e+00  0.000000e+00  0.000000e+00   \n",
       "(author, Джеффри_Шнапп)           0.000000e+00  0.000000e+00  0.000000e+00   \n",
       "(author, Вольфганг_Кеттерле)      0.000000e+00  0.000000e+00  0.000000e+00   \n",
       "(author, Уолтер_Льюин)            0.000000e+00  0.000000e+00  0.000000e+00   \n",
       "(author, Сергей_Зыков)            1.000000e+00  0.000000e+00  0.000000e+00   \n",
       "(author, Олег_Лукин)              0.000000e+00  0.000000e+00  0.000000e+00   \n",
       "(author, Джозеф_Браун)            0.000000e+00  0.000000e+00  0.000000e+00   \n",
       "(author, Зоя_Зорина)              0.000000e+00  0.000000e+00  0.000000e+00   \n",
       "(author, Яков_Тестелец)           0.000000e+00  0.000000e+00  1.000000e+00   \n",
       "(author, Мария_Падун)             0.000000e+00  0.000000e+00  0.000000e+00   \n",
       "(author, Владимир_Ковальзон)      0.000000e+00  0.000000e+00  0.000000e+00   \n",
       "(author, Александр_Войскунский)   0.000000e+00  0.000000e+00  0.000000e+00   \n",
       "(author, Алексей_Касьян)          0.000000e+00  0.000000e+00  0.000000e+00   \n",
       "(author, Галина_Зверева)          0.000000e+00  0.000000e+00  0.000000e+00   \n",
       "(author, Георгий_Шляпников)       0.000000e+00  0.000000e+00  0.000000e+00   \n",
       "(author, Андрей_Кофман)           0.000000e+00  0.000000e+00  2.724851e-01   \n",
       "(author, Марина_Новикова-Грунд)   0.000000e+00  0.000000e+00  0.000000e+00   \n",
       "(author, Денис_Сивков)            6.720947e-11  0.000000e+00  0.000000e+00   \n",
       "(author, Мохамад_Кассаб)          0.000000e+00  0.000000e+00  0.000000e+00   \n",
       "(author, Яков_Фоминов)            0.000000e+00  0.000000e+00  0.000000e+00   \n",
       "(author, Андрей_Семенов)          0.000000e+00  0.000000e+00  0.000000e+00   \n",
       "(author, Эрик_Мазур)              0.000000e+00  0.000000e+00  0.000000e+00   \n",
       "(author, Екатерина_Протасова)     0.000000e+00  0.000000e+00  0.000000e+00   \n",
       "(author, Максим_Киселев)          0.000000e+00  0.000000e+00  0.000000e+00   \n",
       "(author, Арчил_Балахванцев)       0.000000e+00  0.000000e+00  0.000000e+00   \n",
       "...                                        ...           ...           ...   \n",
       "(author, Сергей_Наугольных)       1.705900e-03  0.000000e+00  0.000000e+00   \n",
       "(author, Сергей_Саложин)          0.000000e+00  0.000000e+00  0.000000e+00   \n",
       "(author, Владимир_Мележик)        0.000000e+00  0.000000e+00  0.000000e+00   \n",
       "(author, Сергей_Шишкин)           0.000000e+00  0.000000e+00  0.000000e+00   \n",
       "(author, Олег_Фиговский)          0.000000e+00  0.000000e+00  0.000000e+00   \n",
       "(author, Михаил_Киселев)          0.000000e+00  0.000000e+00  0.000000e+00   \n",
       "(author, Александр_Сафонов)       0.000000e+00  0.000000e+00  0.000000e+00   \n",
       "(author, Роман_Мизюк)             0.000000e+00  0.000000e+00  0.000000e+00   \n",
       "(author, Дмитрий_Паращук)         0.000000e+00  0.000000e+00  0.000000e+00   \n",
       "(author, Дмитрий_Вибе)            0.000000e+00  0.000000e+00  0.000000e+00   \n",
       "(author, Aльберт_Давлетшин)       0.000000e+00  0.000000e+00  3.994783e-09   \n",
       "(author, Дэвид_С._Джонс)          0.000000e+00  0.000000e+00  0.000000e+00   \n",
       "(author, Александр_Беленький)     0.000000e+00  0.000000e+00  0.000000e+00   \n",
       "(author, Павел_Степанцов)         0.000000e+00  0.000000e+00  0.000000e+00   \n",
       "(author, Алексей_Малашенко)       0.000000e+00  9.551931e-07  0.000000e+00   \n",
       "(author, Галина_Зеленина)         0.000000e+00  9.999998e-01  0.000000e+00   \n",
       "(author, Архат_Абжанов)           0.000000e+00  0.000000e+00  0.000000e+00   \n",
       "(author, Дмитрий_Бовыкин)         0.000000e+00  0.000000e+00  0.000000e+00   \n",
       "(author, Владимир_Муронец)        0.000000e+00  0.000000e+00  0.000000e+00   \n",
       "(author, Жан-Арыс_Джилкибаев)     0.000000e+00  0.000000e+00  0.000000e+00   \n",
       "(author, Фуад_Алескеров)          0.000000e+00  0.000000e+00  0.000000e+00   \n",
       "(author, Эдуард_Пройдаков)        0.000000e+00  0.000000e+00  0.000000e+00   \n",
       "(author, Дэвид_Гросс)             0.000000e+00  0.000000e+00  0.000000e+00   \n",
       "(author, Александр_Габибов)       0.000000e+00  0.000000e+00  0.000000e+00   \n",
       "(author, Ольга_Тогоева)           0.000000e+00  0.000000e+00  0.000000e+00   \n",
       "(author, Дмитрий_Добровольский)   0.000000e+00  0.000000e+00  0.000000e+00   \n",
       "(author, Константин_Звездин)      0.000000e+00  0.000000e+00  0.000000e+00   \n",
       "(author, Сергей_Кетов)            0.000000e+00  0.000000e+00  0.000000e+00   \n",
       "(author, Сет_Ллойд)               0.000000e+00  0.000000e+00  0.000000e+00   \n",
       "(author, Алексей_Расторгуев)      0.000000e+00  0.000000e+00  0.000000e+00   \n",
       "\n",
       "                                         sbj26         sbj27         sbj28  \\\n",
       "(author, Марина_Корсакова-Крейн)  0.000000e+00  0.000000e+00  0.000000e+00   \n",
       "(author, Ирина_Каспэ)             0.000000e+00  0.000000e+00  0.000000e+00   \n",
       "(author, Дарья_Радченко)          0.000000e+00  0.000000e+00  0.000000e+00   \n",
       "(author, Татьяна_Гусарова)        0.000000e+00  0.000000e+00  0.000000e+00   \n",
       "(author, Елена_Голубева)          5.108128e-08  0.000000e+00  0.000000e+00   \n",
       "(author, Дэвид_Кларк)             0.000000e+00  0.000000e+00  0.000000e+00   \n",
       "(author, Джеффри_Шнапп)           0.000000e+00  0.000000e+00  9.999999e-01   \n",
       "(author, Вольфганг_Кеттерле)      0.000000e+00  0.000000e+00  0.000000e+00   \n",
       "(author, Уолтер_Льюин)            0.000000e+00  0.000000e+00  0.000000e+00   \n",
       "(author, Сергей_Зыков)            0.000000e+00  0.000000e+00  0.000000e+00   \n",
       "(author, Олег_Лукин)              0.000000e+00  0.000000e+00  0.000000e+00   \n",
       "(author, Джозеф_Браун)            0.000000e+00  0.000000e+00  0.000000e+00   \n",
       "(author, Зоя_Зорина)              0.000000e+00  1.569806e-06  0.000000e+00   \n",
       "(author, Яков_Тестелец)           0.000000e+00  0.000000e+00  0.000000e+00   \n",
       "(author, Мария_Падун)             0.000000e+00  0.000000e+00  0.000000e+00   \n",
       "(author, Владимир_Ковальзон)      0.000000e+00  0.000000e+00  0.000000e+00   \n",
       "(author, Александр_Войскунский)   0.000000e+00  0.000000e+00  0.000000e+00   \n",
       "(author, Алексей_Касьян)          0.000000e+00  0.000000e+00  1.000000e+00   \n",
       "(author, Галина_Зверева)          0.000000e+00  0.000000e+00  0.000000e+00   \n",
       "(author, Георгий_Шляпников)       0.000000e+00  0.000000e+00  0.000000e+00   \n",
       "(author, Андрей_Кофман)           0.000000e+00  0.000000e+00  0.000000e+00   \n",
       "(author, Марина_Новикова-Грунд)   0.000000e+00  0.000000e+00  0.000000e+00   \n",
       "(author, Денис_Сивков)            0.000000e+00  6.774211e-13  0.000000e+00   \n",
       "(author, Мохамад_Кассаб)          0.000000e+00  0.000000e+00  0.000000e+00   \n",
       "(author, Яков_Фоминов)            0.000000e+00  0.000000e+00  1.929742e-07   \n",
       "(author, Андрей_Семенов)          0.000000e+00  0.000000e+00  0.000000e+00   \n",
       "(author, Эрик_Мазур)              0.000000e+00  0.000000e+00  0.000000e+00   \n",
       "(author, Екатерина_Протасова)     0.000000e+00  0.000000e+00  0.000000e+00   \n",
       "(author, Максим_Киселев)          0.000000e+00  0.000000e+00  0.000000e+00   \n",
       "(author, Арчил_Балахванцев)       0.000000e+00  0.000000e+00  0.000000e+00   \n",
       "...                                        ...           ...           ...   \n",
       "(author, Сергей_Наугольных)       0.000000e+00  0.000000e+00  0.000000e+00   \n",
       "(author, Сергей_Саложин)          0.000000e+00  1.000000e+00  0.000000e+00   \n",
       "(author, Владимир_Мележик)        0.000000e+00  0.000000e+00  0.000000e+00   \n",
       "(author, Сергей_Шишкин)           0.000000e+00  0.000000e+00  0.000000e+00   \n",
       "(author, Олег_Фиговский)          0.000000e+00  0.000000e+00  0.000000e+00   \n",
       "(author, Михаил_Киселев)          0.000000e+00  0.000000e+00  6.122056e-01   \n",
       "(author, Александр_Сафонов)       0.000000e+00  0.000000e+00  0.000000e+00   \n",
       "(author, Роман_Мизюк)             0.000000e+00  0.000000e+00  0.000000e+00   \n",
       "(author, Дмитрий_Паращук)         0.000000e+00  0.000000e+00  1.319373e-06   \n",
       "(author, Дмитрий_Вибе)            0.000000e+00  0.000000e+00  0.000000e+00   \n",
       "(author, Aльберт_Давлетшин)       0.000000e+00  9.678599e-01  0.000000e+00   \n",
       "(author, Дэвид_С._Джонс)          0.000000e+00  0.000000e+00  0.000000e+00   \n",
       "(author, Александр_Беленький)     0.000000e+00  0.000000e+00  0.000000e+00   \n",
       "(author, Павел_Степанцов)         0.000000e+00  0.000000e+00  0.000000e+00   \n",
       "(author, Алексей_Малашенко)       0.000000e+00  0.000000e+00  0.000000e+00   \n",
       "(author, Галина_Зеленина)         0.000000e+00  0.000000e+00  0.000000e+00   \n",
       "(author, Архат_Абжанов)           0.000000e+00  0.000000e+00  0.000000e+00   \n",
       "(author, Дмитрий_Бовыкин)         0.000000e+00  0.000000e+00  0.000000e+00   \n",
       "(author, Владимир_Муронец)        0.000000e+00  9.067749e-01  0.000000e+00   \n",
       "(author, Жан-Арыс_Джилкибаев)     0.000000e+00  0.000000e+00  0.000000e+00   \n",
       "(author, Фуад_Алескеров)          7.732347e-01  0.000000e+00  4.676697e-03   \n",
       "(author, Эдуард_Пройдаков)        0.000000e+00  0.000000e+00  2.708402e-10   \n",
       "(author, Дэвид_Гросс)             0.000000e+00  0.000000e+00  0.000000e+00   \n",
       "(author, Александр_Габибов)       0.000000e+00  0.000000e+00  0.000000e+00   \n",
       "(author, Ольга_Тогоева)           0.000000e+00  0.000000e+00  0.000000e+00   \n",
       "(author, Дмитрий_Добровольский)   0.000000e+00  0.000000e+00  0.000000e+00   \n",
       "(author, Константин_Звездин)      0.000000e+00  0.000000e+00  6.019395e-03   \n",
       "(author, Сергей_Кетов)            0.000000e+00  0.000000e+00  0.000000e+00   \n",
       "(author, Сет_Ллойд)               0.000000e+00  0.000000e+00  0.000000e+00   \n",
       "(author, Алексей_Расторгуев)      0.000000e+00  0.000000e+00  0.000000e+00   \n",
       "\n",
       "                                       bcg  \n",
       "(author, Марина_Корсакова-Крейн)  0.000000  \n",
       "(author, Ирина_Каспэ)             0.000000  \n",
       "(author, Дарья_Радченко)          0.000000  \n",
       "(author, Татьяна_Гусарова)        0.000000  \n",
       "(author, Елена_Голубева)          0.000000  \n",
       "(author, Дэвид_Кларк)             0.000000  \n",
       "(author, Джеффри_Шнапп)           0.000000  \n",
       "(author, Вольфганг_Кеттерле)      0.000000  \n",
       "(author, Уолтер_Льюин)            0.000000  \n",
       "(author, Сергей_Зыков)            0.000000  \n",
       "(author, Олег_Лукин)              0.000000  \n",
       "(author, Джозеф_Браун)            0.000000  \n",
       "(author, Зоя_Зорина)              0.999998  \n",
       "(author, Яков_Тестелец)           0.000000  \n",
       "(author, Мария_Падун)             0.000000  \n",
       "(author, Владимир_Ковальзон)      0.000000  \n",
       "(author, Александр_Войскунский)   0.000000  \n",
       "(author, Алексей_Касьян)          0.000000  \n",
       "(author, Галина_Зверева)          0.000000  \n",
       "(author, Георгий_Шляпников)       0.000000  \n",
       "(author, Андрей_Кофман)           0.000000  \n",
       "(author, Марина_Новикова-Грунд)   0.092419  \n",
       "(author, Денис_Сивков)            1.000000  \n",
       "(author, Мохамад_Кассаб)          0.000000  \n",
       "(author, Яков_Фоминов)            0.000000  \n",
       "(author, Андрей_Семенов)          0.000000  \n",
       "(author, Эрик_Мазур)              0.000000  \n",
       "(author, Екатерина_Протасова)     0.000000  \n",
       "(author, Максим_Киселев)          0.858035  \n",
       "(author, Арчил_Балахванцев)       0.000000  \n",
       "...                                    ...  \n",
       "(author, Сергей_Наугольных)       0.000000  \n",
       "(author, Сергей_Саложин)          0.000000  \n",
       "(author, Владимир_Мележик)        0.000000  \n",
       "(author, Сергей_Шишкин)           0.000000  \n",
       "(author, Олег_Фиговский)          0.000000  \n",
       "(author, Михаил_Киселев)          0.000000  \n",
       "(author, Александр_Сафонов)       0.000000  \n",
       "(author, Роман_Мизюк)             0.000000  \n",
       "(author, Дмитрий_Паращук)         0.000000  \n",
       "(author, Дмитрий_Вибе)            0.000000  \n",
       "(author, Aльберт_Давлетшин)       0.000000  \n",
       "(author, Дэвид_С._Джонс)          0.000000  \n",
       "(author, Александр_Беленький)     0.000000  \n",
       "(author, Павел_Степанцов)         0.000000  \n",
       "(author, Алексей_Малашенко)       0.000000  \n",
       "(author, Галина_Зеленина)         0.000000  \n",
       "(author, Архат_Абжанов)           0.999989  \n",
       "(author, Дмитрий_Бовыкин)         0.000000  \n",
       "(author, Владимир_Муронец)        0.000000  \n",
       "(author, Жан-Арыс_Джилкибаев)     0.000000  \n",
       "(author, Фуад_Алескеров)          0.154923  \n",
       "(author, Эдуард_Пройдаков)        0.000000  \n",
       "(author, Дэвид_Гросс)             0.000000  \n",
       "(author, Александр_Габибов)       0.000000  \n",
       "(author, Ольга_Тогоева)           0.000000  \n",
       "(author, Дмитрий_Добровольский)   0.000000  \n",
       "(author, Константин_Звездин)      0.000000  \n",
       "(author, Сергей_Кетов)            0.000000  \n",
       "(author, Сет_Ллойд)               0.000000  \n",
       "(author, Алексей_Расторгуев)      0.000000  \n",
       "\n",
       "[539 rows x 30 columns]"
      ]
     },
     "execution_count": 72,
     "metadata": {},
     "output_type": "execute_result"
    }
   ],
   "source": [
    "temp = phi_a.copy()\n",
    "\n",
    "for index, row in phi_a.iterrows():\n",
    "    for sbj, elem in row.items():\n",
    "        temp.ix[index, sbj] = phi_a.ix[index, sbj] * pt[sbj] / sum([phi_a.ix[index, s] * pt[s] for s in topic_names])\n",
    "\n",
    "temp"
   ]
  },
  {
   "cell_type": "code",
   "execution_count": 78,
   "metadata": {
    "scrolled": true
   },
   "outputs": [
    {
     "data": {
      "text/plain": [
       "(539, 539)"
      ]
     },
     "execution_count": 78,
     "metadata": {},
     "output_type": "execute_result"
    }
   ],
   "source": [
    "temp_dists = pairwise_distances(temp, metric='cosine')\n",
    "temp_dists.shape"
   ]
  },
  {
   "cell_type": "code",
   "execution_count": 81,
   "metadata": {},
   "outputs": [
    {
     "data": {
      "text/plain": [
       "array([[ 0.39073396,  0.59671495],\n",
       "       [-0.70069161, -0.24597019],\n",
       "       [-0.49020829,  0.56782356],\n",
       "       ...,\n",
       "       [ 0.39073396,  0.59671495],\n",
       "       [-0.05597341,  0.43779131],\n",
       "       [ 0.33546497, -0.64236874]])"
      ]
     },
     "execution_count": 81,
     "metadata": {},
     "output_type": "execute_result"
    }
   ],
   "source": [
    "mds = MDS(dissimilarity='precomputed', n_components=2)\n",
    "temp_transformed = mds.fit_transform(temp_dists)\n",
    "temp_transformed"
   ]
  },
  {
   "cell_type": "code",
   "execution_count": 84,
   "metadata": {},
   "outputs": [
    {
     "data": {
      "text/plain": [
       "(539, 2)"
      ]
     },
     "execution_count": 84,
     "metadata": {},
     "output_type": "execute_result"
    }
   ],
   "source": [
    "temp_transformed.shape"
   ]
  },
  {
   "cell_type": "markdown",
   "metadata": {},
   "source": [
    "Визуализируйте найденные двумерные представления с помощью функции scatter. "
   ]
  },
  {
   "cell_type": "code",
   "execution_count": 83,
   "metadata": {},
   "outputs": [
    {
     "data": {
      "text/plain": [
       "<matplotlib.collections.PathCollection at 0x7f06b021f510>"
      ]
     },
     "execution_count": 83,
     "metadata": {},
     "output_type": "execute_result"
    },
    {
     "data": {
      "image/png": "[encoded data removed]",
      "text/plain": [
       "<Figure size 432x288 with 1 Axes>"
      ]
     },
     "metadata": {
      "needs_background": "light"
     },
     "output_type": "display_data"
    }
   ],
   "source": [
    "# Ваш код\n",
    "plt.scatter(temp_transformed[:, 0], temp_transformed[:, 1])"
   ]
  },
  {
   "cell_type": "markdown",
   "metadata": {},
   "source": [
    "Должно получиться, что некоторые грппы авторов формируют сгустки, которые можно считать тематическими группами авторов.\n",
    "\n",
    "Раскрасим точки следующим образом: для каждого автора выберем наиболее вероятную для него тему ($\\max_t p(t|a)$), и каждой теме сопоставим цвет. Кроме того, добавим на карту имена и фамилии авторов, это можно сделать в цикле по всем точкам с помощью функции plt.annotate, указывая метку точки первым аргументом и ее координаты в аргументе xy. Рекомендуется сделать размер изображения большим, тогда маркеры точек тоже придется увеличить (s=100 в plt.scatter). Изобразите карту авторов и сохраните в pdf-файл с помощью функции plt.savefig. \n",
    "\n",
    "Метки авторов будут пересекаться. Будет очень хорошо, если вы найдете способ, как этого можно избежать."
   ]
  },
  {
   "cell_type": "code",
   "execution_count": 87,
   "metadata": {},
   "outputs": [
    {
     "data": {
      "text/plain": [
       "array([ 9,  3, 20,  4, 21, 15, 28,  9, 14, 23,  5, 22, 29, 25, 11, 11, 15,\n",
       "       28,  7,  2,  4, 19, 29,  4,  2,  9,  5, 18, 29, 10,  6, 20, 29,  8,\n",
       "       17, 14, 22, 29, 27, 12, 12,  9, 27,  8,  8,  3, 29,  4,  8,  2, 14,\n",
       "       29,  3, 13, 24, 27,  3,  3,  5, 14,  2, 13,  3,  4, 26,  9, 29,  1,\n",
       "        2,  6, 21, 15, 18, 20,  5,  0,  1,  5, 27, 19,  5,  3, 21, 24,  1,\n",
       "       29, 22,  9,  7, 10, 23, 29, 24, 23, 26,  7, 26, 20,  2, 21, 27, 29,\n",
       "       27, 29, 14, 28,  8, 25,  1, 29,  4, 28, 28, 11, 14,  4, 29, 17, 22,\n",
       "       21, 17, 14,  8,  5, 29,  8,  1, 19,  9,  3, 27, 27, 23, 29,  5, 27,\n",
       "        2,  4, 11, 16, 28, 23, 29,  6,  8,  5, 28, 24, 26, 14, 27,  4, 12,\n",
       "       23, 24, 13, 24, 28,  0, 29,  2, 11, 10, 14, 29,  8, 25, 14,  9,  5,\n",
       "        0, 10,  9, 21,  3, 29, 15,  0, 11, 25,  1,  9,  4, 10,  9, 15, 13,\n",
       "        6,  5,  8, 17, 27, 24, 10,  9, 29, 24, 18, 20, 13, 27, 26, 10, 24,\n",
       "       24,  8, 14, 23,  8, 23, 11, 15, 10,  8,  1,  4,  8, 29,  1,  5, 17,\n",
       "       23, 12, 22, 18, 27, 29,  0,  8, 26, 12, 29, 26,  1, 23,  5, 13,  3,\n",
       "       22, 29, 26, 13, 13,  5,  9,  9,  4, 20, 15, 11, 25,  9, 29, 17, 29,\n",
       "       15, 14, 22, 10, 29, 12, 11, 26,  6, 15, 29, 28,  9, 25, 10, 29, 29,\n",
       "       28, 12, 15,  8, 20, 12, 13, 28,  1, 16,  3, 29, 29,  3, 20, 26,  0,\n",
       "       26, 17,  0,  8, 16,  9, 15, 18, 24, 29, 12,  0, 15,  0, 25, 13, 26,\n",
       "        4, 17,  3, 10,  3, 29, 12, 23, 24, 19, 27,  9,  5,  8,  0, 29, 13,\n",
       "       17,  3, 25, 12, 18,  2, 11,  3, 14,  7, 18, 27, 12, 23,  4, 14, 21,\n",
       "        2,  8, 29, 23, 11, 17,  4, 29, 28,  0, 29, 29,  3, 25, 26, 20, 17,\n",
       "        5, 17, 25,  6,  8,  2, 27, 20, 24, 29, 25, 21,  0, 29, 13,  5,  0,\n",
       "       25, 24, 24, 12, 16,  9, 29, 23,  9, 29,  6,  6,  5, 13, 12, 14,  3,\n",
       "       27, 14,  2,  7, 18, 27,  8, 28, 26, 10, 27, 12,  9, 29, 12, 10, 24,\n",
       "       27, 17, 14, 21, 20,  6, 14,  8, 28, 21, 10,  7, 15,  1, 18,  8, 18,\n",
       "       25,  1, 26, 29, 21, 23, 29,  3, 29,  7,  2, 23, 27, 29, 28, 23, 19,\n",
       "       29, 25,  9, 20,  2, 12,  5, 29, 13,  1,  2,  5, 18, 29, 17, 27, 20,\n",
       "       18, 19,  9, 29, 14, 27, 24, 29, 29, 10,  5,  9, 29, 26, 15,  5, 20,\n",
       "       18,  1,  8, 12,  2,  6, 24, 21, 17,  9, 11, 22, 14, 29, 23,  2, 27,\n",
       "       27,  4, 18, 14,  4, 14, 15, 29, 28, 11, 10, 12, 22, 29, 14, 19,  1,\n",
       "       27,  2, 15,  5, 28, 20,  9,  5,  1, 27, 11,  8,  3,  8, 24, 29, 19,\n",
       "       27, 14, 26, 10,  9,  8, 10, 18,  9,  9, 15, 14])"
      ]
     },
     "execution_count": 87,
     "metadata": {},
     "output_type": "execute_result"
    }
   ],
   "source": [
    "np.array(temp).argmax(axis=1)"
   ]
  },
  {
   "cell_type": "code",
   "execution_count": 93,
   "metadata": {},
   "outputs": [
    {
     "data": {
      "text/plain": [
       "Index([(u'author', u'Марина_Корсакова-Крейн'),\n",
       "                  (u'author', u'Ирина_Каспэ'),\n",
       "               (u'author', u'Дарья_Радченко'),\n",
       "             (u'author', u'Татьяна_Гусарова'),\n",
       "               (u'author', u'Елена_Голубева'),\n",
       "                  (u'author', u'Дэвид_Кларк'),\n",
       "                (u'author', u'Джеффри_Шнапп'),\n",
       "           (u'author', u'Вольфганг_Кеттерле'),\n",
       "                 (u'author', u'Уолтер_Льюин'),\n",
       "                 (u'author', u'Сергей_Зыков'),\n",
       "       ...\n",
       "               (u'author', u'Фуад_Алескеров'),\n",
       "             (u'author', u'Эдуард_Пройдаков'),\n",
       "                  (u'author', u'Дэвид_Гросс'),\n",
       "            (u'author', u'Александр_Габибов'),\n",
       "                (u'author', u'Ольга_Тогоева'),\n",
       "        (u'author', u'Дмитрий_Добровольский'),\n",
       "           (u'author', u'Константин_Звездин'),\n",
       "                 (u'author', u'Сергей_Кетов'),\n",
       "                    (u'author', u'Сет_Ллойд'),\n",
       "           (u'author', u'Алексей_Расторгуев')],\n",
       "      dtype='object', length=539)"
      ]
     },
     "execution_count": 93,
     "metadata": {},
     "output_type": "execute_result"
    }
   ],
   "source": [
    "temp.index"
   ]
  },
  {
   "cell_type": "code",
   "execution_count": 94,
   "metadata": {},
   "outputs": [
    {
     "data": {
      "text/plain": [
       "(539, 2)"
      ]
     },
     "execution_count": 94,
     "metadata": {},
     "output_type": "execute_result"
    }
   ],
   "source": [
    "temp_transformed.shape"
   ]
  },
  {
   "cell_type": "code",
   "execution_count": 108,
   "metadata": {},
   "outputs": [
    {
     "data": {
      "image/png": "[encoded data removed]",
      "text/plain": [
       "<Figure size 1440x1440 with 1 Axes>"
      ]
     },
     "metadata": {
      "needs_background": "light"
     },
     "output_type": "display_data"
    }
   ],
   "source": [
    "import matplotlib.cm as cm\n",
    "colors = cm.rainbow(np.linspace(0, 1, T)) # цвета для тем\n",
    "# Ваш код\n",
    "plt.figure(figsize=(20, 20))\n",
    "plt.scatter(x=temp_transformed[:, 0], y=temp_transformed[:, 1], \n",
    "            c=[colors[a] for a in np.array(temp).argmax(axis=1)], s=100,\n",
    "            cmap=colors)\n",
    "\n",
    "annotated=[]\n",
    "for a, b in zip(temp.index, temp_transformed):\n",
    "    author = a[1]\n",
    "    x, y = b\n",
    "    if len(annotated) > 0 and min([np.sqrt((x-xx)**2+(y-yy)**2) for xx, yy in annotated]) < 0.02:\n",
    "        continue\n",
    "    plt.annotate(author, (x, y))\n",
    "    annotated.append((x, y))\n",
    "    \n",
    "# Чтобы имена не накладывались, выводим его, только если рядом с ним нет уже выведенных имен.\n",
    "    \n",
    "plt.savefig('4week2hw.pdf')"
   ]
  },
  {
   "cell_type": "markdown",
   "metadata": {},
   "source": [
    "##### Создание простого тематического навигатора по Постнауке"
   ]
  },
  {
   "cell_type": "markdown",
   "metadata": {},
   "source": [
    "Наш тематический навигатор будет для каждой темы показывать ее список слов, а также список релевантных теме документов. \n",
    "\n",
    "Нам понадобятся распределения $p(d|t)$. По формуле Байеса $p(d|t) = \\frac{p(t|d)p(d)}{\\sum_{d'}p(t|d')p(d')}$, но поскольку мы считаем документы равновероятными, достаточно разделить каждую строку $\\Theta$ на ее сумму, чтобы оценить распределение. \n",
    "\n",
    "Отсортируйте матрицу $p(d|t)$ по убыванию $p(d|t)$ в каждой теме (то есть построчно). Нам понадобятся индексы наиболее вероятных документов в каждой теме, поэтому используйте функцию argmax."
   ]
  },
  {
   "cell_type": "code",
   "execution_count": 110,
   "metadata": {
    "scrolled": true
   },
   "outputs": [
    {
     "data": {
      "text/html": [
       "<div>\n",
       "<style scoped>\n",
       "    .dataframe tbody tr th:only-of-type {\n",
       "        vertical-align: middle;\n",
       "    }\n",
       "\n",
       "    .dataframe tbody tr th {\n",
       "        vertical-align: top;\n",
       "    }\n",
       "\n",
       "    .dataframe thead th {\n",
       "        text-align: right;\n",
       "    }\n",
       "</style>\n",
       "<table border=\"1\" class=\"dataframe\">\n",
       "  <thead>\n",
       "    <tr style=\"text-align: right;\">\n",
       "      <th></th>\n",
       "      <th>http://postnauka.ru/video/53046</th>\n",
       "      <th>http://postnauka.ru/video/53169</th>\n",
       "      <th>http://postnauka.ru/video/53171</th>\n",
       "      <th>http://postnauka.ru/video/532</th>\n",
       "      <th>http://postnauka.ru/video/53228</th>\n",
       "      <th>http://postnauka.ru/video/53298</th>\n",
       "      <th>http://postnauka.ru/video/53342</th>\n",
       "      <th>http://postnauka.ru/video/53364</th>\n",
       "      <th>http://postnauka.ru/video/53386</th>\n",
       "      <th>http://postnauka.ru/video/53415</th>\n",
       "      <th>...</th>\n",
       "      <th>http://postnauka.ru/video/50088</th>\n",
       "      <th>http://postnauka.ru/video/50090</th>\n",
       "      <th>http://postnauka.ru/video/50097</th>\n",
       "      <th>http://postnauka.ru/video/50123</th>\n",
       "      <th>http://postnauka.ru/video/50340</th>\n",
       "      <th>http://postnauka.ru/video/50343</th>\n",
       "      <th>http://postnauka.ru/video/50345</th>\n",
       "      <th>http://postnauka.ru/video/50347</th>\n",
       "      <th>http://postnauka.ru/video/50349</th>\n",
       "      <th>http://postnauka.ru/video/50350</th>\n",
       "    </tr>\n",
       "  </thead>\n",
       "  <tbody>\n",
       "    <tr>\n",
       "      <th>sbj0</th>\n",
       "      <td>8.128792e-08</td>\n",
       "      <td>2.427207e-09</td>\n",
       "      <td>0.000000e+00</td>\n",
       "      <td>1.573638e-13</td>\n",
       "      <td>1.071960e-02</td>\n",
       "      <td>0.000000e+00</td>\n",
       "      <td>8.573581e-17</td>\n",
       "      <td>1.458098e-04</td>\n",
       "      <td>0.000000e+00</td>\n",
       "      <td>0.000000e+00</td>\n",
       "      <td>...</td>\n",
       "      <td>1.858666e-05</td>\n",
       "      <td>5.318581e-06</td>\n",
       "      <td>1.178524e-02</td>\n",
       "      <td>0.000000e+00</td>\n",
       "      <td>0.000000e+00</td>\n",
       "      <td>4.439488e-05</td>\n",
       "      <td>0.000000e+00</td>\n",
       "      <td>1.864184e-07</td>\n",
       "      <td>0.000000e+00</td>\n",
       "      <td>1.360901e-02</td>\n",
       "    </tr>\n",
       "    <tr>\n",
       "      <th>sbj1</th>\n",
       "      <td>0.000000e+00</td>\n",
       "      <td>0.000000e+00</td>\n",
       "      <td>0.000000e+00</td>\n",
       "      <td>0.000000e+00</td>\n",
       "      <td>6.593671e-11</td>\n",
       "      <td>8.808729e-12</td>\n",
       "      <td>1.798678e-04</td>\n",
       "      <td>1.737729e-08</td>\n",
       "      <td>1.750782e-09</td>\n",
       "      <td>0.000000e+00</td>\n",
       "      <td>...</td>\n",
       "      <td>5.682055e-05</td>\n",
       "      <td>7.885166e-12</td>\n",
       "      <td>2.561315e-10</td>\n",
       "      <td>5.861565e-06</td>\n",
       "      <td>3.973975e-04</td>\n",
       "      <td>4.078904e-07</td>\n",
       "      <td>4.056479e-11</td>\n",
       "      <td>3.296881e-07</td>\n",
       "      <td>4.915842e-07</td>\n",
       "      <td>8.360168e-05</td>\n",
       "    </tr>\n",
       "    <tr>\n",
       "      <th>sbj2</th>\n",
       "      <td>0.000000e+00</td>\n",
       "      <td>0.000000e+00</td>\n",
       "      <td>0.000000e+00</td>\n",
       "      <td>7.439604e-04</td>\n",
       "      <td>0.000000e+00</td>\n",
       "      <td>6.446199e-04</td>\n",
       "      <td>1.738327e-05</td>\n",
       "      <td>3.340726e-07</td>\n",
       "      <td>9.634306e-04</td>\n",
       "      <td>8.294906e-03</td>\n",
       "      <td>...</td>\n",
       "      <td>1.602762e-09</td>\n",
       "      <td>8.288855e-05</td>\n",
       "      <td>0.000000e+00</td>\n",
       "      <td>1.400928e-04</td>\n",
       "      <td>5.819240e-04</td>\n",
       "      <td>1.772591e-11</td>\n",
       "      <td>1.741395e-16</td>\n",
       "      <td>4.820088e-03</td>\n",
       "      <td>8.788938e-04</td>\n",
       "      <td>0.000000e+00</td>\n",
       "    </tr>\n",
       "    <tr>\n",
       "      <th>sbj3</th>\n",
       "      <td>6.889560e-04</td>\n",
       "      <td>6.942990e-04</td>\n",
       "      <td>0.000000e+00</td>\n",
       "      <td>4.579240e-04</td>\n",
       "      <td>2.706330e-05</td>\n",
       "      <td>1.814026e-16</td>\n",
       "      <td>1.157718e-12</td>\n",
       "      <td>2.483782e-04</td>\n",
       "      <td>0.000000e+00</td>\n",
       "      <td>0.000000e+00</td>\n",
       "      <td>...</td>\n",
       "      <td>3.249923e-11</td>\n",
       "      <td>0.000000e+00</td>\n",
       "      <td>1.425163e-06</td>\n",
       "      <td>3.981051e-04</td>\n",
       "      <td>0.000000e+00</td>\n",
       "      <td>1.112168e-05</td>\n",
       "      <td>1.191064e-05</td>\n",
       "      <td>3.156150e-04</td>\n",
       "      <td>4.909903e-10</td>\n",
       "      <td>8.600110e-05</td>\n",
       "    </tr>\n",
       "    <tr>\n",
       "      <th>sbj4</th>\n",
       "      <td>1.922136e-04</td>\n",
       "      <td>0.000000e+00</td>\n",
       "      <td>0.000000e+00</td>\n",
       "      <td>7.721070e-15</td>\n",
       "      <td>1.426832e-04</td>\n",
       "      <td>2.794460e-05</td>\n",
       "      <td>0.000000e+00</td>\n",
       "      <td>4.290248e-04</td>\n",
       "      <td>2.134005e-16</td>\n",
       "      <td>0.000000e+00</td>\n",
       "      <td>...</td>\n",
       "      <td>5.586166e-09</td>\n",
       "      <td>0.000000e+00</td>\n",
       "      <td>4.216933e-04</td>\n",
       "      <td>0.000000e+00</td>\n",
       "      <td>0.000000e+00</td>\n",
       "      <td>0.000000e+00</td>\n",
       "      <td>8.156783e-05</td>\n",
       "      <td>7.907800e-04</td>\n",
       "      <td>2.415795e-15</td>\n",
       "      <td>2.784427e-05</td>\n",
       "    </tr>\n",
       "    <tr>\n",
       "      <th>sbj5</th>\n",
       "      <td>7.310046e-15</td>\n",
       "      <td>0.000000e+00</td>\n",
       "      <td>0.000000e+00</td>\n",
       "      <td>1.730432e-12</td>\n",
       "      <td>5.690968e-17</td>\n",
       "      <td>1.392883e-03</td>\n",
       "      <td>2.933169e-03</td>\n",
       "      <td>0.000000e+00</td>\n",
       "      <td>3.553350e-03</td>\n",
       "      <td>0.000000e+00</td>\n",
       "      <td>...</td>\n",
       "      <td>3.939099e-10</td>\n",
       "      <td>1.001606e-06</td>\n",
       "      <td>6.869145e-11</td>\n",
       "      <td>1.023546e-03</td>\n",
       "      <td>1.443639e-03</td>\n",
       "      <td>4.867918e-11</td>\n",
       "      <td>2.122981e-03</td>\n",
       "      <td>5.227331e-05</td>\n",
       "      <td>1.786288e-04</td>\n",
       "      <td>0.000000e+00</td>\n",
       "    </tr>\n",
       "    <tr>\n",
       "      <th>sbj6</th>\n",
       "      <td>2.140788e-03</td>\n",
       "      <td>8.438127e-04</td>\n",
       "      <td>0.000000e+00</td>\n",
       "      <td>0.000000e+00</td>\n",
       "      <td>3.279779e-05</td>\n",
       "      <td>1.949519e-09</td>\n",
       "      <td>9.862095e-08</td>\n",
       "      <td>1.081235e-04</td>\n",
       "      <td>3.241125e-11</td>\n",
       "      <td>0.000000e+00</td>\n",
       "      <td>...</td>\n",
       "      <td>6.195963e-06</td>\n",
       "      <td>0.000000e+00</td>\n",
       "      <td>1.020307e-03</td>\n",
       "      <td>0.000000e+00</td>\n",
       "      <td>1.760492e-11</td>\n",
       "      <td>2.774731e-03</td>\n",
       "      <td>8.953591e-11</td>\n",
       "      <td>1.918093e-07</td>\n",
       "      <td>0.000000e+00</td>\n",
       "      <td>7.099634e-05</td>\n",
       "    </tr>\n",
       "    <tr>\n",
       "      <th>sbj7</th>\n",
       "      <td>0.000000e+00</td>\n",
       "      <td>0.000000e+00</td>\n",
       "      <td>0.000000e+00</td>\n",
       "      <td>9.757763e-04</td>\n",
       "      <td>1.470541e-04</td>\n",
       "      <td>1.487897e-16</td>\n",
       "      <td>6.623126e-12</td>\n",
       "      <td>0.000000e+00</td>\n",
       "      <td>1.680198e-17</td>\n",
       "      <td>0.000000e+00</td>\n",
       "      <td>...</td>\n",
       "      <td>2.872133e-07</td>\n",
       "      <td>0.000000e+00</td>\n",
       "      <td>2.709601e-04</td>\n",
       "      <td>0.000000e+00</td>\n",
       "      <td>0.000000e+00</td>\n",
       "      <td>6.003047e-07</td>\n",
       "      <td>0.000000e+00</td>\n",
       "      <td>0.000000e+00</td>\n",
       "      <td>0.000000e+00</td>\n",
       "      <td>9.361132e-06</td>\n",
       "    </tr>\n",
       "    <tr>\n",
       "      <th>sbj8</th>\n",
       "      <td>0.000000e+00</td>\n",
       "      <td>1.171603e-04</td>\n",
       "      <td>0.000000e+00</td>\n",
       "      <td>2.466307e-03</td>\n",
       "      <td>2.906231e-12</td>\n",
       "      <td>1.038265e-03</td>\n",
       "      <td>7.978858e-04</td>\n",
       "      <td>9.707305e-13</td>\n",
       "      <td>1.259414e-04</td>\n",
       "      <td>0.000000e+00</td>\n",
       "      <td>...</td>\n",
       "      <td>2.898162e-05</td>\n",
       "      <td>1.117372e-11</td>\n",
       "      <td>0.000000e+00</td>\n",
       "      <td>6.446387e-05</td>\n",
       "      <td>1.158277e-03</td>\n",
       "      <td>2.025443e-15</td>\n",
       "      <td>2.750842e-03</td>\n",
       "      <td>4.458290e-14</td>\n",
       "      <td>5.768130e-10</td>\n",
       "      <td>0.000000e+00</td>\n",
       "    </tr>\n",
       "    <tr>\n",
       "      <th>sbj9</th>\n",
       "      <td>1.078004e-04</td>\n",
       "      <td>0.000000e+00</td>\n",
       "      <td>0.000000e+00</td>\n",
       "      <td>0.000000e+00</td>\n",
       "      <td>0.000000e+00</td>\n",
       "      <td>7.532179e-05</td>\n",
       "      <td>4.018659e-11</td>\n",
       "      <td>1.297027e-09</td>\n",
       "      <td>8.730168e-04</td>\n",
       "      <td>0.000000e+00</td>\n",
       "      <td>...</td>\n",
       "      <td>2.061677e-06</td>\n",
       "      <td>4.476059e-06</td>\n",
       "      <td>0.000000e+00</td>\n",
       "      <td>3.072558e-12</td>\n",
       "      <td>3.553716e-04</td>\n",
       "      <td>3.491047e-08</td>\n",
       "      <td>7.716137e-13</td>\n",
       "      <td>0.000000e+00</td>\n",
       "      <td>1.154710e-08</td>\n",
       "      <td>1.703287e-08</td>\n",
       "    </tr>\n",
       "    <tr>\n",
       "      <th>sbj10</th>\n",
       "      <td>1.540328e-03</td>\n",
       "      <td>0.000000e+00</td>\n",
       "      <td>0.000000e+00</td>\n",
       "      <td>4.087311e-07</td>\n",
       "      <td>4.483593e-04</td>\n",
       "      <td>1.023157e-08</td>\n",
       "      <td>1.112048e-09</td>\n",
       "      <td>2.715788e-15</td>\n",
       "      <td>1.505639e-10</td>\n",
       "      <td>0.000000e+00</td>\n",
       "      <td>...</td>\n",
       "      <td>3.201941e-11</td>\n",
       "      <td>0.000000e+00</td>\n",
       "      <td>3.652097e-10</td>\n",
       "      <td>0.000000e+00</td>\n",
       "      <td>2.788857e-06</td>\n",
       "      <td>3.096360e-04</td>\n",
       "      <td>0.000000e+00</td>\n",
       "      <td>2.117548e-07</td>\n",
       "      <td>5.436849e-09</td>\n",
       "      <td>2.633679e-04</td>\n",
       "    </tr>\n",
       "    <tr>\n",
       "      <th>sbj11</th>\n",
       "      <td>3.232225e-04</td>\n",
       "      <td>1.858147e-17</td>\n",
       "      <td>0.000000e+00</td>\n",
       "      <td>5.607456e-03</td>\n",
       "      <td>1.439907e-04</td>\n",
       "      <td>1.960200e-05</td>\n",
       "      <td>1.273640e-03</td>\n",
       "      <td>1.750742e-09</td>\n",
       "      <td>0.000000e+00</td>\n",
       "      <td>0.000000e+00</td>\n",
       "      <td>...</td>\n",
       "      <td>8.667562e-04</td>\n",
       "      <td>4.368415e-04</td>\n",
       "      <td>7.008735e-09</td>\n",
       "      <td>5.841402e-03</td>\n",
       "      <td>0.000000e+00</td>\n",
       "      <td>4.456404e-11</td>\n",
       "      <td>6.179575e-06</td>\n",
       "      <td>1.526094e-09</td>\n",
       "      <td>0.000000e+00</td>\n",
       "      <td>9.783937e-07</td>\n",
       "    </tr>\n",
       "    <tr>\n",
       "      <th>sbj12</th>\n",
       "      <td>0.000000e+00</td>\n",
       "      <td>0.000000e+00</td>\n",
       "      <td>0.000000e+00</td>\n",
       "      <td>3.344688e-03</td>\n",
       "      <td>9.071849e-16</td>\n",
       "      <td>5.952166e-03</td>\n",
       "      <td>7.895800e-03</td>\n",
       "      <td>0.000000e+00</td>\n",
       "      <td>8.726982e-12</td>\n",
       "      <td>0.000000e+00</td>\n",
       "      <td>...</td>\n",
       "      <td>2.333045e-04</td>\n",
       "      <td>5.898939e-13</td>\n",
       "      <td>7.249611e-14</td>\n",
       "      <td>2.013948e-03</td>\n",
       "      <td>0.000000e+00</td>\n",
       "      <td>0.000000e+00</td>\n",
       "      <td>2.497385e-04</td>\n",
       "      <td>0.000000e+00</td>\n",
       "      <td>9.887858e-09</td>\n",
       "      <td>4.115561e-13</td>\n",
       "    </tr>\n",
       "    <tr>\n",
       "      <th>sbj13</th>\n",
       "      <td>1.664201e-17</td>\n",
       "      <td>1.039493e-02</td>\n",
       "      <td>1.781497e-02</td>\n",
       "      <td>1.169092e-17</td>\n",
       "      <td>6.803284e-05</td>\n",
       "      <td>0.000000e+00</td>\n",
       "      <td>0.000000e+00</td>\n",
       "      <td>1.043058e-02</td>\n",
       "      <td>0.000000e+00</td>\n",
       "      <td>0.000000e+00</td>\n",
       "      <td>...</td>\n",
       "      <td>4.792584e-06</td>\n",
       "      <td>0.000000e+00</td>\n",
       "      <td>2.298515e-06</td>\n",
       "      <td>0.000000e+00</td>\n",
       "      <td>0.000000e+00</td>\n",
       "      <td>1.640815e-06</td>\n",
       "      <td>0.000000e+00</td>\n",
       "      <td>5.675770e-18</td>\n",
       "      <td>6.475573e-10</td>\n",
       "      <td>7.155670e-04</td>\n",
       "    </tr>\n",
       "    <tr>\n",
       "      <th>sbj14</th>\n",
       "      <td>0.000000e+00</td>\n",
       "      <td>0.000000e+00</td>\n",
       "      <td>0.000000e+00</td>\n",
       "      <td>0.000000e+00</td>\n",
       "      <td>4.638734e-14</td>\n",
       "      <td>5.597425e-05</td>\n",
       "      <td>3.707073e-17</td>\n",
       "      <td>9.360196e-14</td>\n",
       "      <td>4.064764e-03</td>\n",
       "      <td>0.000000e+00</td>\n",
       "      <td>...</td>\n",
       "      <td>3.947020e-08</td>\n",
       "      <td>3.882759e-12</td>\n",
       "      <td>3.679471e-12</td>\n",
       "      <td>2.904324e-07</td>\n",
       "      <td>7.180199e-10</td>\n",
       "      <td>1.645479e-16</td>\n",
       "      <td>4.434624e-09</td>\n",
       "      <td>0.000000e+00</td>\n",
       "      <td>1.716611e-04</td>\n",
       "      <td>2.809551e-16</td>\n",
       "    </tr>\n",
       "    <tr>\n",
       "      <th>sbj15</th>\n",
       "      <td>6.875517e-07</td>\n",
       "      <td>4.882974e-16</td>\n",
       "      <td>0.000000e+00</td>\n",
       "      <td>2.410510e-13</td>\n",
       "      <td>9.458338e-17</td>\n",
       "      <td>1.277700e-03</td>\n",
       "      <td>2.785828e-04</td>\n",
       "      <td>0.000000e+00</td>\n",
       "      <td>1.317826e-03</td>\n",
       "      <td>1.046927e-02</td>\n",
       "      <td>...</td>\n",
       "      <td>2.443373e-04</td>\n",
       "      <td>4.801256e-08</td>\n",
       "      <td>5.152813e-05</td>\n",
       "      <td>3.787327e-06</td>\n",
       "      <td>5.885036e-07</td>\n",
       "      <td>6.435429e-04</td>\n",
       "      <td>1.040000e-05</td>\n",
       "      <td>7.700750e-04</td>\n",
       "      <td>9.074035e-03</td>\n",
       "      <td>1.197990e-05</td>\n",
       "    </tr>\n",
       "    <tr>\n",
       "      <th>sbj16</th>\n",
       "      <td>0.000000e+00</td>\n",
       "      <td>0.000000e+00</td>\n",
       "      <td>9.796185e-14</td>\n",
       "      <td>0.000000e+00</td>\n",
       "      <td>2.743088e-08</td>\n",
       "      <td>2.483694e-11</td>\n",
       "      <td>1.194527e-05</td>\n",
       "      <td>6.924278e-11</td>\n",
       "      <td>1.144488e-05</td>\n",
       "      <td>0.000000e+00</td>\n",
       "      <td>...</td>\n",
       "      <td>4.159440e-04</td>\n",
       "      <td>7.836877e-14</td>\n",
       "      <td>0.000000e+00</td>\n",
       "      <td>6.285640e-16</td>\n",
       "      <td>7.993661e-14</td>\n",
       "      <td>3.868467e-07</td>\n",
       "      <td>3.041337e-17</td>\n",
       "      <td>0.000000e+00</td>\n",
       "      <td>1.104587e-14</td>\n",
       "      <td>2.255785e-16</td>\n",
       "    </tr>\n",
       "    <tr>\n",
       "      <th>sbj17</th>\n",
       "      <td>5.512489e-03</td>\n",
       "      <td>1.171243e-04</td>\n",
       "      <td>0.000000e+00</td>\n",
       "      <td>1.213191e-07</td>\n",
       "      <td>2.437486e-04</td>\n",
       "      <td>4.361380e-13</td>\n",
       "      <td>0.000000e+00</td>\n",
       "      <td>3.282171e-07</td>\n",
       "      <td>0.000000e+00</td>\n",
       "      <td>0.000000e+00</td>\n",
       "      <td>...</td>\n",
       "      <td>0.000000e+00</td>\n",
       "      <td>2.830106e-06</td>\n",
       "      <td>2.467622e-04</td>\n",
       "      <td>0.000000e+00</td>\n",
       "      <td>0.000000e+00</td>\n",
       "      <td>2.930019e-04</td>\n",
       "      <td>0.000000e+00</td>\n",
       "      <td>4.344342e-03</td>\n",
       "      <td>5.808467e-11</td>\n",
       "      <td>4.294849e-04</td>\n",
       "    </tr>\n",
       "    <tr>\n",
       "      <th>sbj18</th>\n",
       "      <td>3.081629e-04</td>\n",
       "      <td>8.914892e-04</td>\n",
       "      <td>1.369485e-03</td>\n",
       "      <td>3.480902e-05</td>\n",
       "      <td>5.956121e-04</td>\n",
       "      <td>4.547276e-06</td>\n",
       "      <td>9.047865e-08</td>\n",
       "      <td>3.496143e-04</td>\n",
       "      <td>3.272294e-07</td>\n",
       "      <td>0.000000e+00</td>\n",
       "      <td>...</td>\n",
       "      <td>4.283267e-03</td>\n",
       "      <td>0.000000e+00</td>\n",
       "      <td>6.875357e-04</td>\n",
       "      <td>1.256313e-16</td>\n",
       "      <td>0.000000e+00</td>\n",
       "      <td>1.028765e-09</td>\n",
       "      <td>1.037780e-08</td>\n",
       "      <td>4.763671e-04</td>\n",
       "      <td>0.000000e+00</td>\n",
       "      <td>6.716410e-04</td>\n",
       "    </tr>\n",
       "    <tr>\n",
       "      <th>sbj19</th>\n",
       "      <td>8.633295e-04</td>\n",
       "      <td>0.000000e+00</td>\n",
       "      <td>0.000000e+00</td>\n",
       "      <td>2.418142e-16</td>\n",
       "      <td>2.526650e-04</td>\n",
       "      <td>0.000000e+00</td>\n",
       "      <td>0.000000e+00</td>\n",
       "      <td>0.000000e+00</td>\n",
       "      <td>2.997837e-10</td>\n",
       "      <td>0.000000e+00</td>\n",
       "      <td>...</td>\n",
       "      <td>1.815477e-10</td>\n",
       "      <td>1.724887e-17</td>\n",
       "      <td>1.763468e-05</td>\n",
       "      <td>9.907395e-08</td>\n",
       "      <td>1.506635e-08</td>\n",
       "      <td>3.521290e-04</td>\n",
       "      <td>0.000000e+00</td>\n",
       "      <td>3.070249e-06</td>\n",
       "      <td>3.016795e-16</td>\n",
       "      <td>2.290912e-11</td>\n",
       "    </tr>\n",
       "    <tr>\n",
       "      <th>sbj20</th>\n",
       "      <td>4.317203e-13</td>\n",
       "      <td>0.000000e+00</td>\n",
       "      <td>0.000000e+00</td>\n",
       "      <td>3.387221e-06</td>\n",
       "      <td>0.000000e+00</td>\n",
       "      <td>1.040470e-03</td>\n",
       "      <td>6.730781e-05</td>\n",
       "      <td>0.000000e+00</td>\n",
       "      <td>4.044384e-04</td>\n",
       "      <td>0.000000e+00</td>\n",
       "      <td>...</td>\n",
       "      <td>2.060762e-08</td>\n",
       "      <td>3.149508e-04</td>\n",
       "      <td>3.615289e-15</td>\n",
       "      <td>4.164390e-06</td>\n",
       "      <td>5.644248e-06</td>\n",
       "      <td>2.981159e-03</td>\n",
       "      <td>9.779260e-05</td>\n",
       "      <td>5.476893e-05</td>\n",
       "      <td>7.352345e-04</td>\n",
       "      <td>0.000000e+00</td>\n",
       "    </tr>\n",
       "    <tr>\n",
       "      <th>sbj21</th>\n",
       "      <td>1.118948e-03</td>\n",
       "      <td>0.000000e+00</td>\n",
       "      <td>0.000000e+00</td>\n",
       "      <td>1.304759e-02</td>\n",
       "      <td>1.774401e-11</td>\n",
       "      <td>5.860514e-04</td>\n",
       "      <td>1.124136e-03</td>\n",
       "      <td>0.000000e+00</td>\n",
       "      <td>6.880469e-05</td>\n",
       "      <td>0.000000e+00</td>\n",
       "      <td>...</td>\n",
       "      <td>1.174605e-04</td>\n",
       "      <td>2.225848e-03</td>\n",
       "      <td>1.362009e-13</td>\n",
       "      <td>2.908824e-04</td>\n",
       "      <td>3.697279e-08</td>\n",
       "      <td>0.000000e+00</td>\n",
       "      <td>1.746084e-03</td>\n",
       "      <td>3.129744e-13</td>\n",
       "      <td>7.673126e-16</td>\n",
       "      <td>6.945382e-07</td>\n",
       "    </tr>\n",
       "    <tr>\n",
       "      <th>sbj22</th>\n",
       "      <td>7.228151e-04</td>\n",
       "      <td>1.944132e-06</td>\n",
       "      <td>0.000000e+00</td>\n",
       "      <td>0.000000e+00</td>\n",
       "      <td>6.972333e-05</td>\n",
       "      <td>1.072767e-07</td>\n",
       "      <td>1.641137e-04</td>\n",
       "      <td>1.664891e-11</td>\n",
       "      <td>1.560149e-14</td>\n",
       "      <td>0.000000e+00</td>\n",
       "      <td>...</td>\n",
       "      <td>8.343299e-08</td>\n",
       "      <td>9.139957e-10</td>\n",
       "      <td>4.004372e-05</td>\n",
       "      <td>4.005250e-05</td>\n",
       "      <td>5.613201e-13</td>\n",
       "      <td>6.993191e-04</td>\n",
       "      <td>7.884476e-09</td>\n",
       "      <td>1.386632e-03</td>\n",
       "      <td>1.147593e-04</td>\n",
       "      <td>2.797761e-04</td>\n",
       "    </tr>\n",
       "    <tr>\n",
       "      <th>sbj23</th>\n",
       "      <td>0.000000e+00</td>\n",
       "      <td>0.000000e+00</td>\n",
       "      <td>0.000000e+00</td>\n",
       "      <td>0.000000e+00</td>\n",
       "      <td>0.000000e+00</td>\n",
       "      <td>3.869819e-04</td>\n",
       "      <td>0.000000e+00</td>\n",
       "      <td>1.226189e-08</td>\n",
       "      <td>1.294044e-15</td>\n",
       "      <td>0.000000e+00</td>\n",
       "      <td>...</td>\n",
       "      <td>0.000000e+00</td>\n",
       "      <td>9.089247e-05</td>\n",
       "      <td>0.000000e+00</td>\n",
       "      <td>0.000000e+00</td>\n",
       "      <td>7.760184e-12</td>\n",
       "      <td>1.888241e-07</td>\n",
       "      <td>1.652742e-09</td>\n",
       "      <td>0.000000e+00</td>\n",
       "      <td>6.032084e-04</td>\n",
       "      <td>0.000000e+00</td>\n",
       "    </tr>\n",
       "    <tr>\n",
       "      <th>sbj24</th>\n",
       "      <td>6.178714e-11</td>\n",
       "      <td>1.434243e-05</td>\n",
       "      <td>3.129229e-03</td>\n",
       "      <td>0.000000e+00</td>\n",
       "      <td>5.938770e-04</td>\n",
       "      <td>0.000000e+00</td>\n",
       "      <td>0.000000e+00</td>\n",
       "      <td>9.582310e-04</td>\n",
       "      <td>0.000000e+00</td>\n",
       "      <td>0.000000e+00</td>\n",
       "      <td>...</td>\n",
       "      <td>6.737079e-15</td>\n",
       "      <td>2.422537e-07</td>\n",
       "      <td>3.562368e-04</td>\n",
       "      <td>0.000000e+00</td>\n",
       "      <td>0.000000e+00</td>\n",
       "      <td>2.710811e-03</td>\n",
       "      <td>4.026005e-14</td>\n",
       "      <td>8.767241e-11</td>\n",
       "      <td>7.258132e-15</td>\n",
       "      <td>1.093548e-03</td>\n",
       "    </tr>\n",
       "    <tr>\n",
       "      <th>sbj25</th>\n",
       "      <td>1.469302e-04</td>\n",
       "      <td>6.853426e-03</td>\n",
       "      <td>0.000000e+00</td>\n",
       "      <td>0.000000e+00</td>\n",
       "      <td>4.792169e-05</td>\n",
       "      <td>7.459513e-09</td>\n",
       "      <td>3.192379e-08</td>\n",
       "      <td>5.046067e-03</td>\n",
       "      <td>2.509022e-10</td>\n",
       "      <td>0.000000e+00</td>\n",
       "      <td>...</td>\n",
       "      <td>2.087774e-15</td>\n",
       "      <td>0.000000e+00</td>\n",
       "      <td>0.000000e+00</td>\n",
       "      <td>2.193327e-15</td>\n",
       "      <td>0.000000e+00</td>\n",
       "      <td>0.000000e+00</td>\n",
       "      <td>0.000000e+00</td>\n",
       "      <td>0.000000e+00</td>\n",
       "      <td>3.059037e-04</td>\n",
       "      <td>9.934033e-07</td>\n",
       "    </tr>\n",
       "    <tr>\n",
       "      <th>sbj26</th>\n",
       "      <td>9.889791e-14</td>\n",
       "      <td>0.000000e+00</td>\n",
       "      <td>0.000000e+00</td>\n",
       "      <td>1.031031e-03</td>\n",
       "      <td>2.122470e-07</td>\n",
       "      <td>2.528755e-05</td>\n",
       "      <td>7.585007e-07</td>\n",
       "      <td>0.000000e+00</td>\n",
       "      <td>1.326110e-10</td>\n",
       "      <td>4.590849e-03</td>\n",
       "      <td>...</td>\n",
       "      <td>3.057930e-13</td>\n",
       "      <td>0.000000e+00</td>\n",
       "      <td>7.339147e-05</td>\n",
       "      <td>0.000000e+00</td>\n",
       "      <td>9.519132e-11</td>\n",
       "      <td>1.379995e-04</td>\n",
       "      <td>3.523939e-16</td>\n",
       "      <td>2.157038e-03</td>\n",
       "      <td>5.921045e-08</td>\n",
       "      <td>1.188456e-06</td>\n",
       "    </tr>\n",
       "    <tr>\n",
       "      <th>sbj27</th>\n",
       "      <td>0.000000e+00</td>\n",
       "      <td>3.700817e-15</td>\n",
       "      <td>0.000000e+00</td>\n",
       "      <td>2.430443e-04</td>\n",
       "      <td>0.000000e+00</td>\n",
       "      <td>2.441613e-03</td>\n",
       "      <td>1.104791e-03</td>\n",
       "      <td>0.000000e+00</td>\n",
       "      <td>7.603002e-05</td>\n",
       "      <td>1.183327e-16</td>\n",
       "      <td>...</td>\n",
       "      <td>3.520317e-03</td>\n",
       "      <td>4.762711e-03</td>\n",
       "      <td>1.189919e-13</td>\n",
       "      <td>2.593289e-03</td>\n",
       "      <td>1.491974e-13</td>\n",
       "      <td>0.000000e+00</td>\n",
       "      <td>2.342872e-03</td>\n",
       "      <td>4.600342e-08</td>\n",
       "      <td>2.617185e-12</td>\n",
       "      <td>0.000000e+00</td>\n",
       "    </tr>\n",
       "    <tr>\n",
       "      <th>sbj28</th>\n",
       "      <td>0.000000e+00</td>\n",
       "      <td>0.000000e+00</td>\n",
       "      <td>0.000000e+00</td>\n",
       "      <td>7.811675e-04</td>\n",
       "      <td>1.134213e-14</td>\n",
       "      <td>1.095993e-04</td>\n",
       "      <td>0.000000e+00</td>\n",
       "      <td>0.000000e+00</td>\n",
       "      <td>4.903987e-04</td>\n",
       "      <td>0.000000e+00</td>\n",
       "      <td>...</td>\n",
       "      <td>5.650145e-08</td>\n",
       "      <td>6.688751e-15</td>\n",
       "      <td>0.000000e+00</td>\n",
       "      <td>0.000000e+00</td>\n",
       "      <td>2.133309e-02</td>\n",
       "      <td>0.000000e+00</td>\n",
       "      <td>0.000000e+00</td>\n",
       "      <td>1.543764e-08</td>\n",
       "      <td>4.895479e-11</td>\n",
       "      <td>0.000000e+00</td>\n",
       "    </tr>\n",
       "    <tr>\n",
       "      <th>bcg</th>\n",
       "      <td>6.081705e-04</td>\n",
       "      <td>5.006065e-04</td>\n",
       "      <td>3.916728e-04</td>\n",
       "      <td>4.885993e-04</td>\n",
       "      <td>6.222152e-04</td>\n",
       "      <td>5.919762e-04</td>\n",
       "      <td>6.194420e-04</td>\n",
       "      <td>5.224822e-04</td>\n",
       "      <td>6.037625e-04</td>\n",
       "      <td>4.918531e-04</td>\n",
       "      <td>...</td>\n",
       "      <td>6.431891e-04</td>\n",
       "      <td>6.394990e-04</td>\n",
       "      <td>6.094949e-04</td>\n",
       "      <td>6.450025e-04</td>\n",
       "      <td>5.966661e-04</td>\n",
       "      <td>6.803178e-04</td>\n",
       "      <td>6.506994e-04</td>\n",
       "      <td>5.993678e-04</td>\n",
       "      <td>6.462323e-04</td>\n",
       "      <td>5.505455e-04</td>\n",
       "    </tr>\n",
       "  </tbody>\n",
       "</table>\n",
       "<p>30 rows × 1728 columns</p>\n",
       "</div>"
      ],
      "text/plain": [
       "       http://postnauka.ru/video/53046  http://postnauka.ru/video/53169  \\\n",
       "sbj0                      8.128792e-08                     2.427207e-09   \n",
       "sbj1                      0.000000e+00                     0.000000e+00   \n",
       "sbj2                      0.000000e+00                     0.000000e+00   \n",
       "sbj3                      6.889560e-04                     6.942990e-04   \n",
       "sbj4                      1.922136e-04                     0.000000e+00   \n",
       "sbj5                      7.310046e-15                     0.000000e+00   \n",
       "sbj6                      2.140788e-03                     8.438127e-04   \n",
       "sbj7                      0.000000e+00                     0.000000e+00   \n",
       "sbj8                      0.000000e+00                     1.171603e-04   \n",
       "sbj9                      1.078004e-04                     0.000000e+00   \n",
       "sbj10                     1.540328e-03                     0.000000e+00   \n",
       "sbj11                     3.232225e-04                     1.858147e-17   \n",
       "sbj12                     0.000000e+00                     0.000000e+00   \n",
       "sbj13                     1.664201e-17                     1.039493e-02   \n",
       "sbj14                     0.000000e+00                     0.000000e+00   \n",
       "sbj15                     6.875517e-07                     4.882974e-16   \n",
       "sbj16                     0.000000e+00                     0.000000e+00   \n",
       "sbj17                     5.512489e-03                     1.171243e-04   \n",
       "sbj18                     3.081629e-04                     8.914892e-04   \n",
       "sbj19                     8.633295e-04                     0.000000e+00   \n",
       "sbj20                     4.317203e-13                     0.000000e+00   \n",
       "sbj21                     1.118948e-03                     0.000000e+00   \n",
       "sbj22                     7.228151e-04                     1.944132e-06   \n",
       "sbj23                     0.000000e+00                     0.000000e+00   \n",
       "sbj24                     6.178714e-11                     1.434243e-05   \n",
       "sbj25                     1.469302e-04                     6.853426e-03   \n",
       "sbj26                     9.889791e-14                     0.000000e+00   \n",
       "sbj27                     0.000000e+00                     3.700817e-15   \n",
       "sbj28                     0.000000e+00                     0.000000e+00   \n",
       "bcg                       6.081705e-04                     5.006065e-04   \n",
       "\n",
       "       http://postnauka.ru/video/53171  http://postnauka.ru/video/532  \\\n",
       "sbj0                      0.000000e+00                   1.573638e-13   \n",
       "sbj1                      0.000000e+00                   0.000000e+00   \n",
       "sbj2                      0.000000e+00                   7.439604e-04   \n",
       "sbj3                      0.000000e+00                   4.579240e-04   \n",
       "sbj4                      0.000000e+00                   7.721070e-15   \n",
       "sbj5                      0.000000e+00                   1.730432e-12   \n",
       "sbj6                      0.000000e+00                   0.000000e+00   \n",
       "sbj7                      0.000000e+00                   9.757763e-04   \n",
       "sbj8                      0.000000e+00                   2.466307e-03   \n",
       "sbj9                      0.000000e+00                   0.000000e+00   \n",
       "sbj10                     0.000000e+00                   4.087311e-07   \n",
       "sbj11                     0.000000e+00                   5.607456e-03   \n",
       "sbj12                     0.000000e+00                   3.344688e-03   \n",
       "sbj13                     1.781497e-02                   1.169092e-17   \n",
       "sbj14                     0.000000e+00                   0.000000e+00   \n",
       "sbj15                     0.000000e+00                   2.410510e-13   \n",
       "sbj16                     9.796185e-14                   0.000000e+00   \n",
       "sbj17                     0.000000e+00                   1.213191e-07   \n",
       "sbj18                     1.369485e-03                   3.480902e-05   \n",
       "sbj19                     0.000000e+00                   2.418142e-16   \n",
       "sbj20                     0.000000e+00                   3.387221e-06   \n",
       "sbj21                     0.000000e+00                   1.304759e-02   \n",
       "sbj22                     0.000000e+00                   0.000000e+00   \n",
       "sbj23                     0.000000e+00                   0.000000e+00   \n",
       "sbj24                     3.129229e-03                   0.000000e+00   \n",
       "sbj25                     0.000000e+00                   0.000000e+00   \n",
       "sbj26                     0.000000e+00                   1.031031e-03   \n",
       "sbj27                     0.000000e+00                   2.430443e-04   \n",
       "sbj28                     0.000000e+00                   7.811675e-04   \n",
       "bcg                       3.916728e-04                   4.885993e-04   \n",
       "\n",
       "       http://postnauka.ru/video/53228  http://postnauka.ru/video/53298  \\\n",
       "sbj0                      1.071960e-02                     0.000000e+00   \n",
       "sbj1                      6.593671e-11                     8.808729e-12   \n",
       "sbj2                      0.000000e+00                     6.446199e-04   \n",
       "sbj3                      2.706330e-05                     1.814026e-16   \n",
       "sbj4                      1.426832e-04                     2.794460e-05   \n",
       "sbj5                      5.690968e-17                     1.392883e-03   \n",
       "sbj6                      3.279779e-05                     1.949519e-09   \n",
       "sbj7                      1.470541e-04                     1.487897e-16   \n",
       "sbj8                      2.906231e-12                     1.038265e-03   \n",
       "sbj9                      0.000000e+00                     7.532179e-05   \n",
       "sbj10                     4.483593e-04                     1.023157e-08   \n",
       "sbj11                     1.439907e-04                     1.960200e-05   \n",
       "sbj12                     9.071849e-16                     5.952166e-03   \n",
       "sbj13                     6.803284e-05                     0.000000e+00   \n",
       "sbj14                     4.638734e-14                     5.597425e-05   \n",
       "sbj15                     9.458338e-17                     1.277700e-03   \n",
       "sbj16                     2.743088e-08                     2.483694e-11   \n",
       "sbj17                     2.437486e-04                     4.361380e-13   \n",
       "sbj18                     5.956121e-04                     4.547276e-06   \n",
       "sbj19                     2.526650e-04                     0.000000e+00   \n",
       "sbj20                     0.000000e+00                     1.040470e-03   \n",
       "sbj21                     1.774401e-11                     5.860514e-04   \n",
       "sbj22                     6.972333e-05                     1.072767e-07   \n",
       "sbj23                     0.000000e+00                     3.869819e-04   \n",
       "sbj24                     5.938770e-04                     0.000000e+00   \n",
       "sbj25                     4.792169e-05                     7.459513e-09   \n",
       "sbj26                     2.122470e-07                     2.528755e-05   \n",
       "sbj27                     0.000000e+00                     2.441613e-03   \n",
       "sbj28                     1.134213e-14                     1.095993e-04   \n",
       "bcg                       6.222152e-04                     5.919762e-04   \n",
       "\n",
       "       http://postnauka.ru/video/53342  http://postnauka.ru/video/53364  \\\n",
       "sbj0                      8.573581e-17                     1.458098e-04   \n",
       "sbj1                      1.798678e-04                     1.737729e-08   \n",
       "sbj2                      1.738327e-05                     3.340726e-07   \n",
       "sbj3                      1.157718e-12                     2.483782e-04   \n",
       "sbj4                      0.000000e+00                     4.290248e-04   \n",
       "sbj5                      2.933169e-03                     0.000000e+00   \n",
       "sbj6                      9.862095e-08                     1.081235e-04   \n",
       "sbj7                      6.623126e-12                     0.000000e+00   \n",
       "sbj8                      7.978858e-04                     9.707305e-13   \n",
       "sbj9                      4.018659e-11                     1.297027e-09   \n",
       "sbj10                     1.112048e-09                     2.715788e-15   \n",
       "sbj11                     1.273640e-03                     1.750742e-09   \n",
       "sbj12                     7.895800e-03                     0.000000e+00   \n",
       "sbj13                     0.000000e+00                     1.043058e-02   \n",
       "sbj14                     3.707073e-17                     9.360196e-14   \n",
       "sbj15                     2.785828e-04                     0.000000e+00   \n",
       "sbj16                     1.194527e-05                     6.924278e-11   \n",
       "sbj17                     0.000000e+00                     3.282171e-07   \n",
       "sbj18                     9.047865e-08                     3.496143e-04   \n",
       "sbj19                     0.000000e+00                     0.000000e+00   \n",
       "sbj20                     6.730781e-05                     0.000000e+00   \n",
       "sbj21                     1.124136e-03                     0.000000e+00   \n",
       "sbj22                     1.641137e-04                     1.664891e-11   \n",
       "sbj23                     0.000000e+00                     1.226189e-08   \n",
       "sbj24                     0.000000e+00                     9.582310e-04   \n",
       "sbj25                     3.192379e-08                     5.046067e-03   \n",
       "sbj26                     7.585007e-07                     0.000000e+00   \n",
       "sbj27                     1.104791e-03                     0.000000e+00   \n",
       "sbj28                     0.000000e+00                     0.000000e+00   \n",
       "bcg                       6.194420e-04                     5.224822e-04   \n",
       "\n",
       "       http://postnauka.ru/video/53386  http://postnauka.ru/video/53415  ...  \\\n",
       "sbj0                      0.000000e+00                     0.000000e+00  ...   \n",
       "sbj1                      1.750782e-09                     0.000000e+00  ...   \n",
       "sbj2                      9.634306e-04                     8.294906e-03  ...   \n",
       "sbj3                      0.000000e+00                     0.000000e+00  ...   \n",
       "sbj4                      2.134005e-16                     0.000000e+00  ...   \n",
       "sbj5                      3.553350e-03                     0.000000e+00  ...   \n",
       "sbj6                      3.241125e-11                     0.000000e+00  ...   \n",
       "sbj7                      1.680198e-17                     0.000000e+00  ...   \n",
       "sbj8                      1.259414e-04                     0.000000e+00  ...   \n",
       "sbj9                      8.730168e-04                     0.000000e+00  ...   \n",
       "sbj10                     1.505639e-10                     0.000000e+00  ...   \n",
       "sbj11                     0.000000e+00                     0.000000e+00  ...   \n",
       "sbj12                     8.726982e-12                     0.000000e+00  ...   \n",
       "sbj13                     0.000000e+00                     0.000000e+00  ...   \n",
       "sbj14                     4.064764e-03                     0.000000e+00  ...   \n",
       "sbj15                     1.317826e-03                     1.046927e-02  ...   \n",
       "sbj16                     1.144488e-05                     0.000000e+00  ...   \n",
       "sbj17                     0.000000e+00                     0.000000e+00  ...   \n",
       "sbj18                     3.272294e-07                     0.000000e+00  ...   \n",
       "sbj19                     2.997837e-10                     0.000000e+00  ...   \n",
       "sbj20                     4.044384e-04                     0.000000e+00  ...   \n",
       "sbj21                     6.880469e-05                     0.000000e+00  ...   \n",
       "sbj22                     1.560149e-14                     0.000000e+00  ...   \n",
       "sbj23                     1.294044e-15                     0.000000e+00  ...   \n",
       "sbj24                     0.000000e+00                     0.000000e+00  ...   \n",
       "sbj25                     2.509022e-10                     0.000000e+00  ...   \n",
       "sbj26                     1.326110e-10                     4.590849e-03  ...   \n",
       "sbj27                     7.603002e-05                     1.183327e-16  ...   \n",
       "sbj28                     4.903987e-04                     0.000000e+00  ...   \n",
       "bcg                       6.037625e-04                     4.918531e-04  ...   \n",
       "\n",
       "       http://postnauka.ru/video/50088  http://postnauka.ru/video/50090  \\\n",
       "sbj0                      1.858666e-05                     5.318581e-06   \n",
       "sbj1                      5.682055e-05                     7.885166e-12   \n",
       "sbj2                      1.602762e-09                     8.288855e-05   \n",
       "sbj3                      3.249923e-11                     0.000000e+00   \n",
       "sbj4                      5.586166e-09                     0.000000e+00   \n",
       "sbj5                      3.939099e-10                     1.001606e-06   \n",
       "sbj6                      6.195963e-06                     0.000000e+00   \n",
       "sbj7                      2.872133e-07                     0.000000e+00   \n",
       "sbj8                      2.898162e-05                     1.117372e-11   \n",
       "sbj9                      2.061677e-06                     4.476059e-06   \n",
       "sbj10                     3.201941e-11                     0.000000e+00   \n",
       "sbj11                     8.667562e-04                     4.368415e-04   \n",
       "sbj12                     2.333045e-04                     5.898939e-13   \n",
       "sbj13                     4.792584e-06                     0.000000e+00   \n",
       "sbj14                     3.947020e-08                     3.882759e-12   \n",
       "sbj15                     2.443373e-04                     4.801256e-08   \n",
       "sbj16                     4.159440e-04                     7.836877e-14   \n",
       "sbj17                     0.000000e+00                     2.830106e-06   \n",
       "sbj18                     4.283267e-03                     0.000000e+00   \n",
       "sbj19                     1.815477e-10                     1.724887e-17   \n",
       "sbj20                     2.060762e-08                     3.149508e-04   \n",
       "sbj21                     1.174605e-04                     2.225848e-03   \n",
       "sbj22                     8.343299e-08                     9.139957e-10   \n",
       "sbj23                     0.000000e+00                     9.089247e-05   \n",
       "sbj24                     6.737079e-15                     2.422537e-07   \n",
       "sbj25                     2.087774e-15                     0.000000e+00   \n",
       "sbj26                     3.057930e-13                     0.000000e+00   \n",
       "sbj27                     3.520317e-03                     4.762711e-03   \n",
       "sbj28                     5.650145e-08                     6.688751e-15   \n",
       "bcg                       6.431891e-04                     6.394990e-04   \n",
       "\n",
       "       http://postnauka.ru/video/50097  http://postnauka.ru/video/50123  \\\n",
       "sbj0                      1.178524e-02                     0.000000e+00   \n",
       "sbj1                      2.561315e-10                     5.861565e-06   \n",
       "sbj2                      0.000000e+00                     1.400928e-04   \n",
       "sbj3                      1.425163e-06                     3.981051e-04   \n",
       "sbj4                      4.216933e-04                     0.000000e+00   \n",
       "sbj5                      6.869145e-11                     1.023546e-03   \n",
       "sbj6                      1.020307e-03                     0.000000e+00   \n",
       "sbj7                      2.709601e-04                     0.000000e+00   \n",
       "sbj8                      0.000000e+00                     6.446387e-05   \n",
       "sbj9                      0.000000e+00                     3.072558e-12   \n",
       "sbj10                     3.652097e-10                     0.000000e+00   \n",
       "sbj11                     7.008735e-09                     5.841402e-03   \n",
       "sbj12                     7.249611e-14                     2.013948e-03   \n",
       "sbj13                     2.298515e-06                     0.000000e+00   \n",
       "sbj14                     3.679471e-12                     2.904324e-07   \n",
       "sbj15                     5.152813e-05                     3.787327e-06   \n",
       "sbj16                     0.000000e+00                     6.285640e-16   \n",
       "sbj17                     2.467622e-04                     0.000000e+00   \n",
       "sbj18                     6.875357e-04                     1.256313e-16   \n",
       "sbj19                     1.763468e-05                     9.907395e-08   \n",
       "sbj20                     3.615289e-15                     4.164390e-06   \n",
       "sbj21                     1.362009e-13                     2.908824e-04   \n",
       "sbj22                     4.004372e-05                     4.005250e-05   \n",
       "sbj23                     0.000000e+00                     0.000000e+00   \n",
       "sbj24                     3.562368e-04                     0.000000e+00   \n",
       "sbj25                     0.000000e+00                     2.193327e-15   \n",
       "sbj26                     7.339147e-05                     0.000000e+00   \n",
       "sbj27                     1.189919e-13                     2.593289e-03   \n",
       "sbj28                     0.000000e+00                     0.000000e+00   \n",
       "bcg                       6.094949e-04                     6.450025e-04   \n",
       "\n",
       "       http://postnauka.ru/video/50340  http://postnauka.ru/video/50343  \\\n",
       "sbj0                      0.000000e+00                     4.439488e-05   \n",
       "sbj1                      3.973975e-04                     4.078904e-07   \n",
       "sbj2                      5.819240e-04                     1.772591e-11   \n",
       "sbj3                      0.000000e+00                     1.112168e-05   \n",
       "sbj4                      0.000000e+00                     0.000000e+00   \n",
       "sbj5                      1.443639e-03                     4.867918e-11   \n",
       "sbj6                      1.760492e-11                     2.774731e-03   \n",
       "sbj7                      0.000000e+00                     6.003047e-07   \n",
       "sbj8                      1.158277e-03                     2.025443e-15   \n",
       "sbj9                      3.553716e-04                     3.491047e-08   \n",
       "sbj10                     2.788857e-06                     3.096360e-04   \n",
       "sbj11                     0.000000e+00                     4.456404e-11   \n",
       "sbj12                     0.000000e+00                     0.000000e+00   \n",
       "sbj13                     0.000000e+00                     1.640815e-06   \n",
       "sbj14                     7.180199e-10                     1.645479e-16   \n",
       "sbj15                     5.885036e-07                     6.435429e-04   \n",
       "sbj16                     7.993661e-14                     3.868467e-07   \n",
       "sbj17                     0.000000e+00                     2.930019e-04   \n",
       "sbj18                     0.000000e+00                     1.028765e-09   \n",
       "sbj19                     1.506635e-08                     3.521290e-04   \n",
       "sbj20                     5.644248e-06                     2.981159e-03   \n",
       "sbj21                     3.697279e-08                     0.000000e+00   \n",
       "sbj22                     5.613201e-13                     6.993191e-04   \n",
       "sbj23                     7.760184e-12                     1.888241e-07   \n",
       "sbj24                     0.000000e+00                     2.710811e-03   \n",
       "sbj25                     0.000000e+00                     0.000000e+00   \n",
       "sbj26                     9.519132e-11                     1.379995e-04   \n",
       "sbj27                     1.491974e-13                     0.000000e+00   \n",
       "sbj28                     2.133309e-02                     0.000000e+00   \n",
       "bcg                       5.966661e-04                     6.803178e-04   \n",
       "\n",
       "       http://postnauka.ru/video/50345  http://postnauka.ru/video/50347  \\\n",
       "sbj0                      0.000000e+00                     1.864184e-07   \n",
       "sbj1                      4.056479e-11                     3.296881e-07   \n",
       "sbj2                      1.741395e-16                     4.820088e-03   \n",
       "sbj3                      1.191064e-05                     3.156150e-04   \n",
       "sbj4                      8.156783e-05                     7.907800e-04   \n",
       "sbj5                      2.122981e-03                     5.227331e-05   \n",
       "sbj6                      8.953591e-11                     1.918093e-07   \n",
       "sbj7                      0.000000e+00                     0.000000e+00   \n",
       "sbj8                      2.750842e-03                     4.458290e-14   \n",
       "sbj9                      7.716137e-13                     0.000000e+00   \n",
       "sbj10                     0.000000e+00                     2.117548e-07   \n",
       "sbj11                     6.179575e-06                     1.526094e-09   \n",
       "sbj12                     2.497385e-04                     0.000000e+00   \n",
       "sbj13                     0.000000e+00                     5.675770e-18   \n",
       "sbj14                     4.434624e-09                     0.000000e+00   \n",
       "sbj15                     1.040000e-05                     7.700750e-04   \n",
       "sbj16                     3.041337e-17                     0.000000e+00   \n",
       "sbj17                     0.000000e+00                     4.344342e-03   \n",
       "sbj18                     1.037780e-08                     4.763671e-04   \n",
       "sbj19                     0.000000e+00                     3.070249e-06   \n",
       "sbj20                     9.779260e-05                     5.476893e-05   \n",
       "sbj21                     1.746084e-03                     3.129744e-13   \n",
       "sbj22                     7.884476e-09                     1.386632e-03   \n",
       "sbj23                     1.652742e-09                     0.000000e+00   \n",
       "sbj24                     4.026005e-14                     8.767241e-11   \n",
       "sbj25                     0.000000e+00                     0.000000e+00   \n",
       "sbj26                     3.523939e-16                     2.157038e-03   \n",
       "sbj27                     2.342872e-03                     4.600342e-08   \n",
       "sbj28                     0.000000e+00                     1.543764e-08   \n",
       "bcg                       6.506994e-04                     5.993678e-04   \n",
       "\n",
       "       http://postnauka.ru/video/50349  http://postnauka.ru/video/50350  \n",
       "sbj0                      0.000000e+00                     1.360901e-02  \n",
       "sbj1                      4.915842e-07                     8.360168e-05  \n",
       "sbj2                      8.788938e-04                     0.000000e+00  \n",
       "sbj3                      4.909903e-10                     8.600110e-05  \n",
       "sbj4                      2.415795e-15                     2.784427e-05  \n",
       "sbj5                      1.786288e-04                     0.000000e+00  \n",
       "sbj6                      0.000000e+00                     7.099634e-05  \n",
       "sbj7                      0.000000e+00                     9.361132e-06  \n",
       "sbj8                      5.768130e-10                     0.000000e+00  \n",
       "sbj9                      1.154710e-08                     1.703287e-08  \n",
       "sbj10                     5.436849e-09                     2.633679e-04  \n",
       "sbj11                     0.000000e+00                     9.783937e-07  \n",
       "sbj12                     9.887858e-09                     4.115561e-13  \n",
       "sbj13                     6.475573e-10                     7.155670e-04  \n",
       "sbj14                     1.716611e-04                     2.809551e-16  \n",
       "sbj15                     9.074035e-03                     1.197990e-05  \n",
       "sbj16                     1.104587e-14                     2.255785e-16  \n",
       "sbj17                     5.808467e-11                     4.294849e-04  \n",
       "sbj18                     0.000000e+00                     6.716410e-04  \n",
       "sbj19                     3.016795e-16                     2.290912e-11  \n",
       "sbj20                     7.352345e-04                     0.000000e+00  \n",
       "sbj21                     7.673126e-16                     6.945382e-07  \n",
       "sbj22                     1.147593e-04                     2.797761e-04  \n",
       "sbj23                     6.032084e-04                     0.000000e+00  \n",
       "sbj24                     7.258132e-15                     1.093548e-03  \n",
       "sbj25                     3.059037e-04                     9.934033e-07  \n",
       "sbj26                     5.921045e-08                     1.188456e-06  \n",
       "sbj27                     2.617185e-12                     0.000000e+00  \n",
       "sbj28                     4.895479e-11                     0.000000e+00  \n",
       "bcg                       6.462323e-04                     5.505455e-04  \n",
       "\n",
       "[30 rows x 1728 columns]"
      ]
     },
     "execution_count": 110,
     "metadata": {},
     "output_type": "execute_result"
    }
   ],
   "source": [
    "# Ваш код\n",
    "theta_transformed = theta.apply(lambda x: x / sum(x), axis=1)\n",
    "theta_transformed"
   ]
  },
  {
   "cell_type": "code",
   "execution_count": 168,
   "metadata": {},
   "outputs": [
    {
     "name": "stdout",
     "output_type": "stream",
     "text": [
      "sbj0 : [(u'http://postnauka.ru/video/10006', 0.0005055242800153792), (u'http://postnauka.ru/video/10379', 0.0), (u'http://postnauka.ru/video/10380', 0.0), (u'http://postnauka.ru/video/10381', 0.008757778443396091), (u'http://postnauka.ru/video/10382', 0.0), (u'http://postnauka.ru/video/10383', 0.0), (u'http://postnauka.ru/video/10384', 0.0), (u'http://postnauka.ru/video/10385', 0.0), (u'http://postnauka.ru/video/10473', 0.0), (u'http://postnauka.ru/video/10475', 0.0)]\n",
      "sbj1 : [(u'http://postnauka.ru/video/10006', 0.0), (u'http://postnauka.ru/video/10379', 0.0), (u'http://postnauka.ru/video/10380', 0.0009838049300014973), (u'http://postnauka.ru/video/10381', 0.0), (u'http://postnauka.ru/video/10382', 0.0), (u'http://postnauka.ru/video/10383', 0.0), (u'http://postnauka.ru/video/10384', 0.00031748227775096893), (u'http://postnauka.ru/video/10385', 0.0), (u'http://postnauka.ru/video/10473', 0.0), (u'http://postnauka.ru/video/10475', 0.0)]\n",
      "sbj2 : [(u'http://postnauka.ru/video/10006', 0.0), (u'http://postnauka.ru/video/10379', 0.0), (u'http://postnauka.ru/video/10380', 0.0), (u'http://postnauka.ru/video/10381', 0.00414506159722805), (u'http://postnauka.ru/video/10382', 0.0), (u'http://postnauka.ru/video/10383', 0.002199753187596798), (u'http://postnauka.ru/video/10384', 0.0), (u'http://postnauka.ru/video/10385', 0.0), (u'http://postnauka.ru/video/10473', 0.0), (u'http://postnauka.ru/video/10475', 0.0)]\n",
      "sbj3 : [(u'http://postnauka.ru/video/10006', 0.0), (u'http://postnauka.ru/video/10379', 0.0017726379446685314), (u'http://postnauka.ru/video/10380', 0.0019376614363864064), (u'http://postnauka.ru/video/10381', 0.0), (u'http://postnauka.ru/video/10382', 0.0), (u'http://postnauka.ru/video/10383', 0.0), (u'http://postnauka.ru/video/10384', 0.00019564671674743295), (u'http://postnauka.ru/video/10385', 0.0024676432367414236), (u'http://postnauka.ru/video/10473', 0.0), (u'http://postnauka.ru/video/10475', 0.0)]\n",
      "sbj4 : [(u'http://postnauka.ru/video/10006', 0.007894910871982574), (u'http://postnauka.ru/video/10379', 0.0), (u'http://postnauka.ru/video/10380', 0.0), (u'http://postnauka.ru/video/10381', 0.0), (u'http://postnauka.ru/video/10382', 0.0), (u'http://postnauka.ru/video/10383', 0.0), (u'http://postnauka.ru/video/10384', 0.0), (u'http://postnauka.ru/video/10385', 0.0), (u'http://postnauka.ru/video/10473', 0.0), (u'http://postnauka.ru/video/10475', 0.0)]\n",
      "sbj5 : [(u'http://postnauka.ru/video/10006', 0.0), (u'http://postnauka.ru/video/10379', 0.01197820995002985), (u'http://postnauka.ru/video/10380', 6.977951549913541e-11), (u'http://postnauka.ru/video/10381', 0.0), (u'http://postnauka.ru/video/10382', 0.0), (u'http://postnauka.ru/video/10383', 0.0), (u'http://postnauka.ru/video/10384', 0.0), (u'http://postnauka.ru/video/10385', 0.0), (u'http://postnauka.ru/video/10473', 0.0), (u'http://postnauka.ru/video/10475', 0.0012631939025595784)]\n",
      "sbj6 : [(u'http://postnauka.ru/video/10006', 0.0), (u'http://postnauka.ru/video/10379', 0.0), (u'http://postnauka.ru/video/10380', 0.0), (u'http://postnauka.ru/video/10381', 0.0), (u'http://postnauka.ru/video/10382', 0.0), (u'http://postnauka.ru/video/10383', 0.0), (u'http://postnauka.ru/video/10384', 0.0), (u'http://postnauka.ru/video/10385', 0.0), (u'http://postnauka.ru/video/10473', 0.0), (u'http://postnauka.ru/video/10475', 0.0)]\n",
      "sbj7 : [(u'http://postnauka.ru/video/10006', 0.0), (u'http://postnauka.ru/video/10379', 0.0), (u'http://postnauka.ru/video/10380', 0.0), (u'http://postnauka.ru/video/10381', 0.0), (u'http://postnauka.ru/video/10382', 0.0), (u'http://postnauka.ru/video/10383', 0.0), (u'http://postnauka.ru/video/10384', 0.0), (u'http://postnauka.ru/video/10385', 0.0), (u'http://postnauka.ru/video/10473', 0.0), (u'http://postnauka.ru/video/10475', 0.0)]\n",
      "sbj8 : [(u'http://postnauka.ru/video/10006', 0.00014093975187279284), (u'http://postnauka.ru/video/10379', 0.001931202132254839), (u'http://postnauka.ru/video/10380', 0.008196736685931683), (u'http://postnauka.ru/video/10381', 0.0), (u'http://postnauka.ru/video/10382', 0.003015828086063266), (u'http://postnauka.ru/video/10383', 0.0012531584361568093), (u'http://postnauka.ru/video/10384', 0.0), (u'http://postnauka.ru/video/10385', 3.815785748884082e-05), (u'http://postnauka.ru/video/10473', 0.011235591024160385), (u'http://postnauka.ru/video/10475', 0.002288498915731907)]\n",
      "sbj9 : [(u'http://postnauka.ru/video/10006', 0.0), (u'http://postnauka.ru/video/10379', 0.0), (u'http://postnauka.ru/video/10380', 0.0), (u'http://postnauka.ru/video/10381', 0.0), (u'http://postnauka.ru/video/10382', 0.0), (u'http://postnauka.ru/video/10383', 0.004935606848448515), (u'http://postnauka.ru/video/10384', 0.0), (u'http://postnauka.ru/video/10385', 0.0), (u'http://postnauka.ru/video/10473', 0.0006779517862014472), (u'http://postnauka.ru/video/10475', 0.0)]\n",
      "sbj10 : [(u'http://postnauka.ru/video/10006', 0.0), (u'http://postnauka.ru/video/10379', 0.0), (u'http://postnauka.ru/video/10380', 0.0025480601470917463), (u'http://postnauka.ru/video/10381', 0.00334420264698565), (u'http://postnauka.ru/video/10382', 0.0), (u'http://postnauka.ru/video/10383', 0.0), (u'http://postnauka.ru/video/10384', 0.0015415094094350934), (u'http://postnauka.ru/video/10385', 0.0), (u'http://postnauka.ru/video/10473', 0.0), (u'http://postnauka.ru/video/10475', 0.0)]\n",
      "sbj11 : [(u'http://postnauka.ru/video/10006', 0.0), (u'http://postnauka.ru/video/10379', 0.0), (u'http://postnauka.ru/video/10380', 0.0), (u'http://postnauka.ru/video/10381', 0.0), (u'http://postnauka.ru/video/10382', 0.0), (u'http://postnauka.ru/video/10383', 0.0), (u'http://postnauka.ru/video/10384', 0.0), (u'http://postnauka.ru/video/10385', 0.0), (u'http://postnauka.ru/video/10473', 0.0), (u'http://postnauka.ru/video/10475', 0.0)]\n",
      "sbj12 : [(u'http://postnauka.ru/video/10006', 0.0025753029622137547), (u'http://postnauka.ru/video/10379', 0.0), (u'http://postnauka.ru/video/10380', 0.0), (u'http://postnauka.ru/video/10381', 0.0), (u'http://postnauka.ru/video/10382', 0.0), (u'http://postnauka.ru/video/10383', 0.0), (u'http://postnauka.ru/video/10384', 0.0), (u'http://postnauka.ru/video/10385', 0.0), (u'http://postnauka.ru/video/10473', 0.0), (u'http://postnauka.ru/video/10475', 0.004135402850806713)]\n",
      "sbj13 : [(u'http://postnauka.ru/video/10006', 0.0), (u'http://postnauka.ru/video/10379', 0.0), (u'http://postnauka.ru/video/10380', 0.0008553374791517854), (u'http://postnauka.ru/video/10381', 0.0005707477102987468), (u'http://postnauka.ru/video/10382', 0.0), (u'http://postnauka.ru/video/10383', 0.0), (u'http://postnauka.ru/video/10384', 0.005057163070887327), (u'http://postnauka.ru/video/10385', 0.0), (u'http://postnauka.ru/video/10473', 6.523957069015651e-11), (u'http://postnauka.ru/video/10475', 0.0)]\n",
      "sbj14 : [(u'http://postnauka.ru/video/10006', 0.0), (u'http://postnauka.ru/video/10379', 0.0), (u'http://postnauka.ru/video/10380', 0.00011356074537616223), (u'http://postnauka.ru/video/10381', 0.0), (u'http://postnauka.ru/video/10382', 0.0), (u'http://postnauka.ru/video/10383', 0.004989478271454573), (u'http://postnauka.ru/video/10384', 0.0), (u'http://postnauka.ru/video/10385', 0.0), (u'http://postnauka.ru/video/10473', 0.0), (u'http://postnauka.ru/video/10475', 0.0)]\n",
      "sbj15 : [(u'http://postnauka.ru/video/10006', 0.0), (u'http://postnauka.ru/video/10379', 0.0), (u'http://postnauka.ru/video/10380', 0.0), (u'http://postnauka.ru/video/10381', 0.0), (u'http://postnauka.ru/video/10382', 0.0), (u'http://postnauka.ru/video/10383', 0.0), (u'http://postnauka.ru/video/10384', 0.0), (u'http://postnauka.ru/video/10385', 0.0), (u'http://postnauka.ru/video/10473', 0.0013150031445547938), (u'http://postnauka.ru/video/10475', 0.0)]\n",
      "sbj16 : [(u'http://postnauka.ru/video/10006', 0.0), (u'http://postnauka.ru/video/10379', 0.0), (u'http://postnauka.ru/video/10380', 0.0), (u'http://postnauka.ru/video/10381', 0.0), (u'http://postnauka.ru/video/10382', 0.0), (u'http://postnauka.ru/video/10383', 0.0), (u'http://postnauka.ru/video/10384', 0.0), (u'http://postnauka.ru/video/10385', 0.0), (u'http://postnauka.ru/video/10473', 0.0), (u'http://postnauka.ru/video/10475', 0.0)]\n",
      "sbj17 : [(u'http://postnauka.ru/video/10006', 0.0), (u'http://postnauka.ru/video/10379', 0.0), (u'http://postnauka.ru/video/10380', 0.0008249283418990672), (u'http://postnauka.ru/video/10381', 0.0), (u'http://postnauka.ru/video/10382', 0.0), (u'http://postnauka.ru/video/10383', 0.0), (u'http://postnauka.ru/video/10384', 0.0020784875378012657), (u'http://postnauka.ru/video/10385', 0.0), (u'http://postnauka.ru/video/10473', 0.0), (u'http://postnauka.ru/video/10475', 0.0)]\n",
      "sbj18 : [(u'http://postnauka.ru/video/10006', 0.0014581960858777165), (u'http://postnauka.ru/video/10379', 0.0), (u'http://postnauka.ru/video/10380', 0.0), (u'http://postnauka.ru/video/10381', 0.0), (u'http://postnauka.ru/video/10382', 8.697933345791498e-11), (u'http://postnauka.ru/video/10383', 0.0), (u'http://postnauka.ru/video/10384', 0.0), (u'http://postnauka.ru/video/10385', 0.0), (u'http://postnauka.ru/video/10473', 7.9693641907852e-08), (u'http://postnauka.ru/video/10475', 0.0)]\n",
      "sbj19 : [(u'http://postnauka.ru/video/10006', 0.0), (u'http://postnauka.ru/video/10379', 0.0), (u'http://postnauka.ru/video/10380', 0.0), (u'http://postnauka.ru/video/10381', 0.0), (u'http://postnauka.ru/video/10382', 0.0), (u'http://postnauka.ru/video/10383', 0.0), (u'http://postnauka.ru/video/10384', 0.0), (u'http://postnauka.ru/video/10385', 0.0), (u'http://postnauka.ru/video/10473', 0.0), (u'http://postnauka.ru/video/10475', 0.0)]\n",
      "sbj20 : [(u'http://postnauka.ru/video/10006', 0.0), (u'http://postnauka.ru/video/10379', 0.0), (u'http://postnauka.ru/video/10380', 0.0), (u'http://postnauka.ru/video/10381', 0.0), (u'http://postnauka.ru/video/10382', 0.0), (u'http://postnauka.ru/video/10383', 0.0), (u'http://postnauka.ru/video/10384', 0.0), (u'http://postnauka.ru/video/10385', 0.0), (u'http://postnauka.ru/video/10473', 0.001828454784117639), (u'http://postnauka.ru/video/10475', 0.0013788400683552027)]\n",
      "sbj21 : [(u'http://postnauka.ru/video/10006', 0.005113889928907156), (u'http://postnauka.ru/video/10379', 0.0), (u'http://postnauka.ru/video/10380', 0.0), (u'http://postnauka.ru/video/10381', 0.0), (u'http://postnauka.ru/video/10382', 0.0019951837603002787), (u'http://postnauka.ru/video/10383', 0.0), (u'http://postnauka.ru/video/10384', 0.0), (u'http://postnauka.ru/video/10385', 0.0), (u'http://postnauka.ru/video/10473', 0.0), (u'http://postnauka.ru/video/10475', 0.0)]\n",
      "sbj22 : [(u'http://postnauka.ru/video/10006', 0.0), (u'http://postnauka.ru/video/10379', 0.0), (u'http://postnauka.ru/video/10380', 0.0), (u'http://postnauka.ru/video/10381', 0.0), (u'http://postnauka.ru/video/10382', 2.52026643998704e-09), (u'http://postnauka.ru/video/10383', 0.0), (u'http://postnauka.ru/video/10384', 0.0), (u'http://postnauka.ru/video/10385', 0.001540617668069899), (u'http://postnauka.ru/video/10473', 0.0), (u'http://postnauka.ru/video/10475', 0.0)]\n",
      "sbj23 : [(u'http://postnauka.ru/video/10006', 0.0), (u'http://postnauka.ru/video/10379', 0.0), (u'http://postnauka.ru/video/10380', 0.0), (u'http://postnauka.ru/video/10381', 0.0), (u'http://postnauka.ru/video/10382', 0.0), (u'http://postnauka.ru/video/10383', 0.0), (u'http://postnauka.ru/video/10384', 0.0), (u'http://postnauka.ru/video/10385', 0.0), (u'http://postnauka.ru/video/10473', 0.0), (u'http://postnauka.ru/video/10475', 0.0)]\n",
      "sbj24 : [(u'http://postnauka.ru/video/10006', 0.001207667519338429), (u'http://postnauka.ru/video/10379', 0.0), (u'http://postnauka.ru/video/10380', 4.3227102500514435e-15), (u'http://postnauka.ru/video/10381', 0.0022710931953042746), (u'http://postnauka.ru/video/10382', 0.0), (u'http://postnauka.ru/video/10383', 0.0), (u'http://postnauka.ru/video/10384', 0.0), (u'http://postnauka.ru/video/10385', 0.008385253138840199), (u'http://postnauka.ru/video/10473', 0.0), (u'http://postnauka.ru/video/10475', 0.0)]\n",
      "sbj25 : [(u'http://postnauka.ru/video/10006', 0.0), (u'http://postnauka.ru/video/10379', 0.0), (u'http://postnauka.ru/video/10380', 0.0), (u'http://postnauka.ru/video/10381', 0.0), (u'http://postnauka.ru/video/10382', 0.0), (u'http://postnauka.ru/video/10383', 0.0), (u'http://postnauka.ru/video/10384', 0.0), (u'http://postnauka.ru/video/10385', 0.0), (u'http://postnauka.ru/video/10473', 0.01271107979118824), (u'http://postnauka.ru/video/10475', 0.0)]\n",
      "sbj26 : [(u'http://postnauka.ru/video/10006', 3.8262868893267077e-13), (u'http://postnauka.ru/video/10379', 0.0), (u'http://postnauka.ru/video/10380', 0.008731885813176632), (u'http://postnauka.ru/video/10381', 0.0), (u'http://postnauka.ru/video/10382', 0.008105726912617683), (u'http://postnauka.ru/video/10383', 0.0), (u'http://postnauka.ru/video/10384', 0.00838475488126278), (u'http://postnauka.ru/video/10385', 0.0), (u'http://postnauka.ru/video/10473', 0.0013032661518082023), (u'http://postnauka.ru/video/10475', 0.0)]\n",
      "sbj27 : [(u'http://postnauka.ru/video/10006', 0.002774371998384595), (u'http://postnauka.ru/video/10379', 0.0), (u'http://postnauka.ru/video/10380', 0.0), (u'http://postnauka.ru/video/10381', 0.0), (u'http://postnauka.ru/video/10382', 0.004391123075038195), (u'http://postnauka.ru/video/10383', 0.0), (u'http://postnauka.ru/video/10384', 0.0), (u'http://postnauka.ru/video/10385', 0.0), (u'http://postnauka.ru/video/10473', 0.0), (u'http://postnauka.ru/video/10475', 0.009277652949094772)]\n",
      "sbj28 : [(u'http://postnauka.ru/video/10006', 0.0), (u'http://postnauka.ru/video/10379', 0.0), (u'http://postnauka.ru/video/10380', 0.0), (u'http://postnauka.ru/video/10381', 0.0029992414638400078), (u'http://postnauka.ru/video/10382', 0.0), (u'http://postnauka.ru/video/10383', 0.0), (u'http://postnauka.ru/video/10384', 0.0), (u'http://postnauka.ru/video/10385', 0.0), (u'http://postnauka.ru/video/10473', 0.0), (u'http://postnauka.ru/video/10475', 0.0)]\n",
      "bcg : [(u'http://postnauka.ru/video/10006', 0.0005003375117667019), (u'http://postnauka.ru/video/10379', 0.0005940828123129904), (u'http://postnauka.ru/video/10380', 0.0004081027291249484), (u'http://postnauka.ru/video/10381', 0.0004933568998239934), (u'http://postnauka.ru/video/10382', 0.0004835607542190701), (u'http://postnauka.ru/video/10383', 0.0005076127708889544), (u'http://postnauka.ru/video/10384', 0.0005209785886108875), (u'http://postnauka.ru/video/10385', 0.0005866967840120196), (u'http://postnauka.ru/video/10473', 0.00037711852928623557), (u'http://postnauka.ru/video/10475', 0.0003977605374529958)]\n"
     ]
    }
   ],
   "source": [
    "topDocs = []\n",
    "\n",
    "for topic in theta_transformed.index:\n",
    "    topDocs.append((topic, sorted(list(theta_transformed.loc[topic].items()), key=lambda x: -x[1])[:10]))\n",
    "    print(\"{} : {}\".format(topic, sorted(list(theta_transformed.loc[topic].items()))[:10]))\n"
   ]
  },
  {
   "cell_type": "markdown",
   "metadata": {},
   "source": [
    "Создавать навигатор мы будем прямо в jupiter notebook: это возможно благодаря тому факту, что при печати ссылки она автоматически превращается в гиперссылку."
   ]
  },
  {
   "cell_type": "code",
   "execution_count": 133,
   "metadata": {},
   "outputs": [
    {
     "name": "stdout",
     "output_type": "stream",
     "text": [
      "http://yandex.ru\n"
     ]
    }
   ],
   "source": [
    "print \"http://yandex.ru\"   # получится кликабельная ссылка"
   ]
  },
  {
   "cell_type": "markdown",
   "metadata": {},
   "source": [
    "Кроме того, подключив модуль [ipython.core.display](https://ipython.org/ipython-doc/2/api/generated/IPython.core.display.html), можно использовать html-разметку в выводе. Например:"
   ]
  },
  {
   "cell_type": "code",
   "execution_count": 146,
   "metadata": {},
   "outputs": [
    {
     "data": {
      "text/html": [
       "<h1>Заголовок</h1>"
      ],
      "text/plain": [
       "<IPython.core.display.HTML object>"
      ]
     },
     "metadata": {},
     "output_type": "display_data"
    },
    {
     "data": {
      "text/html": [
       "<ul><li>Пункт 1</li><li>Пункт 2</li></ul>"
      ],
      "text/plain": [
       "<IPython.core.display.HTML object>"
      ]
     },
     "metadata": {},
     "output_type": "display_data"
    },
    {
     "data": {
      "text/html": [
       "<font color=\"green\">Зеленый!</font>"
      ],
      "text/plain": [
       "<IPython.core.display.HTML object>"
      ]
     },
     "metadata": {},
     "output_type": "display_data"
    },
    {
     "data": {
      "text/html": [
       "<a href=\"http://yandex.ru\">Еще один вариант вывода ссылки</a>"
      ],
      "text/plain": [
       "<IPython.core.display.HTML object>"
      ]
     },
     "metadata": {},
     "output_type": "display_data"
    }
   ],
   "source": [
    "from IPython.core.display import display, HTML\n",
    "display(HTML(u\"<h1>Заголовок</h1>\"))   # также <h2>, <h3>\n",
    "display(HTML(u\"<ul><li>Пункт 1</li><li>Пункт 2</li></ul>\"))\n",
    "display(HTML(u'<font color=\"green\">Зеленый!</font>'))\n",
    "display(HTML(u'<a href=\"http://yandex.ru\">Еще один вариант вывода ссылки</a>'))"
   ]
  },
  {
   "cell_type": "markdown",
   "metadata": {},
   "source": [
    "В цикле для каждой темы выведите ее заголовок, в следующей строке - топ-10 слов темы, затем в виде списка ссылки на 10 наиболее релевантных (по $p(d|t)$) теме документов. Используйте html-разметку. Творчество приветствуется :)"
   ]
  },
  {
   "cell_type": "code",
   "execution_count": 169,
   "metadata": {
    "scrolled": false
   },
   "outputs": [
    {
     "data": {
      "text/html": [
       "<h1>Исторические правители</h1>"
      ],
      "text/plain": [
       "<IPython.core.display.HTML object>"
      ]
     },
     "metadata": {},
     "output_type": "display_data"
    },
    {
     "data": {
      "text/html": [
       "<h3>Топ-слова</h3>"
      ],
      "text/plain": [
       "<IPython.core.display.HTML object>"
      ]
     },
     "metadata": {},
     "output_type": "display_data"
    },
    {
     "name": "stdout",
     "output_type": "stream",
     "text": [
      "церковь власть русь средневековый император святой римский сага князь папа\n"
     ]
    },
    {
     "data": {
      "text/html": [
       "<h3>Релевантные документы</h3>"
      ],
      "text/plain": [
       "<IPython.core.display.HTML object>"
      ]
     },
     "metadata": {},
     "output_type": "display_data"
    },
    {
     "name": "stdout",
     "output_type": "stream",
     "text": [
      "http://postnauka.ru/video/3348\n",
      "http://postnauka.ru/video/9299\n",
      "http://postnauka.ru/video/24030\n",
      "http://postnauka.ru/video/23472\n",
      "http://postnauka.ru/video/24034\n",
      "http://postnauka.ru/video/31677\n",
      "http://postnauka.ru/video/50350\n",
      "http://postnauka.ru/video/13156\n",
      "http://postnauka.ru/video/9968\n",
      "http://postnauka.ru/video/50668\n"
     ]
    },
    {
     "data": {
      "text/html": [
       "<h1>Жизненный цикл Солнечной системы</h1>"
      ],
      "text/plain": [
       "<IPython.core.display.HTML object>"
      ]
     },
     "metadata": {},
     "output_type": "display_data"
    },
    {
     "data": {
      "text/html": [
       "<h3>Топ-слова</h3>"
      ],
      "text/plain": [
       "<IPython.core.display.HTML object>"
      ]
     },
     "metadata": {},
     "output_type": "display_data"
    },
    {
     "name": "stdout",
     "output_type": "stream",
     "text": [
      "планета земля атмосфера солнце солнечный белый газ карлик образовываться вокруг\n"
     ]
    },
    {
     "data": {
      "text/html": [
       "<h3>Релевантные документы</h3>"
      ],
      "text/plain": [
       "<IPython.core.display.HTML object>"
      ]
     },
     "metadata": {},
     "output_type": "display_data"
    },
    {
     "name": "stdout",
     "output_type": "stream",
     "text": [
      "http://postnauka.ru/video/53693\n",
      "http://postnauka.ru/video/31695\n",
      "http://postnauka.ru/video/32889\n",
      "http://postnauka.ru/video/51364\n",
      "http://postnauka.ru/video/9835\n",
      "http://postnauka.ru/video/36249\n",
      "http://postnauka.ru/video/9690\n",
      "http://postnauka.ru/video/49261\n",
      "http://postnauka.ru/video/37994\n",
      "http://postnauka.ru/video/24245\n"
     ]
    },
    {
     "data": {
      "text/html": [
       "<h1>Движение систем</h1>"
      ],
      "text/plain": [
       "<IPython.core.display.HTML object>"
      ]
     },
     "metadata": {},
     "output_type": "display_data"
    },
    {
     "data": {
      "text/html": [
       "<h3>Топ-слова</h3>"
      ],
      "text/plain": [
       "<IPython.core.display.HTML object>"
      ]
     },
     "metadata": {},
     "output_type": "display_data"
    },
    {
     "name": "stdout",
     "output_type": "stream",
     "text": [
      "система состояние трудность двигаться частота поведение искусственный точность относительность движение\n"
     ]
    },
    {
     "data": {
      "text/html": [
       "<h3>Релевантные документы</h3>"
      ],
      "text/plain": [
       "<IPython.core.display.HTML object>"
      ]
     },
     "metadata": {},
     "output_type": "display_data"
    },
    {
     "name": "stdout",
     "output_type": "stream",
     "text": [
      "http://postnauka.ru/video/1856\n",
      "http://postnauka.ru/video/51174\n",
      "http://postnauka.ru/video/52553\n",
      "http://postnauka.ru/video/34426\n",
      "http://postnauka.ru/video/19509\n",
      "http://postnauka.ru/video/52548\n",
      "http://postnauka.ru/video/21662\n",
      "http://postnauka.ru/video/37982\n",
      "http://postnauka.ru/video/51382\n",
      "http://postnauka.ru/video/41348\n"
     ]
    },
    {
     "data": {
      "text/html": [
       "<h1>Феномен культуры</h1>"
      ],
      "text/plain": [
       "<IPython.core.display.HTML object>"
      ]
     },
     "metadata": {},
     "output_type": "display_data"
    },
    {
     "data": {
      "text/html": [
       "<h3>Топ-слова</h3>"
      ],
      "text/plain": [
       "<IPython.core.display.HTML object>"
      ]
     },
     "metadata": {},
     "output_type": "display_data"
    },
    {
     "name": "stdout",
     "output_type": "stream",
     "text": [
      "культура понятие культурный восприятие сознание феномен личность ощущение воспринимать чувство\n"
     ]
    },
    {
     "data": {
      "text/html": [
       "<h3>Релевантные документы</h3>"
      ],
      "text/plain": [
       "<IPython.core.display.HTML object>"
      ]
     },
     "metadata": {},
     "output_type": "display_data"
    },
    {
     "name": "stdout",
     "output_type": "stream",
     "text": [
      "http://postnauka.ru/video/11034\n",
      "http://postnauka.ru/video/12524\n",
      "http://postnauka.ru/video/12740\n",
      "http://postnauka.ru/video/5891\n",
      "http://postnauka.ru/video/7747\n",
      "http://postnauka.ru/video/11626\n",
      "http://postnauka.ru/video/7731\n",
      "http://postnauka.ru/video/7770\n",
      "http://postnauka.ru/video/20388\n",
      "http://postnauka.ru/video/10749\n"
     ]
    },
    {
     "data": {
      "text/html": [
       "<h1>Юриспруденция</h1>"
      ],
      "text/plain": [
       "<IPython.core.display.HTML object>"
      ]
     },
     "metadata": {},
     "output_type": "display_data"
    },
    {
     "data": {
      "text/html": [
       "<h3>Топ-слова</h3>"
      ],
      "text/plain": [
       "<IPython.core.display.HTML object>"
      ]
     },
     "metadata": {},
     "output_type": "display_data"
    },
    {
     "name": "stdout",
     "output_type": "stream",
     "text": [
      "право литература литературный искусство юрист должник собственность обязательство римский владение\n"
     ]
    },
    {
     "data": {
      "text/html": [
       "<h3>Релевантные документы</h3>"
      ],
      "text/plain": [
       "<IPython.core.display.HTML object>"
      ]
     },
     "metadata": {},
     "output_type": "display_data"
    },
    {
     "name": "stdout",
     "output_type": "stream",
     "text": [
      "http://postnauka.ru/video/17913\n",
      "http://postnauka.ru/video/31688\n",
      "http://postnauka.ru/video/38009\n",
      "http://postnauka.ru/video/34414\n",
      "http://postnauka.ru/video/49455\n",
      "http://postnauka.ru/video/14297\n",
      "http://postnauka.ru/video/17825\n",
      "http://postnauka.ru/video/16822\n",
      "http://postnauka.ru/video/13042\n",
      "http://postnauka.ru/video/36715\n"
     ]
    },
    {
     "data": {
      "text/html": [
       "<h1>Углерод</h1>"
      ],
      "text/plain": [
       "<IPython.core.display.HTML object>"
      ]
     },
     "metadata": {},
     "output_type": "display_data"
    },
    {
     "data": {
      "text/html": [
       "<h3>Топ-слова</h3>"
      ],
      "text/plain": [
       "<IPython.core.display.HTML object>"
      ]
     },
     "metadata": {},
     "output_type": "display_data"
    },
    {
     "name": "stdout",
     "output_type": "stream",
     "text": [
      "материал структура молекула свойство углерод применение полимер поверхность вещество кристалл\n"
     ]
    },
    {
     "data": {
      "text/html": [
       "<h3>Релевантные документы</h3>"
      ],
      "text/plain": [
       "<IPython.core.display.HTML object>"
      ]
     },
     "metadata": {},
     "output_type": "display_data"
    },
    {
     "name": "stdout",
     "output_type": "stream",
     "text": [
      "http://postnauka.ru/video/13544\n",
      "http://postnauka.ru/video/12375\n",
      "http://postnauka.ru/video/41686\n",
      "http://postnauka.ru/video/31182\n",
      "http://postnauka.ru/video/22592\n",
      "http://postnauka.ru/video/36492\n",
      "http://postnauka.ru/video/46379\n",
      "http://postnauka.ru/video/36657\n",
      "http://postnauka.ru/video/47818\n",
      "http://postnauka.ru/video/36490\n"
     ]
    },
    {
     "data": {
      "text/html": [
       "<h1>Литература и кинематограф</h1>"
      ],
      "text/plain": [
       "<IPython.core.display.HTML object>"
      ]
     },
     "metadata": {},
     "output_type": "display_data"
    },
    {
     "data": {
      "text/html": [
       "<h3>Топ-слова</h3>"
      ],
      "text/plain": [
       "<IPython.core.display.HTML object>"
      ]
     },
     "metadata": {},
     "output_type": "display_data"
    },
    {
     "name": "stdout",
     "output_type": "stream",
     "text": [
      "фильм книга автор кино театр жанр кинематограф анекдот тема документ\n"
     ]
    },
    {
     "data": {
      "text/html": [
       "<h3>Релевантные документы</h3>"
      ],
      "text/plain": [
       "<IPython.core.display.HTML object>"
      ]
     },
     "metadata": {},
     "output_type": "display_data"
    },
    {
     "name": "stdout",
     "output_type": "stream",
     "text": [
      "http://postnauka.ru/video/39723\n",
      "http://postnauka.ru/video/10759\n",
      "http://postnauka.ru/video/13541\n",
      "http://postnauka.ru/video/38510\n",
      "http://postnauka.ru/video/52416\n",
      "http://postnauka.ru/video/42807\n",
      "http://postnauka.ru/video/47204\n",
      "http://postnauka.ru/video/57127\n",
      "http://postnauka.ru/video/47208\n",
      "http://postnauka.ru/video/23470\n"
     ]
    },
    {
     "data": {
      "text/html": [
       "<h1>Террор</h1>"
      ],
      "text/plain": [
       "<IPython.core.display.HTML object>"
      ]
     },
     "metadata": {},
     "output_type": "display_data"
    },
    {
     "data": {
      "text/html": [
       "<h3>Топ-слова</h3>"
      ],
      "text/plain": [
       "<IPython.core.display.HTML object>"
      ]
     },
     "metadata": {},
     "output_type": "display_data"
    },
    {
     "name": "stdout",
     "output_type": "stream",
     "text": [
      "смерть ритуал террор государь правитель обряд идеология служба конвент символический\n"
     ]
    },
    {
     "data": {
      "text/html": [
       "<h3>Релевантные документы</h3>"
      ],
      "text/plain": [
       "<IPython.core.display.HTML object>"
      ]
     },
     "metadata": {},
     "output_type": "display_data"
    },
    {
     "name": "stdout",
     "output_type": "stream",
     "text": [
      "http://postnauka.ru/video/1893\n",
      "http://postnauka.ru/video/48480\n",
      "http://postnauka.ru/video/32882\n",
      "http://postnauka.ru/video/37992\n",
      "http://postnauka.ru/video/12374\n",
      "http://postnauka.ru/video/50656\n",
      "http://postnauka.ru/video/16184\n",
      "http://postnauka.ru/video/48335\n",
      "http://postnauka.ru/video/1899\n",
      "http://postnauka.ru/video/51331\n"
     ]
    },
    {
     "data": {
      "text/html": [
       "<h1>Химия</h1>"
      ],
      "text/plain": [
       "<IPython.core.display.HTML object>"
      ]
     },
     "metadata": {},
     "output_type": "display_data"
    },
    {
     "data": {
      "text/html": [
       "<h3>Топ-слова</h3>"
      ],
      "text/plain": [
       "<IPython.core.display.HTML object>"
      ]
     },
     "metadata": {},
     "output_type": "display_data"
    },
    {
     "name": "stdout",
     "output_type": "stream",
     "text": [
      "метод химический соединение реакция химия давление органический лекарство синтез разработка\n"
     ]
    },
    {
     "data": {
      "text/html": [
       "<h3>Релевантные документы</h3>"
      ],
      "text/plain": [
       "<IPython.core.display.HTML object>"
      ]
     },
     "metadata": {},
     "output_type": "display_data"
    },
    {
     "name": "stdout",
     "output_type": "stream",
     "text": [
      "http://postnauka.ru/video/18048\n",
      "http://postnauka.ru/video/11646\n",
      "http://postnauka.ru/video/13700\n",
      "http://postnauka.ru/video/24449\n",
      "http://postnauka.ru/video/51490\n",
      "http://postnauka.ru/video/13151\n",
      "http://postnauka.ru/video/8953\n",
      "http://postnauka.ru/video/19071\n",
      "http://postnauka.ru/video/7363\n",
      "http://postnauka.ru/video/10473\n"
     ]
    },
    {
     "data": {
      "text/html": [
       "<h1>Физика элементарных частиц</h1>"
      ],
      "text/plain": [
       "<IPython.core.display.HTML object>"
      ]
     },
     "metadata": {},
     "output_type": "display_data"
    },
    {
     "data": {
      "text/html": [
       "<h3>Топ-слова</h3>"
      ],
      "text/plain": [
       "<IPython.core.display.HTML object>"
      ]
     },
     "metadata": {},
     "output_type": "display_data"
    },
    {
     "name": "stdout",
     "output_type": "stream",
     "text": [
      "частица энергия квантовый поле физика взаимодействие атом магнитный электрон кварк\n"
     ]
    },
    {
     "data": {
      "text/html": [
       "<h3>Релевантные документы</h3>"
      ],
      "text/plain": [
       "<IPython.core.display.HTML object>"
      ]
     },
     "metadata": {},
     "output_type": "display_data"
    },
    {
     "name": "stdout",
     "output_type": "stream",
     "text": [
      "http://postnauka.ru/video/13043\n",
      "http://postnauka.ru/video/18870\n",
      "http://postnauka.ru/video/18873\n",
      "http://postnauka.ru/video/11651\n",
      "http://postnauka.ru/video/22760\n",
      "http://postnauka.ru/video/2945\n",
      "http://postnauka.ru/video/14283\n",
      "http://postnauka.ru/video/7753\n",
      "http://postnauka.ru/video/7311\n",
      "http://postnauka.ru/video/24434\n"
     ]
    },
    {
     "data": {
      "text/html": [
       "<h1>Россия и война</h1>"
      ],
      "text/plain": [
       "<IPython.core.display.HTML object>"
      ]
     },
     "metadata": {},
     "output_type": "display_data"
    },
    {
     "data": {
      "text/html": [
       "<h3>Топ-слова</h3>"
      ],
      "text/plain": [
       "<IPython.core.display.HTML object>"
      ]
     },
     "metadata": {},
     "output_type": "display_data"
    },
    {
     "name": "stdout",
     "output_type": "stream",
     "text": [
      "война россия советский русский власть российский германия мировой реформа историк\n"
     ]
    },
    {
     "data": {
      "text/html": [
       "<h3>Релевантные документы</h3>"
      ],
      "text/plain": [
       "<IPython.core.display.HTML object>"
      ]
     },
     "metadata": {},
     "output_type": "display_data"
    },
    {
     "name": "stdout",
     "output_type": "stream",
     "text": [
      "http://postnauka.ru/video/35041\n",
      "http://postnauka.ru/video/19574\n",
      "http://postnauka.ru/video/46939\n",
      "http://postnauka.ru/video/31183\n",
      "http://postnauka.ru/video/29992\n",
      "http://postnauka.ru/video/51180\n",
      "http://postnauka.ru/video/26667\n",
      "http://postnauka.ru/video/42809\n",
      "http://postnauka.ru/video/25906\n",
      "http://postnauka.ru/video/41895\n"
     ]
    },
    {
     "data": {
      "text/html": [
       "<h1>Демография</h1>"
      ],
      "text/plain": [
       "<IPython.core.display.HTML object>"
      ]
     },
     "metadata": {},
     "output_type": "display_data"
    },
    {
     "data": {
      "text/html": [
       "<h3>Топ-слова</h3>"
      ],
      "text/plain": [
       "<IPython.core.display.HTML object>"
      ]
     },
     "metadata": {},
     "output_type": "display_data"
    },
    {
     "name": "stdout",
     "output_type": "stream",
     "text": [
      "ребенок семья возраст взрослый сон мать родитель кровь старение катастрофа\n"
     ]
    },
    {
     "data": {
      "text/html": [
       "<h3>Релевантные документы</h3>"
      ],
      "text/plain": [
       "<IPython.core.display.HTML object>"
      ]
     },
     "metadata": {},
     "output_type": "display_data"
    },
    {
     "name": "stdout",
     "output_type": "stream",
     "text": [
      "http://postnauka.ru/video/22892\n",
      "http://postnauka.ru/video/30678\n",
      "http://postnauka.ru/video/59638\n",
      "http://postnauka.ru/video/60527\n",
      "http://postnauka.ru/video/57657\n",
      "http://postnauka.ru/video/18613\n",
      "http://postnauka.ru/video/30606\n",
      "http://postnauka.ru/video/17395\n",
      "http://postnauka.ru/video/6377\n",
      "http://postnauka.ru/video/29103\n"
     ]
    },
    {
     "data": {
      "text/html": [
       "<h1>Медицина</h1>"
      ],
      "text/plain": [
       "<IPython.core.display.HTML object>"
      ]
     },
     "metadata": {},
     "output_type": "display_data"
    },
    {
     "data": {
      "text/html": [
       "<h3>Топ-слова</h3>"
      ],
      "text/plain": [
       "<IPython.core.display.HTML object>"
      ]
     },
     "metadata": {},
     "output_type": "display_data"
    },
    {
     "name": "stdout",
     "output_type": "stream",
     "text": [
      "растение ткань опухоль орган рак иммунный озеро сердце мышца нейронный\n"
     ]
    },
    {
     "data": {
      "text/html": [
       "<h3>Релевантные документы</h3>"
      ],
      "text/plain": [
       "<IPython.core.display.HTML object>"
      ]
     },
     "metadata": {},
     "output_type": "display_data"
    },
    {
     "name": "stdout",
     "output_type": "stream",
     "text": [
      "http://postnauka.ru/video/16821\n",
      "http://postnauka.ru/video/23172\n",
      "http://postnauka.ru/video/46562\n",
      "http://postnauka.ru/video/13746\n",
      "http://postnauka.ru/video/51169\n",
      "http://postnauka.ru/video/51501\n",
      "http://postnauka.ru/video/33793\n",
      "http://postnauka.ru/video/18192\n",
      "http://postnauka.ru/video/26213\n",
      "http://postnauka.ru/video/17416\n"
     ]
    },
    {
     "data": {
      "text/html": [
       "<h1>Христианство</h1>"
      ],
      "text/plain": [
       "<IPython.core.display.HTML object>"
      ]
     },
     "metadata": {},
     "output_type": "display_data"
    },
    {
     "data": {
      "text/html": [
       "<h3>Топ-слова</h3>"
      ],
      "text/plain": [
       "<IPython.core.display.HTML object>"
      ]
     },
     "metadata": {},
     "output_type": "display_data"
    },
    {
     "name": "stdout",
     "output_type": "stream",
     "text": [
      "территория христианский империя восток народ древний письменность христианство государство памятник\n"
     ]
    },
    {
     "data": {
      "text/html": [
       "<h3>Релевантные документы</h3>"
      ],
      "text/plain": [
       "<IPython.core.display.HTML object>"
      ]
     },
     "metadata": {},
     "output_type": "display_data"
    },
    {
     "name": "stdout",
     "output_type": "stream",
     "text": [
      "http://postnauka.ru/video/53171\n",
      "http://postnauka.ru/video/50071\n",
      "http://postnauka.ru/video/2527\n",
      "http://postnauka.ru/video/58742\n",
      "http://postnauka.ru/video/59201\n",
      "http://postnauka.ru/video/50066\n",
      "http://postnauka.ru/video/49203\n",
      "http://postnauka.ru/video/48959\n",
      "http://postnauka.ru/video/3387\n",
      "http://postnauka.ru/video/46313\n"
     ]
    },
    {
     "data": {
      "text/html": [
       "<h1>Галактики</h1>"
      ],
      "text/plain": [
       "<IPython.core.display.HTML object>"
      ]
     },
     "metadata": {},
     "output_type": "display_data"
    },
    {
     "data": {
      "text/html": [
       "<h3>Топ-слова</h3>"
      ],
      "text/plain": [
       "<IPython.core.display.HTML object>"
      ]
     },
     "metadata": {},
     "output_type": "display_data"
    },
    {
     "name": "stdout",
     "output_type": "stream",
     "text": [
      "звезда галактика масса вселенная черный свет волна дыра скорость излучение\n"
     ]
    },
    {
     "data": {
      "text/html": [
       "<h3>Релевантные документы</h3>"
      ],
      "text/plain": [
       "<IPython.core.display.HTML object>"
      ]
     },
     "metadata": {},
     "output_type": "display_data"
    },
    {
     "name": "stdout",
     "output_type": "stream",
     "text": [
      "http://postnauka.ru/video/6673\n",
      "http://postnauka.ru/video/17780\n",
      "http://postnauka.ru/video/31193\n",
      "http://postnauka.ru/video/2971\n",
      "http://postnauka.ru/video/29998\n",
      "http://postnauka.ru/video/23506\n",
      "http://postnauka.ru/video/30015\n",
      "http://postnauka.ru/video/23502\n",
      "http://postnauka.ru/video/57338\n",
      "http://postnauka.ru/video/48109\n"
     ]
    },
    {
     "data": {
      "text/html": [
       "<h1>Информация</h1>"
      ],
      "text/plain": [
       "<IPython.core.display.HTML object>"
      ]
     },
     "metadata": {},
     "output_type": "display_data"
    },
    {
     "data": {
      "text/html": [
       "<h3>Топ-слова</h3>"
      ],
      "text/plain": [
       "<IPython.core.display.HTML object>"
      ]
     },
     "metadata": {},
     "output_type": "display_data"
    },
    {
     "name": "stdout",
     "output_type": "stream",
     "text": [
      "задача информация память данные решение компьютер психология мышление внимание когнитивный\n"
     ]
    },
    {
     "data": {
      "text/html": [
       "<h3>Релевантные документы</h3>"
      ],
      "text/plain": [
       "<IPython.core.display.HTML object>"
      ]
     },
     "metadata": {},
     "output_type": "display_data"
    },
    {
     "name": "stdout",
     "output_type": "stream",
     "text": [
      "http://postnauka.ru/video/24182\n",
      "http://postnauka.ru/video/24451\n",
      "http://postnauka.ru/video/5181\n",
      "http://postnauka.ru/video/23763\n",
      "http://postnauka.ru/video/53415\n",
      "http://postnauka.ru/video/19577\n",
      "http://postnauka.ru/video/56052\n",
      "http://postnauka.ru/video/57336\n",
      "http://postnauka.ru/video/50349\n",
      "http://postnauka.ru/video/17421\n"
     ]
    },
    {
     "data": {
      "text/html": [
       "<h1>Расы</h1>"
      ],
      "text/plain": [
       "<IPython.core.display.HTML object>"
      ]
     },
     "metadata": {},
     "output_type": "display_data"
    },
    {
     "data": {
      "text/html": [
       "<h3>Топ-слова</h3>"
      ],
      "text/plain": [
       "<IPython.core.display.HTML object>"
      ]
     },
     "metadata": {},
     "output_type": "display_data"
    },
    {
     "name": "stdout",
     "output_type": "stream",
     "text": [
      "раса африка остров америка станислав южный монголоид индия дробышевский нос\n"
     ]
    },
    {
     "data": {
      "text/html": [
       "<h3>Релевантные документы</h3>"
      ],
      "text/plain": [
       "<IPython.core.display.HTML object>"
      ]
     },
     "metadata": {},
     "output_type": "display_data"
    },
    {
     "name": "stdout",
     "output_type": "stream",
     "text": [
      "http://postnauka.ru/video/31707\n",
      "http://postnauka.ru/video/32898\n",
      "http://postnauka.ru/video/49262\n",
      "http://postnauka.ru/video/42707\n",
      "http://postnauka.ru/video/37732\n",
      "http://postnauka.ru/video/42735\n",
      "http://postnauka.ru/video/35150\n",
      "http://postnauka.ru/video/17397\n",
      "http://postnauka.ru/video/40880\n",
      "http://postnauka.ru/video/36253\n"
     ]
    },
    {
     "data": {
      "text/html": [
       "<h1>Философия</h1>"
      ],
      "text/plain": [
       "<IPython.core.display.HTML object>"
      ]
     },
     "metadata": {},
     "output_type": "display_data"
    },
    {
     "data": {
      "text/html": [
       "<h3>Топ-слова</h3>"
      ],
      "text/plain": [
       "<IPython.core.display.HTML object>"
      ]
     },
     "metadata": {},
     "output_type": "display_data"
    },
    {
     "name": "stdout",
     "output_type": "stream",
     "text": [
      "политический философия государство общество философский философ партия правовой суд платон\n"
     ]
    },
    {
     "data": {
      "text/html": [
       "<h3>Релевантные документы</h3>"
      ],
      "text/plain": [
       "<IPython.core.display.HTML object>"
      ]
     },
     "metadata": {},
     "output_type": "display_data"
    },
    {
     "name": "stdout",
     "output_type": "stream",
     "text": [
      "http://postnauka.ru/video/12738\n",
      "http://postnauka.ru/video/32906\n",
      "http://postnauka.ru/video/2526\n",
      "http://postnauka.ru/video/12371\n",
      "http://postnauka.ru/video/22975\n",
      "http://postnauka.ru/video/36713\n",
      "http://postnauka.ru/video/37965\n",
      "http://postnauka.ru/video/3418\n",
      "http://postnauka.ru/video/9728\n",
      "http://postnauka.ru/video/2972\n"
     ]
    },
    {
     "data": {
      "text/html": [
       "<h1>Русский язык</h1>"
      ],
      "text/plain": [
       "<IPython.core.display.HTML object>"
      ]
     },
     "metadata": {},
     "output_type": "display_data"
    },
    {
     "data": {
      "text/html": [
       "<h3>Топ-слова</h3>"
      ],
      "text/plain": [
       "<IPython.core.display.HTML object>"
      ]
     },
     "metadata": {},
     "output_type": "display_data"
    },
    {
     "name": "stdout",
     "output_type": "stream",
     "text": [
      "слово текст русский словарь предложение значение глагол корпус категория лингвистика\n"
     ]
    },
    {
     "data": {
      "text/html": [
       "<h3>Релевантные документы</h3>"
      ],
      "text/plain": [
       "<IPython.core.display.HTML object>"
      ]
     },
     "metadata": {},
     "output_type": "display_data"
    },
    {
     "name": "stdout",
     "output_type": "stream",
     "text": [
      "http://postnauka.ru/video/36272\n",
      "http://postnauka.ru/video/6720\n",
      "http://postnauka.ru/video/1898\n",
      "http://postnauka.ru/video/48960\n",
      "http://postnauka.ru/video/47548\n",
      "http://postnauka.ru/video/51499\n",
      "http://postnauka.ru/video/56616\n",
      "http://postnauka.ru/video/2946\n",
      "http://postnauka.ru/video/57524\n",
      "http://postnauka.ru/video/30017\n"
     ]
    },
    {
     "data": {
      "text/html": [
       "<h1>История Франции</h1>"
      ],
      "text/plain": [
       "<IPython.core.display.HTML object>"
      ]
     },
     "metadata": {},
     "output_type": "display_data"
    },
    {
     "data": {
      "text/html": [
       "<h3>Топ-слова</h3>"
      ],
      "text/plain": [
       "<IPython.core.display.HTML object>"
      ]
     },
     "metadata": {},
     "output_type": "display_data"
    },
    {
     "name": "stdout",
     "output_type": "stream",
     "text": [
      "революция французский свобода франция роман национальный король нация аргумент актер\n"
     ]
    },
    {
     "data": {
      "text/html": [
       "<h3>Релевантные документы</h3>"
      ],
      "text/plain": [
       "<IPython.core.display.HTML object>"
      ]
     },
     "metadata": {},
     "output_type": "display_data"
    },
    {
     "name": "stdout",
     "output_type": "stream",
     "text": [
      "http://postnauka.ru/video/5396\n",
      "http://postnauka.ru/video/48492\n",
      "http://postnauka.ru/video/43843\n",
      "http://postnauka.ru/video/47823\n",
      "http://postnauka.ru/video/22079\n",
      "http://postnauka.ru/video/20720\n",
      "http://postnauka.ru/video/45548\n",
      "http://postnauka.ru/video/53577\n",
      "http://postnauka.ru/video/54742\n",
      "http://postnauka.ru/video/28944\n"
     ]
    },
    {
     "data": {
      "text/html": [
       "<h1>Городские технологии</h1>"
      ],
      "text/plain": [
       "<IPython.core.display.HTML object>"
      ]
     },
     "metadata": {},
     "output_type": "display_data"
    },
    {
     "data": {
      "text/html": [
       "<h3>Топ-слова</h3>"
      ],
      "text/plain": [
       "<IPython.core.display.HTML object>"
      ]
     },
     "metadata": {},
     "output_type": "display_data"
    },
    {
     "name": "stdout",
     "output_type": "stream",
     "text": [
      "город сеть робот технология городской интернет компания пользователь музей медиа\n"
     ]
    },
    {
     "data": {
      "text/html": [
       "<h3>Релевантные документы</h3>"
      ],
      "text/plain": [
       "<IPython.core.display.HTML object>"
      ]
     },
     "metadata": {},
     "output_type": "display_data"
    },
    {
     "name": "stdout",
     "output_type": "stream",
     "text": [
      "http://postnauka.ru/video/13742\n",
      "http://postnauka.ru/video/12515\n",
      "http://postnauka.ru/video/11634\n",
      "http://postnauka.ru/video/9998\n",
      "http://postnauka.ru/video/17604\n",
      "http://postnauka.ru/video/7068\n",
      "http://postnauka.ru/video/47301\n",
      "http://postnauka.ru/video/30026\n",
      "http://postnauka.ru/video/50792\n",
      "http://postnauka.ru/video/29812\n"
     ]
    },
    {
     "data": {
      "text/html": [
       "<h1>Болезни</h1>"
      ],
      "text/plain": [
       "<IPython.core.display.HTML object>"
      ]
     },
     "metadata": {},
     "output_type": "display_data"
    },
    {
     "data": {
      "text/html": [
       "<h3>Топ-слова</h3>"
      ],
      "text/plain": [
       "<IPython.core.display.HTML object>"
      ]
     },
     "metadata": {},
     "output_type": "display_data"
    },
    {
     "name": "stdout",
     "output_type": "stream",
     "text": [
      "болезнь заболевание пациент лечение врач медицина боль женщина препарат медицинский\n"
     ]
    },
    {
     "data": {
      "text/html": [
       "<h3>Релевантные документы</h3>"
      ],
      "text/plain": [
       "<IPython.core.display.HTML object>"
      ]
     },
     "metadata": {},
     "output_type": "display_data"
    },
    {
     "name": "stdout",
     "output_type": "stream",
     "text": [
      "http://postnauka.ru/video/2541\n",
      "http://postnauka.ru/video/54325\n",
      "http://postnauka.ru/video/27925\n",
      "http://postnauka.ru/video/51384\n",
      "http://postnauka.ru/video/55539\n",
      "http://postnauka.ru/video/12974\n",
      "http://postnauka.ru/video/49206\n",
      "http://postnauka.ru/video/45961\n",
      "http://postnauka.ru/video/13746\n",
      "http://postnauka.ru/video/43853\n"
     ]
    },
    {
     "data": {
      "text/html": [
       "<h1>Социология</h1>"
      ],
      "text/plain": [
       "<IPython.core.display.HTML object>"
      ]
     },
     "metadata": {},
     "output_type": "display_data"
    },
    {
     "data": {
      "text/html": [
       "<h3>Топ-слова</h3>"
      ],
      "text/plain": [
       "<IPython.core.display.HTML object>"
      ]
     },
     "metadata": {},
     "output_type": "display_data"
    },
    {
     "name": "stdout",
     "output_type": "stream",
     "text": [
      "социальный знание социология социологический дисциплина познание перевод социолог описание обучение\n"
     ]
    },
    {
     "data": {
      "text/html": [
       "<h3>Релевантные документы</h3>"
      ],
      "text/plain": [
       "<IPython.core.display.HTML object>"
      ]
     },
     "metadata": {},
     "output_type": "display_data"
    },
    {
     "name": "stdout",
     "output_type": "stream",
     "text": [
      "http://postnauka.ru/video/10783\n",
      "http://postnauka.ru/video/434\n",
      "http://postnauka.ru/video/2530\n",
      "http://postnauka.ru/video/6380\n",
      "http://postnauka.ru/video/12083\n",
      "http://postnauka.ru/video/3628\n",
      "http://postnauka.ru/video/17491\n",
      "http://postnauka.ru/video/11640\n",
      "http://postnauka.ru/video/4280\n",
      "http://postnauka.ru/video/23361\n"
     ]
    },
    {
     "data": {
      "text/html": [
       "<h1>Микроорганизмы</h1>"
      ],
      "text/plain": [
       "<IPython.core.display.HTML object>"
      ]
     },
     "metadata": {},
     "output_type": "display_data"
    },
    {
     "data": {
      "text/html": [
       "<h3>Топ-слова</h3>"
      ],
      "text/plain": [
       "<IPython.core.display.HTML object>"
      ]
     },
     "metadata": {},
     "output_type": "display_data"
    },
    {
     "name": "stdout",
     "output_type": "stream",
     "text": [
      "микроорганизм матрица алгоритм эмоция схема вычислительный эмоциональный микроб программный глубина\n"
     ]
    },
    {
     "data": {
      "text/html": [
       "<h3>Релевантные документы</h3>"
      ],
      "text/plain": [
       "<IPython.core.display.HTML object>"
      ]
     },
     "metadata": {},
     "output_type": "display_data"
    },
    {
     "name": "stdout",
     "output_type": "stream",
     "text": [
      "http://postnauka.ru/video/31671\n",
      "http://postnauka.ru/video/49437\n",
      "http://postnauka.ru/video/3635\n",
      "http://postnauka.ru/video/42416\n",
      "http://postnauka.ru/video/34964\n",
      "http://postnauka.ru/video/3420\n",
      "http://postnauka.ru/video/52738\n",
      "http://postnauka.ru/video/33788\n",
      "http://postnauka.ru/video/3352\n",
      "http://postnauka.ru/video/2531\n"
     ]
    },
    {
     "data": {
      "text/html": [
       "<h1>Мифология</h1>"
      ],
      "text/plain": [
       "<IPython.core.display.HTML object>"
      ]
     },
     "metadata": {},
     "output_type": "display_data"
    },
    {
     "data": {
      "text/html": [
       "<h3>Топ-слова</h3>"
      ],
      "text/plain": [
       "<IPython.core.display.HTML object>"
      ]
     },
     "metadata": {},
     "output_type": "display_data"
    },
    {
     "name": "stdout",
     "output_type": "stream",
     "text": [
      "исторический бог традиция царь миф греческий представление религия имя мифология\n"
     ]
    },
    {
     "data": {
      "text/html": [
       "<h3>Релевантные документы</h3>"
      ],
      "text/plain": [
       "<IPython.core.display.HTML object>"
      ]
     },
     "metadata": {},
     "output_type": "display_data"
    },
    {
     "name": "stdout",
     "output_type": "stream",
     "text": [
      "http://postnauka.ru/video/10779\n",
      "http://postnauka.ru/video/12527\n",
      "http://postnauka.ru/video/9429\n",
      "http://postnauka.ru/video/21631\n",
      "http://postnauka.ru/video/7065\n",
      "http://postnauka.ru/video/9997\n",
      "http://postnauka.ru/video/43664\n",
      "http://postnauka.ru/video/12517\n",
      "http://postnauka.ru/video/5999\n",
      "http://postnauka.ru/video/47300\n"
     ]
    },
    {
     "data": {
      "text/html": [
       "<h1>Лингвистика</h1>"
      ],
      "text/plain": [
       "<IPython.core.display.HTML object>"
      ]
     },
     "metadata": {},
     "output_type": "display_data"
    },
    {
     "data": {
      "text/html": [
       "<h3>Топ-слова</h3>"
      ],
      "text/plain": [
       "<IPython.core.display.HTML object>"
      ]
     },
     "metadata": {},
     "output_type": "display_data"
    },
    {
     "name": "stdout",
     "output_type": "stream",
     "text": [
      "язык лингвист языковой гласный английский согласный лингвистический говор звук диалект\n"
     ]
    },
    {
     "data": {
      "text/html": [
       "<h3>Релевантные документы</h3>"
      ],
      "text/plain": [
       "<IPython.core.display.HTML object>"
      ]
     },
     "metadata": {},
     "output_type": "display_data"
    },
    {
     "name": "stdout",
     "output_type": "stream",
     "text": [
      "http://postnauka.ru/video/8964\n",
      "http://postnauka.ru/video/13041\n",
      "http://postnauka.ru/video/10773\n",
      "http://postnauka.ru/video/48114\n",
      "http://postnauka.ru/video/51171\n",
      "http://postnauka.ru/video/15343\n",
      "http://postnauka.ru/video/16157\n",
      "http://postnauka.ru/video/14284\n",
      "http://postnauka.ru/video/57879\n",
      "http://postnauka.ru/video/7525\n"
     ]
    },
    {
     "data": {
      "text/html": [
       "<h1>Экономика и политика</h1>"
      ],
      "text/plain": [
       "<IPython.core.display.HTML object>"
      ]
     },
     "metadata": {},
     "output_type": "display_data"
    },
    {
     "data": {
      "text/html": [
       "<h3>Топ-слова</h3>"
      ],
      "text/plain": [
       "<IPython.core.display.HTML object>"
      ]
     },
     "metadata": {},
     "output_type": "display_data"
    },
    {
     "name": "stdout",
     "output_type": "stream",
     "text": [
      "страна экономический экономика политика сталин идентичность коллективный кризис общественный праздник\n"
     ]
    },
    {
     "data": {
      "text/html": [
       "<h3>Релевантные документы</h3>"
      ],
      "text/plain": [
       "<IPython.core.display.HTML object>"
      ]
     },
     "metadata": {},
     "output_type": "display_data"
    },
    {
     "name": "stdout",
     "output_type": "stream",
     "text": [
      "http://postnauka.ru/video/31684\n",
      "http://postnauka.ru/video/9389\n",
      "http://postnauka.ru/video/3605\n",
      "http://postnauka.ru/video/30601\n",
      "http://postnauka.ru/video/7781\n",
      "http://postnauka.ru/video/13152\n",
      "http://postnauka.ru/video/5882\n",
      "http://postnauka.ru/video/6497\n",
      "http://postnauka.ru/video/28282\n",
      "http://postnauka.ru/video/56290\n"
     ]
    },
    {
     "data": {
      "text/html": [
       "<h1>Биология клеток</h1>"
      ],
      "text/plain": [
       "<IPython.core.display.HTML object>"
      ]
     },
     "metadata": {},
     "output_type": "display_data"
    },
    {
     "data": {
      "text/html": [
       "<h3>Топ-слова</h3>"
      ],
      "text/plain": [
       "<IPython.core.display.HTML object>"
      ]
     },
     "metadata": {},
     "output_type": "display_data"
    },
    {
     "name": "stdout",
     "output_type": "stream",
     "text": [
      "клетка ген днк организм белок мозг биологический животное генетический нейрон\n"
     ]
    },
    {
     "data": {
      "text/html": [
       "<h3>Релевантные документы</h3>"
      ],
      "text/plain": [
       "<IPython.core.display.HTML object>"
      ]
     },
     "metadata": {},
     "output_type": "display_data"
    },
    {
     "name": "stdout",
     "output_type": "stream",
     "text": [
      "http://postnauka.ru/video/5915\n",
      "http://postnauka.ru/video/10475\n",
      "http://postnauka.ru/video/19436\n",
      "http://postnauka.ru/video/10754\n",
      "http://postnauka.ru/video/17051\n",
      "http://postnauka.ru/video/11628\n",
      "http://postnauka.ru/video/35051\n",
      "http://postnauka.ru/video/5390\n",
      "http://postnauka.ru/video/7113\n",
      "http://postnauka.ru/video/44252\n"
     ]
    },
    {
     "data": {
      "text/html": [
       "<h1>Сверхпроводимость</h1>"
      ],
      "text/plain": [
       "<IPython.core.display.HTML object>"
      ]
     },
     "metadata": {},
     "output_type": "display_data"
    },
    {
     "data": {
      "text/html": [
       "<h3>Топ-слова</h3>"
      ],
      "text/plain": [
       "<IPython.core.display.HTML object>"
      ]
     },
     "metadata": {},
     "output_type": "display_data"
    },
    {
     "name": "stdout",
     "output_type": "stream",
     "text": [
      "температура университет сверхпроводимость сверхпроводник профессор сверхпроводящий железо заимствование гумбольдт магнит\n"
     ]
    },
    {
     "data": {
      "text/html": [
       "<h3>Релевантные документы</h3>"
      ],
      "text/plain": [
       "<IPython.core.display.HTML object>"
      ]
     },
     "metadata": {},
     "output_type": "display_data"
    },
    {
     "name": "stdout",
     "output_type": "stream",
     "text": [
      "http://postnauka.ru/video/2973\n",
      "http://postnauka.ru/video/50340\n",
      "http://postnauka.ru/video/31198\n",
      "http://postnauka.ru/video/51380\n",
      "http://postnauka.ru/video/22314\n",
      "http://postnauka.ru/video/25326\n",
      "http://postnauka.ru/video/55756\n",
      "http://postnauka.ru/video/50699\n",
      "http://postnauka.ru/video/19461\n",
      "http://postnauka.ru/video/27835\n"
     ]
    },
    {
     "data": {
      "text/html": [
       "<h1>Фоновая тема</h1>"
      ],
      "text/plain": [
       "<IPython.core.display.HTML object>"
      ]
     },
     "metadata": {},
     "output_type": "display_data"
    },
    {
     "data": {
      "text/html": [
       "<h3>Топ-слова</h3>"
      ],
      "text/plain": [
       "<IPython.core.display.HTML object>"
      ]
     },
     "metadata": {},
     "output_type": "display_data"
    },
    {
     "name": "stdout",
     "output_type": "stream",
     "text": [
      "быть что это который этот как они мочь такой очень\n"
     ]
    },
    {
     "data": {
      "text/html": [
       "<h3>Релевантные документы</h3>"
      ],
      "text/plain": [
       "<IPython.core.display.HTML object>"
      ]
     },
     "metadata": {},
     "output_type": "display_data"
    },
    {
     "name": "stdout",
     "output_type": "stream",
     "text": [
      "http://postnauka.ru/video/51365\n",
      "http://postnauka.ru/video/12376\n",
      "http://postnauka.ru/video/49851\n",
      "http://postnauka.ru/video/51184\n",
      "http://postnauka.ru/video/42436\n",
      "http://postnauka.ru/video/54112\n",
      "http://postnauka.ru/video/50706\n",
      "http://postnauka.ru/video/51178\n",
      "http://postnauka.ru/video/41678\n",
      "http://postnauka.ru/video/50659\n"
     ]
    }
   ],
   "source": [
    "# Ваш код\n",
    "for i in range(T):\n",
    "    display(HTML(u\"<h1>\" + topic_labels[i] + \"</h1>\"))\n",
    "    tokens = model.score_tracker[\"topText\"].last_tokens\n",
    "    display(HTML(u\"<h3>Топ-слова</h3>\"))\n",
    "    for word in tokens[topic_names[i]][:10]:    \n",
    "        print word,\n",
    "    print\n",
    "    display(HTML(u\"<h3>Релевантные документы</h3>\"))\n",
    "    for x in topDocs[i][1]:\n",
    "        print(x[0])"
   ]
  },
  {
   "cell_type": "markdown",
   "metadata": {},
   "source": [
    "##### Заключение"
   ]
  },
  {
   "cell_type": "markdown",
   "metadata": {},
   "source": [
    "В этом Peer Review мы познакомились с базовыми возможностями библиотеки BigARTM и с методами визуализации тематических моделей. Визуализация тематических моделей - это широкая и активно развивающаяся область научных исследований. Мы рассмотрели только самые простые приемы. Желающие могут попробовать применить [Serendip](http://vep.cs.wisc.edu/serendip/#serendipHero), разработанный в  University of Wisconsin-Madison, к построенной модели. Эта библиотека позволяет максимально полно охарактеризовать темы и написана для языка python. \n",
    "\n",
    "Сделав задание, вы можете выбрать в навигаторе наиболее интересную для вас тему и посмотреть видеолекции :) На Постнауке очень много интересных материалов. "
   ]
  },
  {
   "cell_type": "code",
   "execution_count": null,
   "metadata": {},
   "outputs": [],
   "source": []
  }
 ],
 "metadata": {
  "kernelspec": {
   "display_name": "Python 2",
   "language": "python",
   "name": "python2"
  },
  "language_info": {
   "codemirror_mode": {
    "name": "ipython",
    "version": 2
   },
   "file_extension": ".py",
   "mimetype": "text/x-python",
   "name": "python",
   "nbconvert_exporter": "python",
   "pygments_lexer": "ipython2",
   "version": "2.7.16"
  }
 },
 "nbformat": 4,
 "nbformat_minor": 1
}
