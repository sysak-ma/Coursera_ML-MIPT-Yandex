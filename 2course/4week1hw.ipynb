{
 "cells": [
  {
   "cell_type": "code",
   "execution_count": 1,
   "metadata": {},
   "outputs": [
    {
     "name": "stdout",
     "output_type": "stream",
     "text": [
      "Populating the interactive namespace from numpy and matplotlib\n"
     ]
    },
    {
     "name": "stderr",
     "output_type": "stream",
     "text": [
      "/home/sysak_ma/anaconda3/envs/py27/lib/python2.7/site-packages/IPython/core/magics/pylab.py:161: UserWarning: pylab import has clobbered these variables: ['plt']\n",
      "`%matplotlib` prevents importing * from pylab and numpy\n",
      "  \"\\n`%matplotlib` prevents importing * from pylab and numpy\"\n"
     ]
    }
   ],
   "source": [
    "from sklearn import datasets\n",
    "import numpy as np\n",
    "from matplotlib import pylab as plt\n",
    "%pylab inline"
   ]
  },
  {
   "cell_type": "code",
   "execution_count": 4,
   "metadata": {},
   "outputs": [],
   "source": [
    "dataset = datasets.load_digits()"
   ]
  },
  {
   "cell_type": "code",
   "execution_count": 9,
   "metadata": {},
   "outputs": [
    {
     "name": "stdout",
     "output_type": "stream",
     "text": [
      "((1797, 64), (1797,))\n"
     ]
    }
   ],
   "source": [
    "X, y = dataset.data, dataset.target\n",
    "print(X.shape, y.shape)"
   ]
  },
  {
   "cell_type": "code",
   "execution_count": 11,
   "metadata": {},
   "outputs": [],
   "source": [
    "from sklearn import model_selection, ensemble, tree"
   ]
  },
  {
   "cell_type": "code",
   "execution_count": 12,
   "metadata": {},
   "outputs": [],
   "source": [
    "dtc = tree.DecisionTreeClassifier()"
   ]
  },
  {
   "cell_type": "code",
   "execution_count": 14,
   "metadata": {},
   "outputs": [
    {
     "name": "stdout",
     "output_type": "stream",
     "text": [
      "[0.79459459 0.83606557 0.79558011 0.78888889 0.78212291 0.88826816\n",
      " 0.87709497 0.80898876 0.77966102 0.8125    ]\n"
     ]
    }
   ],
   "source": [
    "score = model_selection.cross_val_score(dtc, X, y, cv=10)\n",
    "print score"
   ]
  },
  {
   "cell_type": "code",
   "execution_count": 15,
   "metadata": {},
   "outputs": [],
   "source": [
    "def write_ans(text, number):\n",
    "    with open(\"BaggingRandomForest{}.txt\".format(number), \"w\") as ouf:\n",
    "        ouf.write(text)"
   ]
  },
  {
   "cell_type": "code",
   "execution_count": 16,
   "metadata": {},
   "outputs": [],
   "source": [
    "write_ans(str(score.mean()), 1)"
   ]
  },
  {
   "cell_type": "code",
   "execution_count": 17,
   "metadata": {},
   "outputs": [
    {
     "name": "stdout",
     "output_type": "stream",
     "text": [
      "[0.88108108 0.95081967 0.91712707 0.93888889 0.91620112 0.98882682\n",
      " 0.95530726 0.91573034 0.86440678 0.93181818]\n"
     ]
    }
   ],
   "source": [
    "bc = ensemble.BaggingClassifier(base_estimator=dtc, n_estimators=100)\n",
    "score = model_selection.cross_val_score(bc, X, y, cv=10)\n",
    "print score"
   ]
  },
  {
   "cell_type": "code",
   "execution_count": 18,
   "metadata": {},
   "outputs": [],
   "source": [
    "write_ans(str(score.mean()), 2)"
   ]
  },
  {
   "cell_type": "code",
   "execution_count": 20,
   "metadata": {},
   "outputs": [
    {
     "name": "stdout",
     "output_type": "stream",
     "text": [
      "[0.9027027  0.96174863 0.93922652 0.92222222 0.93854749 0.93854749\n",
      " 0.94972067 0.98314607 0.88135593 0.90909091]\n"
     ]
    }
   ],
   "source": [
    "bcNew = ensemble.BaggingClassifier(base_estimator=dtc, n_estimators=100, max_features=int(np.sqrt(X.shape[1])))\n",
    "score = model_selection.cross_val_score(bcNew, X, y, cv=10)\n",
    "print score"
   ]
  },
  {
   "cell_type": "code",
   "execution_count": 21,
   "metadata": {},
   "outputs": [],
   "source": [
    "write_ans(str(score.mean()), 3)"
   ]
  },
  {
   "cell_type": "code",
   "execution_count": 23,
   "metadata": {},
   "outputs": [
    {
     "name": "stdout",
     "output_type": "stream",
     "text": [
      "[0.8972973  0.9726776  0.95027624 0.95555556 0.95530726 0.97206704\n",
      " 0.97765363 0.96629213 0.92655367 0.93181818]\n"
     ]
    }
   ],
   "source": [
    "dtcNew = tree.DecisionTreeClassifier(max_features=\"sqrt\")\n",
    "bcNewNew = ensemble.BaggingClassifier(base_estimator=dtcNew, n_estimators=100)\n",
    "score=model_selection.cross_val_score(bcNewNew, X, y, cv=10)\n",
    "print score"
   ]
  },
  {
   "cell_type": "code",
   "execution_count": 24,
   "metadata": {},
   "outputs": [],
   "source": [
    "write_ans(str(score.mean()), 4)"
   ]
  },
  {
   "cell_type": "code",
   "execution_count": 25,
   "metadata": {},
   "outputs": [
    {
     "name": "stdout",
     "output_type": "stream",
     "text": [
      "Bagging: 0.95054986135\n",
      "RandomForest: 0.952792516755\n"
     ]
    }
   ],
   "source": [
    "print \"Bagging: {}\".format(score.mean())\n",
    "print \"RandomForest: {}\".format(model_selection.cross_val_score(ensemble.RandomForestClassifier(n_estimators=100), X, y, cv=10).mean())"
   ]
  },
  {
   "cell_type": "code",
   "execution_count": 26,
   "metadata": {},
   "outputs": [
    {
     "data": {
      "image/png": "[encoded data removed]",
      "text/plain": [
       "<Figure size 432x288 with 1 Axes>"
      ]
     },
     "metadata": {
      "needs_background": "light"
     },
     "output_type": "display_data"
    }
   ],
   "source": [
    "scores=[]\n",
    "for n in np.arange(1, 100, 5):\n",
    "    model = ensemble.RandomForestClassifier(n_estimators=n)\n",
    "    scores.append(model_selection.cross_val_score(model, X, y, cv=10).mean())\n",
    "    \n",
    "plt.plot(np.arange(1, 100, 5), scores)\n",
    "plt.show()"
   ]
  },
  {
   "cell_type": "code",
   "execution_count": 27,
   "metadata": {},
   "outputs": [
    {
     "data": {
      "image/png": "[encoded data removed]",
      "text/plain": [
       "<Figure size 432x288 with 1 Axes>"
      ]
     },
     "metadata": {
      "needs_background": "light"
     },
     "output_type": "display_data"
    }
   ],
   "source": [
    "scores=[]\n",
    "for n in np.arange(100, 1000, 200):\n",
    "    model = ensemble.RandomForestClassifier(n_estimators=n)\n",
    "    scores.append(model_selection.cross_val_score(model, X, y, cv=10).mean())\n",
    "\n",
    "plt.plot(np.arange(100, 1000, 200), scores)\n",
    "plt.show()"
   ]
  },
  {
   "cell_type": "code",
   "execution_count": 28,
   "metadata": {},
   "outputs": [
    {
     "data": {
      "image/png": "[encoded data removed]",
      "text/plain": [
       "<Figure size 432x288 with 1 Axes>"
      ]
     },
     "metadata": {
      "needs_background": "light"
     },
     "output_type": "display_data"
    }
   ],
   "source": [
    "plt.plot(np.arange(100, 1000, 200), scores)\n",
    "plt.ylim((0.7, 1))\n",
    "plt.show()"
   ]
  },
  {
   "cell_type": "code",
   "execution_count": 29,
   "metadata": {},
   "outputs": [
    {
     "data": {
      "image/png": "[encoded data removed]",
      "text/plain": [
       "<Figure size 432x288 with 1 Axes>"
      ]
     },
     "metadata": {
      "needs_background": "light"
     },
     "output_type": "display_data"
    }
   ],
   "source": [
    "scores = []\n",
    "for n in np.arange(5, 65, 5):\n",
    "    model = ensemble.RandomForestClassifier(n_estimators=100, max_features=n)\n",
    "    scores.append(model_selection.cross_val_score(model, X, y, cv=10).mean())\n",
    "\n",
    "plt.plot(np.arange(5, 65, 5), scores, color='red')\n",
    "plt.show()"
   ]
  },
  {
   "cell_type": "code",
   "execution_count": 31,
   "metadata": {},
   "outputs": [
    {
     "name": "stdout",
     "output_type": "stream",
     "text": [
      "5 : 0.908150028041\n",
      "8 : 0.943793859571\n",
      "12 : 0.953949724681\n",
      "None : 0.952755008108\n"
     ]
    }
   ],
   "source": [
    "scores=[]\n",
    "for n in [5, 8, 12, None]:\n",
    "    model = ensemble.RandomForestClassifier(n_estimators=100, max_depth=n)\n",
    "    scores.append(model_selection.cross_val_score(model, X, y, cv=10).mean())\n",
    "\n",
    "for i in zip([5, 8, 12, None], scores):\n",
    "    print \"{} : {}\".format(*i)"
   ]
  },
  {
   "cell_type": "markdown",
   "metadata": {},
   "source": [
    "1 - нет\n",
    "2 - да\n",
    "3 - да\n",
    "4 - да\n",
    "5 - нет\n",
    "6 - нет\n",
    "7 - да"
   ]
  },
  {
   "cell_type": "code",
   "execution_count": 32,
   "metadata": {},
   "outputs": [],
   "source": [
    "write_ans(\"2 3 4 7\", 5)"
   ]
  },
  {
   "cell_type": "code",
   "execution_count": null,
   "metadata": {},
   "outputs": [],
   "source": []
  }
 ],
 "metadata": {
  "kernelspec": {
   "display_name": "Python 2",
   "language": "python",
   "name": "python2"
  },
  "language_info": {
   "codemirror_mode": {
    "name": "ipython",
    "version": 2
   },
   "file_extension": ".py",
   "mimetype": "text/x-python",
   "name": "python",
   "nbconvert_exporter": "python",
   "pygments_lexer": "ipython2",
   "version": "2.7.16"
  }
 },
 "nbformat": 4,
 "nbformat_minor": 2
}
