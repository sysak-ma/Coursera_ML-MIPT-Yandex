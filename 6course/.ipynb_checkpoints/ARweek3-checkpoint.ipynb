{
 "cells": [
  {
   "cell_type": "markdown",
   "metadata": {},
   "source": [
    "<center>\n",
    "<img src=\"https://habrastorage.org/web/677/8e1/337/6778e1337c3d4b159d7e99df94227cb2.jpg\"/>\n",
    "## Специализация \"Машинное обучение и анализ данных\"\n",
    "<center>Автор материала: программист-исследователь Mail.Ru Group, старший преподаватель Факультета Компьютерных Наук ВШЭ [Юрий Кашницкий](https://yorko.github.io/)"
   ]
  },
  {
   "cell_type": "markdown",
   "metadata": {},
   "source": [
    "# <center>  Capstone проект №1 <br> Идентификация пользователей по посещенным веб-страницам\n",
    "<img src='http://i.istockimg.com/file_thumbview_approve/21546327/5/stock-illustration-21546327-identification-de-l-utilisateur.jpg'>\n",
    "\n",
    "# <center>Неделя 3. Визуальный анализ данных и построение признаков\n",
    "\n",
    "На 3 неделе мы займемся визуальным анализом данных и построением признаков. Сначала мы вместе построим и проанализируем несколько признаков, потом Вы сможете сами придумать и описать различные признаки. \n",
    "\n",
    "**План 3 недели:**\n",
    " - Часть 1. Построение признаков\n",
    " - Часть 2. Визуальный анализ данных\n",
    " - Часть 3. Дальнейшее построение признаков\n",
    " - Часть 4. Проверка построенных признаков\n",
    "\n",
    "**В этой части проекта Вам могут быть полезны видеозаписи следующих лекций курса \"Поиск структуры в данных\":**\n",
    "   - [Задача визуализации](https://www.coursera.org/learn/unsupervised-learning/lecture/hlvlT/zadacha-vizualizatsii)\n",
    "   - [Визуализация данных в sklearn](https://www.coursera.org/learn/unsupervised-learning/lecture/ityMo/vizualizatsiia-dannykh-v-sklearn)\n",
    "   \n",
    "**Также в задании будет использоваться библиотека Seaborn (ее можно дополнительно установить командой *pip install seaborn*), будет полезно обращаться к документациям [Matplotlib](http://matplotlib.org/users/) и [Seaborn](http://seaborn.pydata.org/), а также к примерам визуализации, описанным на StackOverflow.**\n",
    "\n"
   ]
  },
  {
   "cell_type": "markdown",
   "metadata": {},
   "source": [
    "### Задание\n",
    "1. Заполните код в этой тетрадке \n",
    "2. Если вы проходите специализацию Яндеса и МФТИ, пошлите тетрадку в соответствующем Peer Review. <br> Если вы проходите курс ODS, выберите ответы в [веб-форме](https://docs.google.com/forms/d/1EbjK7-hF-Gepi6RH-K5I2XeiYGRoY0LNDx03QmLu9Xo). "
   ]
  },
  {
   "cell_type": "markdown",
   "metadata": {},
   "source": [
    "## Часть 1. Построение признаков"
   ]
  },
  {
   "cell_type": "code",
   "execution_count": 279,
   "metadata": {},
   "outputs": [],
   "source": [
    "from __future__ import division, print_function\n",
    "# отключим всякие предупреждения Anaconda\n",
    "import warnings\n",
    "warnings.filterwarnings('ignore')\n",
    "from glob import glob\n",
    "import os\n",
    "from tqdm import tqdm\n",
    "from tqdm import tqdm_notebook\n",
    "import numpy as np\n",
    "import pandas as pd\n",
    "pd.set_option('display.max.columns', 25)\n",
    "import pickle\n",
    "#pip install seaborn\n",
    "import seaborn as sns\n",
    "%matplotlib inline\n",
    "from matplotlib import pyplot as plt"
   ]
  },
  {
   "cell_type": "code",
   "execution_count": 280,
   "metadata": {},
   "outputs": [],
   "source": [
    "# Поменяйте на свой путь к данным\n",
    "PATH_TO_DATA = os.getcwd()"
   ]
  },
  {
   "cell_type": "code",
   "execution_count": 281,
   "metadata": {},
   "outputs": [],
   "source": [
    "table = pd.read_csv(os.path.join(os.path.join(PATH_TO_DATA, '3users'), 'user0001.csv'))"
   ]
  },
  {
   "cell_type": "code",
   "execution_count": 282,
   "metadata": {},
   "outputs": [],
   "source": [
    "table['user_id'] = int('0001')\n",
    "table['timestamp'] = table['timestamp'].astype('datetime64')"
   ]
  },
  {
   "cell_type": "markdown",
   "metadata": {},
   "source": [
    "**Создайте на основе функций *prepare_train_set* и *prepare_sparse_train_set_window*  новую – *prepare_train_set_with_fe*, (от \"feature engineering\"), создайте следующие признаки:**\n",
    "- `session_timespan` – продолжительность сессии (разница между максимальным и минимальным временем посещения сайтов в сессии, в секундах)\n",
    "- `#unique_sites` – число уникальных сайтов в сессии \n",
    "- `start_hour` – час начала сессии (то есть час в записи минимального timestamp среди десяти)\n",
    "- `day_of_week` – день недели (то есть день недели в записи минимального timestamp среди десяти)\n",
    "\n",
    "Функция должна возвращать новый DataFrame (как возвращала функция *prepare_train_set*), только признаков должно быть на 4 больше. Порядок, в котором добавляются признаки: *site1*, ... *site10*, *session_timespan*, *#unique_sites*, *start_hour*, *day_of_week* и *user_id* (это видно и чуть ниже по тому, как функция вызывается)."
   ]
  },
  {
   "cell_type": "code",
   "execution_count": 283,
   "metadata": {},
   "outputs": [],
   "source": [
    "def prepare_train_set_with_fe(path_to_csv_files, site_freq_path, feature_names,\n",
    "                                    session_length=10, window_size=10):\n",
    "    files_list = sorted(os.listdir(path_to_csv_files))\n",
    "    table_list = []\n",
    "    \n",
    "    for file in files_list:\n",
    "        table = file.split('.')[0]\n",
    "        user_id = table[4:]\n",
    "        table = pd.read_csv(os.path.join(path_to_csv_files, file))\n",
    "        table['user_id'] = int(user_id)\n",
    "        table['timestamp'] = table['timestamp'].astype('datetime64')\n",
    "        table_list.append(table)\n",
    "    \n",
    "    concat_table = pd.concat(table_list, axis=0)\n",
    "    \n",
    "    with open(site_freq_path, 'rb') as f:\n",
    "        freq_dict = pickle.load(f)\n",
    "    \n",
    "    concat_table['site_id'] = concat_table['site'].apply(lambda x: freq_dict[x][0])\n",
    "    user_site_id = concat_table.groupby('user_id')['site_id'].apply(lambda x: x.tolist())\n",
    "    user_timestamp = concat_table.groupby('user_id')['timestamp'].apply(lambda x: x.tolist())\n",
    "    users_table = pd.DataFrame()\n",
    "    users_table['site_id'] = user_site_id\n",
    "    users_table['timestamp'] = user_timestamp\n",
    "    \n",
    "    def adj_to_sess_lenght(df, session_length, window_size):\n",
    "        \n",
    "        sites = df['site_id'].values\n",
    "        timestamps = df['timestamp'].values\n",
    "        index = df.index\n",
    "        \n",
    "        result = np.zeros((0, session_length+1))\n",
    "        prog_bar = tqdm_notebook(zip(index, sites, timestamps), total=len(index))\n",
    "        \n",
    "        for a, b, t in prog_bar:\n",
    "            \n",
    "            # подготовка таблицы с сессиями\n",
    "            b = np.array(b)\n",
    "            cols = np.ceil(b.shape[0] / float(window_size))\n",
    "            start_idx = np.arange(cols) * window_size\n",
    "            b = np.concatenate((b, np.zeros(session_length)))\n",
    "            sessions = [np.array(b[x:x+session_length]) for x in start_idx.astype('int')] \n",
    "            arr = np.array(sessions).reshape(-1, session_length)\n",
    "            unique_sites = [np.unique(x[np.nonzero(x)[0]]).size for x in arr]\n",
    "            \n",
    "            # построение временных признаков\n",
    "            t = np.concatenate((t, np.zeros(session_length)))\n",
    "            time_sessions = [np.array(t[x:x+session_length]) for x in start_idx.astype('int')]\n",
    "            timestamp_min = np.array(t[start_idx.astype('int')])\n",
    "            timestamp_max = np.array([x[np.nonzero(x)].max() for x in time_sessions])\n",
    "            time_span = [np.timedelta64(timestamp_max[i] - timestamp_min[i], 's').astype(int) for i in range(len(timestamp_min))]\n",
    "            start_hour = pd.to_datetime(timestamp_min).hour\n",
    "            day_of_week = pd.to_datetime(timestamp_min).weekday\n",
    "            \n",
    "            # добавление идентификатора пользователя\n",
    "            ids = np.ones(arr.shape[0]).reshape(-1, 1) * a\n",
    "\n",
    "            result = np.append(result, np.hstack((arr, np.array(time_span).reshape(-1, 1), \n",
    "                                                  np.array(unique_sites).reshape(-1, 1), \n",
    "                                                  np.array(start_hour).reshape(-1, 1), \n",
    "                                                  np.array(day_of_week).reshape(-1, 1), ids)))\n",
    "        return np.array(result, dtype='int').reshape(-1, session_length + 5)\n",
    " \n",
    "    columns = ['site'+str(x) for x in np.arange(1, session_length + 1)]\n",
    "    \n",
    "    for i in ['session_timespan', 'unique_sites', 'start_hour', 'day_of_week', 'user_id']:\n",
    "        columns.append(i)\n",
    "    \n",
    "    result_df = pd.DataFrame(data=adj_to_sess_lenght(users_table, session_length, window_size), \n",
    "                             columns=columns)\n",
    "    \n",
    " \n",
    "    return result_df\n",
    "    ''' ВАШ КОД ЗДЕСЬ '''"
   ]
  },
  {
   "cell_type": "markdown",
   "metadata": {},
   "source": [
    "**Проверим функцию на игрушечном примере.**"
   ]
  },
  {
   "cell_type": "code",
   "execution_count": 284,
   "metadata": {},
   "outputs": [
    {
     "data": {
      "application/vnd.jupyter.widget-view+json": {
       "model_id": "b6bcc91d91ee4055ac92c235155dfb51",
       "version_major": 2,
       "version_minor": 0
      },
      "text/plain": [
       "HBox(children=(IntProgress(value=0, max=3), HTML(value='')))"
      ]
     },
     "metadata": {},
     "output_type": "display_data"
    },
    {
     "name": "stdout",
     "output_type": "stream",
     "text": [
      "\n"
     ]
    }
   ],
   "source": [
    "feature_names = ['site' + str(i) for i in range(1,11)] + \\\n",
    "                ['time_diff' + str(j) for j in range(1,10)] + \\\n",
    "                ['session_timespan', '#unique_sites', 'start_hour', \n",
    "                 'day_of_week', 'target']\n",
    "train_data_toy  = prepare_train_set_with_fe(os.path.join(PATH_TO_DATA, \n",
    "                                                         '3users'), \n",
    "                  site_freq_path=os.path.join(PATH_TO_DATA, \n",
    "                                              'site_freq_3users.pkl'),\n",
    "                  feature_names=feature_names, session_length=10)"
   ]
  },
  {
   "cell_type": "code",
   "execution_count": 285,
   "metadata": {},
   "outputs": [
    {
     "data": {
      "text/html": [
       "<div>\n",
       "<style scoped>\n",
       "    .dataframe tbody tr th:only-of-type {\n",
       "        vertical-align: middle;\n",
       "    }\n",
       "\n",
       "    .dataframe tbody tr th {\n",
       "        vertical-align: top;\n",
       "    }\n",
       "\n",
       "    .dataframe thead th {\n",
       "        text-align: right;\n",
       "    }\n",
       "</style>\n",
       "<table border=\"1\" class=\"dataframe\">\n",
       "  <thead>\n",
       "    <tr style=\"text-align: right;\">\n",
       "      <th></th>\n",
       "      <th>site1</th>\n",
       "      <th>site2</th>\n",
       "      <th>site3</th>\n",
       "      <th>site4</th>\n",
       "      <th>site5</th>\n",
       "      <th>site6</th>\n",
       "      <th>site7</th>\n",
       "      <th>site8</th>\n",
       "      <th>site9</th>\n",
       "      <th>site10</th>\n",
       "      <th>session_timespan</th>\n",
       "      <th>unique_sites</th>\n",
       "      <th>start_hour</th>\n",
       "      <th>day_of_week</th>\n",
       "      <th>user_id</th>\n",
       "    </tr>\n",
       "  </thead>\n",
       "  <tbody>\n",
       "    <tr>\n",
       "      <th>0</th>\n",
       "      <td>4</td>\n",
       "      <td>2</td>\n",
       "      <td>2</td>\n",
       "      <td>7</td>\n",
       "      <td>2</td>\n",
       "      <td>1</td>\n",
       "      <td>11</td>\n",
       "      <td>5</td>\n",
       "      <td>9</td>\n",
       "      <td>10</td>\n",
       "      <td>7998</td>\n",
       "      <td>8</td>\n",
       "      <td>9</td>\n",
       "      <td>4</td>\n",
       "      <td>1</td>\n",
       "    </tr>\n",
       "    <tr>\n",
       "      <th>1</th>\n",
       "      <td>4</td>\n",
       "      <td>1</td>\n",
       "      <td>1</td>\n",
       "      <td>1</td>\n",
       "      <td>0</td>\n",
       "      <td>0</td>\n",
       "      <td>0</td>\n",
       "      <td>0</td>\n",
       "      <td>0</td>\n",
       "      <td>0</td>\n",
       "      <td>60</td>\n",
       "      <td>2</td>\n",
       "      <td>12</td>\n",
       "      <td>4</td>\n",
       "      <td>1</td>\n",
       "    </tr>\n",
       "    <tr>\n",
       "      <th>2</th>\n",
       "      <td>4</td>\n",
       "      <td>2</td>\n",
       "      <td>6</td>\n",
       "      <td>6</td>\n",
       "      <td>2</td>\n",
       "      <td>0</td>\n",
       "      <td>0</td>\n",
       "      <td>0</td>\n",
       "      <td>0</td>\n",
       "      <td>0</td>\n",
       "      <td>7935</td>\n",
       "      <td>3</td>\n",
       "      <td>9</td>\n",
       "      <td>4</td>\n",
       "      <td>2</td>\n",
       "    </tr>\n",
       "    <tr>\n",
       "      <th>3</th>\n",
       "      <td>3</td>\n",
       "      <td>1</td>\n",
       "      <td>2</td>\n",
       "      <td>1</td>\n",
       "      <td>2</td>\n",
       "      <td>1</td>\n",
       "      <td>1</td>\n",
       "      <td>5</td>\n",
       "      <td>8</td>\n",
       "      <td>3</td>\n",
       "      <td>7998</td>\n",
       "      <td>5</td>\n",
       "      <td>9</td>\n",
       "      <td>4</td>\n",
       "      <td>3</td>\n",
       "    </tr>\n",
       "    <tr>\n",
       "      <th>4</th>\n",
       "      <td>3</td>\n",
       "      <td>1</td>\n",
       "      <td>2</td>\n",
       "      <td>0</td>\n",
       "      <td>0</td>\n",
       "      <td>0</td>\n",
       "      <td>0</td>\n",
       "      <td>0</td>\n",
       "      <td>0</td>\n",
       "      <td>0</td>\n",
       "      <td>1471</td>\n",
       "      <td>3</td>\n",
       "      <td>12</td>\n",
       "      <td>4</td>\n",
       "      <td>3</td>\n",
       "    </tr>\n",
       "  </tbody>\n",
       "</table>\n",
       "</div>"
      ],
      "text/plain": [
       "   site1  site2  site3  site4  site5  site6  site7  site8  site9  site10  \\\n",
       "0      4      2      2      7      2      1     11      5      9      10   \n",
       "1      4      1      1      1      0      0      0      0      0       0   \n",
       "2      4      2      6      6      2      0      0      0      0       0   \n",
       "3      3      1      2      1      2      1      1      5      8       3   \n",
       "4      3      1      2      0      0      0      0      0      0       0   \n",
       "\n",
       "   session_timespan  unique_sites  start_hour  day_of_week  user_id  \n",
       "0              7998             8           9            4        1  \n",
       "1                60             2          12            4        1  \n",
       "2              7935             3           9            4        2  \n",
       "3              7998             5           9            4        3  \n",
       "4              1471             3          12            4        3  "
      ]
     },
     "execution_count": 285,
     "metadata": {},
     "output_type": "execute_result"
    }
   ],
   "source": [
    "train_data_toy"
   ]
  },
  {
   "cell_type": "markdown",
   "metadata": {},
   "source": [
    "**Примените функцию *prepare_train_set_with_fe* к данным по 10 пользователям, укажите *session_length*=10.**"
   ]
  },
  {
   "cell_type": "code",
   "execution_count": 286,
   "metadata": {},
   "outputs": [
    {
     "data": {
      "application/vnd.jupyter.widget-view+json": {
       "model_id": "8f414046ab2149829b41bed517c4049e",
       "version_major": 2,
       "version_minor": 0
      },
      "text/plain": [
       "HBox(children=(IntProgress(value=0, max=10), HTML(value='')))"
      ]
     },
     "metadata": {},
     "output_type": "display_data"
    },
    {
     "name": "stdout",
     "output_type": "stream",
     "text": [
      "\n",
      "Wall time: 2.17 s\n"
     ]
    }
   ],
   "source": [
    "%%time\n",
    "train_data_10users = prepare_train_set_with_fe(os.path.join(PATH_TO_DATA, \n",
    "                                                         '10users'), \n",
    "                  site_freq_path=os.path.join(PATH_TO_DATA, \n",
    "                                              'site_freq_10users.pkl'),\n",
    "                  feature_names=feature_names, session_length=10)"
   ]
  },
  {
   "cell_type": "code",
   "execution_count": 287,
   "metadata": {},
   "outputs": [
    {
     "data": {
      "text/html": [
       "<div>\n",
       "<style scoped>\n",
       "    .dataframe tbody tr th:only-of-type {\n",
       "        vertical-align: middle;\n",
       "    }\n",
       "\n",
       "    .dataframe tbody tr th {\n",
       "        vertical-align: top;\n",
       "    }\n",
       "\n",
       "    .dataframe thead th {\n",
       "        text-align: right;\n",
       "    }\n",
       "</style>\n",
       "<table border=\"1\" class=\"dataframe\">\n",
       "  <thead>\n",
       "    <tr style=\"text-align: right;\">\n",
       "      <th></th>\n",
       "      <th>site1</th>\n",
       "      <th>site2</th>\n",
       "      <th>site3</th>\n",
       "      <th>site4</th>\n",
       "      <th>site5</th>\n",
       "      <th>site6</th>\n",
       "      <th>site7</th>\n",
       "      <th>site8</th>\n",
       "      <th>site9</th>\n",
       "      <th>site10</th>\n",
       "      <th>session_timespan</th>\n",
       "      <th>unique_sites</th>\n",
       "      <th>start_hour</th>\n",
       "      <th>day_of_week</th>\n",
       "      <th>user_id</th>\n",
       "    </tr>\n",
       "  </thead>\n",
       "  <tbody>\n",
       "    <tr>\n",
       "      <th>0</th>\n",
       "      <td>192</td>\n",
       "      <td>579</td>\n",
       "      <td>134</td>\n",
       "      <td>3</td>\n",
       "      <td>134</td>\n",
       "      <td>134</td>\n",
       "      <td>3</td>\n",
       "      <td>134</td>\n",
       "      <td>203</td>\n",
       "      <td>134</td>\n",
       "      <td>33</td>\n",
       "      <td>5</td>\n",
       "      <td>8</td>\n",
       "      <td>4</td>\n",
       "      <td>31</td>\n",
       "    </tr>\n",
       "    <tr>\n",
       "      <th>1</th>\n",
       "      <td>415</td>\n",
       "      <td>193</td>\n",
       "      <td>684</td>\n",
       "      <td>256</td>\n",
       "      <td>134</td>\n",
       "      <td>31</td>\n",
       "      <td>397</td>\n",
       "      <td>3306</td>\n",
       "      <td>217</td>\n",
       "      <td>55</td>\n",
       "      <td>284</td>\n",
       "      <td>10</td>\n",
       "      <td>8</td>\n",
       "      <td>4</td>\n",
       "      <td>31</td>\n",
       "    </tr>\n",
       "    <tr>\n",
       "      <th>2</th>\n",
       "      <td>55</td>\n",
       "      <td>3</td>\n",
       "      <td>55</td>\n",
       "      <td>55</td>\n",
       "      <td>5</td>\n",
       "      <td>294</td>\n",
       "      <td>415</td>\n",
       "      <td>337</td>\n",
       "      <td>908</td>\n",
       "      <td>55</td>\n",
       "      <td>258</td>\n",
       "      <td>7</td>\n",
       "      <td>8</td>\n",
       "      <td>4</td>\n",
       "      <td>31</td>\n",
       "    </tr>\n",
       "    <tr>\n",
       "      <th>3</th>\n",
       "      <td>482</td>\n",
       "      <td>4252</td>\n",
       "      <td>482</td>\n",
       "      <td>55</td>\n",
       "      <td>55</td>\n",
       "      <td>55</td>\n",
       "      <td>55</td>\n",
       "      <td>971</td>\n",
       "      <td>201</td>\n",
       "      <td>123</td>\n",
       "      <td>30</td>\n",
       "      <td>6</td>\n",
       "      <td>8</td>\n",
       "      <td>4</td>\n",
       "      <td>31</td>\n",
       "    </tr>\n",
       "    <tr>\n",
       "      <th>4</th>\n",
       "      <td>343</td>\n",
       "      <td>55</td>\n",
       "      <td>5</td>\n",
       "      <td>3998</td>\n",
       "      <td>258</td>\n",
       "      <td>212</td>\n",
       "      <td>4177</td>\n",
       "      <td>2368</td>\n",
       "      <td>701</td>\n",
       "      <td>2368</td>\n",
       "      <td>6</td>\n",
       "      <td>9</td>\n",
       "      <td>8</td>\n",
       "      <td>4</td>\n",
       "      <td>31</td>\n",
       "    </tr>\n",
       "  </tbody>\n",
       "</table>\n",
       "</div>"
      ],
      "text/plain": [
       "   site1  site2  site3  site4  site5  site6  site7  site8  site9  site10  \\\n",
       "0    192    579    134      3    134    134      3    134    203     134   \n",
       "1    415    193    684    256    134     31    397   3306    217      55   \n",
       "2     55      3     55     55      5    294    415    337    908      55   \n",
       "3    482   4252    482     55     55     55     55    971    201     123   \n",
       "4    343     55      5   3998    258    212   4177   2368    701    2368   \n",
       "\n",
       "   session_timespan  unique_sites  start_hour  day_of_week  user_id  \n",
       "0                33             5           8            4       31  \n",
       "1               284            10           8            4       31  \n",
       "2               258             7           8            4       31  \n",
       "3                30             6           8            4       31  \n",
       "4                 6             9           8            4       31  "
      ]
     },
     "execution_count": 287,
     "metadata": {},
     "output_type": "execute_result"
    }
   ],
   "source": [
    "train_data_10users.head()"
   ]
  },
  {
   "cell_type": "markdown",
   "metadata": {},
   "source": [
    "**Примените функцию *prepare_train_set_with_fe* к данным по 150 пользователям, укажите *session_length*=10.**"
   ]
  },
  {
   "cell_type": "code",
   "execution_count": 288,
   "metadata": {},
   "outputs": [
    {
     "data": {
      "application/vnd.jupyter.widget-view+json": {
       "model_id": "32d1f22a49074cb8a1a043f5249a2c31",
       "version_major": 2,
       "version_minor": 0
      },
      "text/plain": [
       "HBox(children=(IntProgress(value=0, max=150), HTML(value='')))"
      ]
     },
     "metadata": {},
     "output_type": "display_data"
    },
    {
     "name": "stdout",
     "output_type": "stream",
     "text": [
      "\n",
      "Wall time: 23.1 s\n"
     ]
    }
   ],
   "source": [
    "%%time\n",
    "train_data_150users = prepare_train_set_with_fe(os.path.join(PATH_TO_DATA, \n",
    "                                                         '150users'), \n",
    "                  site_freq_path=os.path.join(PATH_TO_DATA, \n",
    "                                              'site_freq_150users.pkl'),\n",
    "                  feature_names=feature_names, session_length=10)"
   ]
  },
  {
   "cell_type": "markdown",
   "metadata": {},
   "source": [
    "**Сохраните в pickle-файлы признаки *session_timespan*, *#unique_sites*, *start_hour* и *day_of_week* для 10 и 150 пользователей.**"
   ]
  },
  {
   "cell_type": "code",
   "execution_count": 289,
   "metadata": {},
   "outputs": [],
   "source": [
    "new_features_10users = train_data_10users[['session_timespan', 'unique_sites', 'start_hour', 'day_of_week']]\n",
    "new_features_150users = train_data_150users[['session_timespan', 'unique_sites', 'start_hour', 'day_of_week']]"
   ]
  },
  {
   "cell_type": "code",
   "execution_count": 290,
   "metadata": {},
   "outputs": [],
   "source": [
    "with open(os.path.join(PATH_TO_DATA, \n",
    "                       'new_features_10users.pkl'), 'wb') as new_features_10users_pkl:\n",
    "    pickle.dump(new_features_10users, new_features_10users_pkl)\n",
    "with open(os.path.join(PATH_TO_DATA, \n",
    "                       'new_features_150users.pkl'), 'wb') as new_features_150users_pkl:\n",
    "    pickle.dump(new_features_150users, new_features_150users_pkl)"
   ]
  },
  {
   "cell_type": "markdown",
   "metadata": {},
   "source": [
    "**<font color='red'>Вопрос 1. </font> Выведите медианную продолжительность сессии (*session_timespan*) для сессий 10 пользователей.**"
   ]
  },
  {
   "cell_type": "code",
   "execution_count": 291,
   "metadata": {},
   "outputs": [
    {
     "data": {
      "text/plain": [
       "37.0"
      ]
     },
     "execution_count": 291,
     "metadata": {},
     "output_type": "execute_result"
    }
   ],
   "source": [
    "train_data_10users['session_timespan'].median()"
   ]
  },
  {
   "cell_type": "markdown",
   "metadata": {},
   "source": [
    "**<font color='red'>Вопрос 2. </font> Выведите медианный день недели, в который началась сессия, для сессий 10 пользователей.**"
   ]
  },
  {
   "cell_type": "code",
   "execution_count": 292,
   "metadata": {},
   "outputs": [
    {
     "data": {
      "text/plain": [
       "2.0"
      ]
     },
     "execution_count": 292,
     "metadata": {},
     "output_type": "execute_result"
    }
   ],
   "source": [
    "train_data_10users['day_of_week'].median()"
   ]
  },
  {
   "cell_type": "markdown",
   "metadata": {},
   "source": [
    "**<font color='red'>Вопрос 3. </font>Выведите медианный час начала сессии для сессий 150 пользователей.**"
   ]
  },
  {
   "cell_type": "code",
   "execution_count": 293,
   "metadata": {},
   "outputs": [
    {
     "data": {
      "text/plain": [
       "13.0"
      ]
     },
     "execution_count": 293,
     "metadata": {},
     "output_type": "execute_result"
    }
   ],
   "source": [
    "train_data_150users['start_hour'].median()"
   ]
  },
  {
   "cell_type": "markdown",
   "metadata": {},
   "source": [
    "**<font color='red'>Вопрос 4. </font>Выведите медианное значение числа уникальных сайтов в сессиях 150 пользователей.**"
   ]
  },
  {
   "cell_type": "code",
   "execution_count": 294,
   "metadata": {},
   "outputs": [
    {
     "data": {
      "text/plain": [
       "7.0"
      ]
     },
     "execution_count": 294,
     "metadata": {},
     "output_type": "execute_result"
    }
   ],
   "source": [
    "train_data_150users['unique_sites'].median()"
   ]
  },
  {
   "cell_type": "markdown",
   "metadata": {},
   "source": [
    "## Часть 2. Визуальный анализ данных"
   ]
  },
  {
   "cell_type": "markdown",
   "metadata": {},
   "source": [
    "**Забавы ради, потехи для дадим пользователям имена и ассоциируем с ними цвета.**"
   ]
  },
  {
   "cell_type": "code",
   "execution_count": 295,
   "metadata": {},
   "outputs": [],
   "source": [
    "id_name_dict = {128: 'Mary-Kate', 39: 'Ashley', 207: 'Lindsey', 127: 'Naomi', 237: 'Avril',\n",
    "               33: 'Bob', 50: 'Bill', 31: 'John', 100: 'Dick', 241: 'Ed'}\n",
    "train_data_10users['target'] = train_data_10users['user_id'].map(id_name_dict)"
   ]
  },
  {
   "cell_type": "code",
   "execution_count": 296,
   "metadata": {},
   "outputs": [],
   "source": [
    "color_dic = {'Mary-Kate': 'pink', 'Ashley': 'darkviolet', 'Lindsey':'blueviolet', \n",
    "             'Naomi': 'hotpink', 'Avril': 'orchid', \n",
    "             'Bob': 'firebrick', 'Bill': 'gold', 'John': 'forestgreen', \n",
    "             'Dick': 'slategrey', 'Ed':'brown'}"
   ]
  },
  {
   "cell_type": "markdown",
   "metadata": {},
   "source": [
    "**1. Постройте гистограмму распределения длины сессии в секундах (*session_timespan*). Ограничьте по *x* значением 200 (иначе слишком тяжелый хвост). Сделайте гистограмму цвета *darkviolet*, подпишите оси по-русски.**"
   ]
  },
  {
   "cell_type": "code",
   "execution_count": 297,
   "metadata": {},
   "outputs": [
    {
     "data": {
      "text/plain": [
       "Text(0, 0.5, 'Кол-во сессий')"
      ]
     },
     "execution_count": 297,
     "metadata": {},
     "output_type": "execute_result"
    },
    {
     "data": {
      "image/png": "[encoded data removed]",
      "text/plain": [
       "<Figure size 432x288 with 1 Axes>"
      ]
     },
     "metadata": {
      "needs_background": "light"
     },
     "output_type": "display_data"
    }
   ],
   "source": [
    "plt.hist(train_data_10users['session_timespan'], range=(0, 200), color='darkviolet')\n",
    "plt.title('Гистограмма распределения длины сессии в секундах')\n",
    "plt.xlabel('Длина сессии')\n",
    "plt.ylabel('Кол-во сессий')"
   ]
  },
  {
   "cell_type": "markdown",
   "metadata": {},
   "source": [
    "**2. Постройте гистограмму распределения числа уникальных сайтов в сессии (*#unique_sites*). Сделайте гистограмму цвета *aqua*, подпишите оси по-русски.**"
   ]
  },
  {
   "cell_type": "code",
   "execution_count": 298,
   "metadata": {},
   "outputs": [
    {
     "data": {
      "text/plain": [
       "Text(0, 0.5, 'Кол-во сессий')"
      ]
     },
     "execution_count": 298,
     "metadata": {},
     "output_type": "execute_result"
    },
    {
     "data": {
      "image/png": "[encoded data removed]",
      "text/plain": [
       "<Figure size 432x288 with 1 Axes>"
      ]
     },
     "metadata": {
      "needs_background": "light"
     },
     "output_type": "display_data"
    }
   ],
   "source": [
    "plt.hist(train_data_10users['unique_sites'], color='aqua')\n",
    "plt.title('Гистограмма распределения числа уникальных сайтов в сессии')\n",
    "plt.xlabel('Число сайтов')\n",
    "plt.ylabel('Кол-во сессий')"
   ]
  },
  {
   "cell_type": "markdown",
   "metadata": {},
   "source": [
    "**3. Постройте гистограммы распределения числа уникальных сайтов в сессии (*#unique_sites*) для каждого из 10 пользователей по отдельности. Используйте *subplots*, чтоб разместить все 10 картинок на одной большой. Пометьте легендой каждую картинку, на легенде должно быть написано имя пользователя. Для каждого пользователя раскрасьте гистограмму его/ее цветом (*color_dic*). Подпишите оси по-русски в каждой из 10 гистограмм.**"
   ]
  },
  {
   "cell_type": "code",
   "execution_count": 299,
   "metadata": {},
   "outputs": [
    {
     "data": {
      "image/png": "[encoded data removed]",
      "text/plain": [
       "<Figure size 1152x720 with 12 Axes>"
      ]
     },
     "metadata": {
      "needs_background": "light"
     },
     "output_type": "display_data"
    }
   ],
   "source": [
    "fig, axes = plt.subplots(nrows=3, ncols=4, figsize=(16, 10))\n",
    "\n",
    "# как вариант, можно и по-другому\n",
    "for idx, (user, sub_df) in  enumerate(train_data_10users.groupby('user_id')):\n",
    "    ax = axes[idx // 4, idx % 4]\n",
    "    name = sub_df['target'].values[0]\n",
    "    sns.countplot(sub_df['unique_sites'], color=color_dic[name], label=name, ax=ax)\n",
    "    ax.legend()\n",
    "    ax.set_xlabel('Кол-во уникальных сайтов')\n",
    "    ax.set_ylabel('Кол-во сессий')"
   ]
  },
  {
   "cell_type": "markdown",
   "metadata": {},
   "source": [
    "**4. Постройте гистограмму распределения часа начала сессии (*start_hour*). Сделайте гистограмму цвета *darkgreen*, подпишите оси по-русски.**"
   ]
  },
  {
   "cell_type": "code",
   "execution_count": 300,
   "metadata": {},
   "outputs": [
    {
     "data": {
      "text/plain": [
       "Text(0, 0.5, 'Кол-во сессий')"
      ]
     },
     "execution_count": 300,
     "metadata": {},
     "output_type": "execute_result"
    },
    {
     "data": {
      "image/png": "[encoded data removed]",
      "text/plain": [
       "<Figure size 432x288 with 1 Axes>"
      ]
     },
     "metadata": {
      "needs_background": "light"
     },
     "output_type": "display_data"
    }
   ],
   "source": [
    "plt.hist(train_data_10users['start_hour'], color='darkgreen')\n",
    "plt.title('Гистограмма распределения часа начала сессии')\n",
    "plt.xlabel('Час начала сессии')\n",
    "plt.ylabel('Кол-во сессий')"
   ]
  },
  {
   "cell_type": "markdown",
   "metadata": {},
   "source": [
    "**5. Постройте гистограммы распределения часа начала сессии (*start_hour*) для каждого из 10 пользователей по отдельности. Используйте *subplots*, чтоб разместить все 10 картинок на одной большой. Пометьте легендой каждую картинку, на легенде должно быть написано имя пользователя. Для каждого пользователя раскрасьте гистограмму его/ее цветом (*color_dic*). Подпишите оси по-русски в каждой из 10 гистограмм.**"
   ]
  },
  {
   "cell_type": "code",
   "execution_count": 301,
   "metadata": {},
   "outputs": [
    {
     "data": {
      "image/png": "[encoded data removed]",
      "text/plain": [
       "<Figure size 1152x720 with 12 Axes>"
      ]
     },
     "metadata": {
      "needs_background": "light"
     },
     "output_type": "display_data"
    }
   ],
   "source": [
    "fig, axes = plt.subplots(nrows=3, ncols=4, figsize=(16, 10))\n",
    "\n",
    "# как вариант, можно и по-другому\n",
    "for idx, (user, sub_df) in  enumerate(train_data_10users.groupby('user_id')):\n",
    "    ax = axes[idx // 4, idx % 4]\n",
    "    name = sub_df['target'].values[0]\n",
    "    sns.countplot(sub_df['start_hour'], color=color_dic[name], label=name, ax=ax)\n",
    "    ax.legend()\n",
    "    ax.set_xlabel('Час начала сессии')\n",
    "    ax.set_ylabel('Кол-во сессий')"
   ]
  },
  {
   "cell_type": "markdown",
   "metadata": {},
   "source": [
    "**6. Постройте гистограмму распределения дня недели, в который началась сессия (*day_of_week*). Сделайте гистограмму цвета *sienna*, подпишите оси по-русски.**"
   ]
  },
  {
   "cell_type": "code",
   "execution_count": 302,
   "metadata": {},
   "outputs": [
    {
     "data": {
      "text/plain": [
       "Text(0, 0.5, 'Кол-во сессий')"
      ]
     },
     "execution_count": 302,
     "metadata": {},
     "output_type": "execute_result"
    },
    {
     "data": {
      "image/png": "[encoded data removed]",
      "text/plain": [
       "<Figure size 432x288 with 1 Axes>"
      ]
     },
     "metadata": {
      "needs_background": "light"
     },
     "output_type": "display_data"
    }
   ],
   "source": [
    "sns.countplot(train_data_10users['day_of_week'], color='sienna')\n",
    "plt.title('Гистограмма распределения дней недели')\n",
    "plt.xlabel('День недели')\n",
    "plt.ylabel('Кол-во сессий')"
   ]
  },
  {
   "cell_type": "markdown",
   "metadata": {},
   "source": [
    "**7. Постройте гистограммы распределения дня недели, в который началась сессия (*day_of_week*) для каждого из 10 пользователей по отдельности. Используйте *subplots*, чтоб разместить все 10 картинок на одной большой. Измените метки по оси *X* на ['Пн', 'Вт', 'Ср', 'Чт', 'Пт', 'Сб', 'Вс'] – метод *set_xticklabels*. Пометьте легендой каждую картинку, на легенде должно быть написано имя пользователя. Для каждого пользователя раскрасьте гистограмму его/ее цветом (*color_dic*). Подпишите по-русски название каждой из 10 гистограмм.**"
   ]
  },
  {
   "cell_type": "code",
   "execution_count": 303,
   "metadata": {},
   "outputs": [
    {
     "data": {
      "image/png": "[encoded data removed]",
      "text/plain": [
       "<Figure size 1152x720 with 12 Axes>"
      ]
     },
     "metadata": {
      "needs_background": "light"
     },
     "output_type": "display_data"
    }
   ],
   "source": [
    "fig, axes = plt.subplots(nrows=3, ncols=4, figsize=(16, 10))\n",
    "\n",
    "# как вариант, можно и по-другому\n",
    "for idx, (user, sub_df) in  enumerate(train_data_10users.groupby('user_id')): \n",
    "    ax = axes[idx // 4, idx % 4]\n",
    "    name = sub_df['target'].values[0]\n",
    "    sns.countplot(sub_df['day_of_week'], color=color_dic[name], label=name, ax=ax)\n",
    "    ax.legend()\n",
    "    ax.set_xlabel('День недели')\n",
    "    ax.set_ylabel('Кол-во сессий')\n",
    "    ax.set_xticklabels(['Пн', 'Вт', 'Ср', 'Чт', 'Пт', 'Сб', 'Вс'])"
   ]
  },
  {
   "cell_type": "markdown",
   "metadata": {},
   "source": [
    "**8. Сделайте выводы про каждого пользователя по построенным графикам.**"
   ]
  },
  {
   "cell_type": "markdown",
   "metadata": {},
   "source": [
    "###### John, Bob, Ashley - почти все сессии начались в будние дни\n",
    "###### Bill - большая часть сессий началась в периоды 8-10 и 14-16 часов, большая часть сессий попадает на начало недели (пн, вт)\n",
    "###### Dick, Mary-Kate - у данных пользователей чаще чем у других появляются сессии с двумя уникальными сайтами\n",
    "###### Naomi, Lindsey - большая часть сессий началась в период 12-16 часов\n",
    "###### Ed - меньше, чем у остальных пользователей сессий, начавшихся в начале недели (пн, вт)"
   ]
  },
  {
   "cell_type": "markdown",
   "metadata": {},
   "source": [
    "**Загрузите сохраненный ранее в pickle-файл частотный словарь сайтов для 10 пользователей. **"
   ]
  },
  {
   "cell_type": "code",
   "execution_count": 304,
   "metadata": {},
   "outputs": [],
   "source": [
    "with open(os.path.join(PATH_TO_DATA, 'site_freq_10users.pkl'), 'rb') as f:\n",
    "    freq_dict = pickle.load(f)"
   ]
  },
  {
   "cell_type": "markdown",
   "metadata": {},
   "source": [
    "**Определите топ-10 самых посещаемых сайтов (*top10_sites*) и соответствующие кол-ва посещений (*top10_freqs*).**"
   ]
  },
  {
   "cell_type": "code",
   "execution_count": 305,
   "metadata": {},
   "outputs": [],
   "source": [
    "top10_freqs = [i[1] for i in list(freq_dict.values())[:10]]\n",
    "top10_sites = list(freq_dict.keys())[:10]"
   ]
  },
  {
   "cell_type": "markdown",
   "metadata": {},
   "source": [
    "**9. Нарисуйте *seaborn barplot*, показывающий частоты посещений топ-10 сайтов. Сделайте подписи сайтов вертикальными, иначе они сливаются (*xticks*).**"
   ]
  },
  {
   "cell_type": "code",
   "execution_count": 306,
   "metadata": {},
   "outputs": [
    {
     "data": {
      "text/plain": [
       "(array([0, 1, 2, 3, 4, 5, 6, 7, 8, 9]), <a list of 10 Text xticklabel objects>)"
      ]
     },
     "execution_count": 306,
     "metadata": {},
     "output_type": "execute_result"
    },
    {
     "data": {
      "image/png": "[encoded data removed]",
      "text/plain": [
       "<Figure size 432x288 with 1 Axes>"
      ]
     },
     "metadata": {
      "needs_background": "light"
     },
     "output_type": "display_data"
    }
   ],
   "source": [
    "sns.barplot(x=top10_sites, y=top10_freqs)\n",
    "plt.xticks(rotation=90)"
   ]
  },
  {
   "cell_type": "markdown",
   "metadata": {},
   "source": [
    "## Часть 3. Дальнейшее построение признаков"
   ]
  },
  {
   "cell_type": "markdown",
   "metadata": {},
   "source": [
    "Это задание творческое, тут надо придумать, как еще учесть время посещения веб-страниц и прочие признаки. \n",
    "\n",
    "На следующей неделе мы будем использовать \"мешок\" сайтов  для классификации сессий по принадлежности разным пользователям, а эти новые признаки, которые Вы сейчас создадите, потом добавим и посмотрим, улучшается ли модель. Поэтому можно их создать в виде отдельных матриц и сохранить их также отдельно.  \n",
    "\n",
    "В этой части задания Вы можете построить и визуально исследовать самые разные признаки (ничто фантазию не ограничивает):\n",
    "- год, месяц и день начала сессии\n",
    "- час начала сессии (с учетом года, месяца и дня)\n",
    "- время суток\n",
    "- среднее время пребывания на сайте, посчитать можно, скажем, для топ-30 популярных сайтов\n",
    "- индикаторы посещения популярных сайтов (скажем, тоже для топ-30 популярных сайтов)\n",
    "- частота посещения Facebook\n",
    "- ..."
   ]
  },
  {
   "cell_type": "markdown",
   "metadata": {},
   "source": [
    "**Напишите функцию для создания новых признаков и примените ее к исходным данным – каталогам с 10 и 150 файлами. Сделайте это только для набора данных, полученного с параметрами *session_length=10* и *window_size=10*. Сериализуйте полученные матрицы с помощью pickle. Функция может возвращать как только новые признаки, так и старые с новыми. При этом сигнатура функции может быть другой – тут уже свобода выбора.**"
   ]
  },
  {
   "cell_type": "code",
   "execution_count": 307,
   "metadata": {},
   "outputs": [],
   "source": [
    "mail = ['mail.google.com', 'mail.yahoo.com', 'mail.live.com', 'hotmail']\n",
    "social = ['facebook', 'youtube', 'instagram', 'twitter', 'linkedin']"
   ]
  },
  {
   "cell_type": "code",
   "execution_count": 308,
   "metadata": {},
   "outputs": [
    {
     "data": {
      "text/plain": [
       "[True]"
      ]
     },
     "execution_count": 308,
     "metadata": {},
     "output_type": "execute_result"
    }
   ],
   "source": [
    "[mail[0] in list(freq_dict.keys())]"
   ]
  },
  {
   "cell_type": "code",
   "execution_count": 309,
   "metadata": {},
   "outputs": [],
   "source": [
    "def find_site_index(site_dict, search_list):\n",
    "    \n",
    "    # функция возвращает индексы сайтов, в адресе которых есть елемент из списка search_list\n",
    "    \n",
    "    val = list(site_dict.values())\n",
    "    key = list(site_dict.keys())\n",
    "    \n",
    "    table = np.zeros((len(key), len(search_list)))\n",
    "    \n",
    "    for i in range(len(search_list)):\n",
    "        table[:, i] = np.array([search_list[i] in x for x in key], dtype=np.int8)\n",
    "        \n",
    "    result = np.nonzero(table.sum(axis=1))[0]  \n",
    "    \n",
    "    return result"
   ]
  },
  {
   "cell_type": "code",
   "execution_count": 310,
   "metadata": {},
   "outputs": [],
   "source": [
    "a = np.array([0,1,1,3,1,3,0,3,0,0,1])"
   ]
  },
  {
   "cell_type": "code",
   "execution_count": 311,
   "metadata": {},
   "outputs": [
    {
     "data": {
      "text/plain": [
       "7"
      ]
     },
     "execution_count": 311,
     "metadata": {},
     "output_type": "execute_result"
    }
   ],
   "source": [
    "np.isin(test, [6, 1, 3]).sum()"
   ]
  },
  {
   "cell_type": "code",
   "execution_count": 312,
   "metadata": {},
   "outputs": [
    {
     "data": {
      "text/plain": [
       "array([ 1,  2,  3,  4,  5,  7, 10], dtype=int64)"
      ]
     },
     "execution_count": 312,
     "metadata": {},
     "output_type": "execute_result"
    }
   ],
   "source": [
    "np.nonzero(a)[0]"
   ]
  },
  {
   "cell_type": "code",
   "execution_count": 313,
   "metadata": {},
   "outputs": [
    {
     "data": {
      "text/plain": [
       "array([1, 1, 3, 1, 3, 3, 1])"
      ]
     },
     "execution_count": 313,
     "metadata": {},
     "output_type": "execute_result"
    }
   ],
   "source": [
    "a[np.nonzero(a)[0]]"
   ]
  },
  {
   "cell_type": "code",
   "execution_count": 314,
   "metadata": {},
   "outputs": [],
   "source": [
    "def feature_engineering(path_to_csv_files, site_freq_path, feature_names,\n",
    "                                    session_length=10, window_size=10):\n",
    "    files_list = sorted(os.listdir(path_to_csv_files))\n",
    "    table_list = []\n",
    "    \n",
    "    for file in files_list:\n",
    "        table = file.split('.')[0]\n",
    "        user_id = table[4:]\n",
    "        table = pd.read_csv(os.path.join(path_to_csv_files, file))\n",
    "        table['user_id'] = int(user_id)\n",
    "        table['timestamp'] = table['timestamp'].astype('datetime64')\n",
    "        table_list.append(table)\n",
    "    \n",
    "    concat_table = pd.concat(table_list, axis=0)\n",
    "    \n",
    "    with open(site_freq_path, 'rb') as f:\n",
    "        freq_dict = pickle.load(f)\n",
    "    \n",
    "    concat_table['site_id'] = concat_table['site'].apply(lambda x: freq_dict[x][0])\n",
    "    user_site_id = concat_table.groupby('user_id')['site_id'].apply(lambda x: x.tolist())\n",
    "    user_timestamp = concat_table.groupby('user_id')['timestamp'].apply(lambda x: x.tolist())\n",
    "    users_table = pd.DataFrame()\n",
    "    users_table['site_id'] = user_site_id\n",
    "    users_table['timestamp'] = user_timestamp\n",
    "    \n",
    "    def adj_to_sess_lenght(df, session_length, window_size):\n",
    "        \n",
    "        sites = df['site_id'].values\n",
    "        timestamps = df['timestamp'].values\n",
    "        index = df.index\n",
    "        \n",
    "        result = np.zeros((0, session_length+1))\n",
    "        prog_bar = tqdm_notebook(zip(index, sites, timestamps), total=len(index))\n",
    "        \n",
    "        for a, b, t in prog_bar:\n",
    "            \n",
    "            # подготовка таблицы с сессиями\n",
    "            b = np.array(b)\n",
    "            cols = np.ceil(b.shape[0] / float(window_size))\n",
    "            start_idx = np.arange(cols) * window_size\n",
    "            b = np.concatenate((b, np.zeros(session_length)))\n",
    "            sessions = [np.array(b[x:x+session_length]) for x in start_idx.astype('int')] \n",
    "            arr = np.array(sessions).reshape(-1, session_length)\n",
    "            unique_sites = [np.unique(x[np.nonzero(x)[0]]).size for x in arr]\n",
    "            \n",
    "            # добавление нового признака - средний индекс сайта в сессии, чем больше средний индекс тем менее\n",
    "            # популярные сайты пользователь посетил в данной сессии.\n",
    "            average_site_index = arr.sum(axis=1, dtype=np.float32) / np.sum(np.array(arr > 0), axis=1)\n",
    "            \n",
    "            # добавление счетчиков почтовых клиентов  и соц сетей\n",
    "            \n",
    "            mail_index = find_site_index(freq_dict, mail)\n",
    "            social_index = find_site_index(freq_dict, social)\n",
    "            \n",
    "            mail_counter = np.array([np.in1d(sess[np.nonzero(sess)[0]], mail_index).sum() for sess in arr]).reshape(-1, 1)\n",
    "            social_counter = np.array([np.in1d(sess[np.nonzero(sess)[0]], social_index).sum() for sess in arr]).reshape(-1, 1)\n",
    "            \n",
    "            \n",
    "            # построение временных признаков\n",
    "            t = np.concatenate((t, np.zeros(session_length)))\n",
    "            time_sessions = [np.array(t[x:x+session_length]) for x in start_idx.astype('int')]\n",
    "            timestamp_min = np.array(t[start_idx.astype('int')])\n",
    "            timestamp_max = np.array([x[np.nonzero(x)].max() for x in time_sessions])\n",
    "            time_span = [np.timedelta64(timestamp_max[i] - timestamp_min[i], 's').astype(int) for i in range(len(timestamp_min))]\n",
    "            start_hour = pd.to_datetime(timestamp_min).hour\n",
    "            day_of_week = pd.to_datetime(timestamp_min).weekday\n",
    "            \n",
    "            # добавление идентификатора пользователя\n",
    "            ids = np.ones(arr.shape[0]).reshape(-1, 1) * a\n",
    "\n",
    "            result = np.append(result, np.hstack((arr, np.array(time_span).reshape(-1, 1), \n",
    "                                                  np.array(unique_sites).reshape(-1, 1), \n",
    "                                                  np.array(start_hour).reshape(-1, 1), \n",
    "                                                  np.array(day_of_week).reshape(-1, 1), \n",
    "                                                  average_site_index.reshape(-1, 1),\n",
    "                                                  mail_counter, social_counter,\n",
    "                                                  ids)))\n",
    "        return np.array(result).reshape(-1, session_length + 8)\n",
    " \n",
    "    columns = ['site'+str(x) for x in np.arange(1, session_length + 1)]\n",
    "    \n",
    "    for i in ['session_timespan', 'unique_sites', 'start_hour', 'day_of_week', 'average_site_index', 'mail_counter',\n",
    "              'social_counter', 'user_id']:\n",
    "        columns.append(i)\n",
    "    \n",
    "    result_df = pd.DataFrame(data=adj_to_sess_lenght(users_table, session_length, window_size), \n",
    "                             columns=columns)\n",
    "    \n",
    "    result_df[result_df.columns[:14]] = result_df[result_df.columns[:14]].astype('int32')\n",
    "    result_df[result_df.columns[-3:]] = result_df[result_df.columns[-3:]].astype('int32')\n",
    "    \n",
    " \n",
    "    return result_df\n",
    "    ''' ВАШ КОД ЗДЕСЬ '''"
   ]
  },
  {
   "cell_type": "code",
   "execution_count": 315,
   "metadata": {},
   "outputs": [
    {
     "data": {
      "application/vnd.jupyter.widget-view+json": {
       "model_id": "328207acfb944c68b68802e4ad023b13",
       "version_major": 2,
       "version_minor": 0
      },
      "text/plain": [
       "HBox(children=(IntProgress(value=0, max=10), HTML(value='')))"
      ]
     },
     "metadata": {},
     "output_type": "display_data"
    },
    {
     "name": "stdout",
     "output_type": "stream",
     "text": [
      "\n"
     ]
    }
   ],
   "source": [
    "new_features_10users = feature_engineering(os.path.join(PATH_TO_DATA, '10users'), \n",
    "                                           site_freq_path=os.path.join(PATH_TO_DATA, \n",
    "                                                                       'site_freq_10users.pkl'),\n",
    "                                           feature_names=feature_names, session_length=10)"
   ]
  },
  {
   "cell_type": "code",
   "execution_count": 316,
   "metadata": {},
   "outputs": [
    {
     "data": {
      "application/vnd.jupyter.widget-view+json": {
       "model_id": "14e9041298a842389b3516aafedabc65",
       "version_major": 2,
       "version_minor": 0
      },
      "text/plain": [
       "HBox(children=(IntProgress(value=0, max=150), HTML(value='')))"
      ]
     },
     "metadata": {},
     "output_type": "display_data"
    },
    {
     "name": "stdout",
     "output_type": "stream",
     "text": [
      "\n"
     ]
    }
   ],
   "source": [
    "new_features_150users = feature_engineering(os.path.join(PATH_TO_DATA, '150users'), \n",
    "                                           site_freq_path=os.path.join(PATH_TO_DATA, \n",
    "                                                                       'site_freq_150users.pkl'),\n",
    "                                           feature_names=feature_names, session_length=10)"
   ]
  },
  {
   "cell_type": "code",
   "execution_count": 317,
   "metadata": {},
   "outputs": [
    {
     "data": {
      "text/html": [
       "<div>\n",
       "<style scoped>\n",
       "    .dataframe tbody tr th:only-of-type {\n",
       "        vertical-align: middle;\n",
       "    }\n",
       "\n",
       "    .dataframe tbody tr th {\n",
       "        vertical-align: top;\n",
       "    }\n",
       "\n",
       "    .dataframe thead th {\n",
       "        text-align: right;\n",
       "    }\n",
       "</style>\n",
       "<table border=\"1\" class=\"dataframe\">\n",
       "  <thead>\n",
       "    <tr style=\"text-align: right;\">\n",
       "      <th></th>\n",
       "      <th>site1</th>\n",
       "      <th>site2</th>\n",
       "      <th>site3</th>\n",
       "      <th>site4</th>\n",
       "      <th>site5</th>\n",
       "      <th>site6</th>\n",
       "      <th>site7</th>\n",
       "      <th>site8</th>\n",
       "      <th>site9</th>\n",
       "      <th>site10</th>\n",
       "      <th>session_timespan</th>\n",
       "      <th>unique_sites</th>\n",
       "      <th>start_hour</th>\n",
       "      <th>day_of_week</th>\n",
       "      <th>average_site_index</th>\n",
       "      <th>mail_counter</th>\n",
       "      <th>social_counter</th>\n",
       "      <th>user_id</th>\n",
       "    </tr>\n",
       "  </thead>\n",
       "  <tbody>\n",
       "    <tr>\n",
       "      <th>0</th>\n",
       "      <td>192</td>\n",
       "      <td>579</td>\n",
       "      <td>134</td>\n",
       "      <td>3</td>\n",
       "      <td>134</td>\n",
       "      <td>134</td>\n",
       "      <td>3</td>\n",
       "      <td>134</td>\n",
       "      <td>203</td>\n",
       "      <td>134</td>\n",
       "      <td>33</td>\n",
       "      <td>5</td>\n",
       "      <td>8</td>\n",
       "      <td>4</td>\n",
       "      <td>165.0</td>\n",
       "      <td>2</td>\n",
       "      <td>0</td>\n",
       "      <td>31</td>\n",
       "    </tr>\n",
       "    <tr>\n",
       "      <th>1</th>\n",
       "      <td>415</td>\n",
       "      <td>193</td>\n",
       "      <td>684</td>\n",
       "      <td>256</td>\n",
       "      <td>134</td>\n",
       "      <td>31</td>\n",
       "      <td>397</td>\n",
       "      <td>3306</td>\n",
       "      <td>217</td>\n",
       "      <td>55</td>\n",
       "      <td>284</td>\n",
       "      <td>10</td>\n",
       "      <td>8</td>\n",
       "      <td>4</td>\n",
       "      <td>568.8</td>\n",
       "      <td>0</td>\n",
       "      <td>0</td>\n",
       "      <td>31</td>\n",
       "    </tr>\n",
       "    <tr>\n",
       "      <th>2</th>\n",
       "      <td>55</td>\n",
       "      <td>3</td>\n",
       "      <td>55</td>\n",
       "      <td>55</td>\n",
       "      <td>5</td>\n",
       "      <td>294</td>\n",
       "      <td>415</td>\n",
       "      <td>337</td>\n",
       "      <td>908</td>\n",
       "      <td>55</td>\n",
       "      <td>258</td>\n",
       "      <td>7</td>\n",
       "      <td>8</td>\n",
       "      <td>4</td>\n",
       "      <td>218.2</td>\n",
       "      <td>1</td>\n",
       "      <td>0</td>\n",
       "      <td>31</td>\n",
       "    </tr>\n",
       "    <tr>\n",
       "      <th>3</th>\n",
       "      <td>482</td>\n",
       "      <td>4252</td>\n",
       "      <td>482</td>\n",
       "      <td>55</td>\n",
       "      <td>55</td>\n",
       "      <td>55</td>\n",
       "      <td>55</td>\n",
       "      <td>971</td>\n",
       "      <td>201</td>\n",
       "      <td>123</td>\n",
       "      <td>30</td>\n",
       "      <td>6</td>\n",
       "      <td>8</td>\n",
       "      <td>4</td>\n",
       "      <td>673.1</td>\n",
       "      <td>0</td>\n",
       "      <td>0</td>\n",
       "      <td>31</td>\n",
       "    </tr>\n",
       "    <tr>\n",
       "      <th>4</th>\n",
       "      <td>343</td>\n",
       "      <td>55</td>\n",
       "      <td>5</td>\n",
       "      <td>3998</td>\n",
       "      <td>258</td>\n",
       "      <td>212</td>\n",
       "      <td>4177</td>\n",
       "      <td>2368</td>\n",
       "      <td>701</td>\n",
       "      <td>2368</td>\n",
       "      <td>6</td>\n",
       "      <td>9</td>\n",
       "      <td>8</td>\n",
       "      <td>4</td>\n",
       "      <td>1448.5</td>\n",
       "      <td>1</td>\n",
       "      <td>0</td>\n",
       "      <td>31</td>\n",
       "    </tr>\n",
       "  </tbody>\n",
       "</table>\n",
       "</div>"
      ],
      "text/plain": [
       "   site1  site2  site3  site4  site5  site6  site7  site8  site9  site10  \\\n",
       "0    192    579    134      3    134    134      3    134    203     134   \n",
       "1    415    193    684    256    134     31    397   3306    217      55   \n",
       "2     55      3     55     55      5    294    415    337    908      55   \n",
       "3    482   4252    482     55     55     55     55    971    201     123   \n",
       "4    343     55      5   3998    258    212   4177   2368    701    2368   \n",
       "\n",
       "   session_timespan  unique_sites  start_hour  day_of_week  \\\n",
       "0                33             5           8            4   \n",
       "1               284            10           8            4   \n",
       "2               258             7           8            4   \n",
       "3                30             6           8            4   \n",
       "4                 6             9           8            4   \n",
       "\n",
       "   average_site_index  mail_counter  social_counter  user_id  \n",
       "0               165.0             2               0       31  \n",
       "1               568.8             0               0       31  \n",
       "2               218.2             1               0       31  \n",
       "3               673.1             0               0       31  \n",
       "4              1448.5             1               0       31  "
      ]
     },
     "execution_count": 317,
     "metadata": {},
     "output_type": "execute_result"
    }
   ],
   "source": [
    "new_features_10users.head()"
   ]
  },
  {
   "cell_type": "markdown",
   "metadata": {},
   "source": [
    "**10. Постройте картинки для новых признаков, поисследуйте их, прокомментируйте результаты.**"
   ]
  },
  {
   "cell_type": "code",
   "execution_count": 325,
   "metadata": {
    "scrolled": true
   },
   "outputs": [
    {
     "data": {
      "text/plain": [
       "Text(0.5, 0.98, 'Распределение среднего индекса сайтов в сессии')"
      ]
     },
     "execution_count": 325,
     "metadata": {},
     "output_type": "execute_result"
    },
    {
     "data": {
      "image/png": "[encoded data removed]",
      "text/plain": [
       "<Figure size 720x288 with 2 Axes>"
      ]
     },
     "metadata": {
      "needs_background": "light"
     },
     "output_type": "display_data"
    }
   ],
   "source": [
    "fig, axes = plt.subplots(ncols=2, figsize=(10, 4))\n",
    "sns.distplot(new_features_10users['average_site_index'], ax=axes[0])\n",
    "sns.distplot(new_features_150users['average_site_index'], ax=axes[1])\n",
    "axes[0].set_title('10_users')\n",
    "axes[1].set_title('150_users')\n",
    "fig.suptitle('Распределение среднего индекса сайтов в сессии')"
   ]
  },
  {
   "cell_type": "code",
   "execution_count": 319,
   "metadata": {},
   "outputs": [
    {
     "data": {
      "text/plain": [
       "Text(0.5, 0.98, 'Распределение количества посещений почты в сессии')"
      ]
     },
     "execution_count": 319,
     "metadata": {},
     "output_type": "execute_result"
    },
    {
     "data": {
      "image/png": "[encoded data removed]",
      "text/plain": [
       "<Figure size 1152x360 with 2 Axes>"
      ]
     },
     "metadata": {
      "needs_background": "light"
     },
     "output_type": "display_data"
    }
   ],
   "source": [
    "fig, axes = plt.subplots(ncols=2, figsize=(16, 5))\n",
    "sns.countplot(new_features_10users['mail_counter'], ax=axes[0])\n",
    "sns.countplot(new_features_150users['mail_counter'], ax=axes[1])\n",
    "axes[0].set_title('10_users')\n",
    "axes[1].set_title('150_users')\n",
    "fig.suptitle('Распределение количества посещений почты в сессии')"
   ]
  },
  {
   "cell_type": "code",
   "execution_count": 320,
   "metadata": {},
   "outputs": [
    {
     "data": {
      "text/plain": [
       "Text(0.5, 0.98, 'Распределение количества посещений соц сетей в сессии')"
      ]
     },
     "execution_count": 320,
     "metadata": {},
     "output_type": "execute_result"
    },
    {
     "data": {
      "image/png": "[encoded data removed]",
      "text/plain": [
       "<Figure size 1152x360 with 2 Axes>"
      ]
     },
     "metadata": {
      "needs_background": "light"
     },
     "output_type": "display_data"
    }
   ],
   "source": [
    "fig, axes = plt.subplots(ncols=2, figsize=(16, 5))\n",
    "sns.countplot(new_features_10users['social_counter'], ax=axes[0])\n",
    "sns.countplot(new_features_150users['social_counter'], ax=axes[1])\n",
    "axes[0].set_title('10_users')\n",
    "axes[1].set_title('150_users')\n",
    "fig.suptitle('Распределение количества посещений соц сетей в сессии')"
   ]
  },
  {
   "cell_type": "markdown",
   "metadata": {},
   "source": [
    "**В конце сохраните в pickle-файлы только те признаки, которые, как Вы предполагаете, помогут идентифицировать пользователя более точно. Это касается и признаков, которые мы вместе создали в начале (*session_timespan, #unique_sites, start_hour, day_of_week*), и Ваших собственных. Можно создать все эти признаки не только для сессий из 10 сайтов, но и для других сочетаний параметров *session_length* и *window_size*.**"
   ]
  },
  {
   "cell_type": "code",
   "execution_count": 321,
   "metadata": {},
   "outputs": [],
   "source": [
    "selected = ['session_timespan', 'unique_sites', 'start_hour', 'day_of_week', \n",
    "            'average_site_index', 'mail_counter', 'social_counter']\n",
    "\n",
    "selected_features_10users = new_features_10users[selected]\n",
    "selected_features_150users = new_features_150users[selected]"
   ]
  },
  {
   "cell_type": "code",
   "execution_count": 322,
   "metadata": {},
   "outputs": [],
   "source": [
    "with open(os.path.join(PATH_TO_DATA, \n",
    "                       'selected_features_10users.pkl'), 'wb') as selected_features_10users_pkl:\n",
    "    pickle.dump(selected_features_10users, selected_features_10users_pkl, \n",
    "                protocol=2)\n",
    "with open(os.path.join(PATH_TO_DATA, \n",
    "                       'selected_features_150users.pkl'), 'wb') as selected_features_150users_pkl:\n",
    "    pickle.dump(selected_features_150users, selected_features_150users_pkl, \n",
    "                protocol=2)"
   ]
  },
  {
   "cell_type": "markdown",
   "metadata": {},
   "source": [
    "### Критерии оценки работы (только для Peer Review в специализации):\n",
    "- Верно ли отображена гистограмма session_timespan из п. 1? (max. 3 балла)\n",
    "- Верно ли отображена гистограмма #unique_sites из п. 2? (max. 3 балла)\n",
    "- Верно ли отображены гистограммы #unique_sites по каждому пользователю из п. 3? (max. 6 баллов)\n",
    "- Верно ли отображена гистограмма start_hour из п. 4? (max. 3 балла)\n",
    "- Верно ли отображены гистограммы start_hour по каждому пользователю из п. 5? (max. 6 баллов)\n",
    "- Верно ли отображена гистограмма day_of_week из п. 6? (max. 3 балла)\n",
    "- Верно ли отображены гистограммы day_of_week по каждому пользователю из п. 7? (max. 6 баллов)\n",
    "- Насколько сделанные выводы в п. 8 соответствуют построенным картинкам? (max. 6 баллов)\n",
    "- Верно ли отображен barplot для 10 популярных сайтов из п. 9? (max. 6 баллов)\n",
    "- Правильно ли посчитана медианная продолжительность сессий в п. 10? (max. 3 балла)\n",
    "- Правильно ли посчитан медианный день недели начала сессии в п. 11? (max. 3 балла)\n",
    "- Правильно ли посчитан медианный час начала сессии в п. 12? (max. 3 балла)\n",
    "- Правильно ли посчитано медианное значение числа уникальных сайтов в сессиях 150 пользователей п. 13? (max. 3 балла)\n",
    "- Есть ли оригинальные построенные признаки и картинки к ним? Оцените также и качество картинок. (max. 8 баллов)"
   ]
  },
  {
   "cell_type": "markdown",
   "metadata": {},
   "source": [
    "## Пути улучшения\n",
    "Что еще можно добавить по 3 части проекта:\n",
    "- IPython-widgets, интерактив и анимация (стоящие статьи по этому ремеслу – [раз](https://habrahabr.ru/post/308162/) и  [два](https://habrahabr.ru/company/ods/blog/323210/))\n",
    "- можно попробовать изобразить исходные данные в некотором пространстве, например, Word2Vec, потом выделить главные компоненты или t-SNE  (только пользуйтесь эффективными реализациями типа [Multicore-TSNE](https://github.com/DmitryUlyanov/Multicore-TSNE), не Sklearn) и раскрасить по целевому классу. Но нет гарантий, что получится что-то значимо отличающееся от каши\n",
    "\n",
    "На следующей неделе мы наконец приступим к обучению моделей классификации. "
   ]
  }
 ],
 "metadata": {
  "anaconda-cloud": {},
  "kernelspec": {
   "display_name": "Python 3",
   "language": "python",
   "name": "python3"
  },
  "language_info": {
   "codemirror_mode": {
    "name": "ipython",
    "version": 3
   },
   "file_extension": ".py",
   "mimetype": "text/x-python",
   "name": "python",
   "nbconvert_exporter": "python",
   "pygments_lexer": "ipython3",
   "version": "3.7.3"
  }
 },
 "nbformat": 4,
 "nbformat_minor": 1
}
