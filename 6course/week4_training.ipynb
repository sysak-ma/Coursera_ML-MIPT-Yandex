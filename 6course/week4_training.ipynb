{
 "cells": [
  {
   "cell_type": "markdown",
   "metadata": {},
   "source": [
    "\n",
    "<center>\n",
    "<img src=\"https://habrastorage.org/web/677/8e1/337/6778e1337c3d4b159d7e99df94227cb2.jpg\"/>\n",
    "## Специализация \"Машинное обучение и анализ данных\"\n",
    "<center>Автор материала: программист-исследователь Mail.Ru Group, старший преподаватель Факультета Компьютерных Наук ВШЭ [Юрий Кашницкий](https://yorko.github.io/)"
   ]
  },
  {
   "cell_type": "markdown",
   "metadata": {},
   "source": [
    "# <center> Capstone проект №1 <br> Идентификация пользователей по посещенным веб-страницам\n",
    "<img src='http://i.istockimg.com/file_thumbview_approve/21546327/5/stock-illustration-21546327-identification-de-l-utilisateur.jpg'>\n",
    "\n",
    "# <center>Неделя 4.  Сравнение алгоритмов классификации\n",
    "\n",
    "Теперь мы наконец подойдем к обучению моделей классификации, сравним на кросс-валидации несколько алгоритмов, разберемся, какие параметры длины сессии (*session_length* и *window_size*) лучше использовать. Также для выбранного алгоритма построим кривые валидации (как качество классификации зависит от одного из гиперпараметров алгоритма) и кривые обучения (как качество классификации зависит от объема выборки).\n",
    "\n",
    "**План 4 недели:**\n",
    "- Часть 1. Сравнение нескольких алгоритмов на сессиях из 10 сайтов\n",
    "- Часть 2. Выбор параметров – длины сессии и ширины окна\n",
    "- Часть 3. Идентификация  конкретного пользователя и кривые обучения\n",
    " \n",
    "\n",
    "\n",
    "**В этой части проекта Вам могут быть полезны видеозаписи следующих лекций курса \"Обучение на размеченных данных\":**\n",
    "   - [Линейная классификация](https://www.coursera.org/learn/supervised-learning/lecture/jqLcO/linieinaia-klassifikatsiia)\n",
    "   - [Сравнение алгоритмов и выбор гиперпараметров](https://www.coursera.org/learn/supervised-learning/lecture/aF79U/sravnieniie-alghoritmov-i-vybor-ghipierparamietrov)\n",
    "   - [Кросс-валидация. Sklearn.cross_validation](https://www.coursera.org/learn/supervised-learning/lecture/XbHEk/kross-validatsiia-sklearn-cross-validation)\n",
    "   - [Линейные модели. Sklearn.linear_model. Классификация](https://www.coursera.org/learn/supervised-learning/lecture/EBg9t/linieinyie-modieli-sklearn-linear-model-klassifikatsiia)\n",
    "   - и многие другие\n"
   ]
  },
  {
   "cell_type": "markdown",
   "metadata": {},
   "source": [
    "### Задание\n",
    "1. Заполните код в этой тетрадке \n",
    "2. Если вы проходите специализацию Яндеса и МФТИ, пошлите файл с ответами в соответствующем Programming Assignment. <br> Если вы проходите курс ODS, выберите ответы в [веб-форме](https://docs.google.com/forms/d/12VB7kmzDoSVzSpQNaJp0tR-2t8K8PynQopP3dypf7i4).  "
   ]
  },
  {
   "cell_type": "code",
   "execution_count": 1,
   "metadata": {},
   "outputs": [],
   "source": [
    "# pip install watermark\n",
    "%load_ext watermark"
   ]
  },
  {
   "cell_type": "code",
   "execution_count": 2,
   "metadata": {},
   "outputs": [
    {
     "name": "stdout",
     "output_type": "stream",
     "text": [
      "CPython 3.7.3\n",
      "IPython 7.7.0\n",
      "\n",
      "numpy 1.16.2\n",
      "scipy 1.2.1\n",
      "pandas 0.25.0\n",
      "matplotlib 3.0.2\n",
      "statsmodels 0.10.1\n",
      "sklearn 0.0\n",
      "\n",
      "compiler   : GCC 7.3.0\n",
      "system     : Linux\n",
      "release    : 4.15.0-70-generic\n",
      "machine    : x86_64\n",
      "processor  : x86_64\n",
      "CPU cores  : 8\n",
      "interpreter: 64bit\n",
      "Git hash   : de7e08629614d988faa73bed0b24a2e1e210f752\n"
     ]
    }
   ],
   "source": [
    "%watermark -v -m -p numpy,scipy,pandas,matplotlib,statsmodels,sklearn -g"
   ]
  },
  {
   "cell_type": "code",
   "execution_count": 3,
   "metadata": {},
   "outputs": [],
   "source": [
    "from __future__ import division, print_function\n",
    "# отключим всякие предупреждения Anaconda\n",
    "import warnings\n",
    "warnings.filterwarnings('ignore')\n",
    "from time import time\n",
    "import itertools\n",
    "import os\n",
    "import numpy as np\n",
    "import pandas as pd\n",
    "import seaborn as sns\n",
    "%matplotlib inline\n",
    "from matplotlib import pyplot as plt\n",
    "import pickle\n",
    "from scipy.sparse import csr_matrix\n",
    "from sklearn.model_selection import train_test_split, cross_val_score, StratifiedKFold, GridSearchCV\n",
    "from sklearn.metrics import accuracy_score, f1_score"
   ]
  },
  {
   "cell_type": "code",
   "execution_count": 4,
   "metadata": {},
   "outputs": [],
   "source": [
    "# Поменяйте на свой путь к данным\n",
    "PATH_TO_DATA = 'capstone_user_identification'"
   ]
  },
  {
   "cell_type": "markdown",
   "metadata": {},
   "source": [
    "## Часть 1. Сравнение нескольких алгоритмов на сессиях из 10 сайтов"
   ]
  },
  {
   "cell_type": "markdown",
   "metadata": {},
   "source": [
    "**Загрузим сериализованные ранее объекты *X_sparse_10users* и *y_10users*, соответствующие обучающей выборке для 10 пользователей.**"
   ]
  },
  {
   "cell_type": "code",
   "execution_count": 5,
   "metadata": {},
   "outputs": [],
   "source": [
    "with open(os.path.join(PATH_TO_DATA, \n",
    "         'X_sparse_10users.pkl'), 'rb') as X_sparse_10users_pkl:\n",
    "    X_sparse_10users = pickle.load(X_sparse_10users_pkl)\n",
    "with open(os.path.join(PATH_TO_DATA, \n",
    "                       'y_10users.pkl'), 'rb') as y_10users_pkl:\n",
    "    y_10users = pickle.load(y_10users_pkl)"
   ]
  },
  {
   "cell_type": "markdown",
   "metadata": {},
   "source": [
    "**Здесь более 14 тысяч сессий и почти 5 тысяч уникальных посещенных сайтов.**"
   ]
  },
  {
   "cell_type": "code",
   "execution_count": 6,
   "metadata": {},
   "outputs": [
    {
     "data": {
      "text/plain": [
       "(14061, 4913)"
      ]
     },
     "execution_count": 6,
     "metadata": {},
     "output_type": "execute_result"
    }
   ],
   "source": [
    "X_sparse_10users.shape"
   ]
  },
  {
   "cell_type": "markdown",
   "metadata": {},
   "source": [
    "**Разобьем выборку на 2 части. На одной будем проводить кросс-валидацию, на второй – оценивать модель, обученную после кросс-валидации.**"
   ]
  },
  {
   "cell_type": "code",
   "execution_count": 7,
   "metadata": {},
   "outputs": [],
   "source": [
    "X_train, X_valid, y_train, y_valid = train_test_split(X_sparse_10users, y_10users, \n",
    "                                                      test_size=0.3, \n",
    "                                                     random_state=17, stratify=y_10users)"
   ]
  },
  {
   "cell_type": "markdown",
   "metadata": {},
   "source": [
    "**Зададим заранее тип кросс-валидации: 3-кратная, с перемешиванием, параметр random_state=17 – для воспроизводимости.**"
   ]
  },
  {
   "cell_type": "code",
   "execution_count": 8,
   "metadata": {},
   "outputs": [],
   "source": [
    "skf = StratifiedKFold(n_splits=3, shuffle=True, random_state=17)"
   ]
  },
  {
   "cell_type": "markdown",
   "metadata": {},
   "source": [
    "**Вспомогательная функция для отрисовки кривых валидации после запуска GridSearchCV (или RandomizedCV).**"
   ]
  },
  {
   "cell_type": "code",
   "execution_count": 9,
   "metadata": {},
   "outputs": [],
   "source": [
    "def plot_validation_curves(param_values, grid_cv_results_):\n",
    "    train_mu, train_std = grid_cv_results_['mean_train_score'], grid_cv_results_['std_train_score']\n",
    "    valid_mu, valid_std = grid_cv_results_['mean_test_score'], grid_cv_results_['std_test_score']\n",
    "    train_line = plt.plot(param_values, train_mu, '-', label='train', color='green')\n",
    "    valid_line = plt.plot(param_values, valid_mu, '-', label='test', color='red')\n",
    "    plt.fill_between(param_values, train_mu - train_std, train_mu + train_std, edgecolor='none',\n",
    "                     facecolor=train_line[0].get_color(), alpha=0.2)\n",
    "    plt.fill_between(param_values, valid_mu - valid_std, valid_mu + valid_std, edgecolor='none',\n",
    "                     facecolor=valid_line[0].get_color(), alpha=0.2)\n",
    "    plt.legend()"
   ]
  },
  {
   "cell_type": "markdown",
   "metadata": {},
   "source": [
    "**1. Обучите `KNeighborsClassifier` со 100 ближайшими соседями (остальные параметры оставьте по умолчанию, только `n_jobs`=-1 для распараллеливания) и посмотрите на долю правильных ответов на 3-кратной кросс-валидации (ради воспроизводимости используйте для этого объект `StratifiedKFold` `skf`) по выборке `(X_train, y_train)` и отдельно на выборке `(X_valid, y_valid)`.**"
   ]
  },
  {
   "cell_type": "code",
   "execution_count": 10,
   "metadata": {},
   "outputs": [],
   "source": [
    "from sklearn.neighbors import KNeighborsClassifier"
   ]
  },
  {
   "cell_type": "code",
   "execution_count": 11,
   "metadata": {},
   "outputs": [
    {
     "name": "stdout",
     "output_type": "stream",
     "text": [
      "0.5647188870063362\n",
      "0.584024650391088\n"
     ]
    }
   ],
   "source": [
    "knn = KNeighborsClassifier(n_neighbors=100, n_jobs=-1)\n",
    "score1 = cross_val_score(knn, X_train, y_train, cv=skf).mean()\n",
    "print(score1)\n",
    "knn.fit(X_train, y_train)\n",
    "score2 = accuracy_score(knn.predict(X_valid), y_valid)\n",
    "print(score2)"
   ]
  },
  {
   "cell_type": "markdown",
   "metadata": {},
   "source": [
    "**<font color='red'>Вопрос 1. </font> Посчитайте доли правильных ответов для KNeighborsClassifier на кросс-валидации и отложенной выборке. Округлите каждое до 3 знаков после запятой и введите через пробел.**"
   ]
  },
  {
   "cell_type": "code",
   "execution_count": 12,
   "metadata": {},
   "outputs": [],
   "source": [
    "with open('week4_ans1.txt', 'w') as ouf:\n",
    "    ouf.write(\" \".join([str(np.round(x, 3)) for x in [score1, score2]]))"
   ]
  },
  {
   "cell_type": "markdown",
   "metadata": {},
   "source": [
    "**2. Обучите случайный лес (`RandomForestClassifier`) из 100 деревьев (для воспроизводимости `random_state`=17). Посмотрите на OOB-оценку (для этого надо сразу установить `oob_score`=True) и на долю правильных ответов на выборке `(X_valid, y_valid)`. Для распараллеливания задайте `n_jobs`=-1.**"
   ]
  },
  {
   "cell_type": "code",
   "execution_count": 13,
   "metadata": {},
   "outputs": [],
   "source": [
    "from sklearn.ensemble import RandomForestClassifier"
   ]
  },
  {
   "cell_type": "code",
   "execution_count": 14,
   "metadata": {},
   "outputs": [],
   "source": [
    "forest = RandomForestClassifier(n_estimators=100, oob_score=True, n_jobs=-1, random_state=17)\n",
    "forest.fit(X_train, y_train)\n",
    "score1 = forest.oob_score_"
   ]
  },
  {
   "cell_type": "code",
   "execution_count": 15,
   "metadata": {},
   "outputs": [
    {
     "name": "stdout",
     "output_type": "stream",
     "text": [
      "0.7225157488315384\n",
      "0.7350082958046931\n"
     ]
    }
   ],
   "source": [
    "print(score1)\n",
    "score2 = accuracy_score(forest.predict(X_valid), y_valid)\n",
    "print(score2)"
   ]
  },
  {
   "cell_type": "markdown",
   "metadata": {},
   "source": [
    "**<font color='red'>Вопрос 2. </font> Посчитайте доли правильных ответов для `RandomForestClassifier` при Out-of-Bag оценке и на отложенной выборке. Округлите каждое до 3 знаков после запятой и введите через пробел.**"
   ]
  },
  {
   "cell_type": "code",
   "execution_count": 16,
   "metadata": {},
   "outputs": [],
   "source": [
    "with open('week4_ans2.txt', 'w') as ouf:\n",
    "    ouf.write(\" \".join([str(np.round(x, 3)) for x in [score1, score2]]))"
   ]
  },
  {
   "cell_type": "code",
   "execution_count": 17,
   "metadata": {},
   "outputs": [
    {
     "name": "stdout",
     "output_type": "stream",
     "text": [
      "0.723 0.735"
     ]
    }
   ],
   "source": [
    "!cat week4_ans2.txt"
   ]
  },
  {
   "cell_type": "markdown",
   "metadata": {},
   "source": [
    "**3. Обучите логистическую регрессию (`LogisticRegression`) с параметром `C` по умолчанию и `random_state`=17 (для воспроизводимости). Посмотрите на долю правильных ответов на кросс-валидации (используйте объект `skf`, созданный ранее) и на выборке `(X_valid, y_valid)`. Для распараллеливания задайте `n_jobs=-1`.**"
   ]
  },
  {
   "cell_type": "code",
   "execution_count": 18,
   "metadata": {},
   "outputs": [],
   "source": [
    "from sklearn.linear_model import LogisticRegression, LogisticRegressionCV"
   ]
  },
  {
   "cell_type": "code",
   "execution_count": 19,
   "metadata": {},
   "outputs": [
    {
     "name": "stdout",
     "output_type": "stream",
     "text": [
      "[0.75616438 0.76974687 0.75716901]\n",
      "0.7817018250770325\n"
     ]
    }
   ],
   "source": [
    "logit = LogisticRegression(random_state=17, n_jobs=-1)\n",
    "score1 = cross_val_score(logit, X_train, y_train, cv=skf)\n",
    "print(score1)\n",
    "logit.fit(X_train, y_train)\n",
    "score2 = accuracy_score(logit.predict(X_valid), y_valid)\n",
    "print(score2)"
   ]
  },
  {
   "cell_type": "code",
   "execution_count": 20,
   "metadata": {},
   "outputs": [
    {
     "name": "stdout",
     "output_type": "stream",
     "text": [
      "0.7610267543665875\n"
     ]
    }
   ],
   "source": [
    "score1 = score1.mean()\n",
    "print(score1)"
   ]
  },
  {
   "cell_type": "markdown",
   "metadata": {},
   "source": [
    "**Почитайте документацию к [LogisticRegressionCV](http://scikit-learn.org/stable/modules/generated/sklearn.linear_model.LogisticRegressionCV.html). Логистическая регрессия хорошо изучена, и для нее существуют алгоритмы быстрого подбора параметра регуляризации `C` (быстрее, чем с `GridSearchCV`).**\n",
    "\n",
    "**С помощью `LogisticRegressionCV` подберите параметр `C` для `LogisticRegression` сначала в широком диапазоне: 10 значений от 1e-4 до 1e2, используйте `logspace` из `NumPy`. Укажите у `LogisticRegressionCV` параметры `multi_class`='multinomial' и `random_state`=17. Для кросс-валидации используйте объект `skf`, созданный ранее. Для распараллеливания задайте `n_jobs=-1`.**\n",
    "\n",
    "**Нарисуйте кривые валидации по параметру `C`.**"
   ]
  },
  {
   "cell_type": "code",
   "execution_count": 21,
   "metadata": {},
   "outputs": [
    {
     "data": {
      "text/plain": [
       "GridSearchCV(cv=StratifiedKFold(n_splits=3, random_state=17, shuffle=True),\n",
       "       error_score='raise-deprecating',\n",
       "       estimator=LogisticRegression(C=1.0, class_weight=None, dual=False, fit_intercept=True,\n",
       "          intercept_scaling=1, max_iter=100, multi_class='warn', n_jobs=-1,\n",
       "          penalty='l2', random_state=17, solver='warn', tol=0.0001,\n",
       "          verbose=0, warm_start=False),\n",
       "       fit_params=None, iid='warn', n_jobs=None,\n",
       "       param_grid={'C': array([1.00000e-04, 4.64159e-04, 2.15443e-03, 1.00000e-02, 4.64159e-02,\n",
       "       2.15443e-01, 1.00000e+00, 4.64159e+00, 2.15443e+01, 1.00000e+02])},\n",
       "       pre_dispatch='2*n_jobs', refit=True, return_train_score='warn',\n",
       "       scoring=None, verbose=0)"
      ]
     },
     "execution_count": 21,
     "metadata": {},
     "output_type": "execute_result"
    }
   ],
   "source": [
    "from sklearn.model_selection import GridSearchCV\n",
    "gs = GridSearchCV(logit, param_grid = {\"C\": np.logspace(-4, 2, 10)}, cv=skf)\n",
    "gs.fit(X_train, y_train)"
   ]
  },
  {
   "cell_type": "code",
   "execution_count": 22,
   "metadata": {},
   "outputs": [
    {
     "data": {
      "image/png": "[encoded data removed]",
      "text/plain": [
       "<Figure size 432x288 with 1 Axes>"
      ]
     },
     "metadata": {
      "needs_background": "light"
     },
     "output_type": "display_data"
    }
   ],
   "source": [
    "plot_validation_curves(np.logspace(-4, 2, 10), gs.cv_results_)"
   ]
  },
  {
   "cell_type": "code",
   "execution_count": 24,
   "metadata": {},
   "outputs": [
    {
     "name": "stdout",
     "output_type": "stream",
     "text": [
      "CPU times: user 5.04 s, sys: 4.06 ms, total: 5.05 s\n",
      "Wall time: 8.81 s\n"
     ]
    },
    {
     "data": {
      "text/plain": [
       "LogisticRegressionCV(Cs=array([1.00000e-04, 4.64159e-04, 2.15443e-03, 1.00000e-02, 4.64159e-02,\n",
       "       2.15443e-01, 1.00000e+00, 4.64159e+00, 2.15443e+01, 1.00000e+02]),\n",
       "           class_weight=None,\n",
       "           cv=StratifiedKFold(n_splits=3, random_state=17, shuffle=True),\n",
       "           dual=False, fit_intercept=True, intercept_scaling=1.0,\n",
       "           max_iter=100, multi_class='multinomial', n_jobs=-1,\n",
       "           penalty='l2', random_state=17, refit=True, scoring=None,\n",
       "           solver='lbfgs', tol=0.0001, verbose=0)"
      ]
     },
     "execution_count": 24,
     "metadata": {},
     "output_type": "execute_result"
    }
   ],
   "source": [
    "%%time\n",
    "logit_c_values1 = np.logspace(-4, 2, 10)\n",
    "\n",
    "logit_grid_searcher1 = LogisticRegressionCV(Cs=logit_c_values1, cv=skf, multi_class='multinomial', random_state=17,\n",
    "                                            n_jobs=-1)\n",
    "logit_grid_searcher1.fit(X_train, y_train)"
   ]
  },
  {
   "cell_type": "markdown",
   "metadata": {},
   "source": [
    "Средние значения доли правильных ответов на кросс-валидации по каждому из 10 параметров `C`."
   ]
  },
  {
   "cell_type": "code",
   "execution_count": 25,
   "metadata": {},
   "outputs": [
    {
     "data": {
      "text/plain": [
       "array([0.31822225, 0.47337913, 0.55273512, 0.65119285, 0.71297117,\n",
       "       0.75137565, 0.75889397, 0.75655935, 0.74995598, 0.73877986])"
      ]
     },
     "execution_count": 25,
     "metadata": {},
     "output_type": "execute_result"
    }
   ],
   "source": [
    "logit_grid_searcher1.scores_[31].mean(axis=0)"
   ]
  },
  {
   "cell_type": "code",
   "execution_count": 26,
   "metadata": {},
   "outputs": [
    {
     "data": {
      "text/plain": [
       "array([1.00000000e-04, 4.64158883e-04, 2.15443469e-03, 1.00000000e-02,\n",
       "       4.64158883e-02, 2.15443469e-01, 1.00000000e+00, 4.64158883e+00,\n",
       "       2.15443469e+01, 1.00000000e+02])"
      ]
     },
     "execution_count": 26,
     "metadata": {},
     "output_type": "execute_result"
    }
   ],
   "source": [
    "logit_grid_searcher1.Cs_"
   ]
  },
  {
   "cell_type": "markdown",
   "metadata": {},
   "source": [
    "Выведите лучшее значение доли правильных ответов на кросс-валидации и соответствующее значение `C`."
   ]
  },
  {
   "cell_type": "code",
   "execution_count": 28,
   "metadata": {},
   "outputs": [
    {
     "data": {
      "text/plain": [
       "' ВАШ КОД ЗДЕСЬ '"
      ]
     },
     "execution_count": 28,
     "metadata": {},
     "output_type": "execute_result"
    }
   ],
   "source": [
    "''' ВАШ КОД ЗДЕСЬ '''"
   ]
  },
  {
   "cell_type": "markdown",
   "metadata": {},
   "source": [
    "Нарисуйте график зависимости доли правильных ответов на кросс-валидации от `C`."
   ]
  },
  {
   "cell_type": "code",
   "execution_count": 29,
   "metadata": {},
   "outputs": [
    {
     "data": {
      "image/png": "[encoded data removed]",
      "text/plain": [
       "<Figure size 432x288 with 1 Axes>"
      ]
     },
     "metadata": {
      "needs_background": "light"
     },
     "output_type": "display_data"
    }
   ],
   "source": [
    "plt.plot(logit_grid_searcher1.Cs_, logit_grid_searcher1.scores_[31].mean(axis=0));"
   ]
  },
  {
   "cell_type": "markdown",
   "metadata": {},
   "source": [
    "**Теперь то же самое, только значения параметра `C` перебирайте в диапазоне `np.linspace`(0.1, 7, 20). Опять нарисуйте кривые валидации, определите максимальное значение доли правильных ответов на кросс-валидации.**"
   ]
  },
  {
   "cell_type": "code",
   "execution_count": 30,
   "metadata": {},
   "outputs": [
    {
     "name": "stdout",
     "output_type": "stream",
     "text": [
      "CPU times: user 4.56 s, sys: 20.1 ms, total: 4.58 s\n",
      "Wall time: 25.6 s\n"
     ]
    },
    {
     "data": {
      "text/plain": [
       "LogisticRegressionCV(Cs=array([0.1    , 0.46316, 0.82632, 1.18947, 1.55263, 1.91579, 2.27895,\n",
       "       2.64211, 3.00526, 3.36842, 3.73158, 4.09474, 4.45789, 4.82105,\n",
       "       5.18421, 5.54737, 5.91053, 6.27368, 6.63684, 7.     ]),\n",
       "           class_weight=None,\n",
       "           cv=StratifiedKFold(n_splits=3, random_state=17, shuffle=True),\n",
       "           dual=False, fit_intercept=True, intercept_scaling=1.0,\n",
       "           max_iter=100, multi_class='multinomial', n_jobs=-1,\n",
       "           penalty='l2', random_state=17, refit=True, scoring=None,\n",
       "           solver='lbfgs', tol=0.0001, verbose=0)"
      ]
     },
     "execution_count": 30,
     "metadata": {},
     "output_type": "execute_result"
    }
   ],
   "source": [
    "%%time\n",
    "logit_c_values2 = np.linspace(0.1, 7, 20)\n",
    "\n",
    "logit_grid_searcher2 = LogisticRegressionCV(Cs=logit_c_values2, cv=skf, multi_class='multinomial', random_state=17,\n",
    "                                            n_jobs=-1)\n",
    "logit_grid_searcher2.fit(X_train, y_train)"
   ]
  },
  {
   "cell_type": "markdown",
   "metadata": {},
   "source": [
    "Средние значения доли правильных ответов на кросс-валидации по каждому из 10 параметров `C`."
   ]
  },
  {
   "cell_type": "code",
   "execution_count": 31,
   "metadata": {},
   "outputs": [
    {
     "data": {
      "text/plain": [
       "array([0.7354267 , 0.75879138, 0.75838615, 0.75767442, 0.75818339,\n",
       "       0.75838739, 0.75798088, 0.75757466, 0.75716896, 0.75686516,\n",
       "       0.75706795, 0.75666178, 0.75584927, 0.75564645, 0.75534238,\n",
       "       0.75473337, 0.75463211, 0.75473383, 0.7544292 , 0.75381935])"
      ]
     },
     "execution_count": 31,
     "metadata": {},
     "output_type": "execute_result"
    }
   ],
   "source": [
    "logit_grid_searcher2.scores_[31].mean(axis=0)"
   ]
  },
  {
   "cell_type": "markdown",
   "metadata": {},
   "source": [
    "Выведите лучшее значение доли правильных ответов на кросс-валидации и соответствующее значение `C`."
   ]
  },
  {
   "cell_type": "code",
   "execution_count": 32,
   "metadata": {},
   "outputs": [
    {
     "data": {
      "text/plain": [
       "array([0.1       , 0.46315789, 0.82631579, 1.18947368, 1.55263158,\n",
       "       1.91578947, 2.27894737, 2.64210526, 3.00526316, 3.36842105,\n",
       "       3.73157895, 4.09473684, 4.45789474, 4.82105263, 5.18421053,\n",
       "       5.54736842, 5.91052632, 6.27368421, 6.63684211, 7.        ])"
      ]
     },
     "execution_count": 32,
     "metadata": {},
     "output_type": "execute_result"
    }
   ],
   "source": [
    "logit_grid_searcher2.Cs_"
   ]
  },
  {
   "cell_type": "markdown",
   "metadata": {},
   "source": [
    "Нарисуйте график зависимости доли правильных ответов на кросс-валидации от `C`."
   ]
  },
  {
   "cell_type": "code",
   "execution_count": 33,
   "metadata": {},
   "outputs": [
    {
     "data": {
      "image/png": "[encoded data removed]",
      "text/plain": [
       "<Figure size 432x288 with 1 Axes>"
      ]
     },
     "metadata": {
      "needs_background": "light"
     },
     "output_type": "display_data"
    }
   ],
   "source": [
    "plt.plot(logit_grid_searcher2.Cs_, logit_grid_searcher2.scores_[31].mean(axis=0));"
   ]
  },
  {
   "cell_type": "code",
   "execution_count": 63,
   "metadata": {},
   "outputs": [
    {
     "data": {
      "text/plain": [
       "0.4631578947368421"
      ]
     },
     "execution_count": 63,
     "metadata": {},
     "output_type": "execute_result"
    }
   ],
   "source": [
    "logit_grid_searcher2.C_[0]"
   ]
  },
  {
   "cell_type": "markdown",
   "metadata": {},
   "source": [
    "Выведите долю правильных ответов на выборке `(X_valid, y_valid)` для логистической регрессии с лучшим найденным значением `C`."
   ]
  },
  {
   "cell_type": "code",
   "execution_count": 35,
   "metadata": {},
   "outputs": [
    {
     "name": "stdout",
     "output_type": "stream",
     "text": [
      "0.7748281583313581\n"
     ]
    }
   ],
   "source": [
    "logit_cv_acc = accuracy_score(logit_grid_searcher2.predict(X_valid), y_valid)\n",
    "print(logit_cv_acc)"
   ]
  },
  {
   "cell_type": "markdown",
   "metadata": {},
   "source": [
    "**<font color='red'>Вопрос 3. </font>Посчитайте доли правильных ответов для `logit_grid_searcher2` на кросс-валидации для лучшего значения параметра `C` и на отложенной выборке. Округлите каждое до 3 знаков после запятой и выведите через пробел.**"
   ]
  },
  {
   "cell_type": "code",
   "execution_count": 36,
   "metadata": {},
   "outputs": [],
   "source": [
    "with open('week4_ans3.txt', 'w') as ouf:\n",
    "    ouf.write(\" \".join([str(np.round(x, 3)) for x in [logit_grid_searcher2.scores_[31].mean(axis=0).max(), logit_cv_acc]]))"
   ]
  },
  {
   "cell_type": "code",
   "execution_count": 37,
   "metadata": {},
   "outputs": [
    {
     "name": "stdout",
     "output_type": "stream",
     "text": [
      "0.759 0.775"
     ]
    }
   ],
   "source": [
    "!cat week4_ans3.txt"
   ]
  },
  {
   "cell_type": "markdown",
   "metadata": {},
   "source": [
    "**4. Обучите линейный SVM (`LinearSVC`) с параметром `C`=1 и `random_state`=17 (для воспроизводимости). Посмотрите на долю правильных ответов на кросс-валидации (используйте объект `skf`, созданный ранее) и на выборке `(X_valid, y_valid)`.**"
   ]
  },
  {
   "cell_type": "code",
   "execution_count": 38,
   "metadata": {},
   "outputs": [],
   "source": [
    "from sklearn.svm import LinearSVC"
   ]
  },
  {
   "cell_type": "code",
   "execution_count": 40,
   "metadata": {},
   "outputs": [
    {
     "name": "stdout",
     "output_type": "stream",
     "text": [
      "0.7526960152920014\n",
      "0.7769613652524295\n"
     ]
    }
   ],
   "source": [
    "svm = LinearSVC(C=1, random_state=17)\n",
    "score1 = cross_val_score(svm, X_train, y_train, cv=skf).mean()\n",
    "print(score1)\n",
    "svm.fit(X_train, y_train)\n",
    "score2 = accuracy_score(svm.predict(X_valid), y_valid)\n",
    "print(score2)"
   ]
  },
  {
   "cell_type": "markdown",
   "metadata": {},
   "source": [
    "**С помощью `GridSearchCV` подберите параметр `C` для SVM сначала в широком диапазоне: 10 значений от 1e-4 до 1e4, используйте `linspace` из NumPy. Нарисуйте кривые валидации.**"
   ]
  },
  {
   "cell_type": "code",
   "execution_count": 41,
   "metadata": {},
   "outputs": [
    {
     "name": "stdout",
     "output_type": "stream",
     "text": [
      "CPU times: user 3.23 s, sys: 15.8 ms, total: 3.25 s\n",
      "Wall time: 20.1 s\n"
     ]
    },
    {
     "data": {
      "text/plain": [
       "GridSearchCV(cv='warn', error_score='raise-deprecating',\n",
       "       estimator=LinearSVC(C=1, class_weight=None, dual=True, fit_intercept=True,\n",
       "     intercept_scaling=1, loss='squared_hinge', max_iter=1000,\n",
       "     multi_class='ovr', penalty='l2', random_state=17, tol=0.0001,\n",
       "     verbose=0),\n",
       "       fit_params=None, iid='warn', n_jobs=-1,\n",
       "       param_grid={'C': array([1.00000e-04, 1.11111e+03, 2.22222e+03, 3.33333e+03, 4.44444e+03,\n",
       "       5.55556e+03, 6.66667e+03, 7.77778e+03, 8.88889e+03, 1.00000e+04])},\n",
       "       pre_dispatch='2*n_jobs', refit=True, return_train_score='warn',\n",
       "       scoring=None, verbose=0)"
      ]
     },
     "execution_count": 41,
     "metadata": {},
     "output_type": "execute_result"
    }
   ],
   "source": [
    "%%time\n",
    "svm_params1 = {'C': np.linspace(1e-4, 1e4, 10)}\n",
    "\n",
    "svm_grid_searcher1 = GridSearchCV(svm, svm_params1, n_jobs=-1)\n",
    "svm_grid_searcher1.fit(X_train, y_train)"
   ]
  },
  {
   "cell_type": "markdown",
   "metadata": {},
   "source": [
    "Выведите лучшее значение доли правильных ответов на кросс-валидации и соответствующее значение `C`."
   ]
  },
  {
   "cell_type": "code",
   "execution_count": 42,
   "metadata": {},
   "outputs": [
    {
     "data": {
      "text/plain": [
       "(array([0.55771185, 0.65494818, 0.66876651, 0.68238163, 0.66226377,\n",
       "        0.67770778, 0.66744564, 0.68482016, 0.68400732, 0.66267019]),\n",
       " array([1.0000000e-04, 1.1111112e+03, 2.2222223e+03, 3.3333334e+03,\n",
       "        4.4444445e+03, 5.5555556e+03, 6.6666667e+03, 7.7777778e+03,\n",
       "        8.8888889e+03, 1.0000000e+04]))"
      ]
     },
     "execution_count": 42,
     "metadata": {},
     "output_type": "execute_result"
    }
   ],
   "source": [
    "svm_grid_searcher1.cv_results_['mean_test_score'], svm_params1['C']"
   ]
  },
  {
   "cell_type": "markdown",
   "metadata": {},
   "source": [
    "Нарисуйте график зависимости доли правильных ответов на кросс-валидации от `C`."
   ]
  },
  {
   "cell_type": "code",
   "execution_count": 43,
   "metadata": {},
   "outputs": [
    {
     "data": {
      "image/png": "[encoded data removed]",
      "text/plain": [
       "<Figure size 432x288 with 1 Axes>"
      ]
     },
     "metadata": {
      "needs_background": "light"
     },
     "output_type": "display_data"
    }
   ],
   "source": [
    "plot_validation_curves(svm_params1['C'], svm_grid_searcher1.cv_results_)"
   ]
  },
  {
   "cell_type": "markdown",
   "metadata": {},
   "source": [
    "**Но мы помним, что с параметром регуляризации по умолчанию (С=1) на кросс-валидации доля правильных ответов выше. Это тот случай (не редкий), когда можно ошибиться и перебирать параметры не в том диапазоне (причина в том, что мы взяли равномерную сетку на большом интервале и упустили действительно хороший интервал значений `C`). Здесь намного осмысленней подбирать `C` в районе 1, к тому же, так модель быстрее обучается, чем при больших `C`. **\n",
    "\n",
    "**С помощью `GridSearchCV` подберите параметр `C` для SVM в диапазоне (1e-3, 1), 30 значений, используйте `linspace` из NumPy. Нарисуйте кривые валидации.**"
   ]
  },
  {
   "cell_type": "code",
   "execution_count": 44,
   "metadata": {},
   "outputs": [
    {
     "name": "stdout",
     "output_type": "stream",
     "text": [
      "CPU times: user 1.02 s, sys: 32 ms, total: 1.06 s\n",
      "Wall time: 34.2 s\n"
     ]
    },
    {
     "data": {
      "text/plain": [
       "GridSearchCV(cv='warn', error_score='raise-deprecating',\n",
       "       estimator=LinearSVC(C=1, class_weight=None, dual=True, fit_intercept=True,\n",
       "     intercept_scaling=1, loss='squared_hinge', max_iter=1000,\n",
       "     multi_class='ovr', penalty='l2', random_state=17, tol=0.0001,\n",
       "     verbose=0),\n",
       "       fit_params=None, iid='warn', n_jobs=-1,\n",
       "       param_grid={'C': array([0.001  , 0.03545, 0.0699 , 0.10434, 0.13879, 0.17324, 0.20769,\n",
       "       0.24214, 0.27659, 0.31103, 0.34548, 0.37993, 0.41438, 0.44883,\n",
       "       0.48328, 0.51772, 0.55217, 0.58662, 0.62107, 0.65552, 0.68997,\n",
       "       0.72441, 0.75886, 0.79331, 0.82776, 0.86221, 0.89666, 0.9311 ,\n",
       "       0.96555, 1.     ])},\n",
       "       pre_dispatch='2*n_jobs', refit=True, return_train_score='warn',\n",
       "       scoring=None, verbose=0)"
      ]
     },
     "execution_count": 44,
     "metadata": {},
     "output_type": "execute_result"
    }
   ],
   "source": [
    "%%time\n",
    "svm_params2 = {'C': np.linspace(1e-3, 1, 30)}\n",
    "\n",
    "svm_grid_searcher2 = GridSearchCV(svm, svm_params2, n_jobs=-1)\n",
    "svm_grid_searcher2.fit(X_train, y_train)"
   ]
  },
  {
   "cell_type": "markdown",
   "metadata": {},
   "source": [
    "Выведите лучшее значение доли правильных ответов на кросс-валидации и соответствующее значение `C`."
   ]
  },
  {
   "cell_type": "code",
   "execution_count": 45,
   "metadata": {},
   "outputs": [
    {
     "data": {
      "text/plain": [
       "(array([0.66460069, 0.75878886, 0.76295468, 0.76590124, 0.76610445,\n",
       "        0.7650884 , 0.7650884 , 0.76468198, 0.76488519, 0.76447876,\n",
       "        0.7650884 , 0.76386913, 0.76285308, 0.76224345, 0.76153221,\n",
       "        0.76102418, 0.76092258, 0.76061776, 0.75990652, 0.75919529,\n",
       "        0.75878886, 0.75838244, 0.75817923, 0.75787442, 0.75726478,\n",
       "        0.75685836, 0.75604552, 0.75523268, 0.75441983, 0.75421662]),\n",
       " array([0.001     , 0.03544828, 0.06989655, 0.10434483, 0.1387931 ,\n",
       "        0.17324138, 0.20768966, 0.24213793, 0.27658621, 0.31103448,\n",
       "        0.34548276, 0.37993103, 0.41437931, 0.44882759, 0.48327586,\n",
       "        0.51772414, 0.55217241, 0.58662069, 0.62106897, 0.65551724,\n",
       "        0.68996552, 0.72441379, 0.75886207, 0.79331034, 0.82775862,\n",
       "        0.8622069 , 0.89665517, 0.93110345, 0.96555172, 1.        ]))"
      ]
     },
     "execution_count": 45,
     "metadata": {},
     "output_type": "execute_result"
    }
   ],
   "source": [
    "svm_grid_searcher2.cv_results_['mean_test_score'], svm_params2['C']"
   ]
  },
  {
   "cell_type": "code",
   "execution_count": 46,
   "metadata": {},
   "outputs": [],
   "source": [
    "best_c = svm_params2['C'][svm_grid_searcher2.cv_results_['mean_test_score'].argmax()]"
   ]
  },
  {
   "cell_type": "markdown",
   "metadata": {},
   "source": [
    "Нарисуйте график зависимости доли правильных ответов на кросс-валидации от С."
   ]
  },
  {
   "cell_type": "code",
   "execution_count": 47,
   "metadata": {},
   "outputs": [
    {
     "data": {
      "image/png": "[encoded data removed]",
      "text/plain": [
       "<Figure size 432x288 with 1 Axes>"
      ]
     },
     "metadata": {
      "needs_background": "light"
     },
     "output_type": "display_data"
    }
   ],
   "source": [
    "plot_validation_curves(svm_params2['C'], svm_grid_searcher2.cv_results_)"
   ]
  },
  {
   "cell_type": "markdown",
   "metadata": {},
   "source": [
    "Выведите долю правильных ответов на выборке `(X_valid, y_valid)` для `LinearSVC` с лучшим найденным значением `C`."
   ]
  },
  {
   "cell_type": "code",
   "execution_count": 48,
   "metadata": {},
   "outputs": [
    {
     "name": "stdout",
     "output_type": "stream",
     "text": [
      "0.7817018250770325\n"
     ]
    }
   ],
   "source": [
    "svm_cv_acc = accuracy_score(svm_grid_searcher2.predict(X_valid), y_valid)\n",
    "print(svm_cv_acc)"
   ]
  },
  {
   "cell_type": "markdown",
   "metadata": {},
   "source": [
    "**<font color='red'>Вопрос 4. </font> Посчитайте доли правильных ответов для `svm_grid_searcher2` на кросс-валидации для лучшего значения параметра `C` и на отложенной выборке. Округлите каждое до 3 знаков после запятой и выведите через пробел.**"
   ]
  },
  {
   "cell_type": "code",
   "execution_count": 49,
   "metadata": {},
   "outputs": [],
   "source": [
    "with open('week4_ans4.txt', 'w') as ouf:\n",
    "    ouf.write(\" \".join([str(np.round(x, 3)) for x in [svm_grid_searcher2.cv_results_['mean_test_score'].max(), svm_cv_acc]]))"
   ]
  },
  {
   "cell_type": "code",
   "execution_count": 50,
   "metadata": {},
   "outputs": [
    {
     "name": "stdout",
     "output_type": "stream",
     "text": [
      "0.766 0.782"
     ]
    }
   ],
   "source": [
    "!cat week4_ans4.txt"
   ]
  },
  {
   "cell_type": "markdown",
   "metadata": {},
   "source": [
    "## Часть 2. Выбор параметров – длины сессии и ширины окна"
   ]
  },
  {
   "cell_type": "markdown",
   "metadata": {},
   "source": [
    "**Возьмем `LinearSVC`, показавший лучшее качество на кросс-валидации в 1 части, и проверим его работу еще на 8 выборках для 10 пользователей (с разными сочетаниями параметров *session_length* и *window_size*). Поскольку тут уже вычислений побольше, мы не будем каждый раз заново подбирать параметр регуляризации `C`.**\n",
    "\n",
    "**Определите функцию `model_assessment`, ее документация описана ниже. Обратите внимание на все детали. Например, на то, что разбиение  выборки с `train_test_split` должно быть стратифицированным. Не теряйте нигде `random_state`.**"
   ]
  },
  {
   "cell_type": "code",
   "execution_count": 51,
   "metadata": {},
   "outputs": [],
   "source": [
    "def model_assessment(estimator, path_to_X_pickle, path_to_y_pickle, cv, random_state=17, test_size=0.3):\n",
    "    '''\n",
    "    Estimates CV-accuracy for (1 - test_size) share of (X_sparse, y) \n",
    "    loaded from path_to_X_pickle and path_to_y_pickle and holdout accuracy for (test_size) share of (X_sparse, y).\n",
    "    The split is made with stratified train_test_split with params random_state and test_size.\n",
    "    \n",
    "    :param estimator – Scikit-learn estimator (classifier or regressor)\n",
    "    :param path_to_X_pickle – path to pickled sparse X (instances and their features)\n",
    "    :param path_to_y_pickle – path to pickled y (responses)\n",
    "    :param cv – cross-validation as in cross_val_score (use StratifiedKFold here)\n",
    "    :param random_state –  for train_test_split\n",
    "    :param test_size –  for train_test_split\n",
    "    \n",
    "    :returns mean CV-accuracy for (X_train, y_train) and accuracy for (X_valid, y_valid) where (X_train, y_train)\n",
    "    and (X_valid, y_valid) are (1 - test_size) and (testsize) shares of (X_sparse, y).\n",
    "    '''\n",
    "    with open(path_to_X_pickle, 'rb') as inf:\n",
    "        X = pickle.load(inf)\n",
    "    with open(path_to_y_pickle, 'rb') as inf:\n",
    "        y = pickle.load(inf)\n",
    "    X_train, X_valid, y_train, y_valid = train_test_split(X, y, random_state=17, test_size=0.3, stratify=y)\n",
    "    score1 = cross_val_score(estimator, X_train, y_train, cv=cv).mean()\n",
    "    estimator.fit(X_train, y_train)\n",
    "    score2 = accuracy_score(estimator.predict(X_valid), y_valid)\n",
    "    return score1, score2"
   ]
  },
  {
   "cell_type": "markdown",
   "metadata": {},
   "source": [
    "**Убедитесь, что функция работает.**"
   ]
  },
  {
   "cell_type": "code",
   "execution_count": 52,
   "metadata": {},
   "outputs": [
    {
     "data": {
      "text/plain": [
       "(0.7633649590115557, 0.7817018250770325)"
      ]
     },
     "execution_count": 52,
     "metadata": {},
     "output_type": "execute_result"
    }
   ],
   "source": [
    "model_assessment(svm_grid_searcher2.best_estimator_, \n",
    "                 os.path.join(PATH_TO_DATA, 'X_sparse_10users.pkl'),\n",
    "        os.path.join(PATH_TO_DATA, 'y_10users.pkl'), skf, random_state=17, test_size=0.3)"
   ]
  },
  {
   "cell_type": "markdown",
   "metadata": {},
   "source": [
    "**Примените функцию *model_assessment* для лучшего алгоритма из предыдущей части (а именно, `svm_grid_searcher2.best_estimator_`) и 9 выборок вида с разными сочетаниями параметров *session_length* и *window_size* для 10 пользователей. Выведите в цикле параметры *session_length* и *window_size*, а также результат вывода функции *model_assessment*. \n",
    "Удобно сделать так, чтоб *model_assessment* возвращала 3-им элементом время, за которое она выполнилась. На моем ноуте этот участок кода выполнился за 20 секунд. Но со 150 пользователями каждая итерация занимает уже несколько минут.**"
   ]
  },
  {
   "cell_type": "markdown",
   "metadata": {},
   "source": [
    "Здесь для удобства стоит создать копии ранее созданных pickle-файлов X_sparse_10users.pkl, X_sparse_150users.pkl, y_10users.pkl и y_150users.pkl, добавив к их названиям s10_w10, что означает длину сессии 10 и ширину окна 10. "
   ]
  },
  {
   "cell_type": "code",
   "execution_count": 53,
   "metadata": {},
   "outputs": [],
   "source": [
    "!cp $PATH_TO_DATA/X_sparse_10users.pkl $PATH_TO_DATA/X_sparse_10users_s10_w10.pkl \n",
    "!cp $PATH_TO_DATA/X_sparse_150users.pkl $PATH_TO_DATA/X_sparse_150users_s10_w10.pkl \n",
    "!cp $PATH_TO_DATA/y_10users.pkl $PATH_TO_DATA/y_10users_s10_w10.pkl \n",
    "!cp $PATH_TO_DATA/y_150users.pkl $PATH_TO_DATA/y_150users_s10_w10.pkl "
   ]
  },
  {
   "cell_type": "code",
   "execution_count": 54,
   "metadata": {},
   "outputs": [
    {
     "name": "stdout",
     "output_type": "stream",
     "text": [
      "window_size=10, session_length=15: scores=(0.8217896546706148, 0.8400094809196492)\n",
      "window_size=10, session_length=10: scores=(0.7633649590115557, 0.7817018250770325)\n",
      "window_size=7, session_length=15: scores=(0.8470874683536852, 0.8544881367181019)\n",
      "window_size=7, session_length=10: scores=(0.7975853695418165, 0.8075327692052431)\n",
      "window_size=7, session_length=7: scores=(0.7544123057721982, 0.7629002820640451)\n",
      "window_size=5, session_length=15: scores=(0.8689670755674888, 0.8764817449027975)\n",
      "window_size=5, session_length=10: scores=(0.8179570941042811, 0.8253911806543386)\n",
      "window_size=5, session_length=7: scores=(0.7753290851849481, 0.7871028923660502)\n",
      "window_size=5, session_length=5: scores=(0.7267058295650503, 0.7367235656709341)\n",
      "CPU times: user 36.4 s, sys: 19.7 ms, total: 36.4 s\n",
      "Wall time: 36.4 s\n"
     ]
    }
   ],
   "source": [
    "%%time\n",
    "estimator = svm_grid_searcher2.best_estimator_\n",
    "\n",
    "for window_size, session_length in itertools.product([10, 7, 5], [15, 10, 7, 5]):\n",
    "    if window_size <= session_length:\n",
    "        path_to_X_pkl = os.path.join(PATH_TO_DATA, 'X_sparse_10users_s{}_w{}.pkl'.format(session_length, window_size))\n",
    "        path_to_y_pkl = os.path.join(PATH_TO_DATA, 'y_10users_s{}_w{}.pkl'.format(session_length, window_size))\n",
    "        print(\"window_size={}, session_length={}: scores={}\".format(window_size, session_length, \n",
    "                                                                    model_assessment(svm_grid_searcher2.best_estimator_,\n",
    "                                                                                     path_to_X_pkl, path_to_y_pkl,\n",
    "                                                                                     skf, random_state=17, test_size=0.3)))"
   ]
  },
  {
   "cell_type": "markdown",
   "metadata": {},
   "source": [
    "**<font color='red'>Вопрос 5. </font> Посчитайте доли правильных ответов для `LinearSVC` с настроенным параметром `C` и выборки `X_sparse_10users_s15_w5`. Укажите доли правильных ответов на кросс-валидации и на отложенной выборке. Округлите каждое до 3 знаков после запятой и выведите через пробел.**"
   ]
  },
  {
   "cell_type": "code",
   "execution_count": 55,
   "metadata": {},
   "outputs": [],
   "source": [
    "with open('week4_ans5.txt', 'w') as ouf:\n",
    "    ouf.write(\" \".join([str(np.round(x, 3)) for x in [0.8689670755674888, 0.8764817449027975]]))"
   ]
  },
  {
   "cell_type": "code",
   "execution_count": 56,
   "metadata": {},
   "outputs": [
    {
     "name": "stdout",
     "output_type": "stream",
     "text": [
      "0.869 0.876"
     ]
    }
   ],
   "source": [
    "!cat week4_ans5.txt"
   ]
  },
  {
   "cell_type": "markdown",
   "metadata": {},
   "source": [
    "**Прокомментируйте полученные результаты. Сравните для 150 пользователей доли правильных ответов на кросс-валидации и оставленной выборке для сочетаний параметров (*session_length, window_size*): (5,5), (7,7) и (10,10). На среднем ноуте это может занять до часа – запаситесь терпением, это Data Science :)**\n",
    "\n",
    "**Сделайте вывод о том, как качество классификации зависит от длины сессии и ширины окна.**"
   ]
  },
  {
   "cell_type": "code",
   "execution_count": 57,
   "metadata": {},
   "outputs": [
    {
     "name": "stdout",
     "output_type": "stream",
     "text": [
      "window_size=5, session_length=5: scores=(0.409666167729474, 0.42267727648805176)\n",
      "window_size=7, session_length=7: scores=(0.43686797191901516, 0.45415062847021154)\n",
      "window_size=10, session_length=10: scores=(0.46131133117144474, 0.48447915146207365)\n",
      "CPU times: user 18min 25s, sys: 680 ms, total: 18min 26s\n",
      "Wall time: 18min 24s\n"
     ]
    }
   ],
   "source": [
    "%%time\n",
    "estimator = svm_grid_searcher2.best_estimator_\n",
    "\n",
    "for window_size, session_length in [(5,5), (7,7), (10,10)]:\n",
    "    path_to_X_pkl = os.path.join(PATH_TO_DATA, 'X_sparse_150users_s{}_w{}.pkl'.format(session_length, window_size))\n",
    "    path_to_y_pkl = os.path.join(PATH_TO_DATA, 'y_150users_s{}_w{}.pkl'.format(session_length, window_size))\n",
    "    print(\"window_size={}, session_length={}: scores={}\".format(window_size, session_length, \n",
    "                                                                    model_assessment(svm_grid_searcher2.best_estimator_,\n",
    "                                                                                     path_to_X_pkl, path_to_y_pkl,\n",
    "                                                                                     skf, random_state=17, test_size=0.3)))"
   ]
  },
  {
   "cell_type": "markdown",
   "metadata": {},
   "source": [
    "**<font color='red'>Вопрос 6. </font> Посчитайте доли правильных ответов для `LinearSVC` с настроенным параметром `C` и выборки `X_sparse_150users`. Укажите доли правильных ответов на кросс-валидации и на отложенной выборке. Округлите каждое до 3 знаков после запятой и выведите через пробел.**"
   ]
  },
  {
   "cell_type": "code",
   "execution_count": 58,
   "metadata": {},
   "outputs": [],
   "source": [
    "with open('week4_ans6.txt', 'w') as ouf:\n",
    "    ouf.write(\" \".join([str(np.round(x, 3)) for x in [0.46131133117144474, 0.48447915146207365]]))"
   ]
  },
  {
   "cell_type": "code",
   "execution_count": 59,
   "metadata": {},
   "outputs": [
    {
     "name": "stdout",
     "output_type": "stream",
     "text": [
      "0.461 0.484"
     ]
    }
   ],
   "source": [
    "!cat week4_ans6.txt"
   ]
  },
  {
   "cell_type": "markdown",
   "metadata": {},
   "source": [
    "## Часть 3. Идентификация  конкретного пользователя и кривые обучения"
   ]
  },
  {
   "cell_type": "markdown",
   "metadata": {},
   "source": [
    "**Поскольку может разочаровать, что многоклассовая доля правильных ответов на выборке из 150 пользовалей невелика, порадуемся тому, что конкретного пользователя можно идентифицировать достаточно хорошо. **"
   ]
  },
  {
   "cell_type": "markdown",
   "metadata": {},
   "source": [
    "**Загрузим сериализованные ранее объекты *X_sparse_150users* и *y_150users*, соответствующие обучающей выборке для 150 пользователей с параметрами (*session_length, window_size*) = (10,10). Так же точно разобьем их на 70% и 30%.**"
   ]
  },
  {
   "cell_type": "code",
   "execution_count": 60,
   "metadata": {},
   "outputs": [],
   "source": [
    "with open(os.path.join(PATH_TO_DATA, 'X_sparse_150users.pkl'), 'rb') as X_sparse_150users_pkl:\n",
    "     X_sparse_150users = pickle.load(X_sparse_150users_pkl)\n",
    "with open(os.path.join(PATH_TO_DATA, 'y_150users.pkl'), 'rb') as y_150users_pkl:\n",
    "    y_150users = pickle.load(y_150users_pkl)"
   ]
  },
  {
   "cell_type": "code",
   "execution_count": 61,
   "metadata": {},
   "outputs": [],
   "source": [
    "X_train_150, X_valid_150, y_train_150, y_valid_150 = train_test_split(X_sparse_150users, \n",
    "                                                                      y_150users, test_size=0.3, \n",
    "                                                     random_state=17, stratify=y_150users)"
   ]
  },
  {
   "cell_type": "markdown",
   "metadata": {},
   "source": [
    "**Обучите `LogisticRegressionCV` для одного значения параметра `C` (лучшего на кросс-валидации в 1 части, используйте точное значение, не на глаз). Теперь будем решать 150 задач \"Один-против-Всех\", поэтому укажите аргумент `multi_class`='ovr'. Как всегда, где возможно, указывайте `n_jobs=-1` и `random_state`=17.**"
   ]
  },
  {
   "cell_type": "code",
   "execution_count": 78,
   "metadata": {},
   "outputs": [
    {
     "name": "stdout",
     "output_type": "stream",
     "text": [
      "CPU times: user 11min, sys: 716 ms, total: 11min 1s\n",
      "Wall time: 4min 55s\n"
     ]
    },
    {
     "data": {
      "text/plain": [
       "LogisticRegressionCV(Cs=[3.7315789473684213], class_weight=None,\n",
       "           cv=StratifiedKFold(n_splits=3, random_state=17, shuffle=True),\n",
       "           dual=False, fit_intercept=True, intercept_scaling=1.0,\n",
       "           max_iter=100, multi_class='ovr', n_jobs=-1, penalty='l2',\n",
       "           random_state=17, refit=True, scoring=None, solver='lbfgs',\n",
       "           tol=0.0001, verbose=0)"
      ]
     },
     "execution_count": 78,
     "metadata": {},
     "output_type": "execute_result"
    }
   ],
   "source": [
    "%%time\n",
    "logit_cv_150users = LogisticRegressionCV(Cs=[logit_grid_searcher2.Cs_[10]], random_state=17, n_jobs=-1, multi_class='ovr', cv=skf)\n",
    "logit_cv_150users.fit(X_train_150, y_train_150)"
   ]
  },
  {
   "cell_type": "code",
   "execution_count": 79,
   "metadata": {},
   "outputs": [
    {
     "data": {
      "text/plain": [
       "{6: array([[0.99619036],\n",
       "        [0.99630858],\n",
       "        [0.99573975]]), 13: array([[0.99637772],\n",
       "        [0.99633986],\n",
       "        [0.99646023]]), 15: array([[0.99534724],\n",
       "        [0.99521366],\n",
       "        [0.99523854]]), 16: array([[0.99203722],\n",
       "        [0.99236689],\n",
       "        [0.99144817]]), 28: array([[0.99010117],\n",
       "        [0.98998936],\n",
       "        [0.99044576]]), 31: array([[0.99434799],\n",
       "        [0.9942126 ],\n",
       "        [0.99433011]]), 33: array([[0.99362978],\n",
       "        [0.99368079],\n",
       "        [0.99364095]]), 39: array([[0.9861354 ],\n",
       "        [0.98545329],\n",
       "        [0.98599756]]), 46: array([[0.99806395],\n",
       "        [0.99759119],\n",
       "        [0.99830843]]), 49: array([[0.99500375],\n",
       "        [0.99511981],\n",
       "        [0.99570842]]), 50: array([[0.99416063],\n",
       "        [0.9949634 ],\n",
       "        [0.99426746]]), 53: array([[0.993661  ],\n",
       "        [0.99361822],\n",
       "        [0.99351565]]), 65: array([[0.99690857],\n",
       "        [0.99659013],\n",
       "        [0.99705541]]), 66: array([[0.99487884],\n",
       "        [0.99474442],\n",
       "        [0.99467469]]), 82: array([[0.99640894],\n",
       "        [0.99633986],\n",
       "        [0.99646023]]), 85: array([[0.99640894],\n",
       "        [0.99605831],\n",
       "        [0.99642891]]), 89: array([[0.99056957],\n",
       "        [0.99058375],\n",
       "        [0.99041443]]), 92: array([[0.99397327],\n",
       "        [0.99418132],\n",
       "        [0.99445541]]), 100: array([[0.9945978 ],\n",
       "        [0.99455672],\n",
       "        [0.99451806]]), 102: array([[0.99141269],\n",
       "        [0.99102171],\n",
       "        [0.99176143]]), 103: array([[0.98085811],\n",
       "        [0.97960333],\n",
       "        [0.98117345]]), 105: array([[0.99687734],\n",
       "        [0.99671526],\n",
       "        [0.99721204]]), 106: array([[0.99503497],\n",
       "        [0.994588  ],\n",
       "        [0.99439276]]), 118: array([[0.9910692 ],\n",
       "        [0.99105299],\n",
       "        [0.99066504]]), 119: array([[0.99650262],\n",
       "        [0.99662141],\n",
       "        [0.99671084]]), 120: array([[0.99437922],\n",
       "        [0.99430645],\n",
       "        [0.99426746]]), 126: array([[0.99478516],\n",
       "        [0.99518238],\n",
       "        [0.99539517]]), 127: array([[0.99225581],\n",
       "        [0.99114684],\n",
       "        [0.99154215]]), 128: array([[0.98469898],\n",
       "        [0.98504661],\n",
       "        [0.98477587]]), 138: array([[0.99697102],\n",
       "        [0.99705938],\n",
       "        [0.99699276]]), 158: array([[0.99690857],\n",
       "        [0.99690296],\n",
       "        [0.99718072]]), 160: array([[0.99700225],\n",
       "        [0.99677783],\n",
       "        [0.99683614]]), 165: array([[0.99743942],\n",
       "        [0.99727836],\n",
       "        [0.99730602]]), 172: array([[0.99672121],\n",
       "        [0.99659013],\n",
       "        [0.99674216]]), 177: array([[0.99715838],\n",
       "        [0.99665269],\n",
       "        [0.99696144]]), 203: array([[0.99768923],\n",
       "        [0.99743477],\n",
       "        [0.99768192]]), 207: array([[0.98775918],\n",
       "        [0.98654821],\n",
       "        [0.98844094]]), 223: array([[0.99634649],\n",
       "        [0.99643371],\n",
       "        [0.99642891]]), 233: array([[0.9964714 ],\n",
       "        [0.99630858],\n",
       "        [0.99633493]]), 235: array([[0.99653385],\n",
       "        [0.99643371],\n",
       "        [0.99667951]]), 236: array([[0.98994504],\n",
       "        [0.99067759],\n",
       "        [0.98994455]]), 237: array([[0.98922683],\n",
       "        [0.98945755],\n",
       "        [0.98906744]]), 238: array([[0.99606545],\n",
       "        [0.99615216],\n",
       "        [0.99611565]]), 240: array([[0.99550337],\n",
       "        [0.99599575],\n",
       "        [0.99561445]]), 241: array([[0.99594054],\n",
       "        [0.99568291],\n",
       "        [0.9959277 ]]), 242: array([[0.99540969],\n",
       "        [0.9953388 ],\n",
       "        [0.99483131]]), 245: array([[0.99622158],\n",
       "        [0.99593318],\n",
       "        [0.99611565]]), 246: array([[0.99690857],\n",
       "        [0.99702809],\n",
       "        [0.99693011]]), 249: array([[0.99497252],\n",
       "        [0.9953388 ],\n",
       "        [0.99505059]]), 252: array([[0.99656508],\n",
       "        [0.99630858],\n",
       "        [0.99636626]]), 254: array([[0.99194354],\n",
       "        [0.99158481],\n",
       "        [0.99207468]]), 256: array([[0.99578441],\n",
       "        [0.99593318],\n",
       "        [0.99611565]]), 258: array([[0.99594054],\n",
       "        [0.9957142 ],\n",
       "        [0.9959277 ]]), 259: array([[0.99453535],\n",
       "        [0.99486955],\n",
       "        [0.99492529]]), 260: array([[0.99725206],\n",
       "        [0.99755991],\n",
       "        [0.99755662]]), 261: array([[0.98972646],\n",
       "        [0.98977038],\n",
       "        [0.99022648]]), 263: array([[0.99281789],\n",
       "        [0.99261716],\n",
       "        [0.99241926]]), 264: array([[0.99644017],\n",
       "        [0.99649628],\n",
       "        [0.99639758]]), 269: array([[0.98688484],\n",
       "        [0.98661077],\n",
       "        [0.98706262]]), 270: array([[0.98947664],\n",
       "        [0.989176  ],\n",
       "        [0.98944335]]), 273: array([[0.99434799],\n",
       "        [0.99443158],\n",
       "        [0.99420481]]), 287: array([[0.99035099],\n",
       "        [0.99017706],\n",
       "        [0.98991323]]), 294: array([[0.99578441],\n",
       "        [0.99558906],\n",
       "        [0.99577107]]), 298: array([[0.99156882],\n",
       "        [0.99077144],\n",
       "        [0.99116624]]), 301: array([[0.99731451],\n",
       "        [0.99690296],\n",
       "        [0.99714939]]), 308: array([[0.99565951],\n",
       "        [0.99558906],\n",
       "        [0.9958024 ]]), 315: array([[0.99768923],\n",
       "        [0.99734092],\n",
       "        [0.99743132]]), 318: array([[0.99606545],\n",
       "        [0.99555778],\n",
       "        [0.99583372]]), 327: array([[0.99637772],\n",
       "        [0.99643371],\n",
       "        [0.99646023]]), 332: array([[0.99675244],\n",
       "        [0.99649628],\n",
       "        [0.99674216]]), 333: array([[0.99603422],\n",
       "        [0.99633986],\n",
       "        [0.99639758]]), 339: array([[0.99725206],\n",
       "        [0.99718451],\n",
       "        [0.99677349]]), 340: array([[0.99650262],\n",
       "        [0.99665269],\n",
       "        [0.99655421]]), 342: array([[0.99222458],\n",
       "        [0.99192892],\n",
       "        [0.99210601]]), 344: array([[0.9965963 ],\n",
       "        [0.99677783],\n",
       "        [0.99655421]]), 351: array([[0.99238071],\n",
       "        [0.99211662],\n",
       "        [0.99216866]]), 356: array([[0.99772046],\n",
       "        [0.99784146],\n",
       "        [0.99758795]]), 361: array([[0.99653385],\n",
       "        [0.99630858],\n",
       "        [0.9961783 ]]), 363: array([[0.99625281],\n",
       "        [0.99637114],\n",
       "        [0.99658553]]), 411: array([[0.99125656],\n",
       "        [0.99099043],\n",
       "        [0.9914795 ]]), 417: array([[0.99668998],\n",
       "        [0.99674654],\n",
       "        [0.99677349]]), 425: array([[0.99403572],\n",
       "        [0.99433773],\n",
       "        [0.99411083]]), 430: array([[0.99665876],\n",
       "        [0.99612088],\n",
       "        [0.99611565]]), 435: array([[0.99687734],\n",
       "        [0.99684039],\n",
       "        [0.99696144]]), 436: array([[0.99522233],\n",
       "        [0.99511981],\n",
       "        [0.99511324]]), 440: array([[0.99675244],\n",
       "        [0.99696553],\n",
       "        [0.99699276]]), 444: array([[0.99784537],\n",
       "        [0.99796659],\n",
       "        [0.99793253]]), 475: array([[0.98885211],\n",
       "        [0.98908215],\n",
       "        [0.98931805]]), 476: array([[0.99681489],\n",
       "        [0.99718451],\n",
       "        [0.99689879]]), 486: array([[0.99550337],\n",
       "        [0.99511981],\n",
       "        [0.99552047]]), 515: array([[0.99409818],\n",
       "        [0.99386849],\n",
       "        [0.99411083]]), 533: array([[0.99384836],\n",
       "        [0.9936495 ],\n",
       "        [0.99386023]]), 561: array([[0.98463652],\n",
       "        [0.9839517 ],\n",
       "        [0.98427466]]), 563: array([[0.99681489],\n",
       "        [0.99665269],\n",
       "        [0.99671084]]), 564: array([[0.99550337],\n",
       "        [0.99565163],\n",
       "        [0.99583372]]), 568: array([[0.99125656],\n",
       "        [0.99189764],\n",
       "        [0.99169878]]), 569: array([[0.98910192],\n",
       "        [0.98958268],\n",
       "        [0.98966263]]), 570: array([[0.99815763],\n",
       "        [0.99831071],\n",
       "        [0.99855903]]), 573: array([[0.99066325],\n",
       "        [0.99042733],\n",
       "        [0.99038311]]), 575: array([[0.99035099],\n",
       "        [0.99045861],\n",
       "        [0.99075901]]), 576: array([[0.99394204],\n",
       "        [0.99443158],\n",
       "        [0.99379758]]), 580: array([[0.98691606],\n",
       "        [0.98620409],\n",
       "        [0.98671804]]), 583: array([[0.98104547],\n",
       "        [0.98123006],\n",
       "        [0.98032766]]), 584: array([[0.98157632],\n",
       "        [0.98079209],\n",
       "        [0.98104815]]), 600: array([[0.99163128],\n",
       "        [0.99167866],\n",
       "        [0.99157347]]), 603: array([[0.99559705],\n",
       "        [0.99574548],\n",
       "        [0.9955518 ]]), 605: array([[0.99756433],\n",
       "        [0.99781017],\n",
       "        [0.99736867]]), 640: array([[0.99737697],\n",
       "        [0.99721579],\n",
       "        [0.99711807]]), 647: array([[0.99784537],\n",
       "        [0.99809172],\n",
       "        [0.99743132]]), 653: array([[0.99743942],\n",
       "        [0.99727836],\n",
       "        [0.99724337]]), 664: array([[0.99512865],\n",
       "        [0.99502597],\n",
       "        [0.99526987]]), 665: array([[0.99684612],\n",
       "        [0.99705938],\n",
       "        [0.99702409]]), 677: array([[0.99684612],\n",
       "        [0.99665269],\n",
       "        [0.99642891]]), 692: array([[0.99712715],\n",
       "        [0.99709066],\n",
       "        [0.99686746]]), 697: array([[0.9961279 ],\n",
       "        [0.99577676],\n",
       "        [0.99548915]]), 705: array([[0.99640894],\n",
       "        [0.99671526],\n",
       "        [0.99661686]]), 722: array([[0.99478516],\n",
       "        [0.99471313],\n",
       "        [0.99473734]]), 740: array([[0.99672121],\n",
       "        [0.99662141],\n",
       "        [0.99683614]]), 741: array([[0.99703347],\n",
       "        [0.99655884],\n",
       "        [0.99674216]]), 756: array([[0.99603422],\n",
       "        [0.9955265 ],\n",
       "        [0.99564577]]), 780: array([[0.99640894],\n",
       "        [0.99643371],\n",
       "        [0.99655421]]), 784: array([[0.9965963 ],\n",
       "        [0.99624601],\n",
       "        [0.99674216]]), 785: array([[0.99681489],\n",
       "        [0.99687168],\n",
       "        [0.99689879]]), 797: array([[0.99531601],\n",
       "        [0.99596446],\n",
       "        [0.9956771 ]]), 812: array([[0.99450412],\n",
       "        [0.99480698],\n",
       "        [0.99483131]]), 844: array([[0.99687734],\n",
       "        [0.99702809],\n",
       "        [0.99693011]]), 859: array([[0.99831376],\n",
       "        [0.99843584],\n",
       "        [0.99830843]]), 868: array([[0.99631526],\n",
       "        [0.99640243],\n",
       "        [0.99664818]]), 875: array([[0.99565951],\n",
       "        [0.9959019 ],\n",
       "        [0.9961783 ]]), 932: array([[0.99053835],\n",
       "        [0.99086529],\n",
       "        [0.99050841]]), 996: array([[0.99350487],\n",
       "        [0.9932741 ],\n",
       "        [0.99313974]]), 1014: array([[0.9975331 ],\n",
       "        [0.99724708],\n",
       "        [0.99711807]]), 1040: array([[0.99731451],\n",
       "        [0.99677783],\n",
       "        [0.99689879]]), 1054: array([[0.9965963 ],\n",
       "        [0.99643371],\n",
       "        [0.99667951]]), 1248: array([[0.99768923],\n",
       "        [0.99749734],\n",
       "        [0.99808915]]), 1267: array([[0.9975331 ],\n",
       "        [0.99740349],\n",
       "        [0.99724337]]), 1299: array([[0.99690857],\n",
       "        [0.99687168],\n",
       "        [0.99696144]]), 1371: array([[0.99362978],\n",
       "        [0.99355565],\n",
       "        [0.99304577]]), 1797: array([[0.99478516],\n",
       "        [0.9955265 ],\n",
       "        [0.99479999]]), 1798: array([[0.99606545],\n",
       "        [0.99652756],\n",
       "        [0.99693011]]), 1993: array([[0.99656508],\n",
       "        [0.99702809],\n",
       "        [0.99686746]]), 2118: array([[0.99775169],\n",
       "        [0.99746606],\n",
       "        [0.99812048]]), 2174: array([[0.99587809],\n",
       "        [0.99596446],\n",
       "        [0.99561445]]), 2191: array([[0.99531601],\n",
       "        [0.99540136],\n",
       "        [0.99511324]]), 2250: array([[0.99734574],\n",
       "        [0.99718451],\n",
       "        [0.99743132]]), 2355: array([[0.99628404],\n",
       "        [0.99521366],\n",
       "        [0.99586505]]), 2408: array([[0.99288034],\n",
       "        [0.99411875],\n",
       "        [0.99364095]]), 2493: array([[0.99672121],\n",
       "        [0.99680911],\n",
       "        [0.99661686]]), 2625: array([[0.99581564],\n",
       "        [0.99637114],\n",
       "        [0.99599035]]), 2902: array([[0.99703347],\n",
       "        [0.99705938],\n",
       "        [0.99705541]])}"
      ]
     },
     "execution_count": 79,
     "metadata": {},
     "output_type": "execute_result"
    }
   ],
   "source": [
    "logit_cv_150users.scores_"
   ]
  },
  {
   "cell_type": "markdown",
   "metadata": {},
   "source": [
    "**Посмотрите на средние доли правильных ответов на кросс-валидации в задаче идентификации каждого пользователя по отдельности.**"
   ]
  },
  {
   "cell_type": "code",
   "execution_count": 80,
   "metadata": {},
   "outputs": [
    {
     "name": "stdout",
     "output_type": "stream",
     "text": [
      "User 6, CV score: 0.9960795612888451\n",
      "User 13, CV score: 0.996392603416394\n",
      "User 15, CV score: 0.99526648227745\n",
      "User 16, CV score: 0.9919507613560473\n",
      "User 28, CV score: 0.9901787659762019\n",
      "User 31, CV score: 0.9942968989054074\n",
      "User 33, CV score: 0.9936505040113687\n",
      "User 39, CV score: 0.9858620830655959\n",
      "User 46, CV score: 0.997987857444965\n",
      "User 49, CV score: 0.9952773284622092\n",
      "User 50, CV score: 0.9944638280683459\n",
      "User 53, CV score: 0.9935982902101794\n",
      "User 65, CV score: 0.9968513700582928\n",
      "User 66, CV score: 0.994765980924795\n",
      "User 82, CV score: 0.9964030122764157\n",
      "User 85, CV score: 0.9962987207688639\n",
      "User 89, CV score: 0.9905225842610896\n",
      "User 92, CV score: 0.9942033320079174\n",
      "User 100, CV score: 0.9945575257465724\n",
      "User 102, CV score: 0.9913986089935877\n",
      "User 103, CV score: 0.9805449611891582\n",
      "User 105, CV score: 0.996934881144005\n",
      "User 106, CV score: 0.9946719103641056\n",
      "User 118, CV score: 0.990929076551474\n",
      "User 119, CV score: 0.9966116229096368\n",
      "User 120, CV score: 0.9943177074194115\n",
      "User 126, CV score: 0.9951209040120593\n",
      "User 127, CV score: 0.9916482666531555\n",
      "User 128, CV score: 0.9848404849077502\n",
      "User 138, CV score: 0.997007720386082\n",
      "User 158, CV score: 0.9969974146886792\n",
      "User 160, CV score: 0.9968720705696349\n",
      "User 165, CV score: 0.9973412654317274\n",
      "User 172, CV score: 0.9966844989758709\n",
      "User 177, CV score: 0.9969241710540722\n",
      "User 203, CV score: 0.9976019765493861\n",
      "User 207, CV score: 0.9875827746957441\n",
      "User 223, CV score: 0.996403036002584\n",
      "User 233, CV score: 0.996371635081395\n",
      "User 235, CV score: 0.9965490235005476\n",
      "User 236, CV score: 0.990189063415659\n",
      "User 237, CV score: 0.989250607353012\n",
      "User 238, CV score: 0.9961110886247745\n",
      "User 240, CV score: 0.9957045217379825\n",
      "User 241, CV score: 0.9958503862391083\n",
      "User 242, CV score: 0.9951932676831011\n",
      "User 245, CV score: 0.996090138701854\n",
      "User 246, CV score: 0.9969555913354332\n",
      "User 249, CV score: 0.9951206361884025\n",
      "User 252, CV score: 0.9964133034536893\n",
      "User 254, CV score: 0.9918676769668929\n",
      "User 256, CV score: 0.9959444146615509\n",
      "User 258, CV score: 0.9958608139852553\n",
      "User 259, CV score: 0.9947767287869783\n",
      "User 260, CV score: 0.9974561963247538\n",
      "User 261, CV score: 0.9899077728873089\n",
      "User 263, CV score: 0.99261810038487\n",
      "User 264, CV score: 0.9964446762827136\n",
      "User 269, CV score: 0.986852743249346\n",
      "User 270, CV score: 0.9893653300246132\n",
      "User 273, CV score: 0.9943281259595192\n",
      "User 287, CV score: 0.9901470928653602\n",
      "User 294, CV score: 0.995714849739413\n",
      "User 298, CV score: 0.9911688372721651\n",
      "User 301, CV score: 0.9971222880767314\n",
      "User 308, CV score: 0.9956836560915557\n",
      "User 315, CV score: 0.9974871589731115\n",
      "User 318, CV score: 0.9958189853179195\n",
      "User 327, CV score: 0.996423886654835\n",
      "User 332, CV score: 0.9966636245974515\n",
      "User 333, CV score: 0.9962572223716974\n",
      "User 339, CV score: 0.99707001856526\n",
      "User 340, CV score: 0.9965698416946377\n",
      "User 342, CV score: 0.9920865037069335\n",
      "User 344, CV score: 0.9966427792592905\n",
      "User 351, CV score: 0.992221998068382\n",
      "User 356, CV score: 0.9977166207326303\n",
      "User 361, CV score: 0.9963402438402923\n",
      "User 363, CV score: 0.9964031628913711\n",
      "User 411, CV score: 0.9912421608172695\n",
      "User 417, CV score: 0.9967366706388129\n",
      "User 425, CV score: 0.9941614287441741\n",
      "User 430, CV score: 0.9962984292190389\n",
      "User 435, CV score: 0.9968930577907592\n",
      "User 436, CV score: 0.9951517964300057\n",
      "User 440, CV score: 0.9969035751274896\n",
      "User 444, CV score: 0.9979148268718262\n",
      "User 475, CV score: 0.9890841024168227\n",
      "User 476, CV score: 0.9969660616938737\n",
      "User 486, CV score: 0.9953812194691802\n",
      "User 515, CV score: 0.9940258302720132\n",
      "User 533, CV score: 0.9937860308309777\n",
      "User 561, CV score: 0.9842876273968962\n",
      "User 563, CV score: 0.9967261392560003\n",
      "User 564, CV score: 0.9956629090759707\n",
      "User 568, CV score: 0.9916176580011355\n",
      "User 569, CV score: 0.9894490769498683\n",
      "User 570, CV score: 0.9983424565242434\n",
      "User 573, CV score: 0.9904912303181904\n",
      "User 575, CV score: 0.9905228709708714\n",
      "User 576, CV score: 0.9940570674802579\n",
      "User 580, CV score: 0.9866127316949361\n",
      "User 583, CV score: 0.9808677287587405\n",
      "User 584, CV score: 0.9811388521543233\n",
      "User 600, CV score: 0.9916278029294499\n",
      "User 603, CV score: 0.9956314427644134\n",
      "User 605, CV score: 0.9975810561407705\n",
      "User 640, CV score: 0.9972369414660149\n",
      "User 647, CV score: 0.9977894691807464\n",
      "User 653, CV score: 0.997320381847269\n",
      "User 664, CV score: 0.9951414955726459\n",
      "User 665, CV score: 0.9969765267382246\n",
      "User 677, CV score: 0.996642571985959\n",
      "User 692, CV score: 0.9970284252634203\n",
      "User 697, CV score: 0.99579793754647\n",
      "User 705, CV score: 0.9965803541913251\n",
      "User 722, CV score: 0.9947452101830416\n",
      "User 740, CV score: 0.9967262520987052\n",
      "User 741, CV score: 0.9967781598299403\n",
      "User 756, CV score: 0.9957354979583753\n",
      "User 780, CV score: 0.9964656208915441\n",
      "User 784, CV score: 0.9965281583281677\n",
      "User 785, CV score: 0.9968617842324043\n",
      "User 797, CV score: 0.9956525244161641\n",
      "User 812, CV score: 0.9947141390579753\n",
      "User 844, CV score: 0.9969451824754115\n",
      "User 859, CV score: 0.9983526774711057\n",
      "User 868, CV score: 0.99645529194202\n",
      "User 875, CV score: 0.9959132350597759\n",
      "User 932, CV score: 0.990637350493078\n",
      "User 996, CV score: 0.9933062391957042\n",
      "User 1014, CV score: 0.9972994135122701\n",
      "User 1040, CV score: 0.9969970427543098\n",
      "User 1054, CV score: 0.996569841220591\n",
      "User 1248, CV score: 0.9977585753406597\n",
      "User 1267, CV score: 0.9973933194119219\n",
      "User 1299, CV score: 0.9969138943969277\n",
      "User 1371, CV score: 0.9934103989744255\n",
      "User 1797, CV score: 0.9950372151673207\n",
      "User 1798, CV score: 0.9965077081764974\n",
      "User 1993, CV score: 0.9968202102907365\n",
      "User 2118, CV score: 0.9977794071067853\n",
      "User 2174, CV score: 0.9958190003120954\n",
      "User 2191, CV score: 0.995276872725393\n",
      "User 2250, CV score: 0.9973205227821386\n",
      "User 2355, CV score: 0.9957875839226838\n",
      "User 2408, CV score: 0.9935466798169061\n",
      "User 2493, CV score: 0.9967157260299825\n",
      "User 2625, CV score: 0.996059044798713\n",
      "User 2902, CV score: 0.9970494216905835\n"
     ]
    }
   ],
   "source": [
    "cv_scores_by_user = {}\n",
    "for user_id in logit_cv_150users.scores_:\n",
    "    cv_scores_by_user[user_id] = logit_cv_150users.scores_[user_id].mean()\n",
    "    print('User {}, CV score: {}'.format(user_id, cv_scores_by_user[user_id]))"
   ]
  },
  {
   "cell_type": "markdown",
   "metadata": {},
   "source": [
    "**Результаты кажутся впечатляющими, но возможно, мы забываем про дисбаланс классов, и высокую долю правильных ответов можно получить константным прогнозом. Посчитайте для каждого пользователя разницу между долей правильных ответов на кросс-валидации (только что посчитанную с помощью `LogisticRegressionCV`) и долей меток в *y_train_150*, отличных от ID \n",
    " этого пользователя (именно такую долю правильных ответов можно получить, если классификатор всегда \"говорит\", что это не пользователь с номером $i$ в задаче классификации $i$-vs-All).**"
   ]
  },
  {
   "cell_type": "code",
   "execution_count": 81,
   "metadata": {},
   "outputs": [
    {
     "name": "stdout",
     "output_type": "stream",
     "text": [
      "User 6: CV score=0.9960795612888451, Constant score=0.984402531460803\n",
      "User 13: CV score=0.996392603416394, Constant score=0.9957044404825206\n",
      "User 15: CV score=0.99526648227745, Constant score=0.9944011760658097\n",
      "User 16: CV score=0.9919507613560473, Constant score=0.9847153149208137\n",
      "User 28: CV score=0.9901787659762019, Constant score=0.9879474106742568\n",
      "User 31: CV score=0.9942968989054074, Constant score=0.9944533066424781\n",
      "User 33: CV score=0.9936505040113687, Constant score=0.9925453275364132\n",
      "User 39: CV score=0.9858620830655959, Constant score=0.9839125040401197\n",
      "User 46: CV score=0.997987857444965, Constant score=0.9971223921679022\n",
      "User 49: CV score=0.9952773284622092, Constant score=0.9938277397224569\n",
      "User 50: CV score=0.9944638280683459, Constant score=0.9941509492978011\n",
      "User 53: CV score=0.9935982902101794, Constant score=0.9920448740003962\n",
      "User 65: CV score=0.9968513700582928, Constant score=0.9969242959765621\n",
      "User 66: CV score=0.994765980924795, Constant score=0.9948599251404919\n",
      "User 82: CV score=0.9964030122764157, Constant score=0.9963508596332092\n",
      "User 85: CV score=0.9962987207688639, Constant score=0.996194467903204\n",
      "User 89: CV score=0.9905225842610896, Constant score=0.9900743382023292\n",
      "User 92: CV score=0.9942033320079174, Constant score=0.9941509492978011\n",
      "User 100: CV score=0.9945575257465724, Constant score=0.9947452378718213\n",
      "User 102: CV score=0.9913986089935877, Constant score=0.9904392522390083\n",
      "User 103: CV score=0.9805449611891582, Constant score=0.9769999895738847\n",
      "User 105: CV score=0.996934881144005, Constant score=0.9960172239425312\n",
      "User 106: CV score=0.9946719103641056, Constant score=0.9872175826008988\n",
      "User 118: CV score=0.990929076551474, Constant score=0.9900013553949933\n",
      "User 119: CV score=0.9966116229096368, Constant score=0.9959442411351954\n",
      "User 120: CV score=0.9943177074194115, Constant score=0.9936609218771179\n",
      "User 126: CV score=0.9951209040120593, Constant score=0.9940571142597979\n",
      "User 127: CV score=0.9916482666531555, Constant score=0.987509513830242\n",
      "User 128: CV score=0.9848404849077502, Constant score=0.979596092291973\n",
      "User 138: CV score=0.997007720386082, Constant score=0.9971119660525685\n",
      "User 158: CV score=0.9969974146886792, Constant score=0.9967783303618905\n",
      "User 160: CV score=0.9968720705696349, Constant score=0.9965385297092156\n",
      "User 165: CV score=0.9973412654317274, Constant score=0.9970806877065674\n",
      "User 172: CV score=0.9966844989758709, Constant score=0.996257024595206\n",
      "User 177: CV score=0.9969241710540722, Constant score=0.9964968252478809\n",
      "User 203: CV score=0.9976019765493861, Constant score=0.9961840417878702\n",
      "User 207: CV score=0.9875827746957441, Constant score=0.9863626411435363\n",
      "User 223: CV score=0.996403036002584, Constant score=0.9964655469018798\n",
      "User 233: CV score=0.996371635081395, Constant score=0.9962361723645387\n",
      "User 235: CV score=0.9965490235005476, Constant score=0.9967470520158894\n",
      "User 236: CV score=0.990189063415659, Constant score=0.9887814999009519\n",
      "User 237: CV score=0.989250607353012, Constant score=0.988009967366259\n",
      "User 238: CV score=0.9961110886247745, Constant score=0.9962674507105398\n",
      "User 240: CV score=0.9957045217379825, Constant score=0.9957774232898564\n",
      "User 241: CV score=0.9958503862391083, Constant score=0.9961006328652008\n",
      "User 242: CV score=0.9951932676831011, Constant score=0.9946618289491518\n",
      "User 245: CV score=0.996090138701854, Constant score=0.9957669971745228\n",
      "User 246: CV score=0.9969555913354332, Constant score=0.9971223921679022\n",
      "User 249: CV score=0.9951206361884025, Constant score=0.9950997257931667\n",
      "User 252: CV score=0.9964133034536893, Constant score=0.9962987290565408\n",
      "User 254: CV score=0.9918676769668929, Constant score=0.9899179464723239\n",
      "User 256: CV score=0.9959444146615509, Constant score=0.995558474867849\n",
      "User 258: CV score=0.9958608139852553, Constant score=0.995756571059189\n",
      "User 259: CV score=0.9947767287869783, Constant score=0.9951831347158362\n",
      "User 260: CV score=0.9974561963247538, Constant score=0.9970806877065674\n",
      "User 261: CV score=0.9899077728873089, Constant score=0.9891047094762963\n",
      "User 263: CV score=0.99261810038487, Constant score=0.9915965510410476\n",
      "User 264: CV score=0.9964446762827136, Constant score=0.9962048940185376\n",
      "User 269: CV score=0.986852743249346, Constant score=0.9857475003388487\n",
      "User 270: CV score=0.9893653300246132, Constant score=0.9851219334188275\n",
      "User 273: CV score=0.9943281259595192, Constant score=0.9937339046844537\n",
      "User 287: CV score=0.9901470928653602, Constant score=0.9882393419036002\n",
      "User 294: CV score=0.995714849739413, Constant score=0.9959546672505292\n",
      "User 298: CV score=0.9911688372721651, Constant score=0.9897719808576523\n",
      "User 301: CV score=0.9971222880767314, Constant score=0.9954750659451795\n",
      "User 308: CV score=0.9956836560915557, Constant score=0.9949746124091625\n",
      "User 315: CV score=0.9974871589731115, Constant score=0.9971119660525685\n",
      "User 318: CV score=0.9958189853179195, Constant score=0.9953395264458416\n",
      "User 327: CV score=0.996423886654835, Constant score=0.9966323647472188\n",
      "User 332: CV score=0.9966636245974515, Constant score=0.9968200348232252\n",
      "User 333: CV score=0.9962572223716974, Constant score=0.9949746124091625\n",
      "User 339: CV score=0.99707001856526, Constant score=0.995923388904528\n",
      "User 340: CV score=0.9965698416946377, Constant score=0.9965072513632146\n",
      "User 342: CV score=0.9920865037069335, Constant score=0.9919093345010582\n",
      "User 344: CV score=0.9966427792592905, Constant score=0.9967783303618905\n",
      "User 351: CV score=0.992221998068382, Constant score=0.9910335408130285\n",
      "User 356: CV score=0.9977166207326303, Constant score=0.9972162272059053\n",
      "User 361: CV score=0.9963402438402923, Constant score=0.9966323647472188\n",
      "User 363: CV score=0.9964031628913711, Constant score=0.9952978219845068\n",
      "User 411: CV score=0.9912421608172695, Constant score=0.9892298228603005\n",
      "User 417: CV score=0.9967366706388129, Constant score=0.9966323647472188\n",
      "User 425: CV score=0.9941614287441741, Constant score=0.9941613754131349\n",
      "User 430: CV score=0.9962984292190389, Constant score=0.9952456914078384\n",
      "User 435: CV score=0.9968930577907592, Constant score=0.9971536705139032\n",
      "User 436: CV score=0.9951517964300057, Constant score=0.9950163168704972\n",
      "User 440: CV score=0.9969035751274896, Constant score=0.9970911138219011\n",
      "User 444: CV score=0.9979148268718262, Constant score=0.9970181310145653\n",
      "User 475: CV score=0.9890841024168227, Constant score=0.9879891151355916\n",
      "User 476: CV score=0.9969660616938737, Constant score=0.9961319112112018\n",
      "User 486: CV score=0.9953812194691802, Constant score=0.9952456914078384\n",
      "User 515: CV score=0.9940258302720132, Constant score=0.9939841314524621\n",
      "User 533: CV score=0.9937860308309777, Constant score=0.9926391625744164\n",
      "User 561: CV score=0.9842876273968962, Constant score=0.9809723395160197\n",
      "User 563: CV score=0.9967261392560003, Constant score=0.9963091551718745\n",
      "User 564: CV score=0.9956629090759707, Constant score=0.9951310041391678\n",
      "User 568: CV score=0.9916176580011355, Constant score=0.9918259255783888\n",
      "User 569: CV score=0.9894490769498683, Constant score=0.9850489506114917\n",
      "User 570: CV score=0.9983424565242434, Constant score=0.9957044404825206\n",
      "User 573: CV score=0.9904912303181904, Constant score=0.9909605580056926\n",
      "User 575: CV score=0.9905228709708714, Constant score=0.9886042559402792\n",
      "User 576: CV score=0.9940570674802579, Constant score=0.9943907499504759\n",
      "User 580: CV score=0.9866127316949361, Constant score=0.9804823120953364\n",
      "User 583: CV score=0.9808677287587405, Constant score=0.9660421423581788\n",
      "User 584: CV score=0.9811388521543233, Constant score=0.9784387934899336\n",
      "User 600: CV score=0.9916278029294499, Constant score=0.9905956439690136\n",
      "User 603: CV score=0.9956314427644134, Constant score=0.995058021331832\n",
      "User 605: CV score=0.9975810561407705, Constant score=0.9950684474471657\n",
      "User 640: CV score=0.9972369414660149, Constant score=0.9970389832452327\n",
      "User 647: CV score=0.9977894691807464, Constant score=0.9960172239425312\n",
      "User 653: CV score=0.997320381847269, Constant score=0.9972475055519064\n",
      "User 664: CV score=0.9951414955726459, Constant score=0.9945784200264823\n",
      "User 665: CV score=0.9969765267382246, Constant score=0.9966740692085536\n",
      "User 677: CV score=0.996642571985959, Constant score=0.9959025366738606\n",
      "User 692: CV score=0.9970284252634203, Constant score=0.9968721653998937\n",
      "User 697: CV score=0.99579793754647, Constant score=0.9952456914078384\n",
      "User 705: CV score=0.9965803541913251, Constant score=0.9961840417878702\n",
      "User 722: CV score=0.9947452101830416, Constant score=0.9936192174157831\n",
      "User 740: CV score=0.9967262520987052, Constant score=0.995860832212526\n",
      "User 741: CV score=0.9967781598299403, Constant score=0.9967783303618905\n",
      "User 756: CV score=0.9957354979583753, Constant score=0.9953082480998405\n",
      "User 780: CV score=0.9964656208915441, Constant score=0.9957669971745228\n",
      "User 784: CV score=0.9965281583281677, Constant score=0.9949537601784951\n",
      "User 785: CV score=0.9968617842324043, Constant score=0.9970389832452327\n",
      "User 797: CV score=0.9956525244161641, Constant score=0.9952144130618373\n",
      "User 812: CV score=0.9947141390579753, Constant score=0.9895009018589763\n",
      "User 844: CV score=0.9969451824754115, Constant score=0.9969660004378968\n",
      "User 859: CV score=0.9983526774711057, Constant score=0.9969138698612284\n",
      "User 868: CV score=0.99645529194202, Constant score=0.9967783303618905\n",
      "User 875: CV score=0.9959132350597759, Constant score=0.9901368948943313\n",
      "User 932: CV score=0.990637350493078, Constant score=0.9881038024042622\n",
      "User 996: CV score=0.9933062391957042, Constant score=0.990480956700343\n",
      "User 1014: CV score=0.9972994135122701, Constant score=0.9957878494051902\n",
      "User 1040: CV score=0.9969970427543098, Constant score=0.9951727086005026\n",
      "User 1054: CV score=0.996569841220591, Constant score=0.9963508596332092\n",
      "User 1248: CV score=0.9977585753406597, Constant score=0.9973309144745759\n",
      "User 1267: CV score=0.9973933194119219, Constant score=0.9969972787838979\n",
      "User 1299: CV score=0.9969138943969277, Constant score=0.9968304609385589\n",
      "User 1371: CV score=0.9934103989744255, Constant score=0.9887293693242835\n",
      "User 1797: CV score=0.9950372151673207, Constant score=0.9917425166557192\n",
      "User 1798: CV score=0.9965077081764974, Constant score=0.9954333614838448\n",
      "User 1993: CV score=0.9968202102907365, Constant score=0.995923388904528\n",
      "User 2118: CV score=0.9977794071067853, Constant score=0.9963404335178756\n",
      "User 2174: CV score=0.9958190003120954, Constant score=0.9953499525611752\n",
      "User 2191: CV score=0.995276872725393, Constant score=0.9948286467944908\n",
      "User 2250: CV score=0.9973205227821386, Constant score=0.9974351756279128\n",
      "User 2355: CV score=0.9957875839226838, Constant score=0.9874365310229062\n",
      "User 2408: CV score=0.9935466798169061, Constant score=0.992420214152409\n",
      "User 2493: CV score=0.9967157260299825, Constant score=0.9963091551718745\n",
      "User 2625: CV score=0.996059044798713, Constant score=0.9954646398298458\n",
      "User 2902: CV score=0.9970494216905835, Constant score=0.9950475952164983\n"
     ]
    }
   ],
   "source": [
    "class_distr = np.bincount(y_train_150.astype('int'))\n",
    "acc_diff_vs_constant = {}\n",
    "for user_id in np.unique(y_train_150):\n",
    "    acc_diff_vs_constant[user_id] = cv_scores_by_user[user_id] - (y_train_150 != user_id).mean()\n",
    "    print(\"User {}: CV score={}, Constant score={}\".format(user_id, cv_scores_by_user[user_id], (y_train_150 != user_id).mean()))"
   ]
  },
  {
   "cell_type": "code",
   "execution_count": 82,
   "metadata": {},
   "outputs": [
    {
     "data": {
      "text/plain": [
       "{6: 0.011677029828042085,\n",
       " 13: 0.0006881629338734152,\n",
       " 15: 0.000865306211640271,\n",
       " 16: 0.007235446435233661,\n",
       " 28: 0.0022313553019450705,\n",
       " 31: -0.00015640773707070732,\n",
       " 33: 0.0011051764749554494,\n",
       " 39: 0.0019495790254762113,\n",
       " 46: 0.0008654652770627713,\n",
       " 49: 0.0014495887397523166,\n",
       " 50: 0.00031287877054475555,\n",
       " 53: 0.0015534162097832205,\n",
       " 65: -7.292591826923989e-05,\n",
       " 66: -9.394421569697275e-05,\n",
       " 82: 5.215264320646007e-05,\n",
       " 85: 0.0001042528656599595,\n",
       " 89: 0.00044824605876048196,\n",
       " 92: 5.2382710116316566e-05,\n",
       " 100: -0.00018771212524892888,\n",
       " 102: 0.0009593567545793658,\n",
       " 103: 0.003544971615273562,\n",
       " 105: 0.0009176572014737427,\n",
       " 106: 0.007454327763206869,\n",
       " 118: 0.0009277211564806542,\n",
       " 119: 0.0006673817744413668,\n",
       " 120: 0.0006567855422936475,\n",
       " 126: 0.0010637897522614015,\n",
       " 127: 0.004138752822913538,\n",
       " 128: 0.005244392615777249,\n",
       " 138: -0.00010424566648647993,\n",
       " 158: 0.00021908432678874323,\n",
       " 160: 0.0003335408604192569,\n",
       " 165: 0.0002605777251599717,\n",
       " 172: 0.00042747438066481624,\n",
       " 177: 0.0004273458061913038,\n",
       " 203: 0.00141793476151586,\n",
       " 207: 0.0012201335522077361,\n",
       " 223: -6.251089929587561e-05,\n",
       " 233: 0.00013546271685638267,\n",
       " 235: -0.000198028515341786,\n",
       " 236: 0.0014075635147071663,\n",
       " 237: 0.001240639986752945,\n",
       " 238: -0.00015636208576530475,\n",
       " 240: -7.290155187389402e-05,\n",
       " 241: -0.0002502466260925207,\n",
       " 242: 0.0005314387339493409,\n",
       " 245: 0.000323141527331261,\n",
       " 246: -0.00016680083246900512,\n",
       " 249: 2.091039523577365e-05,\n",
       " 252: 0.00011457439714845918,\n",
       " 254: 0.0019497304945690352,\n",
       " 256: 0.0003859397937019393,\n",
       " 258: 0.00010424292606625585,\n",
       " 259: -0.0004064059288578781,\n",
       " 260: 0.00037550861818635983,\n",
       " 261: 0.0008030634110126611,\n",
       " 263: 0.00102154934382237,\n",
       " 264: 0.00023978226417598059,\n",
       " 269: 0.001105242910497295,\n",
       " 270: 0.004243396605785765,\n",
       " 273: 0.0005942212750655873,\n",
       " 287: 0.0019077509617599908,\n",
       " 294: -0.00023981751111612493,\n",
       " 298: 0.0013968564145128148,\n",
       " 301: 0.0016472221315518842,\n",
       " 308: 0.0007090436823932178,\n",
       " 315: 0.00037519292054299935,\n",
       " 318: 0.00047945887207789806,\n",
       " 327: -0.00020847809238389026,\n",
       " 332: -0.00015641022577372876,\n",
       " 333: 0.0012826099625349308,\n",
       " 339: 0.0011466296607319792,\n",
       " 340: 6.259033142308468e-05,\n",
       " 342: 0.00017716920587529383,\n",
       " 344: -0.0001355511025999956,\n",
       " 351: 0.0011884572553534367,\n",
       " 356: 0.0005003935267250403,\n",
       " 361: -0.0002921209069265407,\n",
       " 363: 0.001105340906864316,\n",
       " 411: 0.002012337956968979,\n",
       " 417: 0.00010430589159404757,\n",
       " 425: 5.333103925142524e-08,\n",
       " 430: 0.0010527378112005215,\n",
       " 435: -0.00026061272314403805,\n",
       " 436: 0.0001354795595085445,\n",
       " 440: -0.00018753869441145987,\n",
       " 444: 0.0008966958572609318,\n",
       " 475: 0.0010949872812310302,\n",
       " 476: 0.0008341504826718804,\n",
       " 486: 0.0001355280613418719,\n",
       " 515: 4.1698819551072575e-05,\n",
       " 533: 0.0011468682565612953,\n",
       " 561: 0.0033152878808765385,\n",
       " 563: 0.00041698408412582655,\n",
       " 564: 0.000531904936802885,\n",
       " 568: -0.00020826757725322942,\n",
       " 569: 0.004400126338376609,\n",
       " 570: 0.002638016041722757,\n",
       " 573: -0.0004693276875021857,\n",
       " 575: 0.0019186150305922078,\n",
       " 576: -0.000333682470218033,\n",
       " 580: 0.006130419599599701,\n",
       " 583: 0.014825586400561752,\n",
       " 584: 0.002700058664389715,\n",
       " 600: 0.0010321589604362913,\n",
       " 603: 0.0005734214325814335,\n",
       " 605: 0.002512608693604812,\n",
       " 640: 0.00019795822078227943,\n",
       " 647: 0.0017722452382151754,\n",
       " 653: 7.287629536256723e-05,\n",
       " 664: 0.0005630755461635273,\n",
       " 665: 0.00030245752967095196,\n",
       " 677: 0.0007400353120983194,\n",
       " 692: 0.00015625986352663102,\n",
       " 697: 0.0005522461386315847,\n",
       " 705: 0.00039631240345483487,\n",
       " 722: 0.0011259927672585546,\n",
       " 740: 0.000865419886179275,\n",
       " 741: -1.705319501166258e-07,\n",
       " 756: 0.00042724985853481723,\n",
       " 780: 0.0006986237170213405,\n",
       " 784: 0.001574398149672529,\n",
       " 785: -0.00017719901282831074,\n",
       " 797: 0.0004381113543268089,\n",
       " 812: 0.005213237198999021,\n",
       " 844: -2.0817962485319974e-05,\n",
       " 859: 0.0014388076098772462,\n",
       " 868: -0.00032303841987046944,\n",
       " 875: 0.005776340165444593,\n",
       " 932: 0.0025335480888157846,\n",
       " 996: 0.002825282495361181,\n",
       " 1014: 0.0015115641070799768,\n",
       " 1040: 0.0018243341538072277,\n",
       " 1054: 0.00021898158738176132,\n",
       " 1248: 0.00042766086608381215,\n",
       " 1267: 0.0003960406280240081,\n",
       " 1299: 8.3433458368809e-05,\n",
       " 1371: 0.0046810296501420545,\n",
       " 1797: 0.003294698511601468,\n",
       " 1798: 0.0010743466926526057,\n",
       " 1993: 0.0008968213862085017,\n",
       " 2118: 0.0014389735889096533,\n",
       " 2174: 0.0004690477509201596,\n",
       " 2191: 0.00044822593090221297,\n",
       " 2250: -0.00011465284577427681,\n",
       " 2355: 0.008351052899777667,\n",
       " 2408: 0.001126465664497145,\n",
       " 2493: 0.00040657085810802407,\n",
       " 2625: 0.0005944049688672015,\n",
       " 2902: 0.0020018264740852}"
      ]
     },
     "execution_count": 82,
     "metadata": {},
     "output_type": "execute_result"
    }
   ],
   "source": [
    "acc_diff_vs_constant"
   ]
  },
  {
   "cell_type": "code",
   "execution_count": 83,
   "metadata": {},
   "outputs": [],
   "source": [
    "num_better_than_default = (np.array(list(acc_diff_vs_constant.values())) > 0).sum()"
   ]
  },
  {
   "cell_type": "code",
   "execution_count": 84,
   "metadata": {},
   "outputs": [
    {
     "data": {
      "text/plain": [
       "0.82"
      ]
     },
     "execution_count": 84,
     "metadata": {},
     "output_type": "execute_result"
    }
   ],
   "source": [
    "num_better_than_default / len(np.unique(y_train_150))"
   ]
  },
  {
   "cell_type": "markdown",
   "metadata": {},
   "source": [
    "**<font color='red'>Вопрос 7. </font> Посчитайте долю пользователей, для которых логистическая регрессия на кросс-валидации дает прогноз лучше константного. Округлите до 3 знаков после запятой.**"
   ]
  },
  {
   "cell_type": "code",
   "execution_count": 86,
   "metadata": {},
   "outputs": [],
   "source": [
    "with open('week4_ans7.txt', 'w') as ouf:\n",
    "    ouf.write(str(np.round(0.82, 3)))"
   ]
  },
  {
   "cell_type": "markdown",
   "metadata": {},
   "source": [
    "**Дальше будем строить кривые обучения для конкретного пользователя, допустим, для 128-го. Составьте новый бинарный вектор на основе *y_150users*, его значения будут 1 или 0 в зависимости от того, равен ли ID-шник пользователя 128.**"
   ]
  },
  {
   "cell_type": "code",
   "execution_count": 87,
   "metadata": {},
   "outputs": [],
   "source": [
    "y_binary_128 = y_train_150 == 128"
   ]
  },
  {
   "cell_type": "code",
   "execution_count": 88,
   "metadata": {},
   "outputs": [],
   "source": [
    "from sklearn.model_selection import learning_curve\n",
    "\n",
    "def plot_learning_curve(val_train, val_test, train_sizes, \n",
    "                        xlabel='Training Set Size', ylabel='score'):\n",
    "    def plot_with_err(x, data, **kwargs):\n",
    "        mu, std = data.mean(1), data.std(1)\n",
    "        lines = plt.plot(x, mu, '-', **kwargs)\n",
    "        plt.fill_between(x, mu - std, mu + std, edgecolor='none',\n",
    "                         facecolor=lines[0].get_color(), alpha=0.2)\n",
    "    plot_with_err(train_sizes, val_train, label='train')\n",
    "    plot_with_err(train_sizes, val_test, label='valid')\n",
    "    plt.xlabel(xlabel); plt.ylabel(ylabel)\n",
    "    plt.legend(loc='lower right');"
   ]
  },
  {
   "cell_type": "markdown",
   "metadata": {},
   "source": [
    "**Посчитайте доли правильных ответов на кросс-валидации в задаче классификации \"user128-vs-All\" в зависимости от размера выборки. Не помешает посмотреть встроенную документацию для *learning_curve*.**"
   ]
  },
  {
   "cell_type": "code",
   "execution_count": 89,
   "metadata": {},
   "outputs": [
    {
     "name": "stdout",
     "output_type": "stream",
     "text": [
      "CPU times: user 349 ms, sys: 240 ms, total: 589 ms\n",
      "Wall time: 9.12 s\n"
     ]
    }
   ],
   "source": [
    "%%time\n",
    "train_sizes = np.linspace(0.25, 1, 20)\n",
    "estimator = svm_grid_searcher2.best_estimator_\n",
    "n_train, val_train, val_test = learning_curve(estimator, X_train_150, y_binary_128,\n",
    "                                              train_sizes=train_sizes, n_jobs=-1,\n",
    "                                              random_state=17)"
   ]
  },
  {
   "cell_type": "code",
   "execution_count": 90,
   "metadata": {},
   "outputs": [
    {
     "data": {
      "image/png": "[encoded data removed]",
      "text/plain": [
       "<Figure size 432x288 with 1 Axes>"
      ]
     },
     "metadata": {
      "needs_background": "light"
     },
     "output_type": "display_data"
    }
   ],
   "source": [
    "plot_learning_curve(val_train, val_test, n_train, \n",
    "                    xlabel='train_size', ylabel='accuracy')"
   ]
  },
  {
   "cell_type": "markdown",
   "metadata": {},
   "source": [
    "**Сделайте выводы о том, помогут ли алгоритму новые размеченные данные при той же постановке задачи.**"
   ]
  },
  {
   "cell_type": "markdown",
   "metadata": {},
   "source": [
    "## Пути улучшения\n",
    "- конечно, можно проверить еще кучу алгоритмов, например, Xgboost, но в такой задаче очень маловероятно, что что-то справится лучше линейных методов\n",
    "- интересно проверить качество алгоритма на данных, где сессии выделялись не по количеству посещенных сайтов, а по времени, например, 5, 7, 10 и 15 минут. Отдельно стоит отметить данные нашего [соревнования](https://inclass.kaggle.com/c/catch-me-if-you-can-intruder-detection-through-webpage-session-tracking2) \n",
    "- опять же, если ресурсы позволяют, можно проверить, насколько хорошо можно решить задачу для 3000 пользователей\n",
    "\n",
    "\n",
    "На следующей неделе мы вспомним про линейные модели, обучаемые стохастическим градиентным спуском, и порадуемся тому, насколько быстрее они работают. Также сделаем первые (или не первые) посылки в [соревновании](https://inclass.kaggle.com/c/catch-me-if-you-can-intruder-detection-through-webpage-session-tracking2) Kaggle Inclass."
   ]
  }
 ],
 "metadata": {
  "anaconda-cloud": {},
  "kernelspec": {
   "display_name": "Python 3",
   "language": "python",
   "name": "python3"
  },
  "language_info": {
   "codemirror_mode": {
    "name": "ipython",
    "version": 3
   },
   "file_extension": ".py",
   "mimetype": "text/x-python",
   "name": "python",
   "nbconvert_exporter": "python",
   "pygments_lexer": "ipython3",
   "version": "3.7.3"
  }
 },
 "nbformat": 4,
 "nbformat_minor": 1
}
